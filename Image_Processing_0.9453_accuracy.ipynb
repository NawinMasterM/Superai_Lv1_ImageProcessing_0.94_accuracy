{
  "cells": [
    {
      "cell_type": "markdown",
      "metadata": {
        "id": "view-in-github",
        "colab_type": "text"
      },
      "source": [
        "<a href=\"https://colab.research.google.com/github/NawinMasterM/Superai_Lv1_ImageProcessing_0.94_accuracy/blob/main/Image_Processing_0.9453_accuracy.ipynb\" target=\"_parent\"><img src=\"https://colab.research.google.com/assets/colab-badge.svg\" alt=\"Open In Colab\"/></a>"
      ]
    },
    {
      "cell_type": "markdown",
      "metadata": {
        "id": "MxQg3CK97eZB"
      },
      "source": [
        "# Image Processing\n",
        "\n",
        "# Source For Model\n",
        "https://www.analyticsvidhya.com/blog/2020/08/top-4-pre-trained-models-for-image-classification-with-python-code/\n",
        "\n",
        "# MY Code\n",
        "https://colab.research.google.com/drive/1mxxhZHGg5rv72BoJC-PH6e2dC2_koTgP?usp=sharing"
      ]
    },
    {
      "cell_type": "markdown",
      "metadata": {
        "id": "-vCHAZwDr0IZ"
      },
      "source": [
        "## Library\n",
        "> Note *Dont Forget to Restart Runtime"
      ]
    },
    {
      "cell_type": "markdown",
      "metadata": {
        "id": "Ef4a3OqrsYwP"
      },
      "source": [
        "**When download matplotlib dont forget to restart runtime**"
      ]
    },
    {
      "cell_type": "code",
      "source": [
        "from google.colab import drive\n",
        "drive.mount('/content/drive')"
      ],
      "metadata": {
        "id": "l-l5aXolDxP9",
        "colab": {
          "base_uri": "https://localhost:8080/"
        },
        "outputId": "6d17781b-ce19-44dd-e95c-d0beb8f46192"
      },
      "execution_count": null,
      "outputs": [
        {
          "output_type": "stream",
          "name": "stdout",
          "text": [
            "Mounted at /content/drive\n"
          ]
        }
      ]
    },
    {
      "cell_type": "code",
      "execution_count": null,
      "metadata": {
        "id": "ZKfoI4cGhfpZ",
        "colab": {
          "base_uri": "https://localhost:8080/"
        },
        "outputId": "b5640a71-00fa-4111-bfe1-8a26a98f467d"
      },
      "outputs": [
        {
          "output_type": "stream",
          "name": "stdout",
          "text": [
            "\u001b[2K     \u001b[90m━━━━━━━━━━━━━━━━━━━━━━━━━━━━━━━━━━━━━━━━\u001b[0m \u001b[32m13.1/13.1 MB\u001b[0m \u001b[31m89.0 MB/s\u001b[0m eta \u001b[36m0:00:00\u001b[0m\n",
            "\u001b[2K     \u001b[90m━━━━━━━━━━━━━━━━━━━━━━━━━━━━━━━━━━━━━━━━\u001b[0m \u001b[32m3.1/3.1 MB\u001b[0m \u001b[31m27.4 MB/s\u001b[0m eta \u001b[36m0:00:00\u001b[0m\n",
            "\u001b[?25hLooking in indexes: https://pypi.org/simple, https://us-python.pkg.dev/colab-wheels/public/simple/\n",
            "Collecting autocrop\n",
            "  Downloading autocrop-1.3.0-py3-none-any.whl (158 kB)\n",
            "\u001b[2K     \u001b[90m━━━━━━━━━━━━━━━━━━━━━━━━━━━━━━━━━━━━━━\u001b[0m \u001b[32m159.0/159.0 KB\u001b[0m \u001b[31m15.3 MB/s\u001b[0m eta \u001b[36m0:00:00\u001b[0m\n",
            "\u001b[?25hRequirement already satisfied: opencv-python-headless<5,>=3 in /usr/local/lib/python3.8/dist-packages (from autocrop) (4.7.0.68)\n",
            "Requirement already satisfied: numpy>=1.10 in /usr/local/lib/python3.8/dist-packages (from autocrop) (1.21.6)\n",
            "Requirement already satisfied: Pillow>=9.0.0 in /usr/local/lib/python3.8/dist-packages (from autocrop) (9.2.0)\n",
            "Installing collected packages: autocrop\n",
            "Successfully installed autocrop-1.3.0\n"
          ]
        }
      ],
      "source": [
        "# All of these library dont for get to restart runtime\n",
        "# !pip install tensorflow==2.5.0 -qq #for ResNet50\n",
        "\n",
        "!pip install albumentations -qq\n",
        "\n",
        "!pip install --upgrade gdown -qq\n",
        "\n",
        "!pip install matplotlib==3.1.3 -qq\n",
        "\n",
        "!pip install pillow==9.2.0 -qq\n",
        "\n",
        "!pip install split-folders[full] -qq\n",
        "\n",
        "!pip install autocrop\n",
        "\n",
        "# !pip install numpy==1.21 -qq"
      ]
    },
    {
      "cell_type": "code",
      "source": [
        "#dont forget to Check tensorflow is map your GPU it will happen if your down grade tensorflow\n",
        "import tensorflow as tf\n",
        "sess = tf.compat.v1.Session(config=tf.compat.v1.ConfigProto(log_device_placement=True))"
      ],
      "metadata": {
        "colab": {
          "base_uri": "https://localhost:8080/"
        },
        "id": "anwaF3XRZLgJ",
        "outputId": "e890720e-0984-437f-aa60-de8d7bf7d0b5"
      },
      "execution_count": null,
      "outputs": [
        {
          "output_type": "stream",
          "name": "stdout",
          "text": [
            "Device mapping:\n",
            "/job:localhost/replica:0/task:0/device:GPU:0 -> device: 0, name: Tesla T4, pci bus id: 0000:00:04.0, compute capability: 7.5\n",
            "\n"
          ]
        }
      ]
    },
    {
      "cell_type": "code",
      "source": [
        "#Restart runtime ขก.กด\n",
        "import os\n",
        "os.kill(os.getpid(), 9)"
      ],
      "metadata": {
        "id": "QFjXye-HlXOm"
      },
      "execution_count": null,
      "outputs": []
    },
    {
      "cell_type": "code",
      "execution_count": null,
      "metadata": {
        "id": "mLJ6FzHPr1lK"
      },
      "outputs": [],
      "source": [
        "import os\n",
        "import pandas as pd\n",
        "from tqdm import tqdm\n",
        "import numpy as np\n",
        "import shutil\n",
        "\n",
        "#augmentation\n",
        "import albumentations as A\n",
        "\n",
        "#opencv\n",
        "import cv2\n",
        "from google.colab.patches import cv2_imshow\n",
        "from PIL import Image\n",
        "from PIL import Image, ImageOps\n",
        "\n",
        "#plot\n",
        "import matplotlib.pyplot as plt\n",
        "import seaborn as sns\n",
        "\n",
        "#spli folder\n",
        "import splitfolders\n",
        "\n",
        "#Augmentation\n",
        "from tqdm import tqdm\n",
        "\n",
        "#Model\n",
        "import tensorflow as tf \n",
        "from tensorflow.keras.preprocessing.image import ImageDataGenerator \n",
        "from tensorflow.keras import layers\n",
        "from tensorflow import keras\n",
        "from tensorflow.keras import Model \n",
        "from tensorflow.keras.callbacks import ModelCheckpoint, EarlyStopping\n",
        "\n",
        "from tensorflow.python.keras.models import Sequential\n",
        "from tensorflow.python.keras.layers import Dense, Flatten, GlobalAveragePooling2D\n",
        "\n",
        "from tensorflow.keras.optimizers import RMSprop, SGD\n",
        "\n",
        "# from tensorflow.keras.applications.vgg16 import VGG16 #vgg16\n",
        "# from tensorflow.keras.applications.inception_v3 import InceptionV3 #InceptionV3\n",
        "from tensorflow.keras.applications import ResNet50, VGG16, InceptionV3, EfficientNetB0, EfficientNetB7"
      ]
    },
    {
      "cell_type": "code",
      "source": [
        "#test matplotlib\n",
        "plt.scatter(1, 1)"
      ],
      "metadata": {
        "colab": {
          "base_uri": "https://localhost:8080/",
          "height": 285
        },
        "id": "O2DHPaKpkQao",
        "outputId": "655163f6-388e-4951-e732-cb3e5d9de250"
      },
      "execution_count": null,
      "outputs": [
        {
          "output_type": "execute_result",
          "data": {
            "text/plain": [
              "<matplotlib.collections.PathCollection at 0x7f3082aea4c0>"
            ]
          },
          "metadata": {},
          "execution_count": 2
        },
        {
          "output_type": "display_data",
          "data": {
            "text/plain": [
              "<Figure size 432x288 with 1 Axes>"
            ],
            "image/png": "[encoded data removed]"
          },
          "metadata": {
            "needs_background": "light"
          }
        }
      ]
    },
    {
      "cell_type": "markdown",
      "metadata": {
        "id": "LsoZBhBL0pSw"
      },
      "source": [
        "## Load"
      ]
    },
    {
      "cell_type": "code",
      "execution_count": null,
      "metadata": {
        "colab": {
          "base_uri": "https://localhost:8080/"
        },
        "id": "CSeT7f56BVHK",
        "outputId": "8dc9a081-2d41-405f-9dc4-cf6dfbc30e58"
      },
      "outputs": [
        {
          "output_type": "stream",
          "name": "stdout",
          "text": [
            "ref                                                             title                                         size  lastUpdated          downloadCount  voteCount  usabilityRating  \n",
            "--------------------------------------------------------------  -------------------------------------------  -----  -------------------  -------------  ---------  ---------------  \n",
            "ahsan81/hotel-reservations-classification-dataset               Hotel Reservations Dataset                   480KB  2023-01-04 12:50:31           2249         87  1.0              \n",
            "thedevastator/global-fossil-co2-emissions-by-country-2002-2022  Emissions by Country, 2002-2022              621KB  2023-01-02 20:10:36           1216         45  1.0              \n",
            "die9origephit/fifa-world-cup-2022-complete-dataset              Fifa World Cup 2022: Complete Dataset          7KB  2022-12-18 22:51:11           5611        179  1.0              \n",
            "rakkesharv/spotify-top-10000-streamed-songs                     Spotify Top 10000 Streamed Songs             280KB  2023-01-02 08:17:15           1131         44  1.0              \n",
            "meirnizri/covid19-dataset                                       COVID-19 Dataset                               5MB  2022-11-13 15:47:17          18325        499  1.0              \n",
            "omkargowda/suicide-rates-overview-1985-to-2021                  Suicide Rates Overview (1985 to 2021)        539KB  2023-01-04 15:11:45            889         40  1.0              \n",
            "devrimtuner/list-of-cities-proper-by-population-density         List of cities proper by population density    3KB  2023-01-05 09:08:19            812         35  0.9411765        \n",
            "thedevastator/analyzing-credit-card-spending-habits-in-india    Credit Card Spending Habits in India         319KB  2022-12-14 07:30:37           3033         83  1.0              \n",
            "ahsan81/superstore-marketing-campaign-dataset                   Superstore Marketing Campaign Dataset         55KB  2023-01-02 19:25:08           1211         40  1.0              \n",
            "devrimtuner/list-of-moststreamed-songs-on-spotify               Top 100 Spotify Songs👑🎤🎧🎼                      3KB  2022-12-30 05:42:54           1111         46  1.0              \n",
            "devrimtuner/top-100-video-games                                 Top 50 Video Games                             2KB  2022-12-30 06:06:16            596         27  1.0              \n",
            "devrimtuner/top-100list-of-bestselling-mobile-phones            (TOP 100)List of best-selling mobile phones    2KB  2022-12-30 07:23:56            624         37  0.9411765        \n",
            "michals22/coffee-dataset                                        Coffee dataset                                24KB  2022-12-15 20:02:12           5239        111  1.0              \n",
            "parasharmanas/global-hunger-index-2022-trends                   Global Hunger Index 2022 Trends                3KB  2022-12-28 13:37:11            642         26  1.0              \n",
            "arvindnagaonkar/power-generation-data                           Daily Power Generation Data                   15MB  2022-12-23 18:09:56           1156         29  0.9705882        \n",
            "aklimarimi/qs-world-ranked-universities-20182022                QS World ranked Universities (2018-2022)      51KB  2022-12-28 03:53:39           1086         49  1.0              \n",
            "thedevastator/unlock-profits-with-e-commerce-sales-data         E-Commerce Sales Dataset                       6MB  2022-12-03 09:27:17           4785        100  1.0              \n",
            "devrimtuner/top-50list-of-most-expensive-films                  (TOP 50)List of most expensive films 🎬🎬🏆🥇🥈🥉    2KB  2022-12-31 01:31:08            710         32  1.0              \n",
            "rajeshrampure/black-friday-sale                                 Black Friday Sale                              5MB  2022-12-24 09:37:49           1694         43  1.0              \n",
            "dansbecker/melbourne-housing-snapshot                           Melbourne Housing Snapshot                   451KB  2018-06-05 12:52:24         104276       1194  0.7058824        \n"
          ]
        }
      ],
      "source": [
        "!mkdir ~/.kaggle\n",
        "!cp /content/kaggle.json ~/.kaggle/ #copy api key ---- depend on your directory -- my directory is .../colab/..\n",
        "!chmod 600 ~/.kaggle/kaggle.json\n",
        "!kaggle datasets list"
      ]
    },
    {
      "cell_type": "code",
      "execution_count": null,
      "metadata": {
        "colab": {
          "base_uri": "https://localhost:8080/"
        },
        "id": "qbHgIi7S06Ab",
        "outputId": "ea2bd944-d09a-47ae-ba4d-674db7c64b16"
      },
      "outputs": [
        {
          "output_type": "stream",
          "name": "stdout",
          "text": [
            "Downloading hackathon-online-2022-image-processing.zip to /content\n",
            " 96% 400M/415M [00:04<00:00, 157MB/s]\n",
            "100% 415M/415M [00:04<00:00, 100MB/s]\n"
          ]
        }
      ],
      "source": [
        "!kaggle competitions download -c hackathon-online-2022-image-processing\n",
        "!unzip -q hackathon-online-2022-image-processing"
      ]
    },
    {
      "cell_type": "code",
      "execution_count": null,
      "metadata": {
        "id": "n6j1D2Yh1Njp",
        "colab": {
          "base_uri": "https://localhost:8080/"
        },
        "outputId": "978768fe-9d5a-4b4e-b43e-877e7a4d04a6"
      },
      "outputs": [
        {
          "output_type": "stream",
          "name": "stdout",
          "text": [
            "Archive:  /content/IM_Test.zipfile\n",
            "replace IM_Test.zipfile? [y]es, [n]o, [A]ll, [N]one, [r]ename: y\n",
            "  inflating: IM_Test.zipfile         \n",
            "Archive:  /content/IM_Train.zipfile\n",
            "replace IM_Train.zipfile? [y]es, [n]o, [A]ll, [N]one, [r]ename: y\n",
            "  inflating: IM_Train.zipfile        \n"
          ]
        }
      ],
      "source": [
        "!unzip /content/IM_Test.zipfile\n",
        "!unzip /content/IM_Train.zipfile"
      ]
    },
    {
      "cell_type": "code",
      "source": [
        "!rm -rf /content/IM_Test\n",
        "!rm -rf /content/IM_test_bbox\n",
        "!rm -rf /content/train\n",
        "!rm -rf /content/train_val\n",
        "!rm -rf /content/train_val_aug\n",
        "!rm -rf /content/train_clean"
      ],
      "metadata": {
        "id": "75-RrBv3Uhey"
      },
      "execution_count": null,
      "outputs": []
    },
    {
      "cell_type": "code",
      "source": [
        "!rm -rf /content/IM_test_bbox.zip\n",
        "!rm -rf /content/train_val_aug.zip\n",
        "!rm -rf /content/df_test.csv"
      ],
      "metadata": {
        "id": "N7H47A8hRPEM"
      },
      "execution_count": null,
      "outputs": []
    },
    {
      "cell_type": "code",
      "execution_count": null,
      "metadata": {
        "id": "vup-n8igFxbP"
      },
      "outputs": [],
      "source": [
        "!unzip -q /content/IM_Test.zipfile\n",
        "!unzip -q /content/IM_Train.zipfile"
      ]
    },
    {
      "cell_type": "markdown",
      "metadata": {
        "id": "c0T6JQ-k1YaC"
      },
      "source": [
        "## Read"
      ]
    },
    {
      "cell_type": "code",
      "execution_count": null,
      "metadata": {
        "colab": {
          "base_uri": "https://localhost:8080/",
          "height": 424
        },
        "id": "nVcWgv6P4C15",
        "outputId": "338d6db2-ab9b-4755-a20b-ed445c95f4f6"
      },
      "outputs": [
        {
          "output_type": "execute_result",
          "data": {
            "text/plain": [
              "      imageid_boxid  class\n",
              "0               1_0    NaN\n",
              "1               2_0    NaN\n",
              "2               2_1    NaN\n",
              "3               2_2    NaN\n",
              "4               3_0    NaN\n",
              "...             ...    ...\n",
              "26027       13067_0    NaN\n",
              "26028       13067_1    NaN\n",
              "26029       13067_2    NaN\n",
              "26030       13068_0    NaN\n",
              "26031       13068_1    NaN\n",
              "\n",
              "[26032 rows x 2 columns]"
            ],
            "text/html": [
              "\n",
              "  <div id=\"df-64e9916b-1d93-49c4-af2a-b71df023377c\">\n",
              "    <div class=\"colab-df-container\">\n",
              "      <div>\n",
              "<style scoped>\n",
              "    .dataframe tbody tr th:only-of-type {\n",
              "        vertical-align: middle;\n",
              "    }\n",
              "\n",
              "    .dataframe tbody tr th {\n",
              "        vertical-align: top;\n",
              "    }\n",
              "\n",
              "    .dataframe thead th {\n",
              "        text-align: right;\n",
              "    }\n",
              "</style>\n",
              "<table border=\"1\" class=\"dataframe\">\n",
              "  <thead>\n",
              "    <tr style=\"text-align: right;\">\n",
              "      <th></th>\n",
              "      <th>imageid_boxid</th>\n",
              "      <th>class</th>\n",
              "    </tr>\n",
              "  </thead>\n",
              "  <tbody>\n",
              "    <tr>\n",
              "      <th>0</th>\n",
              "      <td>1_0</td>\n",
              "      <td>NaN</td>\n",
              "    </tr>\n",
              "    <tr>\n",
              "      <th>1</th>\n",
              "      <td>2_0</td>\n",
              "      <td>NaN</td>\n",
              "    </tr>\n",
              "    <tr>\n",
              "      <th>2</th>\n",
              "      <td>2_1</td>\n",
              "      <td>NaN</td>\n",
              "    </tr>\n",
              "    <tr>\n",
              "      <th>3</th>\n",
              "      <td>2_2</td>\n",
              "      <td>NaN</td>\n",
              "    </tr>\n",
              "    <tr>\n",
              "      <th>4</th>\n",
              "      <td>3_0</td>\n",
              "      <td>NaN</td>\n",
              "    </tr>\n",
              "    <tr>\n",
              "      <th>...</th>\n",
              "      <td>...</td>\n",
              "      <td>...</td>\n",
              "    </tr>\n",
              "    <tr>\n",
              "      <th>26027</th>\n",
              "      <td>13067_0</td>\n",
              "      <td>NaN</td>\n",
              "    </tr>\n",
              "    <tr>\n",
              "      <th>26028</th>\n",
              "      <td>13067_1</td>\n",
              "      <td>NaN</td>\n",
              "    </tr>\n",
              "    <tr>\n",
              "      <th>26029</th>\n",
              "      <td>13067_2</td>\n",
              "      <td>NaN</td>\n",
              "    </tr>\n",
              "    <tr>\n",
              "      <th>26030</th>\n",
              "      <td>13068_0</td>\n",
              "      <td>NaN</td>\n",
              "    </tr>\n",
              "    <tr>\n",
              "      <th>26031</th>\n",
              "      <td>13068_1</td>\n",
              "      <td>NaN</td>\n",
              "    </tr>\n",
              "  </tbody>\n",
              "</table>\n",
              "<p>26032 rows × 2 columns</p>\n",
              "</div>\n",
              "      <button class=\"colab-df-convert\" onclick=\"convertToInteractive('df-64e9916b-1d93-49c4-af2a-b71df023377c')\"\n",
              "              title=\"Convert this dataframe to an interactive table.\"\n",
              "              style=\"display:none;\">\n",
              "        \n",
              "  <svg xmlns=\"http://www.w3.org/2000/svg\" height=\"24px\"viewBox=\"0 0 24 24\"\n",
              "       width=\"24px\">\n",
              "    <path d=\"M0 0h24v24H0V0z\" fill=\"none\"/>\n",
              "    <path d=\"M18.56 5.44l.94 2.06.94-2.06 2.06-.94-2.06-.94-.94-2.06-.94 2.06-2.06.94zm-11 1L8.5 8.5l.94-2.06 2.06-.94-2.06-.94L8.5 2.5l-.94 2.06-2.06.94zm10 10l.94 2.06.94-2.06 2.06-.94-2.06-.94-.94-2.06-.94 2.06-2.06.94z\"/><path d=\"M17.41 7.96l-1.37-1.37c-.4-.4-.92-.59-1.43-.59-.52 0-1.04.2-1.43.59L10.3 9.45l-7.72 7.72c-.78.78-.78 2.05 0 2.83L4 21.41c.39.39.9.59 1.41.59.51 0 1.02-.2 1.41-.59l7.78-7.78 2.81-2.81c.8-.78.8-2.07 0-2.86zM5.41 20L4 18.59l7.72-7.72 1.47 1.35L5.41 20z\"/>\n",
              "  </svg>\n",
              "      </button>\n",
              "      \n",
              "  <style>\n",
              "    .colab-df-container {\n",
              "      display:flex;\n",
              "      flex-wrap:wrap;\n",
              "      gap: 12px;\n",
              "    }\n",
              "\n",
              "    .colab-df-convert {\n",
              "      background-color: #E8F0FE;\n",
              "      border: none;\n",
              "      border-radius: 50%;\n",
              "      cursor: pointer;\n",
              "      display: none;\n",
              "      fill: #1967D2;\n",
              "      height: 32px;\n",
              "      padding: 0 0 0 0;\n",
              "      width: 32px;\n",
              "    }\n",
              "\n",
              "    .colab-df-convert:hover {\n",
              "      background-color: #E2EBFA;\n",
              "      box-shadow: 0px 1px 2px rgba(60, 64, 67, 0.3), 0px 1px 3px 1px rgba(60, 64, 67, 0.15);\n",
              "      fill: #174EA6;\n",
              "    }\n",
              "\n",
              "    [theme=dark] .colab-df-convert {\n",
              "      background-color: #3B4455;\n",
              "      fill: #D2E3FC;\n",
              "    }\n",
              "\n",
              "    [theme=dark] .colab-df-convert:hover {\n",
              "      background-color: #434B5C;\n",
              "      box-shadow: 0px 1px 3px 1px rgba(0, 0, 0, 0.15);\n",
              "      filter: drop-shadow(0px 1px 2px rgba(0, 0, 0, 0.3));\n",
              "      fill: #FFFFFF;\n",
              "    }\n",
              "  </style>\n",
              "\n",
              "      <script>\n",
              "        const buttonEl =\n",
              "          document.querySelector('#df-64e9916b-1d93-49c4-af2a-b71df023377c button.colab-df-convert');\n",
              "        buttonEl.style.display =\n",
              "          google.colab.kernel.accessAllowed ? 'block' : 'none';\n",
              "\n",
              "        async function convertToInteractive(key) {\n",
              "          const element = document.querySelector('#df-64e9916b-1d93-49c4-af2a-b71df023377c');\n",
              "          const dataTable =\n",
              "            await google.colab.kernel.invokeFunction('convertToInteractive',\n",
              "                                                     [key], {});\n",
              "          if (!dataTable) return;\n",
              "\n",
              "          const docLinkHtml = 'Like what you see? Visit the ' +\n",
              "            '<a target=\"_blank\" href=https://colab.research.google.com/notebooks/data_table.ipynb>data table notebook</a>'\n",
              "            + ' to learn more about interactive tables.';\n",
              "          element.innerHTML = '';\n",
              "          dataTable['output_type'] = 'display_data';\n",
              "          await google.colab.output.renderOutput(dataTable, element);\n",
              "          const docLink = document.createElement('div');\n",
              "          docLink.innerHTML = docLinkHtml;\n",
              "          element.appendChild(docLink);\n",
              "        }\n",
              "      </script>\n",
              "    </div>\n",
              "  </div>\n",
              "  "
            ]
          },
          "metadata": {},
          "execution_count": 7
        }
      ],
      "source": [
        "df_test = pd.read_csv('/content/IM_Submit.csv')\n",
        "json_test = pd.read_json('/content/IM_Test/IM_Test.json')\n",
        "df_test"
      ]
    },
    {
      "cell_type": "code",
      "execution_count": null,
      "metadata": {
        "colab": {
          "base_uri": "https://localhost:8080/",
          "height": 424
        },
        "id": "yfXQGM8e4dr5",
        "outputId": "b7f917e7-a14e-4192-e6a8-057698ba5e43"
      },
      "outputs": [
        {
          "output_type": "execute_result",
          "data": {
            "text/plain": [
              "        filename                                             bboxes\n",
              "0          1.png  [{'bbox_id': 0, 'x1': 43, 'x2': 62, 'y1': 7, '...\n",
              "1          2.png  [{'bbox_id': 0, 'x1': 99, 'x2': 113, 'y1': 5, ...\n",
              "2          3.png  [{'bbox_id': 0, 'x1': 61, 'x2': 72, 'y1': 6, '...\n",
              "3          4.png  [{'bbox_id': 0, 'x1': 32, 'x2': 46, 'y1': 6, '...\n",
              "4          5.png  [{'bbox_id': 0, 'x1': 97, 'x2': 116, 'y1': 28,...\n",
              "...          ...                                                ...\n",
              "13063  13064.png  [{'bbox_id': 0, 'x1': 227, 'x2': 249, 'y1': 43...\n",
              "13064  13065.png  [{'bbox_id': 0, 'x1': 67, 'x2': 82, 'y1': 14, ...\n",
              "13065  13066.png  [{'bbox_id': 0, 'x1': 33, 'x2': 45, 'y1': 19, ...\n",
              "13066  13067.png  [{'bbox_id': 0, 'x1': 113, 'x2': 126, 'y1': 14...\n",
              "13067  13068.png  [{'bbox_id': 0, 'x1': 36, 'x2': 47, 'y1': 9, '...\n",
              "\n",
              "[13068 rows x 2 columns]"
            ],
            "text/html": [
              "\n",
              "  <div id=\"df-d07b330e-8489-495c-aa64-d8fb05abdc55\">\n",
              "    <div class=\"colab-df-container\">\n",
              "      <div>\n",
              "<style scoped>\n",
              "    .dataframe tbody tr th:only-of-type {\n",
              "        vertical-align: middle;\n",
              "    }\n",
              "\n",
              "    .dataframe tbody tr th {\n",
              "        vertical-align: top;\n",
              "    }\n",
              "\n",
              "    .dataframe thead th {\n",
              "        text-align: right;\n",
              "    }\n",
              "</style>\n",
              "<table border=\"1\" class=\"dataframe\">\n",
              "  <thead>\n",
              "    <tr style=\"text-align: right;\">\n",
              "      <th></th>\n",
              "      <th>filename</th>\n",
              "      <th>bboxes</th>\n",
              "    </tr>\n",
              "  </thead>\n",
              "  <tbody>\n",
              "    <tr>\n",
              "      <th>0</th>\n",
              "      <td>1.png</td>\n",
              "      <td>[{'bbox_id': 0, 'x1': 43, 'x2': 62, 'y1': 7, '...</td>\n",
              "    </tr>\n",
              "    <tr>\n",
              "      <th>1</th>\n",
              "      <td>2.png</td>\n",
              "      <td>[{'bbox_id': 0, 'x1': 99, 'x2': 113, 'y1': 5, ...</td>\n",
              "    </tr>\n",
              "    <tr>\n",
              "      <th>2</th>\n",
              "      <td>3.png</td>\n",
              "      <td>[{'bbox_id': 0, 'x1': 61, 'x2': 72, 'y1': 6, '...</td>\n",
              "    </tr>\n",
              "    <tr>\n",
              "      <th>3</th>\n",
              "      <td>4.png</td>\n",
              "      <td>[{'bbox_id': 0, 'x1': 32, 'x2': 46, 'y1': 6, '...</td>\n",
              "    </tr>\n",
              "    <tr>\n",
              "      <th>4</th>\n",
              "      <td>5.png</td>\n",
              "      <td>[{'bbox_id': 0, 'x1': 97, 'x2': 116, 'y1': 28,...</td>\n",
              "    </tr>\n",
              "    <tr>\n",
              "      <th>...</th>\n",
              "      <td>...</td>\n",
              "      <td>...</td>\n",
              "    </tr>\n",
              "    <tr>\n",
              "      <th>13063</th>\n",
              "      <td>13064.png</td>\n",
              "      <td>[{'bbox_id': 0, 'x1': 227, 'x2': 249, 'y1': 43...</td>\n",
              "    </tr>\n",
              "    <tr>\n",
              "      <th>13064</th>\n",
              "      <td>13065.png</td>\n",
              "      <td>[{'bbox_id': 0, 'x1': 67, 'x2': 82, 'y1': 14, ...</td>\n",
              "    </tr>\n",
              "    <tr>\n",
              "      <th>13065</th>\n",
              "      <td>13066.png</td>\n",
              "      <td>[{'bbox_id': 0, 'x1': 33, 'x2': 45, 'y1': 19, ...</td>\n",
              "    </tr>\n",
              "    <tr>\n",
              "      <th>13066</th>\n",
              "      <td>13067.png</td>\n",
              "      <td>[{'bbox_id': 0, 'x1': 113, 'x2': 126, 'y1': 14...</td>\n",
              "    </tr>\n",
              "    <tr>\n",
              "      <th>13067</th>\n",
              "      <td>13068.png</td>\n",
              "      <td>[{'bbox_id': 0, 'x1': 36, 'x2': 47, 'y1': 9, '...</td>\n",
              "    </tr>\n",
              "  </tbody>\n",
              "</table>\n",
              "<p>13068 rows × 2 columns</p>\n",
              "</div>\n",
              "      <button class=\"colab-df-convert\" onclick=\"convertToInteractive('df-d07b330e-8489-495c-aa64-d8fb05abdc55')\"\n",
              "              title=\"Convert this dataframe to an interactive table.\"\n",
              "              style=\"display:none;\">\n",
              "        \n",
              "  <svg xmlns=\"http://www.w3.org/2000/svg\" height=\"24px\"viewBox=\"0 0 24 24\"\n",
              "       width=\"24px\">\n",
              "    <path d=\"M0 0h24v24H0V0z\" fill=\"none\"/>\n",
              "    <path d=\"M18.56 5.44l.94 2.06.94-2.06 2.06-.94-2.06-.94-.94-2.06-.94 2.06-2.06.94zm-11 1L8.5 8.5l.94-2.06 2.06-.94-2.06-.94L8.5 2.5l-.94 2.06-2.06.94zm10 10l.94 2.06.94-2.06 2.06-.94-2.06-.94-.94-2.06-.94 2.06-2.06.94z\"/><path d=\"M17.41 7.96l-1.37-1.37c-.4-.4-.92-.59-1.43-.59-.52 0-1.04.2-1.43.59L10.3 9.45l-7.72 7.72c-.78.78-.78 2.05 0 2.83L4 21.41c.39.39.9.59 1.41.59.51 0 1.02-.2 1.41-.59l7.78-7.78 2.81-2.81c.8-.78.8-2.07 0-2.86zM5.41 20L4 18.59l7.72-7.72 1.47 1.35L5.41 20z\"/>\n",
              "  </svg>\n",
              "      </button>\n",
              "      \n",
              "  <style>\n",
              "    .colab-df-container {\n",
              "      display:flex;\n",
              "      flex-wrap:wrap;\n",
              "      gap: 12px;\n",
              "    }\n",
              "\n",
              "    .colab-df-convert {\n",
              "      background-color: #E8F0FE;\n",
              "      border: none;\n",
              "      border-radius: 50%;\n",
              "      cursor: pointer;\n",
              "      display: none;\n",
              "      fill: #1967D2;\n",
              "      height: 32px;\n",
              "      padding: 0 0 0 0;\n",
              "      width: 32px;\n",
              "    }\n",
              "\n",
              "    .colab-df-convert:hover {\n",
              "      background-color: #E2EBFA;\n",
              "      box-shadow: 0px 1px 2px rgba(60, 64, 67, 0.3), 0px 1px 3px 1px rgba(60, 64, 67, 0.15);\n",
              "      fill: #174EA6;\n",
              "    }\n",
              "\n",
              "    [theme=dark] .colab-df-convert {\n",
              "      background-color: #3B4455;\n",
              "      fill: #D2E3FC;\n",
              "    }\n",
              "\n",
              "    [theme=dark] .colab-df-convert:hover {\n",
              "      background-color: #434B5C;\n",
              "      box-shadow: 0px 1px 3px 1px rgba(0, 0, 0, 0.15);\n",
              "      filter: drop-shadow(0px 1px 2px rgba(0, 0, 0, 0.3));\n",
              "      fill: #FFFFFF;\n",
              "    }\n",
              "  </style>\n",
              "\n",
              "      <script>\n",
              "        const buttonEl =\n",
              "          document.querySelector('#df-d07b330e-8489-495c-aa64-d8fb05abdc55 button.colab-df-convert');\n",
              "        buttonEl.style.display =\n",
              "          google.colab.kernel.accessAllowed ? 'block' : 'none';\n",
              "\n",
              "        async function convertToInteractive(key) {\n",
              "          const element = document.querySelector('#df-d07b330e-8489-495c-aa64-d8fb05abdc55');\n",
              "          const dataTable =\n",
              "            await google.colab.kernel.invokeFunction('convertToInteractive',\n",
              "                                                     [key], {});\n",
              "          if (!dataTable) return;\n",
              "\n",
              "          const docLinkHtml = 'Like what you see? Visit the ' +\n",
              "            '<a target=\"_blank\" href=https://colab.research.google.com/notebooks/data_table.ipynb>data table notebook</a>'\n",
              "            + ' to learn more about interactive tables.';\n",
              "          element.innerHTML = '';\n",
              "          dataTable['output_type'] = 'display_data';\n",
              "          await google.colab.output.renderOutput(dataTable, element);\n",
              "          const docLink = document.createElement('div');\n",
              "          docLink.innerHTML = docLinkHtml;\n",
              "          element.appendChild(docLink);\n",
              "        }\n",
              "      </script>\n",
              "    </div>\n",
              "  </div>\n",
              "  "
            ]
          },
          "metadata": {},
          "execution_count": 8
        }
      ],
      "source": [
        "json_test"
      ]
    },
    {
      "cell_type": "markdown",
      "metadata": {
        "id": "50GlBnk7Bgo2"
      },
      "source": [
        "**RAM เต็ม**"
      ]
    },
    {
      "cell_type": "code",
      "execution_count": null,
      "metadata": {
        "id": "VWfAYvQT4enh"
      },
      "outputs": [],
      "source": [
        "# # ram เต็มเลยใช้วิธีนี้ไม่ได้\n",
        "# from tqdm import tqdm\n",
        "# file_name, x1, x2, y1, y2 = [], [], [], [], []\n",
        "# for i in tqdm(json_test['filename']):\n",
        "#   for j in json_test['bboxes']:\n",
        "#     for k in j:\n",
        "#       file_name.append(i)\n",
        "#       x1.append(k['x1'])\n",
        "#       x2.append(k['x2'])\n",
        "#       y1.append(k['y1'])\n",
        "#       y2.append(k['y2'])\n",
        "# df_test['file_name'] = file_name\n",
        "# df_test['x1'] = x1\n",
        "# df_test['x2'] = x2\n",
        "# df_test['y1'] = y1\n",
        "# df_test['y2'] = y2"
      ]
    },
    {
      "cell_type": "markdown",
      "metadata": {
        "id": "PoesCjFMroQE"
      },
      "source": [
        "**ลองวิธีนี้แทน**"
      ]
    },
    {
      "cell_type": "code",
      "execution_count": null,
      "metadata": {
        "colab": {
          "base_uri": "https://localhost:8080/"
        },
        "id": "Neyqkn2YA_L6",
        "outputId": "233a4cca-83d2-4890-8115-9d0680c47a9f"
      },
      "outputs": [
        {
          "output_type": "execute_result",
          "data": {
            "text/plain": [
              "0            1\n",
              "1            2\n",
              "2            2\n",
              "3            2\n",
              "4            3\n",
              "         ...  \n",
              "26027    13067\n",
              "26028    13067\n",
              "26029    13067\n",
              "26030    13068\n",
              "26031    13068\n",
              "Name: 0, Length: 26032, dtype: object"
            ]
          },
          "metadata": {},
          "execution_count": 10
        }
      ],
      "source": [
        "df_test['imageid_boxid'].str.split('_', n = 1, expand = True)[0]"
      ]
    },
    {
      "cell_type": "markdown",
      "metadata": {
        "id": "5Odalc89N2_h"
      },
      "source": [
        "**ผลลัพธ์ที่ได้ไม่กินแรมเลย ใช้เสร็จก็คืนแรม และ Run เร็วแบบเห็นได้ชัด**"
      ]
    },
    {
      "cell_type": "code",
      "execution_count": null,
      "metadata": {
        "colab": {
          "base_uri": "https://localhost:8080/",
          "height": 223
        },
        "id": "4BcuZTqW9LNf",
        "outputId": "4265ee7d-49be-453f-98e2-08c327649b09"
      },
      "outputs": [
        {
          "output_type": "stream",
          "name": "stderr",
          "text": [
            "100%|██████████| 13068/13068 [00:48<00:00, 269.26it/s]\n"
          ]
        },
        {
          "output_type": "execute_result",
          "data": {
            "text/plain": [
              "  imageid_boxid  class file_name     x1     x2   y1    y2\n",
              "0           1_0    NaN     1.png   43.0   62.0  7.0  37.0\n",
              "1           2_0    NaN     2.png   99.0  113.0  5.0  28.0\n",
              "2           2_1    NaN     2.png  114.0  122.0  8.0  31.0\n",
              "3           2_2    NaN     2.png  121.0  133.0  6.0  29.0\n",
              "4           3_0    NaN     3.png   61.0   72.0  6.0  22.0"
            ],
            "text/html": [
              "\n",
              "  <div id=\"df-d9103fbd-1462-480a-b9a7-9272c8ebdf0a\">\n",
              "    <div class=\"colab-df-container\">\n",
              "      <div>\n",
              "<style scoped>\n",
              "    .dataframe tbody tr th:only-of-type {\n",
              "        vertical-align: middle;\n",
              "    }\n",
              "\n",
              "    .dataframe tbody tr th {\n",
              "        vertical-align: top;\n",
              "    }\n",
              "\n",
              "    .dataframe thead th {\n",
              "        text-align: right;\n",
              "    }\n",
              "</style>\n",
              "<table border=\"1\" class=\"dataframe\">\n",
              "  <thead>\n",
              "    <tr style=\"text-align: right;\">\n",
              "      <th></th>\n",
              "      <th>imageid_boxid</th>\n",
              "      <th>class</th>\n",
              "      <th>file_name</th>\n",
              "      <th>x1</th>\n",
              "      <th>x2</th>\n",
              "      <th>y1</th>\n",
              "      <th>y2</th>\n",
              "    </tr>\n",
              "  </thead>\n",
              "  <tbody>\n",
              "    <tr>\n",
              "      <th>0</th>\n",
              "      <td>1_0</td>\n",
              "      <td>NaN</td>\n",
              "      <td>1.png</td>\n",
              "      <td>43.0</td>\n",
              "      <td>62.0</td>\n",
              "      <td>7.0</td>\n",
              "      <td>37.0</td>\n",
              "    </tr>\n",
              "    <tr>\n",
              "      <th>1</th>\n",
              "      <td>2_0</td>\n",
              "      <td>NaN</td>\n",
              "      <td>2.png</td>\n",
              "      <td>99.0</td>\n",
              "      <td>113.0</td>\n",
              "      <td>5.0</td>\n",
              "      <td>28.0</td>\n",
              "    </tr>\n",
              "    <tr>\n",
              "      <th>2</th>\n",
              "      <td>2_1</td>\n",
              "      <td>NaN</td>\n",
              "      <td>2.png</td>\n",
              "      <td>114.0</td>\n",
              "      <td>122.0</td>\n",
              "      <td>8.0</td>\n",
              "      <td>31.0</td>\n",
              "    </tr>\n",
              "    <tr>\n",
              "      <th>3</th>\n",
              "      <td>2_2</td>\n",
              "      <td>NaN</td>\n",
              "      <td>2.png</td>\n",
              "      <td>121.0</td>\n",
              "      <td>133.0</td>\n",
              "      <td>6.0</td>\n",
              "      <td>29.0</td>\n",
              "    </tr>\n",
              "    <tr>\n",
              "      <th>4</th>\n",
              "      <td>3_0</td>\n",
              "      <td>NaN</td>\n",
              "      <td>3.png</td>\n",
              "      <td>61.0</td>\n",
              "      <td>72.0</td>\n",
              "      <td>6.0</td>\n",
              "      <td>22.0</td>\n",
              "    </tr>\n",
              "  </tbody>\n",
              "</table>\n",
              "</div>\n",
              "      <button class=\"colab-df-convert\" onclick=\"convertToInteractive('df-d9103fbd-1462-480a-b9a7-9272c8ebdf0a')\"\n",
              "              title=\"Convert this dataframe to an interactive table.\"\n",
              "              style=\"display:none;\">\n",
              "        \n",
              "  <svg xmlns=\"http://www.w3.org/2000/svg\" height=\"24px\"viewBox=\"0 0 24 24\"\n",
              "       width=\"24px\">\n",
              "    <path d=\"M0 0h24v24H0V0z\" fill=\"none\"/>\n",
              "    <path d=\"M18.56 5.44l.94 2.06.94-2.06 2.06-.94-2.06-.94-.94-2.06-.94 2.06-2.06.94zm-11 1L8.5 8.5l.94-2.06 2.06-.94-2.06-.94L8.5 2.5l-.94 2.06-2.06.94zm10 10l.94 2.06.94-2.06 2.06-.94-2.06-.94-.94-2.06-.94 2.06-2.06.94z\"/><path d=\"M17.41 7.96l-1.37-1.37c-.4-.4-.92-.59-1.43-.59-.52 0-1.04.2-1.43.59L10.3 9.45l-7.72 7.72c-.78.78-.78 2.05 0 2.83L4 21.41c.39.39.9.59 1.41.59.51 0 1.02-.2 1.41-.59l7.78-7.78 2.81-2.81c.8-.78.8-2.07 0-2.86zM5.41 20L4 18.59l7.72-7.72 1.47 1.35L5.41 20z\"/>\n",
              "  </svg>\n",
              "      </button>\n",
              "      \n",
              "  <style>\n",
              "    .colab-df-container {\n",
              "      display:flex;\n",
              "      flex-wrap:wrap;\n",
              "      gap: 12px;\n",
              "    }\n",
              "\n",
              "    .colab-df-convert {\n",
              "      background-color: #E8F0FE;\n",
              "      border: none;\n",
              "      border-radius: 50%;\n",
              "      cursor: pointer;\n",
              "      display: none;\n",
              "      fill: #1967D2;\n",
              "      height: 32px;\n",
              "      padding: 0 0 0 0;\n",
              "      width: 32px;\n",
              "    }\n",
              "\n",
              "    .colab-df-convert:hover {\n",
              "      background-color: #E2EBFA;\n",
              "      box-shadow: 0px 1px 2px rgba(60, 64, 67, 0.3), 0px 1px 3px 1px rgba(60, 64, 67, 0.15);\n",
              "      fill: #174EA6;\n",
              "    }\n",
              "\n",
              "    [theme=dark] .colab-df-convert {\n",
              "      background-color: #3B4455;\n",
              "      fill: #D2E3FC;\n",
              "    }\n",
              "\n",
              "    [theme=dark] .colab-df-convert:hover {\n",
              "      background-color: #434B5C;\n",
              "      box-shadow: 0px 1px 3px 1px rgba(0, 0, 0, 0.15);\n",
              "      filter: drop-shadow(0px 1px 2px rgba(0, 0, 0, 0.3));\n",
              "      fill: #FFFFFF;\n",
              "    }\n",
              "  </style>\n",
              "\n",
              "      <script>\n",
              "        const buttonEl =\n",
              "          document.querySelector('#df-d9103fbd-1462-480a-b9a7-9272c8ebdf0a button.colab-df-convert');\n",
              "        buttonEl.style.display =\n",
              "          google.colab.kernel.accessAllowed ? 'block' : 'none';\n",
              "\n",
              "        async function convertToInteractive(key) {\n",
              "          const element = document.querySelector('#df-d9103fbd-1462-480a-b9a7-9272c8ebdf0a');\n",
              "          const dataTable =\n",
              "            await google.colab.kernel.invokeFunction('convertToInteractive',\n",
              "                                                     [key], {});\n",
              "          if (!dataTable) return;\n",
              "\n",
              "          const docLinkHtml = 'Like what you see? Visit the ' +\n",
              "            '<a target=\"_blank\" href=https://colab.research.google.com/notebooks/data_table.ipynb>data table notebook</a>'\n",
              "            + ' to learn more about interactive tables.';\n",
              "          element.innerHTML = '';\n",
              "          dataTable['output_type'] = 'display_data';\n",
              "          await google.colab.output.renderOutput(dataTable, element);\n",
              "          const docLink = document.createElement('div');\n",
              "          docLink.innerHTML = docLinkHtml;\n",
              "          element.appendChild(docLink);\n",
              "        }\n",
              "      </script>\n",
              "    </div>\n",
              "  </div>\n",
              "  "
            ]
          },
          "metadata": {},
          "execution_count": 11
        }
      ],
      "source": [
        "#get file_name\n",
        "lis1 = df_test['imageid_boxid'].str.split('_',n = 1, expand = True)[0]\n",
        "lis2 = [i+'.png' for i in lis1]\n",
        "df_test['file_name'] = lis2\n",
        "\n",
        "#get bboxes\n",
        "idx = 0\n",
        "for i in tqdm(json_test['bboxes']):\n",
        "  for dic in i:\n",
        "    box = [dic['x1'], dic['x2'], dic['y1'], dic['y2']]\n",
        "    df_test.loc[idx, ['x1', 'x2', 'y1', 'y2']] = box\n",
        "    idx += 1\n",
        "df_test.head()"
      ]
    },
    {
      "cell_type": "markdown",
      "metadata": {
        "id": "Oq4WLy-exm9B"
      },
      "source": [
        "## bbox df_test"
      ]
    },
    {
      "cell_type": "code",
      "execution_count": null,
      "metadata": {
        "id": "0ZtXig4I7wMo"
      },
      "outputs": [],
      "source": [
        "#change to int for bbox float not accept\n",
        "df_test[['x1', 'x2', 'y1', 'y2']] = df_test[['x1', 'x2', 'y1', 'y2']].astype(int)"
      ]
    },
    {
      "cell_type": "code",
      "execution_count": null,
      "metadata": {
        "id": "b-Z6mhYy7FGJ"
      },
      "outputs": [],
      "source": [
        "# ! rm -rf /content/IM_test_bbox #force to remove folder\n",
        "!mkdir IM_test_bbox"
      ]
    },
    {
      "cell_type": "code",
      "source": [
        "for idx, row in tqdm(df_test.iterrows()):\n",
        "  img = cv2.imread('/content/IM_Test/IM_Test/'+ row['file_name'])\n",
        "  file_name = row['imageid_boxid']\n",
        "  cv2.imwrite(f'/content/IM_test_bbox/{file_name}.png',img[row['y1']:row['y2'], row['x1']:row['x2']]) #เก็บ image test เข้า folder\n",
        "  df_test.loc[idx, 'file_name'] = f'/content/IM_test_bbox/{file_name}.png'"
      ],
      "metadata": {
        "colab": {
          "base_uri": "https://localhost:8080/"
        },
        "id": "pMtvUhJYBUX-",
        "outputId": "8049ed31-1f16-4901-ed56-f24553346b53"
      },
      "execution_count": null,
      "outputs": [
        {
          "output_type": "stream",
          "name": "stderr",
          "text": [
            "26032it [01:25, 306.18it/s]\n"
          ]
        }
      ]
    },
    {
      "cell_type": "code",
      "source": [
        "df_test.to_csv('df_test.csv', index=False)\n",
        "df_test"
      ],
      "metadata": {
        "colab": {
          "base_uri": "https://localhost:8080/",
          "height": 424
        },
        "id": "n6r5Ku7GC46h",
        "outputId": "47397734-b1ad-4f0b-f3ac-ae7744f5c469"
      },
      "execution_count": null,
      "outputs": [
        {
          "output_type": "execute_result",
          "data": {
            "text/plain": [
              "      imageid_boxid  class                          file_name   x1   x2  y1  \\\n",
              "0               1_0    NaN      /content/IM_test_bbox/1_0.png   43   62   7   \n",
              "1               2_0    NaN      /content/IM_test_bbox/2_0.png   99  113   5   \n",
              "2               2_1    NaN      /content/IM_test_bbox/2_1.png  114  122   8   \n",
              "3               2_2    NaN      /content/IM_test_bbox/2_2.png  121  133   6   \n",
              "4               3_0    NaN      /content/IM_test_bbox/3_0.png   61   72   6   \n",
              "...             ...    ...                                ...  ...  ...  ..   \n",
              "26027       13067_0    NaN  /content/IM_test_bbox/13067_0.png  113  126  14   \n",
              "26028       13067_1    NaN  /content/IM_test_bbox/13067_1.png  124  137  14   \n",
              "26029       13067_2    NaN  /content/IM_test_bbox/13067_2.png  133  149  13   \n",
              "26030       13068_0    NaN  /content/IM_test_bbox/13068_0.png   36   47   9   \n",
              "26031       13068_1    NaN  /content/IM_test_bbox/13068_1.png   47   57  10   \n",
              "\n",
              "       y2  \n",
              "0      37  \n",
              "1      28  \n",
              "2      31  \n",
              "3      29  \n",
              "4      22  \n",
              "...    ..  \n",
              "26027  34  \n",
              "26028  34  \n",
              "26029  33  \n",
              "26030  31  \n",
              "26031  32  \n",
              "\n",
              "[26032 rows x 7 columns]"
            ],
            "text/html": [
              "\n",
              "  <div id=\"df-0e571c73-23af-427d-8270-0220c223778f\">\n",
              "    <div class=\"colab-df-container\">\n",
              "      <div>\n",
              "<style scoped>\n",
              "    .dataframe tbody tr th:only-of-type {\n",
              "        vertical-align: middle;\n",
              "    }\n",
              "\n",
              "    .dataframe tbody tr th {\n",
              "        vertical-align: top;\n",
              "    }\n",
              "\n",
              "    .dataframe thead th {\n",
              "        text-align: right;\n",
              "    }\n",
              "</style>\n",
              "<table border=\"1\" class=\"dataframe\">\n",
              "  <thead>\n",
              "    <tr style=\"text-align: right;\">\n",
              "      <th></th>\n",
              "      <th>imageid_boxid</th>\n",
              "      <th>class</th>\n",
              "      <th>file_name</th>\n",
              "      <th>x1</th>\n",
              "      <th>x2</th>\n",
              "      <th>y1</th>\n",
              "      <th>y2</th>\n",
              "    </tr>\n",
              "  </thead>\n",
              "  <tbody>\n",
              "    <tr>\n",
              "      <th>0</th>\n",
              "      <td>1_0</td>\n",
              "      <td>NaN</td>\n",
              "      <td>/content/IM_test_bbox/1_0.png</td>\n",
              "      <td>43</td>\n",
              "      <td>62</td>\n",
              "      <td>7</td>\n",
              "      <td>37</td>\n",
              "    </tr>\n",
              "    <tr>\n",
              "      <th>1</th>\n",
              "      <td>2_0</td>\n",
              "      <td>NaN</td>\n",
              "      <td>/content/IM_test_bbox/2_0.png</td>\n",
              "      <td>99</td>\n",
              "      <td>113</td>\n",
              "      <td>5</td>\n",
              "      <td>28</td>\n",
              "    </tr>\n",
              "    <tr>\n",
              "      <th>2</th>\n",
              "      <td>2_1</td>\n",
              "      <td>NaN</td>\n",
              "      <td>/content/IM_test_bbox/2_1.png</td>\n",
              "      <td>114</td>\n",
              "      <td>122</td>\n",
              "      <td>8</td>\n",
              "      <td>31</td>\n",
              "    </tr>\n",
              "    <tr>\n",
              "      <th>3</th>\n",
              "      <td>2_2</td>\n",
              "      <td>NaN</td>\n",
              "      <td>/content/IM_test_bbox/2_2.png</td>\n",
              "      <td>121</td>\n",
              "      <td>133</td>\n",
              "      <td>6</td>\n",
              "      <td>29</td>\n",
              "    </tr>\n",
              "    <tr>\n",
              "      <th>4</th>\n",
              "      <td>3_0</td>\n",
              "      <td>NaN</td>\n",
              "      <td>/content/IM_test_bbox/3_0.png</td>\n",
              "      <td>61</td>\n",
              "      <td>72</td>\n",
              "      <td>6</td>\n",
              "      <td>22</td>\n",
              "    </tr>\n",
              "    <tr>\n",
              "      <th>...</th>\n",
              "      <td>...</td>\n",
              "      <td>...</td>\n",
              "      <td>...</td>\n",
              "      <td>...</td>\n",
              "      <td>...</td>\n",
              "      <td>...</td>\n",
              "      <td>...</td>\n",
              "    </tr>\n",
              "    <tr>\n",
              "      <th>26027</th>\n",
              "      <td>13067_0</td>\n",
              "      <td>NaN</td>\n",
              "      <td>/content/IM_test_bbox/13067_0.png</td>\n",
              "      <td>113</td>\n",
              "      <td>126</td>\n",
              "      <td>14</td>\n",
              "      <td>34</td>\n",
              "    </tr>\n",
              "    <tr>\n",
              "      <th>26028</th>\n",
              "      <td>13067_1</td>\n",
              "      <td>NaN</td>\n",
              "      <td>/content/IM_test_bbox/13067_1.png</td>\n",
              "      <td>124</td>\n",
              "      <td>137</td>\n",
              "      <td>14</td>\n",
              "      <td>34</td>\n",
              "    </tr>\n",
              "    <tr>\n",
              "      <th>26029</th>\n",
              "      <td>13067_2</td>\n",
              "      <td>NaN</td>\n",
              "      <td>/content/IM_test_bbox/13067_2.png</td>\n",
              "      <td>133</td>\n",
              "      <td>149</td>\n",
              "      <td>13</td>\n",
              "      <td>33</td>\n",
              "    </tr>\n",
              "    <tr>\n",
              "      <th>26030</th>\n",
              "      <td>13068_0</td>\n",
              "      <td>NaN</td>\n",
              "      <td>/content/IM_test_bbox/13068_0.png</td>\n",
              "      <td>36</td>\n",
              "      <td>47</td>\n",
              "      <td>9</td>\n",
              "      <td>31</td>\n",
              "    </tr>\n",
              "    <tr>\n",
              "      <th>26031</th>\n",
              "      <td>13068_1</td>\n",
              "      <td>NaN</td>\n",
              "      <td>/content/IM_test_bbox/13068_1.png</td>\n",
              "      <td>47</td>\n",
              "      <td>57</td>\n",
              "      <td>10</td>\n",
              "      <td>32</td>\n",
              "    </tr>\n",
              "  </tbody>\n",
              "</table>\n",
              "<p>26032 rows × 7 columns</p>\n",
              "</div>\n",
              "      <button class=\"colab-df-convert\" onclick=\"convertToInteractive('df-0e571c73-23af-427d-8270-0220c223778f')\"\n",
              "              title=\"Convert this dataframe to an interactive table.\"\n",
              "              style=\"display:none;\">\n",
              "        \n",
              "  <svg xmlns=\"http://www.w3.org/2000/svg\" height=\"24px\"viewBox=\"0 0 24 24\"\n",
              "       width=\"24px\">\n",
              "    <path d=\"M0 0h24v24H0V0z\" fill=\"none\"/>\n",
              "    <path d=\"M18.56 5.44l.94 2.06.94-2.06 2.06-.94-2.06-.94-.94-2.06-.94 2.06-2.06.94zm-11 1L8.5 8.5l.94-2.06 2.06-.94-2.06-.94L8.5 2.5l-.94 2.06-2.06.94zm10 10l.94 2.06.94-2.06 2.06-.94-2.06-.94-.94-2.06-.94 2.06-2.06.94z\"/><path d=\"M17.41 7.96l-1.37-1.37c-.4-.4-.92-.59-1.43-.59-.52 0-1.04.2-1.43.59L10.3 9.45l-7.72 7.72c-.78.78-.78 2.05 0 2.83L4 21.41c.39.39.9.59 1.41.59.51 0 1.02-.2 1.41-.59l7.78-7.78 2.81-2.81c.8-.78.8-2.07 0-2.86zM5.41 20L4 18.59l7.72-7.72 1.47 1.35L5.41 20z\"/>\n",
              "  </svg>\n",
              "      </button>\n",
              "      \n",
              "  <style>\n",
              "    .colab-df-container {\n",
              "      display:flex;\n",
              "      flex-wrap:wrap;\n",
              "      gap: 12px;\n",
              "    }\n",
              "\n",
              "    .colab-df-convert {\n",
              "      background-color: #E8F0FE;\n",
              "      border: none;\n",
              "      border-radius: 50%;\n",
              "      cursor: pointer;\n",
              "      display: none;\n",
              "      fill: #1967D2;\n",
              "      height: 32px;\n",
              "      padding: 0 0 0 0;\n",
              "      width: 32px;\n",
              "    }\n",
              "\n",
              "    .colab-df-convert:hover {\n",
              "      background-color: #E2EBFA;\n",
              "      box-shadow: 0px 1px 2px rgba(60, 64, 67, 0.3), 0px 1px 3px 1px rgba(60, 64, 67, 0.15);\n",
              "      fill: #174EA6;\n",
              "    }\n",
              "\n",
              "    [theme=dark] .colab-df-convert {\n",
              "      background-color: #3B4455;\n",
              "      fill: #D2E3FC;\n",
              "    }\n",
              "\n",
              "    [theme=dark] .colab-df-convert:hover {\n",
              "      background-color: #434B5C;\n",
              "      box-shadow: 0px 1px 3px 1px rgba(0, 0, 0, 0.15);\n",
              "      filter: drop-shadow(0px 1px 2px rgba(0, 0, 0, 0.3));\n",
              "      fill: #FFFFFF;\n",
              "    }\n",
              "  </style>\n",
              "\n",
              "      <script>\n",
              "        const buttonEl =\n",
              "          document.querySelector('#df-0e571c73-23af-427d-8270-0220c223778f button.colab-df-convert');\n",
              "        buttonEl.style.display =\n",
              "          google.colab.kernel.accessAllowed ? 'block' : 'none';\n",
              "\n",
              "        async function convertToInteractive(key) {\n",
              "          const element = document.querySelector('#df-0e571c73-23af-427d-8270-0220c223778f');\n",
              "          const dataTable =\n",
              "            await google.colab.kernel.invokeFunction('convertToInteractive',\n",
              "                                                     [key], {});\n",
              "          if (!dataTable) return;\n",
              "\n",
              "          const docLinkHtml = 'Like what you see? Visit the ' +\n",
              "            '<a target=\"_blank\" href=https://colab.research.google.com/notebooks/data_table.ipynb>data table notebook</a>'\n",
              "            + ' to learn more about interactive tables.';\n",
              "          element.innerHTML = '';\n",
              "          dataTable['output_type'] = 'display_data';\n",
              "          await google.colab.output.renderOutput(dataTable, element);\n",
              "          const docLink = document.createElement('div');\n",
              "          docLink.innerHTML = docLinkHtml;\n",
              "          element.appendChild(docLink);\n",
              "        }\n",
              "      </script>\n",
              "    </div>\n",
              "  </div>\n",
              "  "
            ]
          },
          "metadata": {},
          "execution_count": 15
        }
      ]
    },
    {
      "cell_type": "markdown",
      "metadata": {
        "id": "ROXPyLn3IKQe"
      },
      "source": [
        "## Clean"
      ]
    },
    {
      "cell_type": "code",
      "execution_count": null,
      "metadata": {
        "id": "uBz9EwX1JMWL"
      },
      "outputs": [],
      "source": [
        "digit, count = [], []\n",
        "for i in os.listdir('/content/train'):\n",
        "  digit.append(i)\n",
        "  count.append(len(os.listdir('/content/train/'+i)))"
      ]
    },
    {
      "cell_type": "code",
      "execution_count": null,
      "metadata": {
        "colab": {
          "base_uri": "https://localhost:8080/",
          "height": 469
        },
        "id": "Gib6cKRQKJzO",
        "outputId": "90841f07-5cc7-4396-dfee-3770a8a41683"
      },
      "outputs": [
        {
          "output_type": "display_data",
          "data": {
            "text/plain": [
              "<Figure size 1440x576 with 1 Axes>"
            ],
            "image/png": "[encoded data removed]"
          },
          "metadata": {
            "needs_background": "light"
          }
        }
      ],
      "source": [
        "df = pd.DataFrame({\n",
        "    'digit':digit,\n",
        "    'count':count\n",
        "})\n",
        "df.sort_values(by='digit', inplace=True)\n",
        "plt.figure(figsize=(20, 8));\n",
        "sns.barplot(data=df,x='digit', y='count');"
      ]
    },
    {
      "cell_type": "markdown",
      "metadata": {
        "id": "oW2IN1zcaHAI"
      },
      "source": [
        "**Clean**\n",
        "> เพราะบางรูปใน train มันมีหลายเลข แต่ label มีได้แค่เลขเดียว"
      ]
    },
    {
      "cell_type": "code",
      "execution_count": null,
      "metadata": {
        "id": "_67RSnFBbcYC"
      },
      "outputs": [],
      "source": [
        "!rm -rf /content/train_clean\n",
        "!cp -r /content/train /content/train_clean"
      ]
    },
    {
      "cell_type": "markdown",
      "source": [
        "**Distribute of Train Data**"
      ],
      "metadata": {
        "id": "h-ellIsH2aJ1"
      }
    },
    {
      "cell_type": "code",
      "execution_count": null,
      "metadata": {
        "colab": {
          "base_uri": "https://localhost:8080/",
          "height": 312
        },
        "id": "3Vcvy0QFgPVD",
        "outputId": "d7aced47-3df1-4f4c-aafa-2d1e0169fdd2"
      },
      "outputs": [
        {
          "output_type": "stream",
          "name": "stderr",
          "text": [
            "100%|██████████| 10/10 [00:05<00:00,  1.69it/s]\n"
          ]
        },
        {
          "output_type": "display_data",
          "data": {
            "text/plain": [
              "<Figure size 432x288 with 1 Axes>"
            ],
            "image/png": "[encoded data removed]"
          },
          "metadata": {
            "needs_background": "light"
          }
        }
      ],
      "source": [
        "#เช็คการกระจายตัวของ train data\n",
        "W,H = [],[]\n",
        "base = '/content/train'\n",
        "\n",
        "for i in tqdm(os.listdir(base)):\n",
        "  dir = os.path.join(base, i)\n",
        "  for j in os.listdir(dir):\n",
        "    img_path = os.path.join(dir, j)\n",
        "    img = cv2.imread(img_path)\n",
        "    h,w,c=img.shape\n",
        "    W.append(w)\n",
        "    H.append(h)\n",
        "data=pd.DataFrame({'W': W,'H': H})\n",
        "plt.title('Train Dis')\n",
        "sns.scatterplot(data=data, x=\"W\", y=\"H\");"
      ]
    },
    {
      "cell_type": "markdown",
      "source": [
        "**Distribute of Test Data**"
      ],
      "metadata": {
        "id": "ECbqT2Io2Usl"
      }
    },
    {
      "cell_type": "code",
      "source": [
        "#เช็คการกระจายของ test data\n",
        "WW, HH = [], []\n",
        "base = '/content/IM_test_bbox'\n",
        "for i in tqdm(os.listdir(base)):\n",
        "  img_path = os.path.join(base, i)\n",
        "  img = cv2.imread(img_path)\n",
        "  h,w,c=img.shape\n",
        "  WW.append(w)\n",
        "  HH.append(h)\n",
        "data=pd.DataFrame({'W': WW,'H': HH})\n",
        "plt.title('Test Dis')\n",
        "sns.scatterplot(data=data, x=\"W\", y=\"H\",);"
      ],
      "metadata": {
        "colab": {
          "base_uri": "https://localhost:8080/",
          "height": 312
        },
        "id": "yrDVCnik1HOl",
        "outputId": "dfbc1126-9b80-4b8f-e0fb-e302aebed9f0"
      },
      "execution_count": null,
      "outputs": [
        {
          "output_type": "stream",
          "name": "stderr",
          "text": [
            "100%|██████████| 26032/26032 [00:01<00:00, 13490.14it/s]\n"
          ]
        },
        {
          "output_type": "display_data",
          "data": {
            "text/plain": [
              "<Figure size 432x288 with 1 Axes>"
            ],
            "image/png": "[encoded data removed]"
          },
          "metadata": {
            "needs_background": "light"
          }
        }
      ]
    },
    {
      "cell_type": "markdown",
      "metadata": {
        "id": "BEsB9xuMgmwA"
      },
      "source": [
        "**Remove bad image**\n",
        "> train data มีลักษณะการกระจายตัว ไม่เหมือนของ test แสดงว่ามีหลุมดักอยู่"
      ]
    },
    {
      "cell_type": "code",
      "source": [
        "base = '/content/IM_test_bbox'\n",
        "h_w = []\n",
        "w_h = []\n",
        "for i in tqdm(os.listdir(base)):\n",
        "  img_path = os.path.join(base, i)\n",
        "  img = cv2.imread(img_path)\n",
        "  h, w, c = img.shape\n",
        "  hw = h/w\n",
        "  wh = w/h\n",
        "  h_w.append(hw)\n",
        "  w_h.append(wh)\n",
        "w_h.sort()\n",
        "h_w.sort()\n",
        "print()\n",
        "print(f'min h_w {h_w[0]} mean {np.mean(h_w)} median {np.median(h_w)} max {h_w[-1]}')\n",
        "print(f'min w_h {w_h[0]} mean {np.mean(w_h)} median {np.median(w_h)}  max {w_h[-1]}')"
      ],
      "metadata": {
        "colab": {
          "base_uri": "https://localhost:8080/"
        },
        "id": "HbFPCJcUlSKP",
        "outputId": "56e7115a-fb8e-4d77-ca12-d3332a6394f2"
      },
      "execution_count": null,
      "outputs": [
        {
          "output_type": "stream",
          "name": "stderr",
          "text": [
            "100%|██████████| 26032/26032 [00:01<00:00, 16207.50it/s]"
          ]
        },
        {
          "output_type": "stream",
          "name": "stdout",
          "text": [
            "\n",
            "min h_w 0.5 mean 1.9109812720049117 median 1.793103448275862 max 10.333333333333334\n",
            "min w_h 0.0967741935483871 mean 0.5614807298936207 median 0.5576923076923077  max 2.0\n"
          ]
        },
        {
          "output_type": "stream",
          "name": "stderr",
          "text": [
            "\n"
          ]
        }
      ]
    },
    {
      "cell_type": "code",
      "execution_count": null,
      "metadata": {
        "colab": {
          "base_uri": "https://localhost:8080/"
        },
        "id": "axcBXXLiaKkc",
        "outputId": "894e825b-44dc-448d-9517-bf46dc3782f7"
      },
      "outputs": [
        {
          "output_type": "stream",
          "name": "stderr",
          "text": [
            "100%|██████████| 10/10 [00:06<00:00,  1.44it/s]\n"
          ]
        }
      ],
      "source": [
        "#remove bad image\n",
        "base = '/content/train_clean'\n",
        "for i in tqdm(os.listdir(base)):\n",
        "  dir = os.path.join(base, i)\n",
        "  for j in os.listdir(dir):\n",
        "    img_path = os.path.join(dir, j)\n",
        "    img = cv2.imread(img_path)\n",
        "    h,w,c=img.shape\n",
        "    hw = h/w\n",
        "    wh = w/h\n",
        "\n",
        "    # #remove bad image\n",
        "    if (w > (0.9*h)) or (w < (0.2*h)): #number w chose less than h\n",
        "      os.remove(img_path)"
      ]
    },
    {
      "cell_type": "code",
      "execution_count": null,
      "metadata": {
        "colab": {
          "base_uri": "https://localhost:8080/",
          "height": 312
        },
        "id": "Adhav8D8g-X0",
        "outputId": "ee75fd14-1895-455e-c47f-53845159b932"
      },
      "outputs": [
        {
          "output_type": "stream",
          "name": "stderr",
          "text": [
            "100%|██████████| 10/10 [00:04<00:00,  2.19it/s]\n"
          ]
        },
        {
          "output_type": "display_data",
          "data": {
            "text/plain": [
              "<Figure size 432x288 with 1 Axes>"
            ],
            "image/png": "[encoded data removed]"
          },
          "metadata": {
            "needs_background": "light"
          }
        }
      ],
      "source": [
        "#check distribution after remove bad img\n",
        "W,H = [],[]\n",
        "base = '/content/train_clean'\n",
        "\n",
        "for i in tqdm(os.listdir(base)):\n",
        "  dir = os.path.join(base, i)\n",
        "  for j in os.listdir(dir):\n",
        "    img_path = os.path.join(dir, j)\n",
        "    img = cv2.imread(img_path)\n",
        "    h,w,c=img.shape\n",
        "    W.append(w)\n",
        "    H.append(h)\n",
        "data=pd.DataFrame({'W': W,'H': H})\n",
        "plt.title('After Remove Bad Image')\n",
        "sns.scatterplot(data=data, x=\"W\", y=\"H\");"
      ]
    },
    {
      "cell_type": "markdown",
      "source": [
        "## Crop image for easy prediction"
      ],
      "metadata": {
        "id": "HigYXyBCNX_M"
      }
    },
    {
      "cell_type": "code",
      "source": [
        "img = cv2.imread('/content/train_clean/1/21610.0.png')"
      ],
      "metadata": {
        "id": "Q8LbHJmiahbI"
      },
      "execution_count": null,
      "outputs": []
    },
    {
      "cell_type": "code",
      "source": [
        "base = '/content/train_clean'\n",
        "lis = os.listdir(base)\n",
        "num = 0\n",
        "num2 = 0\n",
        "for i in tqdm(lis):\n",
        "  count = 0\n",
        "  dir = os.path.join(base, i)\n",
        "  lis = os.listdir(dir)\n",
        "  for j in lis:\n",
        "\n",
        "    img_path = os.path.join(dir, j)\n",
        "    image = Image.open(img_path)\n",
        "    image = ImageOps.contain(image, (224, 224) , Image.Resampling.LANCZOS) #เกลี่ยสี\n",
        "    image = ImageOps.autocontrast(image) #สีเข้มขึ้น\n",
        "    image = ImageOps.grayscale(image) #grayscale\n",
        "    image = ImageOps.autocontrast(image) #สีเข้มขึ้น\n",
        "    image = np.array(image)\n",
        "    image = cv2.resize(image, (224, 224))\n",
        "    \n",
        "    #for black digit\n",
        "    ret, thresh = cv2.threshold(image.copy(), 125, 255, cv2.THRESH_BINARY_INV)\n",
        "    contours, _ = cv2.findContours(thresh.copy(), cv2.RETR_EXTERNAL, cv2.CHAIN_APPROX_SIMPLE)\n",
        "\n",
        "    #for white digit\n",
        "    grey_invert = np.array(ImageOps.invert(Image.fromarray(image.copy()))) #เปลี่ยนขาวเป็นดำ ดำเป็นขาว\n",
        "    ret2, thresh2 = cv2.threshold(grey_invert.copy(), 125, 255, cv2.THRESH_BINARY_INV)\n",
        "    # ret2, thresh2 = cv2.threshold(grey_invert.copy(), 75, 255, cv2.THRESH_BINARY_INV)\n",
        "    contours2, _ = cv2.findContours(thresh2.copy(), cv2.RETR_EXTERNAL, cv2.CHAIN_APPROX_SIMPLE)\n",
        "    if (len(contours) == 1): #รูปใหม่ต้องเล็กกว่ารูปเก่าไม่เกิน 40%\n",
        "      for c in contours:\n",
        "        x,y,w,h = cv2.boundingRect(c)\n",
        "\n",
        "        # Cropping out the digit from the image corresponding to the current contours in the for loop\n",
        "        img = image[y:y+h, x:x+w].copy()\n",
        "\n",
        "      if (img.size > (0.4*image.size)):\n",
        "        img = cv2.resize(img, (224, 224))\n",
        "        cv2.imwrite(img_path, img)\n",
        "        num += 1\n",
        "\n",
        "    elif (len(contours2) == 1): #รูปใหม่ต้องเล็กกว่ารูปเก่าไม่เกิน 40%\n",
        "      for c in contours2:\n",
        "        x,y,w,h = cv2.boundingRect(c)\n",
        "\n",
        "        # Cropping out the digit from the image corresponding to the current contours in the for loop\n",
        "        img = image[y:y+h, x:x+w].copy()\n",
        "\n",
        "      if (img.size > (0.4*image.size)):\n",
        "        img = cv2.resize(img, (224, 224))\n",
        "        cv2.imwrite(img_path, img)\n",
        "        num += 1\n",
        "\n",
        "    else:\n",
        "      cv2.imwrite(img_path, image)\n",
        "      num2 += 1"
      ],
      "metadata": {
        "colab": {
          "base_uri": "https://localhost:8080/"
        },
        "id": "pr95cd1qMz0t",
        "outputId": "e214b49c-c7fa-4437-870d-adb5840df3e2"
      },
      "execution_count": null,
      "outputs": [
        {
          "output_type": "stream",
          "name": "stderr",
          "text": [
            "100%|██████████| 10/10 [04:20<00:00, 26.01s/it]\n"
          ]
        }
      ]
    },
    {
      "cell_type": "code",
      "source": [
        "#num == crop"
      ],
      "metadata": {
        "id": "Tz9YkLh02kPP"
      },
      "execution_count": null,
      "outputs": []
    },
    {
      "cell_type": "code",
      "source": [
        "#new\n",
        "print(f'num {num}, num2 {num2}')"
      ],
      "metadata": {
        "colab": {
          "base_uri": "https://localhost:8080/"
        },
        "id": "s9oDZNTi2hug",
        "outputId": "e86e63ec-067f-44ad-f311-4251514c83cb"
      },
      "execution_count": null,
      "outputs": [
        {
          "output_type": "stream",
          "name": "stdout",
          "text": [
            "num 50249, num2 15703\n"
          ]
        }
      ]
    },
    {
      "cell_type": "code",
      "source": [
        "print(f'num {num}, num2 {num2}')"
      ],
      "metadata": {
        "id": "AMg7XJWlzsP5"
      },
      "execution_count": null,
      "outputs": []
    },
    {
      "cell_type": "code",
      "source": [
        "base = '/content/IM_test_bbox'\n",
        "num = 0\n",
        "num2 = 0\n",
        "lis = os.listdir(base)\n",
        "for i in tqdm(lis):\n",
        "\n",
        "  img_path = os.path.join(base, i)\n",
        "  image = Image.open(img_path)\n",
        "  image = ImageOps.contain(image, (224, 224) , Image.Resampling.LANCZOS) #เกลี่ยสี\n",
        "  image = ImageOps.autocontrast(image) #สีเข้มขึ้น\n",
        "  image = ImageOps.grayscale(image) #grayscale\n",
        "  image = ImageOps.autocontrast(image) #สีเข้มขึ้น\n",
        "  image = np.array(image)\n",
        "  image = cv2.resize(image, (224, 224))\n",
        "\n",
        "  #for black digit\n",
        "  ret, thresh = cv2.threshold(image.copy(), 125, 255, cv2.THRESH_BINARY_INV)\n",
        "  contours, _ = cv2.findContours(thresh.copy(), cv2.RETR_EXTERNAL, cv2.CHAIN_APPROX_SIMPLE)\n",
        "\n",
        "  #for white digit\n",
        "  grey_invert = np.array(ImageOps.invert(Image.fromarray(image.copy()))) #เปลี่ยนขาวเป็นดำ ดำเป็นขาว\n",
        "  ret2, thresh2 = cv2.threshold(grey_invert.copy(), 125, 255, cv2.THRESH_BINARY_INV)\n",
        "  contours2, _ = cv2.findContours(thresh2.copy(), cv2.RETR_EXTERNAL, cv2.CHAIN_APPROX_SIMPLE)\n",
        "  if (len(contours) == 1): #รูปใหม่ต้องเล็กกว่ารูปเก่าไม่เกิน 40%\n",
        "    for c in contours:\n",
        "      x,y,w,h = cv2.boundingRect(c)\n",
        "\n",
        "      # Cropping out the digit from the image corresponding to the current contours in the for loop\n",
        "      img = image[y:y+h, x:x+w].copy()\n",
        "\n",
        "    if (img.size > (0.4*image.size)):\n",
        "      img = cv2.resize(img, (224, 224))\n",
        "      cv2.imwrite(img_path, img)\n",
        "      num += 1\n",
        "\n",
        "  elif (len(contours2) == 1): #รูปใหม่ต้องเล็กกว่ารูปเก่าไม่เกิน 40%\n",
        "    for c in contours2:\n",
        "      x,y,w,h = cv2.boundingRect(c)\n",
        "\n",
        "      # Cropping out the digit from the image corresponding to the current contours in the for loop\n",
        "      img = image[y:y+h, x:x+w].copy()\n",
        "\n",
        "    if (img.size > (0.4*image.size)):\n",
        "      img = cv2.resize(img, (224, 224))\n",
        "      cv2.imwrite(img_path, img)\n",
        "      num += 1\n",
        "\n",
        "  else:\n",
        "    cv2.imwrite(img_path, image)\n",
        "    num2 += 1"
      ],
      "metadata": {
        "colab": {
          "base_uri": "https://localhost:8080/"
        },
        "id": "fmwDmYstVAhI",
        "outputId": "033c8348-eab8-41ba-e296-e5f8a115a2be"
      },
      "execution_count": null,
      "outputs": [
        {
          "output_type": "stream",
          "name": "stderr",
          "text": [
            "100%|██████████| 26032/26032 [01:47<00:00, 241.49it/s]\n"
          ]
        }
      ]
    },
    {
      "cell_type": "code",
      "source": [
        "print(f'num {num}, num2 {num2}')"
      ],
      "metadata": {
        "colab": {
          "base_uri": "https://localhost:8080/"
        },
        "id": "O3Ph9z0F0exY",
        "outputId": "2bbc3ffd-8db1-4c47-f797-68d187c0c31b"
      },
      "execution_count": null,
      "outputs": [
        {
          "output_type": "stream",
          "name": "stdout",
          "text": [
            "num 20825, num2 3979\n"
          ]
        }
      ]
    },
    {
      "cell_type": "markdown",
      "metadata": {
        "id": "4O_M-KFk8DyX"
      },
      "source": [
        "**หลังจาก clean แล้วรูปเหลือเท่าไหร่**"
      ]
    },
    {
      "cell_type": "code",
      "execution_count": null,
      "metadata": {
        "colab": {
          "base_uri": "https://localhost:8080/",
          "height": 469
        },
        "id": "X-sgFnQ3h0uJ",
        "outputId": "da730116-7da6-4a39-859b-15e9cc8fd87b"
      },
      "outputs": [
        {
          "output_type": "display_data",
          "data": {
            "text/plain": [
              "<Figure size 1440x576 with 1 Axes>"
            ],
            "image/png": "[encoded data removed]"
          },
          "metadata": {
            "needs_background": "light"
          }
        }
      ],
      "source": [
        "digit, count = [], []\n",
        "for i in os.listdir('/content/train_clean'):\n",
        "  digit.append(i)\n",
        "  count.append(len(os.listdir('/content/train_clean/'+i)))\n",
        "\n",
        "df = pd.DataFrame({\n",
        "    'digit':digit,\n",
        "    'count':count\n",
        "})\n",
        "df.sort_values(by='digit', inplace=True)\n",
        "plt.figure(figsize=(20, 8));\n",
        "sns.barplot(data=df,x='digit', y='count');"
      ]
    },
    {
      "cell_type": "code",
      "source": [
        "max(df['count'])"
      ],
      "metadata": {
        "colab": {
          "base_uri": "https://localhost:8080/"
        },
        "id": "9QHMxwWHFYkU",
        "outputId": "9d9d373c-f4cd-41a2-bafe-95b33adfa073"
      },
      "execution_count": null,
      "outputs": [
        {
          "output_type": "execute_result",
          "data": {
            "text/plain": [
              "12863"
            ]
          },
          "metadata": {},
          "execution_count": 11
        }
      ]
    },
    {
      "cell_type": "markdown",
      "metadata": {
        "id": "63UgNO3OGYhk"
      },
      "source": [
        "## Augmentation\n",
        "> - Add noise\n",
        "- Rotate"
      ]
    },
    {
      "cell_type": "markdown",
      "metadata": {
        "id": "uBorv2m_H7DW"
      },
      "source": [
        "**Split folder for Train 80 Val 20**"
      ]
    },
    {
      "cell_type": "code",
      "source": [
        "splitfolders.ratio(\"/content/train_clean/\", output=\"train_val\",seed =1337, ratio=(.80, .20), group_prefix=None, move=False)"
      ],
      "metadata": {
        "colab": {
          "base_uri": "https://localhost:8080/"
        },
        "id": "vJ1_XXZXzcho",
        "outputId": "b76fea3d-c846-442f-ec3d-bed0bb4537de"
      },
      "execution_count": null,
      "outputs": [
        {
          "output_type": "stream",
          "name": "stderr",
          "text": [
            "Copying files: 67387 files [00:18, 3559.95 files/s]\n"
          ]
        }
      ]
    },
    {
      "cell_type": "code",
      "source": [
        "!rm -rf /content/train_val_aug\n",
        "!cp -r /content/train_val /content/train_val_aug"
      ],
      "metadata": {
        "id": "tx7ixzG9zf_r"
      },
      "execution_count": null,
      "outputs": []
    },
    {
      "cell_type": "markdown",
      "source": [
        "**Augment only Train**"
      ],
      "metadata": {
        "id": "fHJNffak5_XD"
      }
    },
    {
      "cell_type": "code",
      "source": [
        "df_test = pd.read_csv('df_test.csv')"
      ],
      "metadata": {
        "id": "YlB5V1K3hCvd"
      },
      "execution_count": null,
      "outputs": []
    },
    {
      "cell_type": "code",
      "source": [
        "transform = A.Compose([\n",
        "    # A.ShiftScaleRotate(she, rotate_limit=20),\n",
        "    A.ShiftScaleRotate(rotate_limit=20),\n",
        "    # A.RandomCrop(width=212, height=212),\n",
        "])\n",
        "\n",
        "base = '/content/train_val_aug/train'\n",
        "max_len = 13000\n",
        "for i in tqdm(os.listdir(base)):\n",
        "  dir = os.path.join(base, i)\n",
        "  lis = os.listdir(dir)\n",
        "  for j in lis:\n",
        "\n",
        "    #rotate\n",
        "    if len(os.listdir(dir)) < max_len:\n",
        "      img_path = os.path.join(dir, j)\n",
        "      img = cv2.imread(img_path)\n",
        "      img = cv2.cvtColor(img, cv2.COLOR_BGR2RGB)\n",
        "\n",
        "      for i in range(5):\n",
        "        path_new = img_path[:-4] + f'_rotate_{i}.png'\n",
        "        transformed = transform(image=img)['image']\n",
        "        while ((img == transformed).all()):\n",
        "          transformed = transform(image=img)['image']\n",
        "        transformed = cv2.cvtColor(transformed, cv2.COLOR_RGB2BGR)\n",
        "        cv2.imwrite(path_new, transformed)\n",
        "    else:\n",
        "      break"
      ],
      "metadata": {
        "colab": {
          "base_uri": "https://localhost:8080/"
        },
        "id": "NjNSWuRg9-rS",
        "outputId": "ef6e98d4-c05f-4a07-99fa-e737b56beff4"
      },
      "execution_count": null,
      "outputs": [
        {
          "output_type": "stream",
          "name": "stderr",
          "text": [
            "100%|██████████| 10/10 [06:19<00:00, 37.98s/it]\n"
          ]
        }
      ]
    },
    {
      "cell_type": "code",
      "execution_count": null,
      "metadata": {
        "id": "ZHNRweiMIqeA",
        "colab": {
          "base_uri": "https://localhost:8080/",
          "height": 484
        },
        "outputId": "1373f8b2-67b9-4589-b444-7db3612086be"
      },
      "outputs": [
        {
          "output_type": "display_data",
          "data": {
            "text/plain": [
              "<Figure size 1440x576 with 1 Axes>"
            ],
            "image/png": "[encoded data removed]"
          },
          "metadata": {
            "needs_background": "light"
          }
        }
      ],
      "source": [
        "digit, count = [], []\n",
        "for i in os.listdir('/content/train_val_aug/train'):\n",
        "  digit.append(i)\n",
        "  count.append(len(os.listdir('/content/train_val_aug/train/'+i)))\n",
        "  \n",
        "\n",
        "df = pd.DataFrame({\n",
        "    'digit':digit,\n",
        "    'count':count\n",
        "})\n",
        "df.sort_values(by='digit', inplace=True)\n",
        "plt.figure(figsize=(20, 8));\n",
        "plt.title('Now we have 160K train image')\n",
        "sns.barplot(data=df,x='digit', y='count');"
      ]
    },
    {
      "cell_type": "markdown",
      "source": [
        "## Change Trian, Validation and Test To GraySacle\n",
        "> In Train dataset Choose Change Black to White and White to Black for more Image"
      ],
      "metadata": {
        "id": "gNZ7f05vwVDy"
      }
    },
    {
      "cell_type": "markdown",
      "source": [
        "**Train & Validation to GrayScale**"
      ],
      "metadata": {
        "id": "aXno1yq39vxK"
      }
    },
    {
      "cell_type": "code",
      "source": [
        "base = '/content/train_val_aug'\n",
        "for i in os.listdir(base):\n",
        "  dir = os.path.join(base, i)\n",
        "  for j in tqdm(os.listdir(dir)):\n",
        "    dir2 = os.path.join(dir, j)\n",
        "    lis = os.listdir(dir2)\n",
        "    for k in lis: #เข้าถึงรูป 1 รูป ในกลุ่มของเลขนั้นๆ\n",
        "      img_path = os.path.join(dir2, k)\n",
        "      if '_inverted' in img_path:\n",
        "        print(img_path)\n",
        "        os.remove(img_path)"
      ],
      "metadata": {
        "colab": {
          "base_uri": "https://localhost:8080/"
        },
        "id": "nShk03e86uqG",
        "outputId": "e345c172-28e6-4400-eed0-fe678ce166d3"
      },
      "execution_count": null,
      "outputs": [
        {
          "output_type": "stream",
          "name": "stderr",
          "text": [
            "100%|██████████| 10/10 [00:00<00:00, 206.09it/s]\n",
            "100%|██████████| 10/10 [00:00<00:00, 14.57it/s]"
          ]
        },
        {
          "output_type": "stream",
          "name": "stdout",
          "text": [
            "/content/train_val_aug/train/9/23145.0_rotate_1_inverted.png\n"
          ]
        },
        {
          "output_type": "stream",
          "name": "stderr",
          "text": [
            "\n"
          ]
        }
      ]
    },
    {
      "cell_type": "code",
      "source": [
        "os.remove('/content/train_val_aug/val/1/16492.0.png')"
      ],
      "metadata": {
        "id": "O1MoekmV8I79"
      },
      "execution_count": null,
      "outputs": []
    },
    {
      "cell_type": "code",
      "source": [
        "base = '/content/train_val_aug/train'\n",
        "for i in tqdm(os.listdir(base)):\n",
        "  dir = os.path.join(base, i)\n",
        "  lis = os.listdir(dir)\n",
        "  for j in lis:\n",
        "    img_path = os.path.join(dir, j)\n",
        "    img = Image.open(img_path)\n",
        "    inverted = ImageOps.invert(img)\n",
        "    inverted.save(img_path[:-4]+'_inverted.png')"
      ],
      "metadata": {
        "colab": {
          "base_uri": "https://localhost:8080/"
        },
        "id": "sJEnKl-J8bi-",
        "outputId": "849cae1e-faf7-43fb-f0af-0f3a8952d94d"
      },
      "execution_count": null,
      "outputs": [
        {
          "output_type": "stream",
          "name": "stderr",
          "text": [
            "100%|██████████| 10/10 [25:33<00:00, 153.36s/it]\n"
          ]
        }
      ]
    },
    {
      "cell_type": "code",
      "source": [
        "digit, count = [], []\n",
        "for i in os.listdir('/content/train_val_aug/train'):\n",
        "  digit.append(i)\n",
        "  count.append(len(os.listdir('/content/train_val_aug/train/'+i)))\n",
        "  \n",
        "\n",
        "df = pd.DataFrame({\n",
        "    'digit':digit,\n",
        "    'count':count\n",
        "})\n",
        "df.sort_values(by='digit', inplace=True)\n",
        "plt.figure(figsize=(20, 8));\n",
        "plt.title('160k For Train Image')\n",
        "sns.barplot(data=df,x='digit', y='count');"
      ],
      "metadata": {
        "id": "EI0lB1ja-Hhk",
        "colab": {
          "base_uri": "https://localhost:8080/",
          "height": 484
        },
        "outputId": "e33095dc-3a08-4b70-dba6-f2a3961d5c99"
      },
      "execution_count": null,
      "outputs": [
        {
          "output_type": "display_data",
          "data": {
            "text/plain": [
              "<Figure size 1440x576 with 1 Axes>"
            ],
            "image/png": "[encoded data removed]"
          },
          "metadata": {
            "needs_background": "light"
          }
        }
      ]
    },
    {
      "cell_type": "markdown",
      "source": [
        "**Test to Gray Scale**"
      ],
      "metadata": {
        "id": "zyTj0uQC9y2x"
      }
    },
    {
      "cell_type": "code",
      "source": [
        "# base = '/content/IM_test_bbox'\n",
        "# lis = os.listdir(base)\n",
        "# for i in tqdm(lis):\n",
        "#   img_path = os.path.join(base, i)\n",
        "#   img = Image.open(img_path)\n",
        "\n",
        "#   img = ImageOps.contain(img, (224, 224) , Image.Resampling.LANCZOS) #เกลี่ยสี\n",
        "#   img = ImageOps.autocontrast(img) #สีเข้มขึ้น\n",
        "#   img = ImageOps.grayscale(img) #grayscale\n",
        "#   img = ImageOps.autocontrast(img) #สีเข้มขึ้น\n",
        "#   # img = ImageOps.pad(img, ((224, 224)) , centering=(0, 0))\n",
        "#   img.save(img_path)"
      ],
      "metadata": {
        "id": "GCSuTFA_-LDr"
      },
      "execution_count": null,
      "outputs": []
    },
    {
      "cell_type": "code",
      "source": [
        "base = '/content/train_val_aug/train/5'\n",
        "c = 0\n",
        "for i in os.listdir(base):\n",
        "  img_path = os.path.join(base, i)\n",
        "  img = cv2.imread(img_path)\n",
        "  cv2_imshow(img)\n",
        "  c += 1\n",
        "  if c == 10:\n",
        "    break"
      ],
      "metadata": {
        "id": "U27ZddaBJLf2"
      },
      "execution_count": null,
      "outputs": []
    },
    {
      "cell_type": "markdown",
      "source": [
        "## Save All File to Colab"
      ],
      "metadata": {
        "id": "d78gRNOmxGv1"
      }
    },
    {
      "cell_type": "code",
      "source": [
        "!cp -r /content/train_val_aug commy_test"
      ],
      "metadata": {
        "id": "kf1nfCIHfYVN"
      },
      "execution_count": null,
      "outputs": []
    },
    {
      "cell_type": "code",
      "source": [
        "#df_test\n",
        "df_test.to_csv('/content/drive/MyDrive/Colab Notebooks/SuperAi/Pracetice/Image Processing Hack1/df_test.csv', index=False)\n",
        "\n",
        "#Image_test\n",
        "!zip -r -q '/content/drive/MyDrive/Colab Notebooks/SuperAi/Pracetice/Image Processing Hack1/IM_test_bbox.zip' /content/IM_test_bbox\n",
        "\n",
        "#Image_Train_Validation\n",
        "!zip -r -q '/content/drive/MyDrive/Colab Notebooks/SuperAi/Pracetice/Image Processing Hack1/train_val_aug.zip' /content/train_val_aug"
      ],
      "metadata": {
        "id": "CPdTuTyKdjgQ"
      },
      "execution_count": null,
      "outputs": []
    },
    {
      "cell_type": "markdown",
      "metadata": {
        "id": "19ELsAsYLmBu"
      },
      "source": [
        "## **Trainmodel**\n",
        "- VGG-16\n",
        "- ResNet50\n",
        "- Inceptionv3\n",
        "- EfficientNet"
      ]
    },
    {
      "cell_type": "markdown",
      "source": [
        "### **Load All File**"
      ],
      "metadata": {
        "id": "XVDWmg4p6vfe"
      }
    },
    {
      "cell_type": "code",
      "source": [
        "#df_test\n",
        "!gdown 1aEyrD65pZw0YQzVTyrVUqzexMhaerh7_\n",
        "\n",
        "#Image Test\n",
        "!gdown 1-0CCA7pyxUKkiGcN7cewwubSkUDGtl7k\n",
        "\n",
        "#Image Train & Validation\n",
        "!gdown 1-1QK5ADhQCZxmD-8-22CZHo7QQ7VD_fk"
      ],
      "metadata": {
        "id": "GSZOQlfDg_ov",
        "colab": {
          "base_uri": "https://localhost:8080/"
        },
        "outputId": "79e4912b-54de-4b85-d1b1-b38c7b6e8dc5"
      },
      "execution_count": null,
      "outputs": [
        {
          "output_type": "stream",
          "name": "stdout",
          "text": [
            "Downloading...\n",
            "From: https://drive.google.com/uc?id=1aEyrD65pZw0YQzVTyrVUqzexMhaerh7_\n",
            "To: /content/df_test.csv\n",
            "100% 1.40M/1.40M [00:00<00:00, 151MB/s]\n",
            "Downloading...\n",
            "From: https://drive.google.com/uc?id=1-0CCA7pyxUKkiGcN7cewwubSkUDGtl7k\n",
            "To: /content/IM_test_bbox.zip\n",
            "100% 405M/405M [00:06<00:00, 61.1MB/s]\n",
            "Downloading...\n",
            "From: https://drive.google.com/uc?id=1-1QK5ADhQCZxmD-8-22CZHo7QQ7VD_fk\n",
            "To: /content/train_val_aug.zip\n",
            "100% 5.50G/5.50G [01:10<00:00, 78.1MB/s]\n"
          ]
        }
      ]
    },
    {
      "cell_type": "code",
      "source": [
        "!unzip -q /content/train_val_aug.zip\n",
        "!unzip -q /content/IM_test_bbox.zip"
      ],
      "metadata": {
        "id": "-uNTOul8jXj3"
      },
      "execution_count": null,
      "outputs": []
    },
    {
      "cell_type": "code",
      "source": [
        "#move file\n",
        "    \n",
        "source_dir = '/content/content'\n",
        "target_dir = '/content/'\n",
        "    \n",
        "file_names = os.listdir(source_dir)\n",
        "    \n",
        "for file_name in file_names:\n",
        "    shutil.move(os.path.join(source_dir, file_name), target_dir)\n",
        "\n",
        "!rm -rf /content/content\n",
        "\n",
        "df_test = pd.read_csv('df_test.csv')\n",
        "df_test.head()"
      ],
      "metadata": {
        "id": "RUWX70Zej_PG",
        "colab": {
          "base_uri": "https://localhost:8080/",
          "height": 206
        },
        "outputId": "bf69ca91-7046-4442-e84a-f9bbb74b8d38"
      },
      "execution_count": null,
      "outputs": [
        {
          "output_type": "execute_result",
          "data": {
            "text/plain": [
              "  imageid_boxid  class                      file_name   x1   x2  y1  y2\n",
              "0           1_0    NaN  /content/IM_test_bbox/1_0.png   43   62   7  37\n",
              "1           2_0    NaN  /content/IM_test_bbox/2_0.png   99  113   5  28\n",
              "2           2_1    NaN  /content/IM_test_bbox/2_1.png  114  122   8  31\n",
              "3           2_2    NaN  /content/IM_test_bbox/2_2.png  121  133   6  29\n",
              "4           3_0    NaN  /content/IM_test_bbox/3_0.png   61   72   6  22"
            ],
            "text/html": [
              "\n",
              "  <div id=\"df-486fccbe-ad26-44c1-97ec-d7119b9d29d2\">\n",
              "    <div class=\"colab-df-container\">\n",
              "      <div>\n",
              "<style scoped>\n",
              "    .dataframe tbody tr th:only-of-type {\n",
              "        vertical-align: middle;\n",
              "    }\n",
              "\n",
              "    .dataframe tbody tr th {\n",
              "        vertical-align: top;\n",
              "    }\n",
              "\n",
              "    .dataframe thead th {\n",
              "        text-align: right;\n",
              "    }\n",
              "</style>\n",
              "<table border=\"1\" class=\"dataframe\">\n",
              "  <thead>\n",
              "    <tr style=\"text-align: right;\">\n",
              "      <th></th>\n",
              "      <th>imageid_boxid</th>\n",
              "      <th>class</th>\n",
              "      <th>file_name</th>\n",
              "      <th>x1</th>\n",
              "      <th>x2</th>\n",
              "      <th>y1</th>\n",
              "      <th>y2</th>\n",
              "    </tr>\n",
              "  </thead>\n",
              "  <tbody>\n",
              "    <tr>\n",
              "      <th>0</th>\n",
              "      <td>1_0</td>\n",
              "      <td>NaN</td>\n",
              "      <td>/content/IM_test_bbox/1_0.png</td>\n",
              "      <td>43</td>\n",
              "      <td>62</td>\n",
              "      <td>7</td>\n",
              "      <td>37</td>\n",
              "    </tr>\n",
              "    <tr>\n",
              "      <th>1</th>\n",
              "      <td>2_0</td>\n",
              "      <td>NaN</td>\n",
              "      <td>/content/IM_test_bbox/2_0.png</td>\n",
              "      <td>99</td>\n",
              "      <td>113</td>\n",
              "      <td>5</td>\n",
              "      <td>28</td>\n",
              "    </tr>\n",
              "    <tr>\n",
              "      <th>2</th>\n",
              "      <td>2_1</td>\n",
              "      <td>NaN</td>\n",
              "      <td>/content/IM_test_bbox/2_1.png</td>\n",
              "      <td>114</td>\n",
              "      <td>122</td>\n",
              "      <td>8</td>\n",
              "      <td>31</td>\n",
              "    </tr>\n",
              "    <tr>\n",
              "      <th>3</th>\n",
              "      <td>2_2</td>\n",
              "      <td>NaN</td>\n",
              "      <td>/content/IM_test_bbox/2_2.png</td>\n",
              "      <td>121</td>\n",
              "      <td>133</td>\n",
              "      <td>6</td>\n",
              "      <td>29</td>\n",
              "    </tr>\n",
              "    <tr>\n",
              "      <th>4</th>\n",
              "      <td>3_0</td>\n",
              "      <td>NaN</td>\n",
              "      <td>/content/IM_test_bbox/3_0.png</td>\n",
              "      <td>61</td>\n",
              "      <td>72</td>\n",
              "      <td>6</td>\n",
              "      <td>22</td>\n",
              "    </tr>\n",
              "  </tbody>\n",
              "</table>\n",
              "</div>\n",
              "      <button class=\"colab-df-convert\" onclick=\"convertToInteractive('df-486fccbe-ad26-44c1-97ec-d7119b9d29d2')\"\n",
              "              title=\"Convert this dataframe to an interactive table.\"\n",
              "              style=\"display:none;\">\n",
              "        \n",
              "  <svg xmlns=\"http://www.w3.org/2000/svg\" height=\"24px\"viewBox=\"0 0 24 24\"\n",
              "       width=\"24px\">\n",
              "    <path d=\"M0 0h24v24H0V0z\" fill=\"none\"/>\n",
              "    <path d=\"M18.56 5.44l.94 2.06.94-2.06 2.06-.94-2.06-.94-.94-2.06-.94 2.06-2.06.94zm-11 1L8.5 8.5l.94-2.06 2.06-.94-2.06-.94L8.5 2.5l-.94 2.06-2.06.94zm10 10l.94 2.06.94-2.06 2.06-.94-2.06-.94-.94-2.06-.94 2.06-2.06.94z\"/><path d=\"M17.41 7.96l-1.37-1.37c-.4-.4-.92-.59-1.43-.59-.52 0-1.04.2-1.43.59L10.3 9.45l-7.72 7.72c-.78.78-.78 2.05 0 2.83L4 21.41c.39.39.9.59 1.41.59.51 0 1.02-.2 1.41-.59l7.78-7.78 2.81-2.81c.8-.78.8-2.07 0-2.86zM5.41 20L4 18.59l7.72-7.72 1.47 1.35L5.41 20z\"/>\n",
              "  </svg>\n",
              "      </button>\n",
              "      \n",
              "  <style>\n",
              "    .colab-df-container {\n",
              "      display:flex;\n",
              "      flex-wrap:wrap;\n",
              "      gap: 12px;\n",
              "    }\n",
              "\n",
              "    .colab-df-convert {\n",
              "      background-color: #E8F0FE;\n",
              "      border: none;\n",
              "      border-radius: 50%;\n",
              "      cursor: pointer;\n",
              "      display: none;\n",
              "      fill: #1967D2;\n",
              "      height: 32px;\n",
              "      padding: 0 0 0 0;\n",
              "      width: 32px;\n",
              "    }\n",
              "\n",
              "    .colab-df-convert:hover {\n",
              "      background-color: #E2EBFA;\n",
              "      box-shadow: 0px 1px 2px rgba(60, 64, 67, 0.3), 0px 1px 3px 1px rgba(60, 64, 67, 0.15);\n",
              "      fill: #174EA6;\n",
              "    }\n",
              "\n",
              "    [theme=dark] .colab-df-convert {\n",
              "      background-color: #3B4455;\n",
              "      fill: #D2E3FC;\n",
              "    }\n",
              "\n",
              "    [theme=dark] .colab-df-convert:hover {\n",
              "      background-color: #434B5C;\n",
              "      box-shadow: 0px 1px 3px 1px rgba(0, 0, 0, 0.15);\n",
              "      filter: drop-shadow(0px 1px 2px rgba(0, 0, 0, 0.3));\n",
              "      fill: #FFFFFF;\n",
              "    }\n",
              "  </style>\n",
              "\n",
              "      <script>\n",
              "        const buttonEl =\n",
              "          document.querySelector('#df-486fccbe-ad26-44c1-97ec-d7119b9d29d2 button.colab-df-convert');\n",
              "        buttonEl.style.display =\n",
              "          google.colab.kernel.accessAllowed ? 'block' : 'none';\n",
              "\n",
              "        async function convertToInteractive(key) {\n",
              "          const element = document.querySelector('#df-486fccbe-ad26-44c1-97ec-d7119b9d29d2');\n",
              "          const dataTable =\n",
              "            await google.colab.kernel.invokeFunction('convertToInteractive',\n",
              "                                                     [key], {});\n",
              "          if (!dataTable) return;\n",
              "\n",
              "          const docLinkHtml = 'Like what you see? Visit the ' +\n",
              "            '<a target=\"_blank\" href=https://colab.research.google.com/notebooks/data_table.ipynb>data table notebook</a>'\n",
              "            + ' to learn more about interactive tables.';\n",
              "          element.innerHTML = '';\n",
              "          dataTable['output_type'] = 'display_data';\n",
              "          await google.colab.output.renderOutput(dataTable, element);\n",
              "          const docLink = document.createElement('div');\n",
              "          docLink.innerHTML = docLinkHtml;\n",
              "          element.appendChild(docLink);\n",
              "        }\n",
              "      </script>\n",
              "    </div>\n",
              "  </div>\n",
              "  "
            ]
          },
          "metadata": {},
          "execution_count": 6
        }
      ]
    },
    {
      "cell_type": "code",
      "source": [
        "df_test = pd.read_csv('df_test.csv')\n",
        "df_test.head()"
      ],
      "metadata": {
        "colab": {
          "base_uri": "https://localhost:8080/",
          "height": 206
        },
        "id": "saiYiId9niuG",
        "outputId": "948b490b-5cd9-480f-e250-9d7120856758"
      },
      "execution_count": null,
      "outputs": [
        {
          "output_type": "execute_result",
          "data": {
            "text/plain": [
              "  imageid_boxid  class                      file_name   x1   x2  y1  y2\n",
              "0           1_0    NaN  /content/IM_test_bbox/1_0.png   43   62   7  37\n",
              "1           2_0    NaN  /content/IM_test_bbox/2_0.png   99  113   5  28\n",
              "2           2_1    NaN  /content/IM_test_bbox/2_1.png  114  122   8  31\n",
              "3           2_2    NaN  /content/IM_test_bbox/2_2.png  121  133   6  29\n",
              "4           3_0    NaN  /content/IM_test_bbox/3_0.png   61   72   6  22"
            ],
            "text/html": [
              "\n",
              "  <div id=\"df-dd16b255-f475-41b1-9afb-496e2a5d1fad\">\n",
              "    <div class=\"colab-df-container\">\n",
              "      <div>\n",
              "<style scoped>\n",
              "    .dataframe tbody tr th:only-of-type {\n",
              "        vertical-align: middle;\n",
              "    }\n",
              "\n",
              "    .dataframe tbody tr th {\n",
              "        vertical-align: top;\n",
              "    }\n",
              "\n",
              "    .dataframe thead th {\n",
              "        text-align: right;\n",
              "    }\n",
              "</style>\n",
              "<table border=\"1\" class=\"dataframe\">\n",
              "  <thead>\n",
              "    <tr style=\"text-align: right;\">\n",
              "      <th></th>\n",
              "      <th>imageid_boxid</th>\n",
              "      <th>class</th>\n",
              "      <th>file_name</th>\n",
              "      <th>x1</th>\n",
              "      <th>x2</th>\n",
              "      <th>y1</th>\n",
              "      <th>y2</th>\n",
              "    </tr>\n",
              "  </thead>\n",
              "  <tbody>\n",
              "    <tr>\n",
              "      <th>0</th>\n",
              "      <td>1_0</td>\n",
              "      <td>NaN</td>\n",
              "      <td>/content/IM_test_bbox/1_0.png</td>\n",
              "      <td>43</td>\n",
              "      <td>62</td>\n",
              "      <td>7</td>\n",
              "      <td>37</td>\n",
              "    </tr>\n",
              "    <tr>\n",
              "      <th>1</th>\n",
              "      <td>2_0</td>\n",
              "      <td>NaN</td>\n",
              "      <td>/content/IM_test_bbox/2_0.png</td>\n",
              "      <td>99</td>\n",
              "      <td>113</td>\n",
              "      <td>5</td>\n",
              "      <td>28</td>\n",
              "    </tr>\n",
              "    <tr>\n",
              "      <th>2</th>\n",
              "      <td>2_1</td>\n",
              "      <td>NaN</td>\n",
              "      <td>/content/IM_test_bbox/2_1.png</td>\n",
              "      <td>114</td>\n",
              "      <td>122</td>\n",
              "      <td>8</td>\n",
              "      <td>31</td>\n",
              "    </tr>\n",
              "    <tr>\n",
              "      <th>3</th>\n",
              "      <td>2_2</td>\n",
              "      <td>NaN</td>\n",
              "      <td>/content/IM_test_bbox/2_2.png</td>\n",
              "      <td>121</td>\n",
              "      <td>133</td>\n",
              "      <td>6</td>\n",
              "      <td>29</td>\n",
              "    </tr>\n",
              "    <tr>\n",
              "      <th>4</th>\n",
              "      <td>3_0</td>\n",
              "      <td>NaN</td>\n",
              "      <td>/content/IM_test_bbox/3_0.png</td>\n",
              "      <td>61</td>\n",
              "      <td>72</td>\n",
              "      <td>6</td>\n",
              "      <td>22</td>\n",
              "    </tr>\n",
              "  </tbody>\n",
              "</table>\n",
              "</div>\n",
              "      <button class=\"colab-df-convert\" onclick=\"convertToInteractive('df-dd16b255-f475-41b1-9afb-496e2a5d1fad')\"\n",
              "              title=\"Convert this dataframe to an interactive table.\"\n",
              "              style=\"display:none;\">\n",
              "        \n",
              "  <svg xmlns=\"http://www.w3.org/2000/svg\" height=\"24px\"viewBox=\"0 0 24 24\"\n",
              "       width=\"24px\">\n",
              "    <path d=\"M0 0h24v24H0V0z\" fill=\"none\"/>\n",
              "    <path d=\"M18.56 5.44l.94 2.06.94-2.06 2.06-.94-2.06-.94-.94-2.06-.94 2.06-2.06.94zm-11 1L8.5 8.5l.94-2.06 2.06-.94-2.06-.94L8.5 2.5l-.94 2.06-2.06.94zm10 10l.94 2.06.94-2.06 2.06-.94-2.06-.94-.94-2.06-.94 2.06-2.06.94z\"/><path d=\"M17.41 7.96l-1.37-1.37c-.4-.4-.92-.59-1.43-.59-.52 0-1.04.2-1.43.59L10.3 9.45l-7.72 7.72c-.78.78-.78 2.05 0 2.83L4 21.41c.39.39.9.59 1.41.59.51 0 1.02-.2 1.41-.59l7.78-7.78 2.81-2.81c.8-.78.8-2.07 0-2.86zM5.41 20L4 18.59l7.72-7.72 1.47 1.35L5.41 20z\"/>\n",
              "  </svg>\n",
              "      </button>\n",
              "      \n",
              "  <style>\n",
              "    .colab-df-container {\n",
              "      display:flex;\n",
              "      flex-wrap:wrap;\n",
              "      gap: 12px;\n",
              "    }\n",
              "\n",
              "    .colab-df-convert {\n",
              "      background-color: #E8F0FE;\n",
              "      border: none;\n",
              "      border-radius: 50%;\n",
              "      cursor: pointer;\n",
              "      display: none;\n",
              "      fill: #1967D2;\n",
              "      height: 32px;\n",
              "      padding: 0 0 0 0;\n",
              "      width: 32px;\n",
              "    }\n",
              "\n",
              "    .colab-df-convert:hover {\n",
              "      background-color: #E2EBFA;\n",
              "      box-shadow: 0px 1px 2px rgba(60, 64, 67, 0.3), 0px 1px 3px 1px rgba(60, 64, 67, 0.15);\n",
              "      fill: #174EA6;\n",
              "    }\n",
              "\n",
              "    [theme=dark] .colab-df-convert {\n",
              "      background-color: #3B4455;\n",
              "      fill: #D2E3FC;\n",
              "    }\n",
              "\n",
              "    [theme=dark] .colab-df-convert:hover {\n",
              "      background-color: #434B5C;\n",
              "      box-shadow: 0px 1px 3px 1px rgba(0, 0, 0, 0.15);\n",
              "      filter: drop-shadow(0px 1px 2px rgba(0, 0, 0, 0.3));\n",
              "      fill: #FFFFFF;\n",
              "    }\n",
              "  </style>\n",
              "\n",
              "      <script>\n",
              "        const buttonEl =\n",
              "          document.querySelector('#df-dd16b255-f475-41b1-9afb-496e2a5d1fad button.colab-df-convert');\n",
              "        buttonEl.style.display =\n",
              "          google.colab.kernel.accessAllowed ? 'block' : 'none';\n",
              "\n",
              "        async function convertToInteractive(key) {\n",
              "          const element = document.querySelector('#df-dd16b255-f475-41b1-9afb-496e2a5d1fad');\n",
              "          const dataTable =\n",
              "            await google.colab.kernel.invokeFunction('convertToInteractive',\n",
              "                                                     [key], {});\n",
              "          if (!dataTable) return;\n",
              "\n",
              "          const docLinkHtml = 'Like what you see? Visit the ' +\n",
              "            '<a target=\"_blank\" href=https://colab.research.google.com/notebooks/data_table.ipynb>data table notebook</a>'\n",
              "            + ' to learn more about interactive tables.';\n",
              "          element.innerHTML = '';\n",
              "          dataTable['output_type'] = 'display_data';\n",
              "          await google.colab.output.renderOutput(dataTable, element);\n",
              "          const docLink = document.createElement('div');\n",
              "          docLink.innerHTML = docLinkHtml;\n",
              "          element.appendChild(docLink);\n",
              "        }\n",
              "      </script>\n",
              "    </div>\n",
              "  </div>\n",
              "  "
            ]
          },
          "metadata": {},
          "execution_count": 3
        }
      ]
    },
    {
      "cell_type": "markdown",
      "metadata": {
        "id": "IsFv0atDfwZG"
      },
      "source": [
        "### VGG16 94.53%"
      ]
    },
    {
      "cell_type": "code",
      "execution_count": null,
      "metadata": {
        "id": "EwWeGSvHgvfa"
      },
      "outputs": [],
      "source": [
        "base_dir = 'train_val_aug'\n",
        "train_dir = os.path.join(base_dir, 'train') #resulf = directory\n",
        "validation_dir = os.path.join(base_dir, 'val')"
      ]
    },
    {
      "cell_type": "markdown",
      "metadata": {
        "id": "lt6FF5b1pCU-"
      },
      "source": [
        "\n",
        "\n",
        "```\n",
        "test ถูกจัดการ ด้วย flow_from_dataframe ใน step 2 ข้างล่าง\n",
        "```\n",
        "\n"
      ]
    },
    {
      "cell_type": "markdown",
      "metadata": {
        "id": "u_gg8SEEgZlW"
      },
      "source": [
        "**Step 1: Image Augmentation (แอบทำมาก่อนแล้ว อันนี้เลยแค่ rescale)**\n",
        ">Since we took up a much smaller dataset of images earlier, we can make up for it by augmenting this data and increasing our dataset size. If you are working with the original larger dataset, you can skip this step and move straight on to building the model."
      ]
    },
    {
      "cell_type": "code",
      "execution_count": null,
      "metadata": {
        "id": "BUupyTnDgPot"
      },
      "outputs": [],
      "source": [
        "# Add our data-augmentation parameters to ImageDataGenerator\n",
        "train_datagen = ImageDataGenerator(rescale = 1.0/255.)\n",
        "# train_datagen = ImageDataGenerator(rescale = 1./255.,rotation_range = 40, width_shift_range = 0.2, height_shift_range = 0.2, shear_range = 0.2, zoom_range = 0.2, horizontal_flip = True)\n",
        "\n",
        "# Note that the validation data should not be augmented!\n",
        "test_datagen = ImageDataGenerator(rescale = 1.0/255.)"
      ]
    },
    {
      "cell_type": "markdown",
      "metadata": {
        "id": "PJ7x5XY-gd7D"
      },
      "source": [
        "**Step 2: Training and Validation Sets**"
      ]
    },
    {
      "cell_type": "code",
      "execution_count": null,
      "metadata": {
        "id": "Bow_-f0cggNd",
        "colab": {
          "base_uri": "https://localhost:8080/"
        },
        "outputId": "ce3f45e1-da66-4cc7-916e-8b947b3088ec"
      },
      "outputs": [
        {
          "output_type": "stream",
          "name": "stdout",
          "text": [
            "Found 260042 images belonging to 10 classes.\n",
            "Found 13480 images belonging to 10 classes.\n",
            "Found 26032 validated image filenames.\n"
          ]
        }
      ],
      "source": [
        "# Train Flow training images in batches of 20 using train_datagen generator\n",
        "train_generator = train_datagen.flow_from_directory(train_dir, batch_size = 20, class_mode = 'sparse', target_size = (224, 224))\n",
        "\n",
        "# Validation Flow validation images in batches of 20 using test_datagen generator\n",
        "validation_generator = test_datagen.flow_from_directory(validation_dir,  batch_size = 20, class_mode = 'sparse', target_size = (224, 224))\n",
        "\n",
        "# Test use flow from dataframe เพราะ เวลาส่งชื่อต้องเรียงตาม format เขา\n",
        "test_generator = test_datagen.flow_from_dataframe(df_test, x_col='file_name', batch_size = 20, class_mode = None, target_size = (224, 224), shuffle=False)"
      ]
    },
    {
      "cell_type": "markdown",
      "metadata": {
        "id": "scBJeEXPhlRx"
      },
      "source": [
        "**Step 3: Loading the Base Model**\n",
        "> We will be using only the basic models, with changes made only to the final layer. This is because this is just a binary classification problem while these models are built to handle up to 1000 classes."
      ]
    },
    {
      "cell_type": "code",
      "execution_count": null,
      "metadata": {
        "id": "QE018XUbi5mV"
      },
      "outputs": [],
      "source": [
        "base_model = VGG16(input_shape = (224, 224, 3), # Shape of our images\n",
        "include_top = False, # Leave out the last fully connected layer\n",
        "weights = 'imagenet')"
      ]
    },
    {
      "cell_type": "markdown",
      "metadata": {
        "id": "lyGamIHVi7cy"
      },
      "source": [
        "**Since we don’t have to train all the layers, we make them non_trainable:**\n",
        "> กูเข้าใจว่ามันคือ Freezing เข้าถูกแล้ว"
      ]
    },
    {
      "cell_type": "code",
      "execution_count": null,
      "metadata": {
        "id": "UaWTIjXjjFZR"
      },
      "outputs": [],
      "source": [
        "# Freeze the base model\n",
        "base_model.trainable = False"
      ]
    },
    {
      "cell_type": "markdown",
      "metadata": {
        "id": "WeXcPXnnjHdp"
      },
      "source": [
        "**Step 4: Compile and Fit**\n",
        ">We will then build the last fully-connected layer. I have just used the basic settings, but feel free to experiment with different values of dropout, and different Optimisers and activation functions."
      ]
    },
    {
      "cell_type": "code",
      "execution_count": null,
      "metadata": {
        "id": "1bA6QdU1jJ6n"
      },
      "outputs": [],
      "source": [
        "# Flatten the output layer to 1 dimension\n",
        "x = layers.Flatten()(base_model.output)\n",
        "\n",
        "# Add a fully connected layer with 512 hidden units and ReLU activation\n",
        "x = layers.Dense(512, activation='relu')(x)\n",
        "x = layers.Dropout(0.4)(x)\n",
        "\n",
        "# Add a fully connected layer with 512 hidden units and ReLU activation\n",
        "x = layers.Dense(512, activation='relu')(x)\n",
        "x = layers.Dropout(0.4)(x)\n",
        "\n",
        "# Add a final sigmoid layer with ... node for classification output\n",
        "x = layers.Dense(10, activation='sigmoid')(x)\n",
        "\n",
        "model = tf.keras.models.Model(base_model.input, x)\n",
        "\n",
        "#อย่าลืมเปลี่ยน loss ให้เหมาะกับงาน แต่คิดว่าแค่ตัวนี้ก็เพียงพอ\n",
        "model.compile(optimizer = tf.keras.optimizers.RMSprop(lr=0.0001), loss = 'sparse_categorical_crossentropy',metrics = ['acc'])"
      ]
    },
    {
      "cell_type": "markdown",
      "metadata": {
        "id": "azisb-5pjLd1"
      },
      "source": [
        "We will now build the final model based on the training and validation sets we created earlier. Please note to use the original directories itself instead of the augmented datasets I have used below. I have used just 10 epochs, but you can also increase them to get better results:"
      ]
    },
    {
      "cell_type": "markdown",
      "metadata": {
        "id": "4d3Y_aXGjON0"
      },
      "source": [
        "**Note: Use GPU Dont Forget Commy**"
      ]
    },
    {
      "cell_type": "code",
      "execution_count": null,
      "metadata": {
        "id": "5BN35TJrjQjs",
        "colab": {
          "base_uri": "https://localhost:8080/"
        },
        "outputId": "175b60d7-3128-43d2-dde7-2d56b3ac838f"
      },
      "outputs": [
        {
          "output_type": "stream",
          "name": "stderr",
          "text": [
            "WARNING:tensorflow:`period` argument is deprecated. Please use `save_freq` to specify the frequency in number of batches seen.\n"
          ]
        },
        {
          "output_type": "stream",
          "name": "stdout",
          "text": [
            "Epoch 1/1000\n",
            "100/100 [==============================] - ETA: 0s - loss: 2.3725 - acc: 0.1245\n",
            "Epoch 1: val_acc improved from -inf to 0.26840, saving model to vgg16_best\n"
          ]
        },
        {
          "output_type": "stream",
          "name": "stderr",
          "text": [
            "WARNING:absl:Found untraced functions such as _jit_compiled_convolution_op, _jit_compiled_convolution_op, _jit_compiled_convolution_op, _jit_compiled_convolution_op, _jit_compiled_convolution_op while saving (showing 5 of 13). These functions will not be directly callable after loading.\n"
          ]
        },
        {
          "output_type": "stream",
          "name": "stdout",
          "text": [
            "\b\b\b\b\b\b\b\b\b\b\b\b\b\b\b\b\b\b\b\b\b\b\b\b\b\b\b\b\b\b\b\b\b\b\b\b\b\b\b\b\b\b\b\b\b\b\b\b\b\b\b\b\b\b\b\b\b\b\b\b\b\b\b\b\b\b\b\b\b\b\b\b\b\b\b\b\b\b\b\r100/100 [==============================] - 101s 913ms/step - loss: 2.3725 - acc: 0.1245 - val_loss: 2.1800 - val_acc: 0.2684\n",
            "Epoch 2/1000\n",
            "100/100 [==============================] - ETA: 0s - loss: 2.2175 - acc: 0.1725\n",
            "Epoch 2: val_acc did not improve from 0.26840\n",
            "100/100 [==============================] - 90s 902ms/step - loss: 2.2175 - acc: 0.1725 - val_loss: 2.1510 - val_acc: 0.1881\n",
            "Epoch 3/1000\n",
            "100/100 [==============================] - ETA: 0s - loss: 2.1678 - acc: 0.2130\n",
            "Epoch 3: val_acc improved from 0.26840 to 0.40942, saving model to vgg16_best\n"
          ]
        },
        {
          "output_type": "stream",
          "name": "stderr",
          "text": [
            "WARNING:absl:Found untraced functions such as _jit_compiled_convolution_op, _jit_compiled_convolution_op, _jit_compiled_convolution_op, _jit_compiled_convolution_op, _jit_compiled_convolution_op while saving (showing 5 of 13). These functions will not be directly callable after loading.\n"
          ]
        },
        {
          "output_type": "stream",
          "name": "stdout",
          "text": [
            "\b\b\b\b\b\b\b\b\b\b\b\b\b\b\b\b\b\b\b\b\b\b\b\b\b\b\b\b\b\b\b\b\b\b\b\b\b\b\b\b\b\b\b\b\b\b\b\b\b\b\b\b\b\b\b\b\b\b\b\b\b\b\b\b\b\b\b\b\b\b\b\b\b\b\b\b\b\b\b\r100/100 [==============================] - 94s 949ms/step - loss: 2.1678 - acc: 0.2130 - val_loss: 1.9404 - val_acc: 0.4094\n",
            "Epoch 4/1000\n",
            "100/100 [==============================] - ETA: 0s - loss: 2.0460 - acc: 0.2760\n",
            "Epoch 4: val_acc did not improve from 0.40942\n",
            "100/100 [==============================] - 92s 922ms/step - loss: 2.0460 - acc: 0.2760 - val_loss: 1.9143 - val_acc: 0.2868\n",
            "Epoch 5/1000\n",
            "100/100 [==============================] - ETA: 0s - loss: 1.9693 - acc: 0.2990\n",
            "Epoch 5: val_acc improved from 0.40942 to 0.51513, saving model to vgg16_best\n"
          ]
        },
        {
          "output_type": "stream",
          "name": "stderr",
          "text": [
            "WARNING:absl:Found untraced functions such as _jit_compiled_convolution_op, _jit_compiled_convolution_op, _jit_compiled_convolution_op, _jit_compiled_convolution_op, _jit_compiled_convolution_op while saving (showing 5 of 13). These functions will not be directly callable after loading.\n"
          ]
        },
        {
          "output_type": "stream",
          "name": "stdout",
          "text": [
            "\b\b\b\b\b\b\b\b\b\b\b\b\b\b\b\b\b\b\b\b\b\b\b\b\b\b\b\b\b\b\b\b\b\b\b\b\b\b\b\b\b\b\b\b\b\b\b\b\b\b\b\b\b\b\b\b\b\b\b\b\b\b\b\b\b\b\b\b\b\b\b\b\b\b\b\b\b\b\b\r100/100 [==============================] - 94s 947ms/step - loss: 1.9693 - acc: 0.2990 - val_loss: 1.7530 - val_acc: 0.5151\n",
            "Epoch 6/1000\n",
            "100/100 [==============================] - ETA: 0s - loss: 1.9042 - acc: 0.3285\n",
            "Epoch 6: val_acc did not improve from 0.51513\n",
            "100/100 [==============================] - 91s 920ms/step - loss: 1.9042 - acc: 0.3285 - val_loss: 1.6466 - val_acc: 0.4579\n",
            "Epoch 7/1000\n",
            "100/100 [==============================] - ETA: 0s - loss: 1.8373 - acc: 0.3580\n",
            "Epoch 7: val_acc improved from 0.51513 to 0.53739, saving model to vgg16_best\n"
          ]
        },
        {
          "output_type": "stream",
          "name": "stderr",
          "text": [
            "WARNING:absl:Found untraced functions such as _jit_compiled_convolution_op, _jit_compiled_convolution_op, _jit_compiled_convolution_op, _jit_compiled_convolution_op, _jit_compiled_convolution_op while saving (showing 5 of 13). These functions will not be directly callable after loading.\n"
          ]
        },
        {
          "output_type": "stream",
          "name": "stdout",
          "text": [
            "\b\b\b\b\b\b\b\b\b\b\b\b\b\b\b\b\b\b\b\b\b\b\b\b\b\b\b\b\b\b\b\b\b\b\b\b\b\b\b\b\b\b\b\b\b\b\b\b\b\b\b\b\b\b\b\b\b\b\b\b\b\b\b\b\b\b\b\b\b\b\b\b\b\b\b\b\b\b\b\r100/100 [==============================] - 94s 951ms/step - loss: 1.8373 - acc: 0.3580 - val_loss: 1.5405 - val_acc: 0.5374\n",
            "Epoch 8/1000\n",
            "100/100 [==============================] - ETA: 0s - loss: 1.7577 - acc: 0.3745\n",
            "Epoch 8: val_acc improved from 0.53739 to 0.55156, saving model to vgg16_best\n"
          ]
        },
        {
          "output_type": "stream",
          "name": "stderr",
          "text": [
            "WARNING:absl:Found untraced functions such as _jit_compiled_convolution_op, _jit_compiled_convolution_op, _jit_compiled_convolution_op, _jit_compiled_convolution_op, _jit_compiled_convolution_op while saving (showing 5 of 13). These functions will not be directly callable after loading.\n"
          ]
        },
        {
          "output_type": "stream",
          "name": "stdout",
          "text": [
            "\b\b\b\b\b\b\b\b\b\b\b\b\b\b\b\b\b\b\b\b\b\b\b\b\b\b\b\b\b\b\b\b\b\b\b\b\b\b\b\b\b\b\b\b\b\b\b\b\b\b\b\b\b\b\b\b\b\b\b\b\b\b\b\b\b\b\b\b\b\b\b\b\b\b\b\b\b\b\b\r100/100 [==============================] - 94s 948ms/step - loss: 1.7577 - acc: 0.3745 - val_loss: 1.5015 - val_acc: 0.5516\n",
            "Epoch 9/1000\n",
            "100/100 [==============================] - ETA: 0s - loss: 1.6895 - acc: 0.4085\n",
            "Epoch 9: val_acc improved from 0.55156 to 0.56016, saving model to vgg16_best\n"
          ]
        },
        {
          "output_type": "stream",
          "name": "stderr",
          "text": [
            "WARNING:absl:Found untraced functions such as _jit_compiled_convolution_op, _jit_compiled_convolution_op, _jit_compiled_convolution_op, _jit_compiled_convolution_op, _jit_compiled_convolution_op while saving (showing 5 of 13). These functions will not be directly callable after loading.\n"
          ]
        },
        {
          "output_type": "stream",
          "name": "stdout",
          "text": [
            "\b\b\b\b\b\b\b\b\b\b\b\b\b\b\b\b\b\b\b\b\b\b\b\b\b\b\b\b\b\b\b\b\b\b\b\b\b\b\b\b\b\b\b\b\b\b\b\b\b\b\b\b\b\b\b\b\b\b\b\b\b\b\b\b\b\b\b\b\b\b\b\b\b\b\b\b\b\b\b\r100/100 [==============================] - 94s 950ms/step - loss: 1.6895 - acc: 0.4085 - val_loss: 1.4495 - val_acc: 0.5602\n",
            "Epoch 10/1000\n",
            "100/100 [==============================] - ETA: 0s - loss: 1.6334 - acc: 0.4335\n",
            "Epoch 10: val_acc improved from 0.56016 to 0.59251, saving model to vgg16_best\n"
          ]
        },
        {
          "output_type": "stream",
          "name": "stderr",
          "text": [
            "WARNING:absl:Found untraced functions such as _jit_compiled_convolution_op, _jit_compiled_convolution_op, _jit_compiled_convolution_op, _jit_compiled_convolution_op, _jit_compiled_convolution_op while saving (showing 5 of 13). These functions will not be directly callable after loading.\n"
          ]
        },
        {
          "output_type": "stream",
          "name": "stdout",
          "text": [
            "\b\b\b\b\b\b\b\b\b\b\b\b\b\b\b\b\b\b\b\b\b\b\b\b\b\b\b\b\b\b\b\b\b\b\b\b\b\b\b\b\b\b\b\b\b\b\b\b\b\b\b\b\b\b\b\b\b\b\b\b\b\b\b\b\b\b\b\b\b\b\b\b\b\b\b\b\b\b\b\r100/100 [==============================] - 94s 942ms/step - loss: 1.6334 - acc: 0.4335 - val_loss: 1.3366 - val_acc: 0.5925\n",
            "Epoch 11/1000\n",
            "100/100 [==============================] - ETA: 0s - loss: 1.6055 - acc: 0.4530\n",
            "Epoch 11: val_acc improved from 0.59251 to 0.59859, saving model to vgg16_best\n"
          ]
        },
        {
          "output_type": "stream",
          "name": "stderr",
          "text": [
            "WARNING:absl:Found untraced functions such as _jit_compiled_convolution_op, _jit_compiled_convolution_op, _jit_compiled_convolution_op, _jit_compiled_convolution_op, _jit_compiled_convolution_op while saving (showing 5 of 13). These functions will not be directly callable after loading.\n"
          ]
        },
        {
          "output_type": "stream",
          "name": "stdout",
          "text": [
            "\b\b\b\b\b\b\b\b\b\b\b\b\b\b\b\b\b\b\b\b\b\b\b\b\b\b\b\b\b\b\b\b\b\b\b\b\b\b\b\b\b\b\b\b\b\b\b\b\b\b\b\b\b\b\b\b\b\b\b\b\b\b\b\b\b\b\b\b\b\b\b\b\b\b\b\b\b\b\b\r100/100 [==============================] - 92s 931ms/step - loss: 1.6055 - acc: 0.4530 - val_loss: 1.3488 - val_acc: 0.5986\n",
            "Epoch 12/1000\n",
            "100/100 [==============================] - ETA: 0s - loss: 1.5157 - acc: 0.4815\n",
            "Epoch 12: val_acc did not improve from 0.59859\n",
            "100/100 [==============================] - 91s 916ms/step - loss: 1.5157 - acc: 0.4815 - val_loss: 1.3901 - val_acc: 0.5277\n",
            "Epoch 13/1000\n",
            "100/100 [==============================] - ETA: 0s - loss: 1.5442 - acc: 0.4775\n",
            "Epoch 13: val_acc did not improve from 0.59859\n",
            "100/100 [==============================] - 92s 925ms/step - loss: 1.5442 - acc: 0.4775 - val_loss: 1.2665 - val_acc: 0.5954\n",
            "Epoch 13: early stopping\n"
          ]
        }
      ],
      "source": [
        "#เอาไว้เก็บ best_model\n",
        "!rm -rf 'vgg16_best'\n",
        "\n",
        "checkpoint = ModelCheckpoint(\"vgg16_best\", monitor='val_acc', verbose=1, save_best_only=True, save_weights_only=False, mode='max', period=1)\n",
        "early = EarlyStopping(monitor='val_acc', min_delta=0, patience=2, verbose=1, mode='max') #2 ตัวไม่ดีขึ้นก็หยุด\n",
        "vgghist = model.fit(train_generator, validation_data = validation_generator, steps_per_epoch = 100, epochs = 1000, callbacks=[checkpoint,early])"
      ]
    },
    {
      "cell_type": "markdown",
      "metadata": {
        "id": "BrkVbXDZpoE8"
      },
      "source": [
        "**Load Best Model**"
      ]
    },
    {
      "cell_type": "code",
      "execution_count": null,
      "metadata": {
        "id": "kyja1x3Apc9a",
        "colab": {
          "base_uri": "https://localhost:8080/"
        },
        "outputId": "c35f71ea-c84d-4bc1-a809-dab307e21331"
      },
      "outputs": [
        {
          "output_type": "stream",
          "name": "stdout",
          "text": [
            "1302/1302 [==============================] - 153s 118ms/step\n",
            "100% 233k/233k [00:02<00:00, 87.2kB/s]\n",
            "Successfully submitted to Hackathon Online: Image Processing"
          ]
        }
      ],
      "source": [
        "model_best = keras.models.load_model('/content/vgg16_best')\n",
        "\n",
        "pred = model_best.predict(test_generator)\n",
        "pred = np.argmax(pred, axis=1)\n",
        "\n",
        "sub = df_test[['imageid_boxid', 'class']].copy()\n",
        "sub['class'] = pred\n",
        "sub.to_csv('VGG16.csv', index=False)\n",
        "!kaggle competitions submit -c hackathon-online-2022-image-processing -f 'VGG16.csv'  -m 'VGG16.csv'"
      ]
    },
    {
      "cell_type": "markdown",
      "source": [
        "**Before finetune**\n",
        "![image.png](data:image/png;base64,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)"
      ],
      "metadata": {
        "id": "ESNhpM_cWEbR"
      }
    },
    {
      "cell_type": "markdown",
      "metadata": {
        "id": "_pbs9goAY5hJ"
      },
      "source": [
        "**Finetune**"
      ]
    },
    {
      "cell_type": "code",
      "source": [
        "# Unfreeze the base model\n",
        "base_model.trainable = True\n",
        "\n",
        "#Everytime you Unfreeze call compile please\n",
        "model.compile(optimizer = tf.keras.optimizers.RMSprop(lr=0.0001), loss = 'sparse_categorical_crossentropy',metrics = ['acc'])\n",
        "\n",
        "early = EarlyStopping(monitor='val_acc', min_delta=0, patience=5, verbose=1, mode='max') #5 ตัวไม่ดีขึ้นก็หยุด\n",
        "vgghist = model.fit(train_generator, validation_data = validation_generator, steps_per_epoch = 100, epochs = 1000, callbacks=[checkpoint,early])"
      ],
      "metadata": {
        "colab": {
          "base_uri": "https://localhost:8080/"
        },
        "id": "lIB5wENKbeNS",
        "outputId": "886f063c-7708-4cb3-e6e6-96d49f8a4d06"
      },
      "execution_count": null,
      "outputs": [
        {
          "output_type": "stream",
          "name": "stdout",
          "text": [
            "Epoch 1/1000\n"
          ]
        },
        {
          "output_type": "stream",
          "name": "stderr",
          "text": [
            "/usr/local/lib/python3.8/dist-packages/keras/optimizers/optimizer_v2/rmsprop.py:135: UserWarning: The `lr` argument is deprecated, use `learning_rate` instead.\n",
            "  super(RMSprop, self).__init__(name, **kwargs)\n"
          ]
        },
        {
          "output_type": "stream",
          "name": "stdout",
          "text": [
            "100/100 [==============================] - ETA: 0s - loss: 2.3700 - acc: 0.1440\n",
            "Epoch 1: val_acc did not improve from 0.59859\n",
            "100/100 [==============================] - 117s 1s/step - loss: 2.3700 - acc: 0.1440 - val_loss: 2.1572 - val_acc: 0.2729\n",
            "Epoch 2/1000\n",
            "100/100 [==============================] - ETA: 0s - loss: 1.6025 - acc: 0.4510\n",
            "Epoch 2: val_acc improved from 0.59859 to 0.71098, saving model to vgg16_best\n"
          ]
        },
        {
          "output_type": "stream",
          "name": "stderr",
          "text": [
            "WARNING:absl:Found untraced functions such as _jit_compiled_convolution_op, _jit_compiled_convolution_op, _jit_compiled_convolution_op, _jit_compiled_convolution_op, _jit_compiled_convolution_op while saving (showing 5 of 13). These functions will not be directly callable after loading.\n"
          ]
        },
        {
          "output_type": "stream",
          "name": "stdout",
          "text": [
            "\b\b\b\b\b\b\b\b\b\b\b\b\b\b\b\b\b\b\b\b\b\b\b\b\b\b\b\b\b\b\b\b\b\b\b\b\b\b\b\b\b\b\b\b\b\b\b\b\b\b\b\b\b\b\b\b\b\b\b\b\b\b\b\b\b\b\b\b\b\b\b\b\b\b\b\b\b\b\b\r100/100 [==============================] - 114s 1s/step - loss: 1.6025 - acc: 0.4510 - val_loss: 0.9148 - val_acc: 0.7110\n",
            "Epoch 3/1000\n",
            "100/100 [==============================] - ETA: 0s - loss: 1.0992 - acc: 0.6425\n",
            "Epoch 3: val_acc improved from 0.71098 to 0.74525, saving model to vgg16_best\n"
          ]
        },
        {
          "output_type": "stream",
          "name": "stderr",
          "text": [
            "WARNING:absl:Found untraced functions such as _jit_compiled_convolution_op, _jit_compiled_convolution_op, _jit_compiled_convolution_op, _jit_compiled_convolution_op, _jit_compiled_convolution_op while saving (showing 5 of 13). These functions will not be directly callable after loading.\n"
          ]
        },
        {
          "output_type": "stream",
          "name": "stdout",
          "text": [
            "\b\b\b\b\b\b\b\b\b\b\b\b\b\b\b\b\b\b\b\b\b\b\b\b\b\b\b\b\b\b\b\b\b\b\b\b\b\b\b\b\b\b\b\b\b\b\b\b\b\b\b\b\b\b\b\b\b\b\b\b\b\b\b\b\b\b\b\b\b\b\b\b\b\b\b\b\b\b\b\r100/100 [==============================] - 114s 1s/step - loss: 1.0992 - acc: 0.6425 - val_loss: 0.8308 - val_acc: 0.7453\n",
            "Epoch 4/1000\n",
            "100/100 [==============================] - ETA: 0s - loss: 0.9429 - acc: 0.6915\n",
            "Epoch 4: val_acc improved from 0.74525 to 0.78724, saving model to vgg16_best\n"
          ]
        },
        {
          "output_type": "stream",
          "name": "stderr",
          "text": [
            "WARNING:absl:Found untraced functions such as _jit_compiled_convolution_op, _jit_compiled_convolution_op, _jit_compiled_convolution_op, _jit_compiled_convolution_op, _jit_compiled_convolution_op while saving (showing 5 of 13). These functions will not be directly callable after loading.\n"
          ]
        },
        {
          "output_type": "stream",
          "name": "stdout",
          "text": [
            "\b\b\b\b\b\b\b\b\b\b\b\b\b\b\b\b\b\b\b\b\b\b\b\b\b\b\b\b\b\b\b\b\b\b\b\b\b\b\b\b\b\b\b\b\b\b\b\b\b\b\b\b\b\b\b\b\b\b\b\b\b\b\b\b\b\b\b\b\b\b\b\b\b\b\b\b\b\b\b\r100/100 [==============================] - 114s 1s/step - loss: 0.9429 - acc: 0.6915 - val_loss: 0.6880 - val_acc: 0.7872\n",
            "Epoch 5/1000\n",
            "100/100 [==============================] - ETA: 0s - loss: 0.8762 - acc: 0.7245\n",
            "Epoch 5: val_acc improved from 0.78724 to 0.82582, saving model to vgg16_best\n"
          ]
        },
        {
          "output_type": "stream",
          "name": "stderr",
          "text": [
            "WARNING:absl:Found untraced functions such as _jit_compiled_convolution_op, _jit_compiled_convolution_op, _jit_compiled_convolution_op, _jit_compiled_convolution_op, _jit_compiled_convolution_op while saving (showing 5 of 13). These functions will not be directly callable after loading.\n"
          ]
        },
        {
          "output_type": "stream",
          "name": "stdout",
          "text": [
            "\b\b\b\b\b\b\b\b\b\b\b\b\b\b\b\b\b\b\b\b\b\b\b\b\b\b\b\b\b\b\b\b\b\b\b\b\b\b\b\b\b\b\b\b\b\b\b\b\b\b\b\b\b\b\b\b\b\b\b\b\b\b\b\b\b\b\b\b\b\b\b\b\b\b\b\b\b\b\b\r100/100 [==============================] - 114s 1s/step - loss: 0.8762 - acc: 0.7245 - val_loss: 0.5738 - val_acc: 0.8258\n",
            "Epoch 6/1000\n",
            "100/100 [==============================] - ETA: 0s - loss: 0.8270 - acc: 0.7390\n",
            "Epoch 6: val_acc improved from 0.82582 to 0.83116, saving model to vgg16_best\n"
          ]
        },
        {
          "output_type": "stream",
          "name": "stderr",
          "text": [
            "WARNING:absl:Found untraced functions such as _jit_compiled_convolution_op, _jit_compiled_convolution_op, _jit_compiled_convolution_op, _jit_compiled_convolution_op, _jit_compiled_convolution_op while saving (showing 5 of 13). These functions will not be directly callable after loading.\n"
          ]
        },
        {
          "output_type": "stream",
          "name": "stdout",
          "text": [
            "\b\b\b\b\b\b\b\b\b\b\b\b\b\b\b\b\b\b\b\b\b\b\b\b\b\b\b\b\b\b\b\b\b\b\b\b\b\b\b\b\b\b\b\b\b\b\b\b\b\b\b\b\b\b\b\b\b\b\b\b\b\b\b\b\b\b\b\b\b\b\b\b\b\b\b\b\b\b\b\r100/100 [==============================] - 114s 1s/step - loss: 0.8270 - acc: 0.7390 - val_loss: 0.5511 - val_acc: 0.8312\n",
            "Epoch 7/1000\n",
            "100/100 [==============================] - ETA: 0s - loss: 0.7617 - acc: 0.7640\n",
            "Epoch 7: val_acc did not improve from 0.83116\n",
            "100/100 [==============================] - 112s 1s/step - loss: 0.7617 - acc: 0.7640 - val_loss: 0.6058 - val_acc: 0.8172\n",
            "Epoch 8/1000\n",
            "100/100 [==============================] - ETA: 0s - loss: 0.7090 - acc: 0.7805\n",
            "Epoch 8: val_acc improved from 0.83116 to 0.84792, saving model to vgg16_best\n"
          ]
        },
        {
          "output_type": "stream",
          "name": "stderr",
          "text": [
            "WARNING:absl:Found untraced functions such as _jit_compiled_convolution_op, _jit_compiled_convolution_op, _jit_compiled_convolution_op, _jit_compiled_convolution_op, _jit_compiled_convolution_op while saving (showing 5 of 13). These functions will not be directly callable after loading.\n"
          ]
        },
        {
          "output_type": "stream",
          "name": "stdout",
          "text": [
            "\b\b\b\b\b\b\b\b\b\b\b\b\b\b\b\b\b\b\b\b\b\b\b\b\b\b\b\b\b\b\b\b\b\b\b\b\b\b\b\b\b\b\b\b\b\b\b\b\b\b\b\b\b\b\b\b\b\b\b\b\b\b\b\b\b\b\b\b\b\b\b\b\b\b\b\b\b\b\b\r100/100 [==============================] - 114s 1s/step - loss: 0.7090 - acc: 0.7805 - val_loss: 0.5217 - val_acc: 0.8479\n",
            "Epoch 9/1000\n",
            "100/100 [==============================] - ETA: 0s - loss: 0.6647 - acc: 0.8025\n",
            "Epoch 9: val_acc improved from 0.84792 to 0.85972, saving model to vgg16_best\n"
          ]
        },
        {
          "output_type": "stream",
          "name": "stderr",
          "text": [
            "WARNING:absl:Found untraced functions such as _jit_compiled_convolution_op, _jit_compiled_convolution_op, _jit_compiled_convolution_op, _jit_compiled_convolution_op, _jit_compiled_convolution_op while saving (showing 5 of 13). These functions will not be directly callable after loading.\n"
          ]
        },
        {
          "output_type": "stream",
          "name": "stdout",
          "text": [
            "\b\b\b\b\b\b\b\b\b\b\b\b\b\b\b\b\b\b\b\b\b\b\b\b\b\b\b\b\b\b\b\b\b\b\b\b\b\b\b\b\b\b\b\b\b\b\b\b\b\b\b\b\b\b\b\b\b\b\b\b\b\b\b\b\b\b\b\b\b\b\b\b\b\b\b\b\b\b\b\r100/100 [==============================] - 114s 1s/step - loss: 0.6647 - acc: 0.8025 - val_loss: 0.4617 - val_acc: 0.8597\n",
            "Epoch 10/1000\n",
            "100/100 [==============================] - ETA: 0s - loss: 0.6256 - acc: 0.7995\n",
            "Epoch 10: val_acc did not improve from 0.85972\n",
            "100/100 [==============================] - 111s 1s/step - loss: 0.6256 - acc: 0.7995 - val_loss: 0.5150 - val_acc: 0.8464\n",
            "Epoch 11/1000\n",
            "100/100 [==============================] - ETA: 0s - loss: 0.5710 - acc: 0.8235\n",
            "Epoch 11: val_acc did not improve from 0.85972\n",
            "100/100 [==============================] - 111s 1s/step - loss: 0.5710 - acc: 0.8235 - val_loss: 0.6122 - val_acc: 0.8231\n",
            "Epoch 12/1000\n",
            "100/100 [==============================] - ETA: 0s - loss: 0.6178 - acc: 0.8090\n",
            "Epoch 12: val_acc did not improve from 0.85972\n",
            "100/100 [==============================] - 111s 1s/step - loss: 0.6178 - acc: 0.8090 - val_loss: 0.4787 - val_acc: 0.8551\n",
            "Epoch 13/1000\n",
            "100/100 [==============================] - ETA: 0s - loss: 0.5980 - acc: 0.8115\n",
            "Epoch 13: val_acc improved from 0.85972 to 0.87596, saving model to vgg16_best\n"
          ]
        },
        {
          "output_type": "stream",
          "name": "stderr",
          "text": [
            "WARNING:absl:Found untraced functions such as _jit_compiled_convolution_op, _jit_compiled_convolution_op, _jit_compiled_convolution_op, _jit_compiled_convolution_op, _jit_compiled_convolution_op while saving (showing 5 of 13). These functions will not be directly callable after loading.\n"
          ]
        },
        {
          "output_type": "stream",
          "name": "stdout",
          "text": [
            "\b\b\b\b\b\b\b\b\b\b\b\b\b\b\b\b\b\b\b\b\b\b\b\b\b\b\b\b\b\b\b\b\b\b\b\b\b\b\b\b\b\b\b\b\b\b\b\b\b\b\b\b\b\b\b\b\b\b\b\b\b\b\b\b\b\b\b\b\b\b\b\b\b\b\b\b\b\b\b\r100/100 [==============================] - 114s 1s/step - loss: 0.5980 - acc: 0.8115 - val_loss: 0.4208 - val_acc: 0.8760\n",
            "Epoch 14/1000\n",
            "100/100 [==============================] - ETA: 0s - loss: 0.6211 - acc: 0.8250\n",
            "Epoch 14: val_acc did not improve from 0.87596\n",
            "100/100 [==============================] - 111s 1s/step - loss: 0.6211 - acc: 0.8250 - val_loss: 0.4737 - val_acc: 0.8570\n",
            "Epoch 15/1000\n",
            "100/100 [==============================] - ETA: 0s - loss: 0.5907 - acc: 0.8260\n",
            "Epoch 15: val_acc did not improve from 0.87596\n",
            "100/100 [==============================] - 111s 1s/step - loss: 0.5907 - acc: 0.8260 - val_loss: 0.4535 - val_acc: 0.8629\n",
            "Epoch 16/1000\n",
            "100/100 [==============================] - ETA: 0s - loss: 0.5383 - acc: 0.8400\n",
            "Epoch 16: val_acc did not improve from 0.87596\n",
            "100/100 [==============================] - 111s 1s/step - loss: 0.5383 - acc: 0.8400 - val_loss: 0.4623 - val_acc: 0.8747\n",
            "Epoch 17/1000\n",
            "100/100 [==============================] - ETA: 0s - loss: 0.5906 - acc: 0.8235\n",
            "Epoch 17: val_acc improved from 0.87596 to 0.88420, saving model to vgg16_best\n"
          ]
        },
        {
          "output_type": "stream",
          "name": "stderr",
          "text": [
            "WARNING:absl:Found untraced functions such as _jit_compiled_convolution_op, _jit_compiled_convolution_op, _jit_compiled_convolution_op, _jit_compiled_convolution_op, _jit_compiled_convolution_op while saving (showing 5 of 13). These functions will not be directly callable after loading.\n"
          ]
        },
        {
          "output_type": "stream",
          "name": "stdout",
          "text": [
            "\b\b\b\b\b\b\b\b\b\b\b\b\b\b\b\b\b\b\b\b\b\b\b\b\b\b\b\b\b\b\b\b\b\b\b\b\b\b\b\b\b\b\b\b\b\b\b\b\b\b\b\b\b\b\b\b\b\b\b\b\b\b\b\b\b\b\b\b\b\b\b\b\b\b\b\b\b\b\b\r100/100 [==============================] - 114s 1s/step - loss: 0.5906 - acc: 0.8235 - val_loss: 0.4156 - val_acc: 0.8842\n",
            "Epoch 18/1000\n",
            "100/100 [==============================] - ETA: 0s - loss: 0.5761 - acc: 0.8280\n",
            "Epoch 18: val_acc did not improve from 0.88420\n",
            "100/100 [==============================] - 111s 1s/step - loss: 0.5761 - acc: 0.8280 - val_loss: 0.4245 - val_acc: 0.8727\n",
            "Epoch 19/1000\n",
            "100/100 [==============================] - ETA: 0s - loss: 0.5590 - acc: 0.8245\n",
            "Epoch 19: val_acc did not improve from 0.88420\n",
            "100/100 [==============================] - 111s 1s/step - loss: 0.5590 - acc: 0.8245 - val_loss: 0.4236 - val_acc: 0.8722\n",
            "Epoch 20/1000\n",
            "100/100 [==============================] - ETA: 0s - loss: 0.5187 - acc: 0.8390\n",
            "Epoch 20: val_acc did not improve from 0.88420\n",
            "100/100 [==============================] - 111s 1s/step - loss: 0.5187 - acc: 0.8390 - val_loss: 0.4551 - val_acc: 0.8653\n",
            "Epoch 21/1000\n",
            "100/100 [==============================] - ETA: 0s - loss: 0.5519 - acc: 0.8385\n",
            "Epoch 21: val_acc did not improve from 0.88420\n",
            "100/100 [==============================] - 111s 1s/step - loss: 0.5519 - acc: 0.8385 - val_loss: 0.4121 - val_acc: 0.8793\n",
            "Epoch 22/1000\n",
            "100/100 [==============================] - ETA: 0s - loss: 0.5312 - acc: 0.8385\n",
            "Epoch 22: val_acc did not improve from 0.88420\n",
            "100/100 [==============================] - 111s 1s/step - loss: 0.5312 - acc: 0.8385 - val_loss: 0.4153 - val_acc: 0.8834\n",
            "Epoch 22: early stopping\n"
          ]
        }
      ]
    },
    {
      "cell_type": "code",
      "execution_count": null,
      "metadata": {
        "id": "Z3Lhz31AZYBP",
        "colab": {
          "base_uri": "https://localhost:8080/"
        },
        "outputId": "6fa1205f-ec83-4859-9f2e-2bfc01d06865"
      },
      "outputs": [
        {
          "output_type": "stream",
          "name": "stdout",
          "text": [
            "1302/1302 [==============================] - 151s 116ms/step\n",
            "100% 233k/233k [00:02<00:00, 109kB/s]\n",
            "Successfully submitted to Hackathon Online: Image Processing"
          ]
        }
      ],
      "source": [
        "model_best = keras.models.load_model('/content/vgg16_best')\n",
        "pred = model_best.predict(test_generator)\n",
        "pred = np.argmax(pred, axis=1)\n",
        "sub = df_test[['imageid_boxid', 'class']].copy()\n",
        "sub['class'] = pred\n",
        "sub.to_csv('VGG16.csv', index=False)\n",
        "!kaggle competitions submit -c hackathon-online-2022-image-processing -f 'VGG16.csv'  -m 'VGG16_finetune.csv'"
      ]
    },
    {
      "cell_type": "markdown",
      "source": [
        "**Save Model to Colab**"
      ],
      "metadata": {
        "id": "ymHB894ALAv8"
      }
    },
    {
      "cell_type": "code",
      "source": [
        "!zip -r -q '/content/drive/MyDrive/Colab Notebooks/SuperAi/Pracetice/Image Processing Hack1/Best_Model/vgg16_best_crop_224.zip' /content/vgg16_best"
      ],
      "metadata": {
        "id": "MbXzeNvWLD2k"
      },
      "execution_count": null,
      "outputs": []
    },
    {
      "cell_type": "markdown",
      "source": [
        "![image.png](data:image/png;base64,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)"
      ],
      "metadata": {
        "id": "kFZGi40Sc4M0"
      }
    },
    {
      "cell_type": "markdown",
      "source": [
        "### VGG19"
      ],
      "metadata": {
        "id": "fjoLKpNwZ4TS"
      }
    },
    {
      "cell_type": "code",
      "source": [
        "base_dir = 'train_val_aug'\n",
        "train_dir = os.path.join(base_dir, 'train') #resulf = directory\n",
        "validation_dir = os.path.join(base_dir, 'val')\n",
        "\n",
        "# Add our data-augmentation parameters to ImageDataGenerator\n",
        "train_datagen = ImageDataGenerator(rescale = 1.0/255.)\n",
        "# train_datagen = ImageDataGenerator(rescale = 1./255.,rotation_range = 40, width_shift_range = 0.2, height_shift_range = 0.2, shear_range = 0.2, zoom_range = 0.2, horizontal_flip = True)\n",
        "\n",
        "# Note that the validation data should not be augmented!\n",
        "test_datagen = ImageDataGenerator(rescale = 1.0/255.)\n",
        "\n",
        "# Train Flow training images in batches of 20 using train_datagen generator\n",
        "train_generator = train_datagen.flow_from_directory(train_dir, batch_size = 20, class_mode = 'sparse', target_size = (224, 224))\n",
        "\n",
        "# Validation Flow validation images in batches of 20 using test_datagen generator\n",
        "validation_generator = test_datagen.flow_from_directory(validation_dir,  batch_size = 20, class_mode = 'sparse', target_size = (224, 224))\n",
        "\n",
        "# Test use flow from dataframe เพราะ เวลาส่งชื่อต้องเรียงตาม format เขา\n",
        "test_generator = test_datagen.flow_from_dataframe(df_test, x_col='file_name', batch_size = 20, class_mode = None, target_size = (224, 224), shuffle=False)"
      ],
      "metadata": {
        "id": "vTTReCxoZ7_6"
      },
      "execution_count": null,
      "outputs": []
    },
    {
      "cell_type": "code",
      "source": [
        "base_model = VGG19(input_shape = (224, 224, 3), include_top = False, weights = 'imagenet')\n",
        "\n",
        "base_model.trainable = False\n",
        "\n",
        "x = layers.Flatten()(base_model.output)\n",
        "x = layers.Dense(1024, activation='relu')(x)\n",
        "x = layers.Dropout(0.2)(x)\n",
        "\n",
        "x = layers.Dense(512, activation='relu')(x)\n",
        "\n",
        "x = layers.Dense(256, activation='relu')(x)\n",
        "x = layers.Dropout(0.2)(x)\n",
        "\n",
        "x = layers.Dense(128, activation='relu')(x)\n",
        "\n",
        "# Add a final sigmoid layer with 1 node for classification output\n",
        "x = layers.Dense(10, activation='sigmoid')(x)\n",
        "\n",
        "model = tf.keras.models.Model(base_model.input, x)\n",
        "\n",
        "model.compile(optimizer = keras.optimizers.Adam(learning_rate=0.0001), loss = 'sparse_categorical_crossentropy', metrics = ['acc'])"
      ],
      "metadata": {
        "id": "5TjNx2iGaZBC"
      },
      "execution_count": null,
      "outputs": []
    },
    {
      "cell_type": "markdown",
      "source": [
        "### **InceptionV3 93.15%**"
      ],
      "metadata": {
        "id": "35yTYISzCr-5"
      }
    },
    {
      "cell_type": "markdown",
      "source": [
        "**Data**"
      ],
      "metadata": {
        "id": "AIxTr4pXKq1W"
      }
    },
    {
      "cell_type": "code",
      "source": [
        "base_dir = 'train_val_aug'\n",
        "train_dir = os.path.join(base_dir, 'train') #resulf = directory\n",
        "validation_dir = os.path.join(base_dir, 'val')\n",
        "\n",
        "# Add our data-augmentation parameters to ImageDataGenerator\n",
        "train_datagen = ImageDataGenerator(rescale = 1.0/255.)\n",
        "# train_datagen = ImageDataGenerator(rescale = 1./255.,rotation_range = 40, width_shift_range = 0.2, height_shift_range = 0.2, shear_range = 0.2, zoom_range = 0.2, horizontal_flip = True)\n",
        "\n",
        "# Note that the validation data should not be augmented!\n",
        "test_datagen = ImageDataGenerator(rescale = 1.0/255.)\n",
        "\n",
        "# Train Flow training images in batches of 100 using train_datagen generator\n",
        "train_generator = train_datagen.flow_from_directory(train_dir, batch_size = 100, class_mode = 'sparse', target_size = (75, 75))\n",
        "\n",
        "# Validation Flow validation images in batches of 100 using test_datagen generator\n",
        "validation_generator = test_datagen.flow_from_directory(validation_dir,  batch_size = 100, class_mode = 'sparse', target_size = (75, 75))\n",
        "\n",
        "# Test use flow from dataframe เพราะ เวลาส่งชื่อต้องเรียงตาม format เขา\n",
        "test_generator = test_datagen.flow_from_dataframe(df_test, x_col='file_name', batch_size = 100, class_mode = None, target_size = (75, 75), shuffle=False)"
      ],
      "metadata": {
        "colab": {
          "base_uri": "https://localhost:8080/"
        },
        "id": "eGQ32GHFEaAI",
        "outputId": "e004445d-6b20-49e0-ed87-fe52cd73102b"
      },
      "execution_count": null,
      "outputs": [
        {
          "output_type": "stream",
          "name": "stdout",
          "text": [
            "Found 320008 images belonging to 10 classes.\n",
            "Found 13395 images belonging to 10 classes.\n",
            "Found 26032 validated image filenames.\n"
          ]
        }
      ]
    },
    {
      "cell_type": "markdown",
      "source": [
        "**Model**"
      ],
      "metadata": {
        "id": "pcPOLbabKpH1"
      }
    },
    {
      "cell_type": "code",
      "source": [
        "base_model = InceptionV3(input_shape = (75, 75, 3), include_top = False, weights = 'imagenet')\n",
        "\n",
        "for layer in tqdm(base_model.layers):\n",
        "    layer.trainable = False\n",
        "\n",
        "x = layers.Flatten()(base_model.output)\n",
        "x = layers.Dense(1024, activation='relu')(x)\n",
        "x = layers.Dropout(0.2)(x)\n",
        "\n",
        "x = layers.Dense(512, activation='relu')(x)\n",
        "\n",
        "x = layers.Dense(256, activation='relu')(x)\n",
        "x = layers.Dropout(0.2)(x)\n",
        "\n",
        "x = layers.Dense(128, activation='relu')(x)\n",
        "\n",
        "# Add a final sigmoid layer with 1 node for classification output\n",
        "x = layers.Dense(10, activation='sigmoid')(x)\n",
        "\n",
        "model = tf.keras.models.Model(base_model.input, x)\n",
        "\n",
        "model.compile(optimizer = keras.optimizers.Adam(learning_rate=0.0001), loss = 'sparse_categorical_crossentropy', metrics = ['acc'])"
      ],
      "metadata": {
        "id": "ZPoOzP-uD4CJ",
        "colab": {
          "base_uri": "https://localhost:8080/"
        },
        "outputId": "555ef4fe-f5c9-4a1d-89e4-a4eb83f27fcd"
      },
      "execution_count": null,
      "outputs": [
        {
          "output_type": "stream",
          "name": "stderr",
          "text": [
            "100%|██████████| 311/311 [00:00<00:00, 33800.49it/s]\n"
          ]
        }
      ]
    },
    {
      "cell_type": "code",
      "source": [
        "!rm -rf IncepV3_Best"
      ],
      "metadata": {
        "id": "53qziyxTOaq8"
      },
      "execution_count": null,
      "outputs": []
    },
    {
      "cell_type": "code",
      "source": [
        "checkpoint = ModelCheckpoint(\"IncepV3_Best\", monitor='val_acc', verbose=1, save_best_only=True, save_weights_only=False, mode='max', period=1)\n",
        "early = EarlyStopping(monitor='val_acc', min_delta=0, patience=5, verbose=1, mode='max') #5 ตัวไม่ดีขึ้นก็หยุด\n",
        "Incephist = model.fit(train_generator, validation_data = validation_generator, steps_per_epoch = 100, epochs = 1000, callbacks=[checkpoint,early])"
      ],
      "metadata": {
        "colab": {
          "base_uri": "https://localhost:8080/"
        },
        "id": "1sznqy29F1md",
        "outputId": "be5dca28-1589-499a-829b-dfe5540e0bfb"
      },
      "execution_count": null,
      "outputs": [
        {
          "output_type": "stream",
          "name": "stderr",
          "text": [
            "WARNING:tensorflow:`period` argument is deprecated. Please use `save_freq` to specify the frequency in number of batches seen.\n"
          ]
        },
        {
          "output_type": "stream",
          "name": "stdout",
          "text": [
            "Epoch 1/1000\n",
            "100/100 [==============================] - ETA: 0s - loss: 1.9574 - acc: 0.2948\n",
            "Epoch 1: val_acc improved from -inf to 0.47204, saving model to IncepV3_Best\n"
          ]
        },
        {
          "output_type": "stream",
          "name": "stderr",
          "text": [
            "WARNING:absl:Found untraced functions such as _jit_compiled_convolution_op, _jit_compiled_convolution_op, _jit_compiled_convolution_op, _jit_compiled_convolution_op, _jit_compiled_convolution_op while saving (showing 5 of 94). These functions will not be directly callable after loading.\n"
          ]
        },
        {
          "output_type": "stream",
          "name": "stdout",
          "text": [
            "\b\b\b\b\b\b\b\b\b\b\b\b\b\b\b\b\b\b\b\b\b\b\b\b\b\b\b\b\b\b\b\b\b\b\b\b\b\b\b\b\b\b\b\b\b\b\b\b\b\b\b\b\b\b\b\b\b\b\b\b\b\b\b\b\b\b\b\b\b\b\b\b\b\b\b\b\b\b\b\r100/100 [==============================] - 60s 552ms/step - loss: 1.9574 - acc: 0.2948 - val_loss: 1.5090 - val_acc: 0.4720\n",
            "Epoch 2/1000\n",
            "100/100 [==============================] - ETA: 0s - loss: 1.4995 - acc: 0.4745\n",
            "Epoch 2: val_acc improved from 0.47204 to 0.54797, saving model to IncepV3_Best\n"
          ]
        },
        {
          "output_type": "stream",
          "name": "stderr",
          "text": [
            "WARNING:absl:Found untraced functions such as _jit_compiled_convolution_op, _jit_compiled_convolution_op, _jit_compiled_convolution_op, _jit_compiled_convolution_op, _jit_compiled_convolution_op while saving (showing 5 of 94). These functions will not be directly callable after loading.\n"
          ]
        },
        {
          "output_type": "stream",
          "name": "stdout",
          "text": [
            "\b\b\b\b\b\b\b\b\b\b\b\b\b\b\b\b\b\b\b\b\b\b\b\b\b\b\b\b\b\b\b\b\b\b\b\b\b\b\b\b\b\b\b\b\b\b\b\b\b\b\b\b\b\b\b\b\b\b\b\b\b\b\b\b\b\b\b\b\b\b\b\b\b\b\b\b\b\b\b\r100/100 [==============================] - 44s 439ms/step - loss: 1.4995 - acc: 0.4745 - val_loss: 1.2970 - val_acc: 0.5480\n",
            "Epoch 3/1000\n",
            "100/100 [==============================] - ETA: 0s - loss: 1.3250 - acc: 0.5388\n",
            "Epoch 3: val_acc improved from 0.54797 to 0.58216, saving model to IncepV3_Best\n"
          ]
        },
        {
          "output_type": "stream",
          "name": "stderr",
          "text": [
            "WARNING:absl:Found untraced functions such as _jit_compiled_convolution_op, _jit_compiled_convolution_op, _jit_compiled_convolution_op, _jit_compiled_convolution_op, _jit_compiled_convolution_op while saving (showing 5 of 94). These functions will not be directly callable after loading.\n"
          ]
        },
        {
          "output_type": "stream",
          "name": "stdout",
          "text": [
            "\b\b\b\b\b\b\b\b\b\b\b\b\b\b\b\b\b\b\b\b\b\b\b\b\b\b\b\b\b\b\b\b\b\b\b\b\b\b\b\b\b\b\b\b\b\b\b\b\b\b\b\b\b\b\b\b\b\b\b\b\b\b\b\b\b\b\b\b\b\b\b\b\b\b\b\b\b\b\b\r100/100 [==============================] - 45s 451ms/step - loss: 1.3250 - acc: 0.5388 - val_loss: 1.2096 - val_acc: 0.5822\n",
            "Epoch 4/1000\n",
            "100/100 [==============================] - ETA: 0s - loss: 1.2514 - acc: 0.5619\n",
            "Epoch 4: val_acc improved from 0.58216 to 0.61575, saving model to IncepV3_Best\n"
          ]
        },
        {
          "output_type": "stream",
          "name": "stderr",
          "text": [
            "WARNING:absl:Found untraced functions such as _jit_compiled_convolution_op, _jit_compiled_convolution_op, _jit_compiled_convolution_op, _jit_compiled_convolution_op, _jit_compiled_convolution_op while saving (showing 5 of 94). These functions will not be directly callable after loading.\n"
          ]
        },
        {
          "output_type": "stream",
          "name": "stdout",
          "text": [
            "\b\b\b\b\b\b\b\b\b\b\b\b\b\b\b\b\b\b\b\b\b\b\b\b\b\b\b\b\b\b\b\b\b\b\b\b\b\b\b\b\b\b\b\b\b\b\b\b\b\b\b\b\b\b\b\b\b\b\b\b\b\b\b\b\b\b\b\b\b\b\b\b\b\b\b\b\b\b\b\r100/100 [==============================] - 44s 444ms/step - loss: 1.2514 - acc: 0.5619 - val_loss: 1.1245 - val_acc: 0.6158\n",
            "Epoch 5/1000\n",
            "100/100 [==============================] - ETA: 0s - loss: 1.2146 - acc: 0.5805\n",
            "Epoch 5: val_acc improved from 0.61575 to 0.62740, saving model to IncepV3_Best\n"
          ]
        },
        {
          "output_type": "stream",
          "name": "stderr",
          "text": [
            "WARNING:absl:Found untraced functions such as _jit_compiled_convolution_op, _jit_compiled_convolution_op, _jit_compiled_convolution_op, _jit_compiled_convolution_op, _jit_compiled_convolution_op while saving (showing 5 of 94). These functions will not be directly callable after loading.\n"
          ]
        },
        {
          "output_type": "stream",
          "name": "stdout",
          "text": [
            "\b\b\b\b\b\b\b\b\b\b\b\b\b\b\b\b\b\b\b\b\b\b\b\b\b\b\b\b\b\b\b\b\b\b\b\b\b\b\b\b\b\b\b\b\b\b\b\b\b\b\b\b\b\b\b\b\b\b\b\b\b\b\b\b\b\b\b\b\b\b\b\b\b\b\b\b\b\b\b\r100/100 [==============================] - 44s 441ms/step - loss: 1.2146 - acc: 0.5805 - val_loss: 1.0902 - val_acc: 0.6274\n",
            "Epoch 6/1000\n",
            "100/100 [==============================] - ETA: 0s - loss: 1.1834 - acc: 0.5835\n",
            "Epoch 6: val_acc did not improve from 0.62740\n",
            "100/100 [==============================] - 13s 127ms/step - loss: 1.1834 - acc: 0.5835 - val_loss: 1.1004 - val_acc: 0.6208\n",
            "Epoch 7/1000\n",
            "100/100 [==============================] - ETA: 0s - loss: 1.1461 - acc: 0.5962\n",
            "Epoch 7: val_acc improved from 0.62740 to 0.63397, saving model to IncepV3_Best\n"
          ]
        },
        {
          "output_type": "stream",
          "name": "stderr",
          "text": [
            "WARNING:absl:Found untraced functions such as _jit_compiled_convolution_op, _jit_compiled_convolution_op, _jit_compiled_convolution_op, _jit_compiled_convolution_op, _jit_compiled_convolution_op while saving (showing 5 of 94). These functions will not be directly callable after loading.\n"
          ]
        },
        {
          "output_type": "stream",
          "name": "stdout",
          "text": [
            "\b\b\b\b\b\b\b\b\b\b\b\b\b\b\b\b\b\b\b\b\b\b\b\b\b\b\b\b\b\b\b\b\b\b\b\b\b\b\b\b\b\b\b\b\b\b\b\b\b\b\b\b\b\b\b\b\b\b\b\b\b\b\b\b\b\b\b\b\b\b\b\b\b\b\b\b\b\b\b\r100/100 [==============================] - 43s 438ms/step - loss: 1.1461 - acc: 0.5962 - val_loss: 1.0611 - val_acc: 0.6340\n",
            "Epoch 8/1000\n",
            "100/100 [==============================] - ETA: 0s - loss: 1.1302 - acc: 0.6072\n",
            "Epoch 8: val_acc improved from 0.63397 to 0.64420, saving model to IncepV3_Best\n"
          ]
        },
        {
          "output_type": "stream",
          "name": "stderr",
          "text": [
            "WARNING:absl:Found untraced functions such as _jit_compiled_convolution_op, _jit_compiled_convolution_op, _jit_compiled_convolution_op, _jit_compiled_convolution_op, _jit_compiled_convolution_op while saving (showing 5 of 94). These functions will not be directly callable after loading.\n"
          ]
        },
        {
          "output_type": "stream",
          "name": "stdout",
          "text": [
            "\b\b\b\b\b\b\b\b\b\b\b\b\b\b\b\b\b\b\b\b\b\b\b\b\b\b\b\b\b\b\b\b\b\b\b\b\b\b\b\b\b\b\b\b\b\b\b\b\b\b\b\b\b\b\b\b\b\b\b\b\b\b\b\b\b\b\b\b\b\b\b\b\b\b\b\b\b\b\b\r100/100 [==============================] - 44s 439ms/step - loss: 1.1302 - acc: 0.6072 - val_loss: 1.0394 - val_acc: 0.6442\n",
            "Epoch 9/1000\n",
            "100/100 [==============================] - ETA: 0s - loss: 1.1013 - acc: 0.6159\n",
            "Epoch 9: val_acc did not improve from 0.64420\n",
            "100/100 [==============================] - 13s 127ms/step - loss: 1.1013 - acc: 0.6159 - val_loss: 1.0491 - val_acc: 0.6424\n",
            "Epoch 10/1000\n",
            "100/100 [==============================] - ETA: 0s - loss: 1.0962 - acc: 0.6190\n",
            "Epoch 10: val_acc improved from 0.64420 to 0.64950, saving model to IncepV3_Best\n"
          ]
        },
        {
          "output_type": "stream",
          "name": "stderr",
          "text": [
            "WARNING:absl:Found untraced functions such as _jit_compiled_convolution_op, _jit_compiled_convolution_op, _jit_compiled_convolution_op, _jit_compiled_convolution_op, _jit_compiled_convolution_op while saving (showing 5 of 94). These functions will not be directly callable after loading.\n"
          ]
        },
        {
          "output_type": "stream",
          "name": "stdout",
          "text": [
            "\b\b\b\b\b\b\b\b\b\b\b\b\b\b\b\b\b\b\b\b\b\b\b\b\b\b\b\b\b\b\b\b\b\b\b\b\b\b\b\b\b\b\b\b\b\b\b\b\b\b\b\b\b\b\b\b\b\b\b\b\b\b\b\b\b\b\b\b\b\b\b\b\b\b\b\b\b\b\b\r100/100 [==============================] - 44s 440ms/step - loss: 1.0962 - acc: 0.6190 - val_loss: 1.0185 - val_acc: 0.6495\n",
            "Epoch 11/1000\n",
            "100/100 [==============================] - ETA: 0s - loss: 1.0782 - acc: 0.6304\n",
            "Epoch 11: val_acc improved from 0.64950 to 0.65868, saving model to IncepV3_Best\n"
          ]
        },
        {
          "output_type": "stream",
          "name": "stderr",
          "text": [
            "WARNING:absl:Found untraced functions such as _jit_compiled_convolution_op, _jit_compiled_convolution_op, _jit_compiled_convolution_op, _jit_compiled_convolution_op, _jit_compiled_convolution_op while saving (showing 5 of 94). These functions will not be directly callable after loading.\n"
          ]
        },
        {
          "output_type": "stream",
          "name": "stdout",
          "text": [
            "\b\b\b\b\b\b\b\b\b\b\b\b\b\b\b\b\b\b\b\b\b\b\b\b\b\b\b\b\b\b\b\b\b\b\b\b\b\b\b\b\b\b\b\b\b\b\b\b\b\b\b\b\b\b\b\b\b\b\b\b\b\b\b\b\b\b\b\b\b\b\b\b\b\b\b\b\b\b\b\r100/100 [==============================] - 47s 473ms/step - loss: 1.0782 - acc: 0.6304 - val_loss: 1.0074 - val_acc: 0.6587\n",
            "Epoch 12/1000\n",
            "100/100 [==============================] - ETA: 0s - loss: 1.0435 - acc: 0.6362\n",
            "Epoch 12: val_acc did not improve from 0.65868\n",
            "100/100 [==============================] - 13s 127ms/step - loss: 1.0435 - acc: 0.6362 - val_loss: 1.0071 - val_acc: 0.6505\n",
            "Epoch 13/1000\n",
            "100/100 [==============================] - ETA: 0s - loss: 1.0415 - acc: 0.6408\n",
            "Epoch 13: val_acc improved from 0.65868 to 0.66465, saving model to IncepV3_Best\n"
          ]
        },
        {
          "output_type": "stream",
          "name": "stderr",
          "text": [
            "WARNING:absl:Found untraced functions such as _jit_compiled_convolution_op, _jit_compiled_convolution_op, _jit_compiled_convolution_op, _jit_compiled_convolution_op, _jit_compiled_convolution_op while saving (showing 5 of 94). These functions will not be directly callable after loading.\n"
          ]
        },
        {
          "output_type": "stream",
          "name": "stdout",
          "text": [
            "\b\b\b\b\b\b\b\b\b\b\b\b\b\b\b\b\b\b\b\b\b\b\b\b\b\b\b\b\b\b\b\b\b\b\b\b\b\b\b\b\b\b\b\b\b\b\b\b\b\b\b\b\b\b\b\b\b\b\b\b\b\b\b\b\b\b\b\b\b\b\b\b\b\b\b\b\b\b\b\r100/100 [==============================] - 44s 442ms/step - loss: 1.0415 - acc: 0.6408 - val_loss: 0.9814 - val_acc: 0.6647\n",
            "Epoch 14/1000\n",
            "100/100 [==============================] - ETA: 0s - loss: 1.0241 - acc: 0.6462\n",
            "Epoch 14: val_acc improved from 0.66465 to 0.66846, saving model to IncepV3_Best\n"
          ]
        },
        {
          "output_type": "stream",
          "name": "stderr",
          "text": [
            "WARNING:absl:Found untraced functions such as _jit_compiled_convolution_op, _jit_compiled_convolution_op, _jit_compiled_convolution_op, _jit_compiled_convolution_op, _jit_compiled_convolution_op while saving (showing 5 of 94). These functions will not be directly callable after loading.\n"
          ]
        },
        {
          "output_type": "stream",
          "name": "stdout",
          "text": [
            "\b\b\b\b\b\b\b\b\b\b\b\b\b\b\b\b\b\b\b\b\b\b\b\b\b\b\b\b\b\b\b\b\b\b\b\b\b\b\b\b\b\b\b\b\b\b\b\b\b\b\b\b\b\b\b\b\b\b\b\b\b\b\b\b\b\b\b\b\b\b\b\b\b\b\b\b\b\b\b\r100/100 [==============================] - 44s 441ms/step - loss: 1.0241 - acc: 0.6462 - val_loss: 0.9793 - val_acc: 0.6685\n",
            "Epoch 15/1000\n",
            "100/100 [==============================] - ETA: 0s - loss: 1.0044 - acc: 0.6554\n",
            "Epoch 15: val_acc did not improve from 0.66846\n",
            "100/100 [==============================] - 13s 129ms/step - loss: 1.0044 - acc: 0.6554 - val_loss: 0.9886 - val_acc: 0.6631\n",
            "Epoch 16/1000\n",
            "100/100 [==============================] - ETA: 0s - loss: 1.0095 - acc: 0.6508\n",
            "Epoch 16: val_acc did not improve from 0.66846\n",
            "100/100 [==============================] - 13s 128ms/step - loss: 1.0095 - acc: 0.6508 - val_loss: 0.9723 - val_acc: 0.6669\n",
            "Epoch 17/1000\n",
            "100/100 [==============================] - ETA: 0s - loss: 0.9834 - acc: 0.6598\n",
            "Epoch 17: val_acc improved from 0.66846 to 0.67010, saving model to IncepV3_Best\n"
          ]
        },
        {
          "output_type": "stream",
          "name": "stderr",
          "text": [
            "WARNING:absl:Found untraced functions such as _jit_compiled_convolution_op, _jit_compiled_convolution_op, _jit_compiled_convolution_op, _jit_compiled_convolution_op, _jit_compiled_convolution_op while saving (showing 5 of 94). These functions will not be directly callable after loading.\n"
          ]
        },
        {
          "output_type": "stream",
          "name": "stdout",
          "text": [
            "\b\b\b\b\b\b\b\b\b\b\b\b\b\b\b\b\b\b\b\b\b\b\b\b\b\b\b\b\b\b\b\b\b\b\b\b\b\b\b\b\b\b\b\b\b\b\b\b\b\b\b\b\b\b\b\b\b\b\b\b\b\b\b\b\b\b\b\b\b\b\b\b\b\b\b\b\b\b\b\r100/100 [==============================] - 44s 439ms/step - loss: 0.9834 - acc: 0.6598 - val_loss: 0.9624 - val_acc: 0.6701\n",
            "Epoch 18/1000\n",
            "100/100 [==============================] - ETA: 0s - loss: 0.9868 - acc: 0.6571\n",
            "Epoch 18: val_acc did not improve from 0.67010\n",
            "100/100 [==============================] - 17s 172ms/step - loss: 0.9868 - acc: 0.6571 - val_loss: 0.9809 - val_acc: 0.6680\n",
            "Epoch 19/1000\n",
            "100/100 [==============================] - ETA: 0s - loss: 0.9863 - acc: 0.6612\n",
            "Epoch 19: val_acc improved from 0.67010 to 0.68018, saving model to IncepV3_Best\n"
          ]
        },
        {
          "output_type": "stream",
          "name": "stderr",
          "text": [
            "WARNING:absl:Found untraced functions such as _jit_compiled_convolution_op, _jit_compiled_convolution_op, _jit_compiled_convolution_op, _jit_compiled_convolution_op, _jit_compiled_convolution_op while saving (showing 5 of 94). These functions will not be directly callable after loading.\n"
          ]
        },
        {
          "output_type": "stream",
          "name": "stdout",
          "text": [
            "\b\b\b\b\b\b\b\b\b\b\b\b\b\b\b\b\b\b\b\b\b\b\b\b\b\b\b\b\b\b\b\b\b\b\b\b\b\b\b\b\b\b\b\b\b\b\b\b\b\b\b\b\b\b\b\b\b\b\b\b\b\b\b\b\b\b\b\b\b\b\b\b\b\b\b\b\b\b\b\r100/100 [==============================] - 44s 444ms/step - loss: 0.9863 - acc: 0.6612 - val_loss: 0.9416 - val_acc: 0.6802\n",
            "Epoch 20/1000\n",
            "100/100 [==============================] - ETA: 0s - loss: 0.9720 - acc: 0.6674\n",
            "Epoch 20: val_acc did not improve from 0.68018\n",
            "100/100 [==============================] - 13s 127ms/step - loss: 0.9720 - acc: 0.6674 - val_loss: 0.9570 - val_acc: 0.6704\n",
            "Epoch 21/1000\n",
            "100/100 [==============================] - ETA: 0s - loss: 0.9710 - acc: 0.6670\n",
            "Epoch 21: val_acc improved from 0.68018 to 0.68122, saving model to IncepV3_Best\n"
          ]
        },
        {
          "output_type": "stream",
          "name": "stderr",
          "text": [
            "WARNING:absl:Found untraced functions such as _jit_compiled_convolution_op, _jit_compiled_convolution_op, _jit_compiled_convolution_op, _jit_compiled_convolution_op, _jit_compiled_convolution_op while saving (showing 5 of 94). These functions will not be directly callable after loading.\n"
          ]
        },
        {
          "output_type": "stream",
          "name": "stdout",
          "text": [
            "\b\b\b\b\b\b\b\b\b\b\b\b\b\b\b\b\b\b\b\b\b\b\b\b\b\b\b\b\b\b\b\b\b\b\b\b\b\b\b\b\b\b\b\b\b\b\b\b\b\b\b\b\b\b\b\b\b\b\b\b\b\b\b\b\b\b\b\b\b\b\b\b\b\b\b\b\b\b\b\r100/100 [==============================] - 44s 439ms/step - loss: 0.9710 - acc: 0.6670 - val_loss: 0.9286 - val_acc: 0.6812\n",
            "Epoch 22/1000\n",
            "100/100 [==============================] - ETA: 0s - loss: 0.9360 - acc: 0.6793\n",
            "Epoch 22: val_acc did not improve from 0.68122\n",
            "100/100 [==============================] - 13s 127ms/step - loss: 0.9360 - acc: 0.6793 - val_loss: 0.9584 - val_acc: 0.6679\n",
            "Epoch 23/1000\n",
            " 99/100 [============================>.] - ETA: 0s - loss: 0.9310 - acc: 0.6781\n",
            "Epoch 23: val_acc did not improve from 0.68122\n",
            "100/100 [==============================] - 13s 128ms/step - loss: 0.9318 - acc: 0.6774 - val_loss: 0.9300 - val_acc: 0.6803\n",
            "Epoch 24/1000\n",
            "100/100 [==============================] - ETA: 0s - loss: 0.9377 - acc: 0.6762\n",
            "Epoch 24: val_acc improved from 0.68122 to 0.68436, saving model to IncepV3_Best\n"
          ]
        },
        {
          "output_type": "stream",
          "name": "stderr",
          "text": [
            "WARNING:absl:Found untraced functions such as _jit_compiled_convolution_op, _jit_compiled_convolution_op, _jit_compiled_convolution_op, _jit_compiled_convolution_op, _jit_compiled_convolution_op while saving (showing 5 of 94). These functions will not be directly callable after loading.\n"
          ]
        },
        {
          "output_type": "stream",
          "name": "stdout",
          "text": [
            "\b\b\b\b\b\b\b\b\b\b\b\b\b\b\b\b\b\b\b\b\b\b\b\b\b\b\b\b\b\b\b\b\b\b\b\b\b\b\b\b\b\b\b\b\b\b\b\b\b\b\b\b\b\b\b\b\b\b\b\b\b\b\b\b\b\b\b\b\b\b\b\b\b\b\b\b\b\b\b\r100/100 [==============================] - 48s 484ms/step - loss: 0.9377 - acc: 0.6762 - val_loss: 0.9196 - val_acc: 0.6844\n",
            "Epoch 25/1000\n",
            "100/100 [==============================] - ETA: 0s - loss: 0.9299 - acc: 0.6862\n",
            "Epoch 25: val_acc did not improve from 0.68436\n",
            "100/100 [==============================] - 13s 127ms/step - loss: 0.9299 - acc: 0.6862 - val_loss: 0.9357 - val_acc: 0.6788\n",
            "Epoch 26/1000\n",
            "100/100 [==============================] - ETA: 0s - loss: 0.9310 - acc: 0.6780\n",
            "Epoch 26: val_acc did not improve from 0.68436\n",
            "100/100 [==============================] - 13s 126ms/step - loss: 0.9310 - acc: 0.6780 - val_loss: 0.9214 - val_acc: 0.6836\n",
            "Epoch 27/1000\n",
            "100/100 [==============================] - ETA: 0s - loss: 0.9074 - acc: 0.6830\n",
            "Epoch 27: val_acc improved from 0.68436 to 0.68615, saving model to IncepV3_Best\n"
          ]
        },
        {
          "output_type": "stream",
          "name": "stderr",
          "text": [
            "WARNING:absl:Found untraced functions such as _jit_compiled_convolution_op, _jit_compiled_convolution_op, _jit_compiled_convolution_op, _jit_compiled_convolution_op, _jit_compiled_convolution_op while saving (showing 5 of 94). These functions will not be directly callable after loading.\n"
          ]
        },
        {
          "output_type": "stream",
          "name": "stdout",
          "text": [
            "\b\b\b\b\b\b\b\b\b\b\b\b\b\b\b\b\b\b\b\b\b\b\b\b\b\b\b\b\b\b\b\b\b\b\b\b\b\b\b\b\b\b\b\b\b\b\b\b\b\b\b\b\b\b\b\b\b\b\b\b\b\b\b\b\b\b\b\b\b\b\b\b\b\b\b\b\b\b\b\r100/100 [==============================] - 43s 435ms/step - loss: 0.9074 - acc: 0.6830 - val_loss: 0.9220 - val_acc: 0.6862\n",
            "Epoch 28/1000\n",
            "100/100 [==============================] - ETA: 0s - loss: 0.9004 - acc: 0.6878\n",
            "Epoch 28: val_acc did not improve from 0.68615\n",
            "100/100 [==============================] - 13s 127ms/step - loss: 0.9004 - acc: 0.6878 - val_loss: 0.9339 - val_acc: 0.6779\n",
            "Epoch 29/1000\n",
            "100/100 [==============================] - ETA: 0s - loss: 0.8854 - acc: 0.6966\n",
            "Epoch 29: val_acc improved from 0.68615 to 0.68712, saving model to IncepV3_Best\n"
          ]
        },
        {
          "output_type": "stream",
          "name": "stderr",
          "text": [
            "WARNING:absl:Found untraced functions such as _jit_compiled_convolution_op, _jit_compiled_convolution_op, _jit_compiled_convolution_op, _jit_compiled_convolution_op, _jit_compiled_convolution_op while saving (showing 5 of 94). These functions will not be directly callable after loading.\n"
          ]
        },
        {
          "output_type": "stream",
          "name": "stdout",
          "text": [
            "\b\b\b\b\b\b\b\b\b\b\b\b\b\b\b\b\b\b\b\b\b\b\b\b\b\b\b\b\b\b\b\b\b\b\b\b\b\b\b\b\b\b\b\b\b\b\b\b\b\b\b\b\b\b\b\b\b\b\b\b\b\b\b\b\b\b\b\b\b\b\b\b\b\b\b\b\b\b\b\r100/100 [==============================] - 48s 483ms/step - loss: 0.8854 - acc: 0.6966 - val_loss: 0.9033 - val_acc: 0.6871\n",
            "Epoch 30/1000\n",
            "100/100 [==============================] - ETA: 0s - loss: 0.8990 - acc: 0.6911\n",
            "Epoch 30: val_acc improved from 0.68712 to 0.68996, saving model to IncepV3_Best\n"
          ]
        },
        {
          "output_type": "stream",
          "name": "stderr",
          "text": [
            "WARNING:absl:Found untraced functions such as _jit_compiled_convolution_op, _jit_compiled_convolution_op, _jit_compiled_convolution_op, _jit_compiled_convolution_op, _jit_compiled_convolution_op while saving (showing 5 of 94). These functions will not be directly callable after loading.\n"
          ]
        },
        {
          "output_type": "stream",
          "name": "stdout",
          "text": [
            "\b\b\b\b\b\b\b\b\b\b\b\b\b\b\b\b\b\b\b\b\b\b\b\b\b\b\b\b\b\b\b\b\b\b\b\b\b\b\b\b\b\b\b\b\b\b\b\b\b\b\b\b\b\b\b\b\b\b\b\b\b\b\b\b\b\b\b\b\b\b\b\b\b\b\b\b\b\b\b\r100/100 [==============================] - 48s 479ms/step - loss: 0.8990 - acc: 0.6911 - val_loss: 0.9065 - val_acc: 0.6900\n",
            "Epoch 31/1000\n",
            "100/100 [==============================] - ETA: 0s - loss: 0.8995 - acc: 0.6906\n",
            "Epoch 31: val_acc improved from 0.68996 to 0.69384, saving model to IncepV3_Best\n"
          ]
        },
        {
          "output_type": "stream",
          "name": "stderr",
          "text": [
            "WARNING:absl:Found untraced functions such as _jit_compiled_convolution_op, _jit_compiled_convolution_op, _jit_compiled_convolution_op, _jit_compiled_convolution_op, _jit_compiled_convolution_op while saving (showing 5 of 94). These functions will not be directly callable after loading.\n"
          ]
        },
        {
          "output_type": "stream",
          "name": "stdout",
          "text": [
            "\b\b\b\b\b\b\b\b\b\b\b\b\b\b\b\b\b\b\b\b\b\b\b\b\b\b\b\b\b\b\b\b\b\b\b\b\b\b\b\b\b\b\b\b\b\b\b\b\b\b\b\b\b\b\b\b\b\b\b\b\b\b\b\b\b\b\b\b\b\b\b\b\b\b\b\b\b\b\b\r100/100 [==============================] - 46s 461ms/step - loss: 0.8995 - acc: 0.6906 - val_loss: 0.9007 - val_acc: 0.6938\n",
            "Epoch 32/1000\n",
            "100/100 [==============================] - ETA: 0s - loss: 0.8669 - acc: 0.6984\n",
            "Epoch 32: val_acc did not improve from 0.69384\n",
            "100/100 [==============================] - 14s 137ms/step - loss: 0.8669 - acc: 0.6984 - val_loss: 0.9021 - val_acc: 0.6934\n",
            "Epoch 33/1000\n",
            "100/100 [==============================] - ETA: 0s - loss: 0.8604 - acc: 0.7042\n",
            "Epoch 33: val_acc did not improve from 0.69384\n",
            "100/100 [==============================] - 14s 138ms/step - loss: 0.8604 - acc: 0.7042 - val_loss: 0.9099 - val_acc: 0.6908\n",
            "Epoch 34/1000\n",
            "100/100 [==============================] - ETA: 0s - loss: 0.8545 - acc: 0.7035\n",
            "Epoch 34: val_acc did not improve from 0.69384\n",
            "100/100 [==============================] - 13s 132ms/step - loss: 0.8545 - acc: 0.7035 - val_loss: 0.9046 - val_acc: 0.6912\n",
            "Epoch 35/1000\n",
            "100/100 [==============================] - ETA: 0s - loss: 0.8669 - acc: 0.7048\n",
            "Epoch 35: val_acc did not improve from 0.69384\n",
            "100/100 [==============================] - 14s 137ms/step - loss: 0.8669 - acc: 0.7048 - val_loss: 0.9158 - val_acc: 0.6893\n",
            "Epoch 36/1000\n",
            "100/100 [==============================] - ETA: 0s - loss: 0.8269 - acc: 0.7141\n",
            "Epoch 36: val_acc did not improve from 0.69384\n",
            "100/100 [==============================] - 20s 198ms/step - loss: 0.8269 - acc: 0.7141 - val_loss: 0.9066 - val_acc: 0.6907\n",
            "Epoch 36: early stopping\n"
          ]
        }
      ]
    },
    {
      "cell_type": "code",
      "source": [
        "model_best = keras.models.load_model('/content/IncepV3_Best')\n",
        "\n",
        "pred = model_best.predict(test_generator)\n",
        "pred = np.argmax(pred, axis=1)\n",
        "\n",
        "sub = df_test[['imageid_boxid', 'class']].copy()\n",
        "sub['class'] = pred\n",
        "sub.to_csv('InceptionV3.csv', index=False)\n",
        "!kaggle competitions submit -c hackathon-online-2022-image-processing -f 'InceptionV3.csv'  -m 'InceptionV3_Unfreeze.csv'"
      ],
      "metadata": {
        "colab": {
          "base_uri": "https://localhost:8080/"
        },
        "id": "waQpdMnLGLxd",
        "outputId": "bf299170-5f36-4125-d23b-835233ad393e"
      },
      "execution_count": null,
      "outputs": [
        {
          "output_type": "stream",
          "name": "stdout",
          "text": [
            "261/261 [==============================] - 21s 74ms/step\n",
            "100% 233k/233k [00:01<00:00, 181kB/s]\n",
            "Successfully submitted to Hackathon Online: Image Processing"
          ]
        }
      ]
    },
    {
      "cell_type": "markdown",
      "source": [
        "![image.png](data:image/png;base64,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)"
      ],
      "metadata": {
        "id": "ko-us4G9aeyz"
      }
    },
    {
      "cell_type": "markdown",
      "source": [
        "**FineTune**"
      ],
      "metadata": {
        "id": "kKZEmjhsMUiD"
      }
    },
    {
      "cell_type": "code",
      "source": [
        "# Unfreeze the base model\n",
        "base_model.trainable = True\n",
        "\n",
        "#Everytime you Unfreeze call compile please\n",
        "model.compile(optimizer = keras.optimizers.Adam(learning_rate=0.0001), loss = 'sparse_categorical_crossentropy', metrics = ['acc'])\n",
        "\n",
        "Incephist = model.fit(train_generator, validation_data = validation_generator, steps_per_epoch = 100, epochs = 1000, callbacks=[checkpoint,early])"
      ],
      "metadata": {
        "colab": {
          "base_uri": "https://localhost:8080/"
        },
        "id": "y4eMgqiwRQit",
        "outputId": "41db2ab0-94ab-4dd9-c361-b40ccefd042f"
      },
      "execution_count": null,
      "outputs": [
        {
          "output_type": "stream",
          "name": "stdout",
          "text": [
            "Epoch 1/1000\n",
            "100/100 [==============================] - ETA: 0s - loss: 1.8345 - acc: 0.3457\n",
            "Epoch 1: val_acc did not improve from 0.69384\n",
            "100/100 [==============================] - 26s 182ms/step - loss: 1.8345 - acc: 0.3457 - val_loss: 1.5416 - val_acc: 0.4652\n",
            "Epoch 2/1000\n",
            "100/100 [==============================] - ETA: 0s - loss: 1.0386 - acc: 0.6442\n",
            "Epoch 2: val_acc improved from 0.69384 to 0.72191, saving model to IncepV3_Best\n"
          ]
        },
        {
          "output_type": "stream",
          "name": "stderr",
          "text": [
            "WARNING:absl:Found untraced functions such as _jit_compiled_convolution_op, _jit_compiled_convolution_op, _jit_compiled_convolution_op, _jit_compiled_convolution_op, _jit_compiled_convolution_op while saving (showing 5 of 94). These functions will not be directly callable after loading.\n"
          ]
        },
        {
          "output_type": "stream",
          "name": "stdout",
          "text": [
            "\b\b\b\b\b\b\b\b\b\b\b\b\b\b\b\b\b\b\b\b\b\b\b\b\b\b\b\b\b\b\b\b\b\b\b\b\b\b\b\b\b\b\b\b\b\b\b\b\b\b\b\b\b\b\b\b\b\b\b\b\b\b\b\b\b\b\b\b\b\b\b\b\b\b\b\b\b\b\b\r100/100 [==============================] - 66s 667ms/step - loss: 1.0386 - acc: 0.6442 - val_loss: 0.8641 - val_acc: 0.7219\n",
            "Epoch 3/1000\n",
            "100/100 [==============================] - ETA: 0s - loss: 0.7505 - acc: 0.7514\n",
            "Epoch 3: val_acc improved from 0.72191 to 0.80022, saving model to IncepV3_Best\n"
          ]
        },
        {
          "output_type": "stream",
          "name": "stderr",
          "text": [
            "WARNING:absl:Found untraced functions such as _jit_compiled_convolution_op, _jit_compiled_convolution_op, _jit_compiled_convolution_op, _jit_compiled_convolution_op, _jit_compiled_convolution_op while saving (showing 5 of 94). These functions will not be directly callable after loading.\n"
          ]
        },
        {
          "output_type": "stream",
          "name": "stdout",
          "text": [
            "\b\b\b\b\b\b\b\b\b\b\b\b\b\b\b\b\b\b\b\b\b\b\b\b\b\b\b\b\b\b\b\b\b\b\b\b\b\b\b\b\b\b\b\b\b\b\b\b\b\b\b\b\b\b\b\b\b\b\b\b\b\b\b\b\b\b\b\b\b\b\b\b\b\b\b\b\b\b\b\r100/100 [==============================] - 68s 683ms/step - loss: 0.7505 - acc: 0.7514 - val_loss: 0.7931 - val_acc: 0.8002\n",
            "Epoch 4/1000\n",
            "100/100 [==============================] - ETA: 0s - loss: 0.5701 - acc: 0.8198\n",
            "Epoch 4: val_acc improved from 0.80022 to 0.83927, saving model to IncepV3_Best\n"
          ]
        },
        {
          "output_type": "stream",
          "name": "stderr",
          "text": [
            "WARNING:absl:Found untraced functions such as _jit_compiled_convolution_op, _jit_compiled_convolution_op, _jit_compiled_convolution_op, _jit_compiled_convolution_op, _jit_compiled_convolution_op while saving (showing 5 of 94). These functions will not be directly callable after loading.\n"
          ]
        },
        {
          "output_type": "stream",
          "name": "stdout",
          "text": [
            "\b\b\b\b\b\b\b\b\b\b\b\b\b\b\b\b\b\b\b\b\b\b\b\b\b\b\b\b\b\b\b\b\b\b\b\b\b\b\b\b\b\b\b\b\b\b\b\b\b\b\b\b\b\b\b\b\b\b\b\b\b\b\b\b\b\b\b\b\b\b\b\b\b\b\b\b\b\b\b\r100/100 [==============================] - 64s 641ms/step - loss: 0.5701 - acc: 0.8198 - val_loss: 0.5273 - val_acc: 0.8393\n",
            "Epoch 5/1000\n",
            "100/100 [==============================] - ETA: 0s - loss: 0.4875 - acc: 0.8510\n",
            "Epoch 5: val_acc improved from 0.83927 to 0.86010, saving model to IncepV3_Best\n"
          ]
        },
        {
          "output_type": "stream",
          "name": "stderr",
          "text": [
            "WARNING:absl:Found untraced functions such as _jit_compiled_convolution_op, _jit_compiled_convolution_op, _jit_compiled_convolution_op, _jit_compiled_convolution_op, _jit_compiled_convolution_op while saving (showing 5 of 94). These functions will not be directly callable after loading.\n"
          ]
        },
        {
          "output_type": "stream",
          "name": "stdout",
          "text": [
            "\b\b\b\b\b\b\b\b\b\b\b\b\b\b\b\b\b\b\b\b\b\b\b\b\b\b\b\b\b\b\b\b\b\b\b\b\b\b\b\b\b\b\b\b\b\b\b\b\b\b\b\b\b\b\b\b\b\b\b\b\b\b\b\b\b\b\b\b\b\b\b\b\b\b\b\b\b\b\b\r100/100 [==============================] - 62s 622ms/step - loss: 0.4875 - acc: 0.8510 - val_loss: 0.4741 - val_acc: 0.8601\n",
            "Epoch 6/1000\n",
            "100/100 [==============================] - ETA: 0s - loss: 0.4395 - acc: 0.8661\n",
            "Epoch 6: val_acc improved from 0.86010 to 0.87376, saving model to IncepV3_Best\n"
          ]
        },
        {
          "output_type": "stream",
          "name": "stderr",
          "text": [
            "WARNING:absl:Found untraced functions such as _jit_compiled_convolution_op, _jit_compiled_convolution_op, _jit_compiled_convolution_op, _jit_compiled_convolution_op, _jit_compiled_convolution_op while saving (showing 5 of 94). These functions will not be directly callable after loading.\n"
          ]
        },
        {
          "output_type": "stream",
          "name": "stdout",
          "text": [
            "\b\b\b\b\b\b\b\b\b\b\b\b\b\b\b\b\b\b\b\b\b\b\b\b\b\b\b\b\b\b\b\b\b\b\b\b\b\b\b\b\b\b\b\b\b\b\b\b\b\b\b\b\b\b\b\b\b\b\b\b\b\b\b\b\b\b\b\b\b\b\b\b\b\b\b\b\b\b\b\r100/100 [==============================] - 51s 517ms/step - loss: 0.4395 - acc: 0.8661 - val_loss: 0.4582 - val_acc: 0.8738\n",
            "Epoch 7/1000\n",
            "100/100 [==============================] - ETA: 0s - loss: 0.3902 - acc: 0.8839\n",
            "Epoch 7: val_acc improved from 0.87376 to 0.88996, saving model to IncepV3_Best\n"
          ]
        },
        {
          "output_type": "stream",
          "name": "stderr",
          "text": [
            "WARNING:absl:Found untraced functions such as _jit_compiled_convolution_op, _jit_compiled_convolution_op, _jit_compiled_convolution_op, _jit_compiled_convolution_op, _jit_compiled_convolution_op while saving (showing 5 of 94). These functions will not be directly callable after loading.\n"
          ]
        },
        {
          "output_type": "stream",
          "name": "stdout",
          "text": [
            "\b\b\b\b\b\b\b\b\b\b\b\b\b\b\b\b\b\b\b\b\b\b\b\b\b\b\b\b\b\b\b\b\b\b\b\b\b\b\b\b\b\b\b\b\b\b\b\b\b\b\b\b\b\b\b\b\b\b\b\b\b\b\b\b\b\b\b\b\b\b\b\b\b\b\b\b\b\b\b\r100/100 [==============================] - 53s 532ms/step - loss: 0.3902 - acc: 0.8839 - val_loss: 0.3865 - val_acc: 0.8900\n",
            "Epoch 8/1000\n",
            "100/100 [==============================] - ETA: 0s - loss: 0.3476 - acc: 0.8976\n",
            "Epoch 8: val_acc improved from 0.88996 to 0.89854, saving model to IncepV3_Best\n"
          ]
        },
        {
          "output_type": "stream",
          "name": "stderr",
          "text": [
            "WARNING:absl:Found untraced functions such as _jit_compiled_convolution_op, _jit_compiled_convolution_op, _jit_compiled_convolution_op, _jit_compiled_convolution_op, _jit_compiled_convolution_op while saving (showing 5 of 94). These functions will not be directly callable after loading.\n"
          ]
        },
        {
          "output_type": "stream",
          "name": "stdout",
          "text": [
            "\b\b\b\b\b\b\b\b\b\b\b\b\b\b\b\b\b\b\b\b\b\b\b\b\b\b\b\b\b\b\b\b\b\b\b\b\b\b\b\b\b\b\b\b\b\b\b\b\b\b\b\b\b\b\b\b\b\b\b\b\b\b\b\b\b\b\b\b\b\b\b\b\b\b\b\b\b\b\b\r100/100 [==============================] - 51s 516ms/step - loss: 0.3476 - acc: 0.8976 - val_loss: 0.3508 - val_acc: 0.8985\n",
            "Epoch 9/1000\n",
            "100/100 [==============================] - ETA: 0s - loss: 0.3310 - acc: 0.9017\n",
            "Epoch 9: val_acc improved from 0.89854 to 0.90310, saving model to IncepV3_Best\n"
          ]
        },
        {
          "output_type": "stream",
          "name": "stderr",
          "text": [
            "WARNING:absl:Found untraced functions such as _jit_compiled_convolution_op, _jit_compiled_convolution_op, _jit_compiled_convolution_op, _jit_compiled_convolution_op, _jit_compiled_convolution_op while saving (showing 5 of 94). These functions will not be directly callable after loading.\n"
          ]
        },
        {
          "output_type": "stream",
          "name": "stdout",
          "text": [
            "\b\b\b\b\b\b\b\b\b\b\b\b\b\b\b\b\b\b\b\b\b\b\b\b\b\b\b\b\b\b\b\b\b\b\b\b\b\b\b\b\b\b\b\b\b\b\b\b\b\b\b\b\b\b\b\b\b\b\b\b\b\b\b\b\b\b\b\b\b\b\b\b\b\b\b\b\b\b\b\r100/100 [==============================] - 51s 516ms/step - loss: 0.3310 - acc: 0.9017 - val_loss: 0.3298 - val_acc: 0.9031\n",
            "Epoch 10/1000\n",
            "100/100 [==============================] - ETA: 0s - loss: 0.2928 - acc: 0.9144\n",
            "Epoch 10: val_acc did not improve from 0.90310\n",
            "100/100 [==============================] - 17s 166ms/step - loss: 0.2928 - acc: 0.9144 - val_loss: 0.3365 - val_acc: 0.9000\n",
            "Epoch 11/1000\n",
            "100/100 [==============================] - ETA: 0s - loss: 0.2814 - acc: 0.9165\n",
            "Epoch 11: val_acc improved from 0.90310 to 0.90832, saving model to IncepV3_Best\n"
          ]
        },
        {
          "output_type": "stream",
          "name": "stderr",
          "text": [
            "WARNING:absl:Found untraced functions such as _jit_compiled_convolution_op, _jit_compiled_convolution_op, _jit_compiled_convolution_op, _jit_compiled_convolution_op, _jit_compiled_convolution_op while saving (showing 5 of 94). These functions will not be directly callable after loading.\n"
          ]
        },
        {
          "output_type": "stream",
          "name": "stdout",
          "text": [
            "\b\b\b\b\b\b\b\b\b\b\b\b\b\b\b\b\b\b\b\b\b\b\b\b\b\b\b\b\b\b\b\b\b\b\b\b\b\b\b\b\b\b\b\b\b\b\b\b\b\b\b\b\b\b\b\b\b\b\b\b\b\b\b\b\b\b\b\b\b\b\b\b\b\b\b\b\b\b\b\r100/100 [==============================] - 56s 560ms/step - loss: 0.2814 - acc: 0.9165 - val_loss: 0.3221 - val_acc: 0.9083\n",
            "Epoch 12/1000\n",
            "100/100 [==============================] - ETA: 0s - loss: 0.2815 - acc: 0.9204\n",
            "Epoch 12: val_acc improved from 0.90832 to 0.91064, saving model to IncepV3_Best\n"
          ]
        },
        {
          "output_type": "stream",
          "name": "stderr",
          "text": [
            "WARNING:absl:Found untraced functions such as _jit_compiled_convolution_op, _jit_compiled_convolution_op, _jit_compiled_convolution_op, _jit_compiled_convolution_op, _jit_compiled_convolution_op while saving (showing 5 of 94). These functions will not be directly callable after loading.\n"
          ]
        },
        {
          "output_type": "stream",
          "name": "stdout",
          "text": [
            "\b\b\b\b\b\b\b\b\b\b\b\b\b\b\b\b\b\b\b\b\b\b\b\b\b\b\b\b\b\b\b\b\b\b\b\b\b\b\b\b\b\b\b\b\b\b\b\b\b\b\b\b\b\b\b\b\b\b\b\b\b\b\b\b\b\b\b\b\b\b\b\b\b\b\b\b\b\b\b\r100/100 [==============================] - 51s 510ms/step - loss: 0.2815 - acc: 0.9204 - val_loss: 0.3161 - val_acc: 0.9106\n",
            "Epoch 13/1000\n",
            "100/100 [==============================] - ETA: 0s - loss: 0.2645 - acc: 0.9209\n",
            "Epoch 13: val_acc improved from 0.91064 to 0.91482, saving model to IncepV3_Best\n"
          ]
        },
        {
          "output_type": "stream",
          "name": "stderr",
          "text": [
            "WARNING:absl:Found untraced functions such as _jit_compiled_convolution_op, _jit_compiled_convolution_op, _jit_compiled_convolution_op, _jit_compiled_convolution_op, _jit_compiled_convolution_op while saving (showing 5 of 94). These functions will not be directly callable after loading.\n"
          ]
        },
        {
          "output_type": "stream",
          "name": "stdout",
          "text": [
            "\b\b\b\b\b\b\b\b\b\b\b\b\b\b\b\b\b\b\b\b\b\b\b\b\b\b\b\b\b\b\b\b\b\b\b\b\b\b\b\b\b\b\b\b\b\b\b\b\b\b\b\b\b\b\b\b\b\b\b\b\b\b\b\b\b\b\b\b\b\b\b\b\b\b\b\b\b\b\b\r100/100 [==============================] - 52s 525ms/step - loss: 0.2645 - acc: 0.9209 - val_loss: 0.3195 - val_acc: 0.9148\n",
            "Epoch 14/1000\n",
            "100/100 [==============================] - ETA: 0s - loss: 0.2494 - acc: 0.9295\n",
            "Epoch 14: val_acc improved from 0.91482 to 0.92072, saving model to IncepV3_Best\n"
          ]
        },
        {
          "output_type": "stream",
          "name": "stderr",
          "text": [
            "WARNING:absl:Found untraced functions such as _jit_compiled_convolution_op, _jit_compiled_convolution_op, _jit_compiled_convolution_op, _jit_compiled_convolution_op, _jit_compiled_convolution_op while saving (showing 5 of 94). These functions will not be directly callable after loading.\n"
          ]
        },
        {
          "output_type": "stream",
          "name": "stdout",
          "text": [
            "\b\b\b\b\b\b\b\b\b\b\b\b\b\b\b\b\b\b\b\b\b\b\b\b\b\b\b\b\b\b\b\b\b\b\b\b\b\b\b\b\b\b\b\b\b\b\b\b\b\b\b\b\b\b\b\b\b\b\b\b\b\b\b\b\b\b\b\b\b\b\b\b\b\b\b\b\b\b\b\r100/100 [==============================] - 51s 513ms/step - loss: 0.2494 - acc: 0.9295 - val_loss: 0.2839 - val_acc: 0.9207\n",
            "Epoch 15/1000\n",
            "100/100 [==============================] - ETA: 0s - loss: 0.2395 - acc: 0.9307\n",
            "Epoch 15: val_acc did not improve from 0.92072\n",
            "100/100 [==============================] - 17s 165ms/step - loss: 0.2395 - acc: 0.9307 - val_loss: 0.2885 - val_acc: 0.9207\n",
            "Epoch 16/1000\n",
            "100/100 [==============================] - ETA: 0s - loss: 0.2404 - acc: 0.9309\n",
            "Epoch 16: val_acc did not improve from 0.92072\n",
            "100/100 [==============================] - 18s 174ms/step - loss: 0.2404 - acc: 0.9309 - val_loss: 0.3592 - val_acc: 0.8990\n",
            "Epoch 17/1000\n",
            "100/100 [==============================] - ETA: 0s - loss: 0.2191 - acc: 0.9378\n",
            "Epoch 17: val_acc improved from 0.92072 to 0.92206, saving model to IncepV3_Best\n"
          ]
        },
        {
          "output_type": "stream",
          "name": "stderr",
          "text": [
            "WARNING:absl:Found untraced functions such as _jit_compiled_convolution_op, _jit_compiled_convolution_op, _jit_compiled_convolution_op, _jit_compiled_convolution_op, _jit_compiled_convolution_op while saving (showing 5 of 94). These functions will not be directly callable after loading.\n"
          ]
        },
        {
          "output_type": "stream",
          "name": "stdout",
          "text": [
            "\b\b\b\b\b\b\b\b\b\b\b\b\b\b\b\b\b\b\b\b\b\b\b\b\b\b\b\b\b\b\b\b\b\b\b\b\b\b\b\b\b\b\b\b\b\b\b\b\b\b\b\b\b\b\b\b\b\b\b\b\b\b\b\b\b\b\b\b\b\b\b\b\b\b\b\b\b\b\b\r100/100 [==============================] - 51s 516ms/step - loss: 0.2191 - acc: 0.9378 - val_loss: 0.2827 - val_acc: 0.9221\n",
            "Epoch 18/1000\n",
            "100/100 [==============================] - ETA: 0s - loss: 0.2344 - acc: 0.9331\n",
            "Epoch 18: val_acc improved from 0.92206 to 0.92340, saving model to IncepV3_Best\n"
          ]
        },
        {
          "output_type": "stream",
          "name": "stderr",
          "text": [
            "WARNING:absl:Found untraced functions such as _jit_compiled_convolution_op, _jit_compiled_convolution_op, _jit_compiled_convolution_op, _jit_compiled_convolution_op, _jit_compiled_convolution_op while saving (showing 5 of 94). These functions will not be directly callable after loading.\n"
          ]
        },
        {
          "output_type": "stream",
          "name": "stdout",
          "text": [
            "\b\b\b\b\b\b\b\b\b\b\b\b\b\b\b\b\b\b\b\b\b\b\b\b\b\b\b\b\b\b\b\b\b\b\b\b\b\b\b\b\b\b\b\b\b\b\b\b\b\b\b\b\b\b\b\b\b\b\b\b\b\b\b\b\b\b\b\b\b\b\b\b\b\b\b\b\b\b\b\r100/100 [==============================] - 51s 514ms/step - loss: 0.2344 - acc: 0.9331 - val_loss: 0.2741 - val_acc: 0.9234\n",
            "Epoch 19/1000\n",
            "100/100 [==============================] - ETA: 0s - loss: 0.1925 - acc: 0.9458\n",
            "Epoch 19: val_acc did not improve from 0.92340\n",
            "100/100 [==============================] - 17s 168ms/step - loss: 0.1925 - acc: 0.9458 - val_loss: 0.2768 - val_acc: 0.9233\n",
            "Epoch 20/1000\n",
            "100/100 [==============================] - ETA: 0s - loss: 0.1956 - acc: 0.9425\n",
            "Epoch 20: val_acc did not improve from 0.92340\n",
            "100/100 [==============================] - 17s 167ms/step - loss: 0.1956 - acc: 0.9425 - val_loss: 0.2848 - val_acc: 0.9230\n",
            "Epoch 21/1000\n",
            "100/100 [==============================] - ETA: 0s - loss: 0.2023 - acc: 0.9457\n",
            "Epoch 21: val_acc improved from 0.92340 to 0.92833, saving model to IncepV3_Best\n"
          ]
        },
        {
          "output_type": "stream",
          "name": "stderr",
          "text": [
            "WARNING:absl:Found untraced functions such as _jit_compiled_convolution_op, _jit_compiled_convolution_op, _jit_compiled_convolution_op, _jit_compiled_convolution_op, _jit_compiled_convolution_op while saving (showing 5 of 94). These functions will not be directly callable after loading.\n"
          ]
        },
        {
          "output_type": "stream",
          "name": "stdout",
          "text": [
            "\b\b\b\b\b\b\b\b\b\b\b\b\b\b\b\b\b\b\b\b\b\b\b\b\b\b\b\b\b\b\b\b\b\b\b\b\b\b\b\b\b\b\b\b\b\b\b\b\b\b\b\b\b\b\b\b\b\b\b\b\b\b\b\b\b\b\b\b\b\b\b\b\b\b\b\b\b\b\b\r100/100 [==============================] - 55s 553ms/step - loss: 0.2023 - acc: 0.9457 - val_loss: 0.2691 - val_acc: 0.9283\n",
            "Epoch 22/1000\n",
            "100/100 [==============================] - ETA: 0s - loss: 0.1749 - acc: 0.9481\n",
            "Epoch 22: val_acc did not improve from 0.92833\n",
            "100/100 [==============================] - 17s 165ms/step - loss: 0.1749 - acc: 0.9481 - val_loss: 0.2784 - val_acc: 0.9235\n",
            "Epoch 23/1000\n",
            "100/100 [==============================] - ETA: 0s - loss: 0.1873 - acc: 0.9457\n",
            "Epoch 23: val_acc improved from 0.92833 to 0.92893, saving model to IncepV3_Best\n"
          ]
        },
        {
          "output_type": "stream",
          "name": "stderr",
          "text": [
            "WARNING:absl:Found untraced functions such as _jit_compiled_convolution_op, _jit_compiled_convolution_op, _jit_compiled_convolution_op, _jit_compiled_convolution_op, _jit_compiled_convolution_op while saving (showing 5 of 94). These functions will not be directly callable after loading.\n"
          ]
        },
        {
          "output_type": "stream",
          "name": "stdout",
          "text": [
            "\b\b\b\b\b\b\b\b\b\b\b\b\b\b\b\b\b\b\b\b\b\b\b\b\b\b\b\b\b\b\b\b\b\b\b\b\b\b\b\b\b\b\b\b\b\b\b\b\b\b\b\b\b\b\b\b\b\b\b\b\b\b\b\b\b\b\b\b\b\b\b\b\b\b\b\b\b\b\b\r100/100 [==============================] - 52s 519ms/step - loss: 0.1873 - acc: 0.9457 - val_loss: 0.2658 - val_acc: 0.9289\n",
            "Epoch 24/1000\n",
            "100/100 [==============================] - ETA: 0s - loss: 0.1704 - acc: 0.9504\n",
            "Epoch 24: val_acc did not improve from 0.92893\n",
            "100/100 [==============================] - 17s 166ms/step - loss: 0.1704 - acc: 0.9504 - val_loss: 0.2850 - val_acc: 0.9247\n",
            "Epoch 25/1000\n",
            "100/100 [==============================] - ETA: 0s - loss: 0.1571 - acc: 0.9539\n",
            "Epoch 25: val_acc did not improve from 0.92893\n",
            "100/100 [==============================] - 17s 166ms/step - loss: 0.1571 - acc: 0.9539 - val_loss: 0.2745 - val_acc: 0.9270\n",
            "Epoch 26/1000\n",
            "100/100 [==============================] - ETA: 0s - loss: 0.1724 - acc: 0.9518\n",
            "Epoch 26: val_acc improved from 0.92893 to 0.93132, saving model to IncepV3_Best\n"
          ]
        },
        {
          "output_type": "stream",
          "name": "stderr",
          "text": [
            "WARNING:absl:Found untraced functions such as _jit_compiled_convolution_op, _jit_compiled_convolution_op, _jit_compiled_convolution_op, _jit_compiled_convolution_op, _jit_compiled_convolution_op while saving (showing 5 of 94). These functions will not be directly callable after loading.\n"
          ]
        },
        {
          "output_type": "stream",
          "name": "stdout",
          "text": [
            "\b\b\b\b\b\b\b\b\b\b\b\b\b\b\b\b\b\b\b\b\b\b\b\b\b\b\b\b\b\b\b\b\b\b\b\b\b\b\b\b\b\b\b\b\b\b\b\b\b\b\b\b\b\b\b\b\b\b\b\b\b\b\b\b\b\b\b\b\b\b\b\b\b\b\b\b\b\b\b\r100/100 [==============================] - 52s 520ms/step - loss: 0.1724 - acc: 0.9518 - val_loss: 0.2604 - val_acc: 0.9313\n",
            "Epoch 27/1000\n",
            "100/100 [==============================] - ETA: 0s - loss: 0.1680 - acc: 0.9511\n",
            "Epoch 27: val_acc did not improve from 0.93132\n",
            "100/100 [==============================] - 16s 164ms/step - loss: 0.1680 - acc: 0.9511 - val_loss: 0.2685 - val_acc: 0.9285\n",
            "Epoch 28/1000\n",
            "100/100 [==============================] - ETA: 0s - loss: 0.1531 - acc: 0.9572\n",
            "Epoch 28: val_acc improved from 0.93132 to 0.93221, saving model to IncepV3_Best\n"
          ]
        },
        {
          "output_type": "stream",
          "name": "stderr",
          "text": [
            "WARNING:absl:Found untraced functions such as _jit_compiled_convolution_op, _jit_compiled_convolution_op, _jit_compiled_convolution_op, _jit_compiled_convolution_op, _jit_compiled_convolution_op while saving (showing 5 of 94). These functions will not be directly callable after loading.\n"
          ]
        },
        {
          "output_type": "stream",
          "name": "stdout",
          "text": [
            "\b\b\b\b\b\b\b\b\b\b\b\b\b\b\b\b\b\b\b\b\b\b\b\b\b\b\b\b\b\b\b\b\b\b\b\b\b\b\b\b\b\b\b\b\b\b\b\b\b\b\b\b\b\b\b\b\b\b\b\b\b\b\b\b\b\b\b\b\b\b\b\b\b\b\b\b\b\b\b\r100/100 [==============================] - 55s 555ms/step - loss: 0.1531 - acc: 0.9572 - val_loss: 0.2578 - val_acc: 0.9322\n",
            "Epoch 29/1000\n",
            "100/100 [==============================] - ETA: 0s - loss: 0.1481 - acc: 0.9576\n",
            "Epoch 29: val_acc did not improve from 0.93221\n",
            "100/100 [==============================] - 16s 163ms/step - loss: 0.1481 - acc: 0.9576 - val_loss: 0.2713 - val_acc: 0.9300\n",
            "Epoch 30/1000\n",
            "100/100 [==============================] - ETA: 0s - loss: 0.1558 - acc: 0.9588\n",
            "Epoch 30: val_acc did not improve from 0.93221\n",
            "100/100 [==============================] - 17s 165ms/step - loss: 0.1558 - acc: 0.9588 - val_loss: 0.2801 - val_acc: 0.9283\n",
            "Epoch 31/1000\n",
            "100/100 [==============================] - ETA: 0s - loss: 0.1369 - acc: 0.9606\n",
            "Epoch 31: val_acc did not improve from 0.93221\n",
            "100/100 [==============================] - 16s 164ms/step - loss: 0.1369 - acc: 0.9606 - val_loss: 0.2703 - val_acc: 0.9306\n",
            "Epoch 32/1000\n",
            "100/100 [==============================] - ETA: 0s - loss: 0.1403 - acc: 0.9613\n",
            "Epoch 32: val_acc did not improve from 0.93221\n",
            "100/100 [==============================] - 17s 165ms/step - loss: 0.1403 - acc: 0.9613 - val_loss: 0.2788 - val_acc: 0.9279\n",
            "Epoch 33/1000\n",
            "100/100 [==============================] - ETA: 0s - loss: 0.1273 - acc: 0.9648\n",
            "Epoch 33: val_acc did not improve from 0.93221\n",
            "100/100 [==============================] - 16s 165ms/step - loss: 0.1273 - acc: 0.9648 - val_loss: 0.2873 - val_acc: 0.9290\n",
            "Epoch 33: early stopping\n"
          ]
        }
      ]
    },
    {
      "cell_type": "code",
      "source": [
        "model_best = keras.models.load_model('/content/IncepV3_Best')\n",
        "\n",
        "pred = model_best.predict(test_generator)\n",
        "pred = np.argmax(pred, axis=1)\n",
        "\n",
        "sub = df_test[['imageid_boxid', 'class']].copy()\n",
        "sub['class'] = pred\n",
        "sub.to_csv('InceptionV3.csv', index=False)\n",
        "!kaggle competitions submit -c hackathon-online-2022-image-processing -f 'InceptionV3.csv'  -m 'InceptionV3_Freeze.csv'"
      ],
      "metadata": {
        "colab": {
          "base_uri": "https://localhost:8080/"
        },
        "id": "yDsQJoB0M0e-",
        "outputId": "b3e2325e-8a04-48ce-f650-2596e99f20de"
      },
      "execution_count": null,
      "outputs": [
        {
          "output_type": "stream",
          "name": "stdout",
          "text": [
            "261/261 [==============================] - 25s 92ms/step\n",
            "100% 233k/233k [00:01<00:00, 178kB/s]\n",
            "Successfully submitted to Hackathon Online: Image Processing"
          ]
        }
      ]
    },
    {
      "cell_type": "code",
      "source": [
        "!zip -r -q '/content/drive/MyDrive/Colab Notebooks/SuperAi/Pracetice/Image Processing/IncepV3_Best.zip' /content/IncepV3_Best"
      ],
      "metadata": {
        "id": "GfsVSwIKMo8W"
      },
      "execution_count": null,
      "outputs": []
    },
    {
      "cell_type": "markdown",
      "source": [
        "![image.png](data:image/png;base64,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)"
      ],
      "metadata": {
        "id": "DnhUz0ohgk3j"
      }
    },
    {
      "cell_type": "markdown",
      "source": [
        "### ResNet50"
      ],
      "metadata": {
        "id": "xenoN0iHZPmQ"
      }
    },
    {
      "cell_type": "markdown",
      "source": [
        "**Data**"
      ],
      "metadata": {
        "id": "KKE7lLgqZqyO"
      }
    },
    {
      "cell_type": "code",
      "source": [
        "base_dir = 'train_val_aug'\n",
        "train_dir = os.path.join(base_dir, 'train') #resulf = directory\n",
        "validation_dir = os.path.join(base_dir, 'val')\n",
        "\n",
        "# Add our data-augmentation parameters to ImageDataGenerator\n",
        "# train_datagen = ImageDataGenerator(rescale = 1.0/255.)\n",
        "train_datagen = ImageDataGenerator(rescale = 1./255.,rotation_range = 40, width_shift_range = 0.2, height_shift_range = 0.2, shear_range = 0.2, zoom_range = 0.2, horizontal_flip = False)\n",
        "\n",
        "# Note that the validation data should not be augmented!\n",
        "test_datagen = ImageDataGenerator(rescale = 1.0/255.)\n",
        "\n",
        "# Train Flow training images in batches of 300 using train_datagen generator\n",
        "train_generator = train_datagen.flow_from_directory(train_dir, batch_size = 300, class_mode = 'sparse', target_size = (32, 32))\n",
        "\n",
        "# Validation Flow validation images in batches of 300 using test_datagen generator\n",
        "validation_generator = test_datagen.flow_from_directory(validation_dir,  batch_size = 300, class_mode = 'sparse', target_size = (32, 32))\n",
        "\n",
        "# Test use flow from dataframe เพราะ เวลาส่งชื่อต้องเรียงตาม format เขา\n",
        "test_generator = test_datagen.flow_from_dataframe(df_test, x_col='file_name', batch_size = 300, class_mode = None, target_size = (32, 32), shuffle=False)"
      ],
      "metadata": {
        "colab": {
          "base_uri": "https://localhost:8080/"
        },
        "id": "R38yRm2-Zj7h",
        "outputId": "41b5173b-afa4-4b71-d4bd-2eedc467be33"
      },
      "execution_count": null,
      "outputs": [
        {
          "output_type": "stream",
          "name": "stdout",
          "text": [
            "Found 320008 images belonging to 10 classes.\n",
            "Found 13395 images belonging to 10 classes.\n",
            "Found 26032 validated image filenames.\n"
          ]
        }
      ]
    },
    {
      "cell_type": "markdown",
      "source": [
        "**Model**"
      ],
      "metadata": {
        "id": "dCIQRwlyZsHG"
      }
    },
    {
      "cell_type": "code",
      "source": [
        "from tensorflow.keras.applications import ResNet50\n",
        "from tensorflow.python.keras.models import Sequential\n",
        "from tensorflow.python.keras.layers import Dense, Flatten, GlobalAveragePooling2D\n",
        "\n",
        "#call ResNet50\n",
        "base_model = ResNet50(input_shape=(32, 32, 3), include_top=False, weights=\"imagenet\")\n",
        "\n",
        "# Freeze the base model\n",
        "base_model.trainable = False\n",
        "\n",
        "x = base_model.output\n",
        "x = GlobalAveragePooling2D()(x)\n",
        "x = Flatten(name=\"flatten\")(x)\n",
        "x = Dense(256, activation=\"relu\")(x)\n",
        "x = layers.Dropout(0.5)(x)\n",
        "x = Dense(128, activation=\"relu\")(x)\n",
        "x = Dense(10, activation=\"softmax\")(x)"
      ],
      "metadata": {
        "id": "R0fvIgAvcWlt"
      },
      "execution_count": null,
      "outputs": []
    },
    {
      "cell_type": "code",
      "source": [
        "model = Model(inputs=base_model.input, outputs=x)"
      ],
      "metadata": {
        "id": "NSwJGfIEdgKU"
      },
      "execution_count": null,
      "outputs": []
    },
    {
      "cell_type": "code",
      "source": [
        "model.compile(optimizer = tf.keras.optimizers.SGD(lr=0.0001), loss = 'sparse_categorical_crossentropy', metrics = ['acc'])"
      ],
      "metadata": {
        "colab": {
          "base_uri": "https://localhost:8080/"
        },
        "id": "AM4IUMzYd2j1",
        "outputId": "c50914c3-8b3e-4dd9-b84d-7ab3005dae34"
      },
      "execution_count": null,
      "outputs": [
        {
          "output_type": "stream",
          "name": "stderr",
          "text": [
            "/usr/local/lib/python3.8/dist-packages/tensorflow/python/keras/optimizer_v2/optimizer_v2.py:374: UserWarning: The `lr` argument is deprecated, use `learning_rate` instead.\n",
            "  warnings.warn(\n"
          ]
        }
      ]
    },
    {
      "cell_type": "code",
      "source": [
        "checkpoint = ModelCheckpoint(\"ResNet50_Best\", monitor='val_acc', verbose=1, save_best_only=True, save_weights_only=False, mode='max', period=1)\n",
        "early = EarlyStopping(monitor='val_acc', min_delta=0, patience=5, verbose=1, mode='max') #5 ตัวไม่ดีขึ้นก็หยุด\n",
        "resnet_history = model.fit(train_generator, validation_data = validation_generator, steps_per_epoch = 100, epochs = 1000, callbacks=[checkpoint,early])"
      ],
      "metadata": {
        "id": "-_otjrKiaifd",
        "colab": {
          "base_uri": "https://localhost:8080/"
        },
        "outputId": "fa8cca19-5b1c-4e41-ebc4-619d30284b4e"
      },
      "execution_count": null,
      "outputs": [
        {
          "output_type": "stream",
          "name": "stderr",
          "text": [
            "WARNING:tensorflow:`period` argument is deprecated. Please use `save_freq` to specify the frequency in number of batches seen.\n"
          ]
        },
        {
          "output_type": "stream",
          "name": "stdout",
          "text": [
            "Epoch 1/1000\n",
            "100/100 [==============================] - 49s 456ms/step - loss: 3.2884 - acc: 0.1040 - val_loss: 2.3401 - val_acc: 0.1012\n",
            "\n",
            "Epoch 00001: val_acc improved from -inf to 0.10123, saving model to ResNet50_Best\n"
          ]
        },
        {
          "output_type": "stream",
          "name": "stderr",
          "text": [
            "/usr/local/lib/python3.8/dist-packages/tensorflow/python/keras/utils/generic_utils.py:494: CustomMaskWarning: Custom mask layers require a config and must override get_config. When loading, the custom mask layer must be passed to the custom_objects argument.\n",
            "  warnings.warn('Custom mask layers require a config and must override '\n"
          ]
        },
        {
          "output_type": "stream",
          "name": "stdout",
          "text": [
            "Epoch 2/1000\n",
            "100/100 [==============================] - 41s 415ms/step - loss: 2.7423 - acc: 0.0978 - val_loss: 2.3167 - val_acc: 0.1290\n",
            "\n",
            "Epoch 00002: val_acc improved from 0.10123 to 0.12900, saving model to ResNet50_Best\n"
          ]
        },
        {
          "output_type": "stream",
          "name": "stderr",
          "text": [
            "/usr/local/lib/python3.8/dist-packages/tensorflow/python/keras/utils/generic_utils.py:494: CustomMaskWarning: Custom mask layers require a config and must override get_config. When loading, the custom mask layer must be passed to the custom_objects argument.\n",
            "  warnings.warn('Custom mask layers require a config and must override '\n"
          ]
        },
        {
          "output_type": "stream",
          "name": "stdout",
          "text": [
            "Epoch 3/1000\n",
            "100/100 [==============================] - 40s 403ms/step - loss: 2.6183 - acc: 0.1023 - val_loss: 2.3024 - val_acc: 0.1690\n",
            "\n",
            "Epoch 00003: val_acc improved from 0.12900 to 0.16902, saving model to ResNet50_Best\n"
          ]
        },
        {
          "output_type": "stream",
          "name": "stderr",
          "text": [
            "/usr/local/lib/python3.8/dist-packages/tensorflow/python/keras/utils/generic_utils.py:494: CustomMaskWarning: Custom mask layers require a config and must override get_config. When loading, the custom mask layer must be passed to the custom_objects argument.\n",
            "  warnings.warn('Custom mask layers require a config and must override '\n"
          ]
        },
        {
          "output_type": "stream",
          "name": "stdout",
          "text": [
            "Epoch 4/1000\n",
            "100/100 [==============================] - 40s 400ms/step - loss: 2.5639 - acc: 0.0993 - val_loss: 2.2896 - val_acc: 0.1722\n",
            "\n",
            "Epoch 00004: val_acc improved from 0.16902 to 0.17215, saving model to ResNet50_Best\n"
          ]
        },
        {
          "output_type": "stream",
          "name": "stderr",
          "text": [
            "/usr/local/lib/python3.8/dist-packages/tensorflow/python/keras/utils/generic_utils.py:494: CustomMaskWarning: Custom mask layers require a config and must override get_config. When loading, the custom mask layer must be passed to the custom_objects argument.\n",
            "  warnings.warn('Custom mask layers require a config and must override '\n"
          ]
        },
        {
          "output_type": "stream",
          "name": "stdout",
          "text": [
            "Epoch 5/1000\n",
            "100/100 [==============================] - 40s 403ms/step - loss: 2.5182 - acc: 0.1003 - val_loss: 2.2829 - val_acc: 0.1815\n",
            "\n",
            "Epoch 00005: val_acc improved from 0.17215 to 0.18149, saving model to ResNet50_Best\n"
          ]
        },
        {
          "output_type": "stream",
          "name": "stderr",
          "text": [
            "/usr/local/lib/python3.8/dist-packages/tensorflow/python/keras/utils/generic_utils.py:494: CustomMaskWarning: Custom mask layers require a config and must override get_config. When loading, the custom mask layer must be passed to the custom_objects argument.\n",
            "  warnings.warn('Custom mask layers require a config and must override '\n"
          ]
        },
        {
          "output_type": "stream",
          "name": "stdout",
          "text": [
            "Epoch 6/1000\n",
            "100/100 [==============================] - 40s 404ms/step - loss: 2.4799 - acc: 0.1012 - val_loss: 2.2780 - val_acc: 0.1827\n",
            "\n",
            "Epoch 00006: val_acc improved from 0.18149 to 0.18268, saving model to ResNet50_Best\n"
          ]
        },
        {
          "output_type": "stream",
          "name": "stderr",
          "text": [
            "/usr/local/lib/python3.8/dist-packages/tensorflow/python/keras/utils/generic_utils.py:494: CustomMaskWarning: Custom mask layers require a config and must override get_config. When loading, the custom mask layer must be passed to the custom_objects argument.\n",
            "  warnings.warn('Custom mask layers require a config and must override '\n"
          ]
        },
        {
          "output_type": "stream",
          "name": "stdout",
          "text": [
            "Epoch 7/1000\n",
            "100/100 [==============================] - 38s 379ms/step - loss: 2.4466 - acc: 0.1030 - val_loss: 2.2750 - val_acc: 0.1892\n",
            "\n",
            "Epoch 00007: val_acc improved from 0.18268 to 0.18918, saving model to ResNet50_Best\n"
          ]
        },
        {
          "output_type": "stream",
          "name": "stderr",
          "text": [
            "/usr/local/lib/python3.8/dist-packages/tensorflow/python/keras/utils/generic_utils.py:494: CustomMaskWarning: Custom mask layers require a config and must override get_config. When loading, the custom mask layer must be passed to the custom_objects argument.\n",
            "  warnings.warn('Custom mask layers require a config and must override '\n"
          ]
        },
        {
          "output_type": "stream",
          "name": "stdout",
          "text": [
            "Epoch 8/1000\n",
            "100/100 [==============================] - 38s 380ms/step - loss: 2.4203 - acc: 0.1033 - val_loss: 2.2703 - val_acc: 0.1940\n",
            "\n",
            "Epoch 00008: val_acc improved from 0.18918 to 0.19395, saving model to ResNet50_Best\n"
          ]
        },
        {
          "output_type": "stream",
          "name": "stderr",
          "text": [
            "/usr/local/lib/python3.8/dist-packages/tensorflow/python/keras/utils/generic_utils.py:494: CustomMaskWarning: Custom mask layers require a config and must override get_config. When loading, the custom mask layer must be passed to the custom_objects argument.\n",
            "  warnings.warn('Custom mask layers require a config and must override '\n"
          ]
        },
        {
          "output_type": "stream",
          "name": "stdout",
          "text": [
            "Epoch 9/1000\n",
            "100/100 [==============================] - 37s 375ms/step - loss: 2.4071 - acc: 0.1005 - val_loss: 2.2654 - val_acc: 0.1969\n",
            "\n",
            "Epoch 00009: val_acc improved from 0.19395 to 0.19694, saving model to ResNet50_Best\n"
          ]
        },
        {
          "output_type": "stream",
          "name": "stderr",
          "text": [
            "/usr/local/lib/python3.8/dist-packages/tensorflow/python/keras/utils/generic_utils.py:494: CustomMaskWarning: Custom mask layers require a config and must override get_config. When loading, the custom mask layer must be passed to the custom_objects argument.\n",
            "  warnings.warn('Custom mask layers require a config and must override '\n"
          ]
        },
        {
          "output_type": "stream",
          "name": "stdout",
          "text": [
            "Epoch 10/1000\n",
            "100/100 [==============================] - 36s 362ms/step - loss: 2.3898 - acc: 0.1050 - val_loss: 2.2652 - val_acc: 0.1995\n",
            "\n",
            "Epoch 00010: val_acc improved from 0.19694 to 0.19948, saving model to ResNet50_Best\n"
          ]
        },
        {
          "output_type": "stream",
          "name": "stderr",
          "text": [
            "/usr/local/lib/python3.8/dist-packages/tensorflow/python/keras/utils/generic_utils.py:494: CustomMaskWarning: Custom mask layers require a config and must override get_config. When loading, the custom mask layer must be passed to the custom_objects argument.\n",
            "  warnings.warn('Custom mask layers require a config and must override '\n"
          ]
        },
        {
          "output_type": "stream",
          "name": "stdout",
          "text": [
            "Epoch 11/1000\n",
            "100/100 [==============================] - 35s 347ms/step - loss: 2.3733 - acc: 0.1050 - val_loss: 2.2636 - val_acc: 0.2047\n",
            "\n",
            "Epoch 00011: val_acc improved from 0.19948 to 0.20470, saving model to ResNet50_Best\n"
          ]
        },
        {
          "output_type": "stream",
          "name": "stderr",
          "text": [
            "/usr/local/lib/python3.8/dist-packages/tensorflow/python/keras/utils/generic_utils.py:494: CustomMaskWarning: Custom mask layers require a config and must override get_config. When loading, the custom mask layer must be passed to the custom_objects argument.\n",
            "  warnings.warn('Custom mask layers require a config and must override '\n"
          ]
        },
        {
          "output_type": "stream",
          "name": "stdout",
          "text": [
            "Epoch 12/1000\n",
            "100/100 [==============================] - 36s 356ms/step - loss: 2.3652 - acc: 0.1035 - val_loss: 2.2625 - val_acc: 0.2080\n",
            "\n",
            "Epoch 00012: val_acc improved from 0.20470 to 0.20799, saving model to ResNet50_Best\n"
          ]
        },
        {
          "output_type": "stream",
          "name": "stderr",
          "text": [
            "/usr/local/lib/python3.8/dist-packages/tensorflow/python/keras/utils/generic_utils.py:494: CustomMaskWarning: Custom mask layers require a config and must override get_config. When loading, the custom mask layer must be passed to the custom_objects argument.\n",
            "  warnings.warn('Custom mask layers require a config and must override '\n"
          ]
        },
        {
          "output_type": "stream",
          "name": "stdout",
          "text": [
            "Epoch 13/1000\n",
            "100/100 [==============================] - 33s 331ms/step - loss: 2.3542 - acc: 0.1036 - val_loss: 2.2630 - val_acc: 0.2184\n",
            "\n",
            "Epoch 00013: val_acc improved from 0.20799 to 0.21844, saving model to ResNet50_Best\n"
          ]
        },
        {
          "output_type": "stream",
          "name": "stderr",
          "text": [
            "/usr/local/lib/python3.8/dist-packages/tensorflow/python/keras/utils/generic_utils.py:494: CustomMaskWarning: Custom mask layers require a config and must override get_config. When loading, the custom mask layer must be passed to the custom_objects argument.\n",
            "  warnings.warn('Custom mask layers require a config and must override '\n"
          ]
        },
        {
          "output_type": "stream",
          "name": "stdout",
          "text": [
            "Epoch 14/1000\n",
            "100/100 [==============================] - 35s 355ms/step - loss: 2.3434 - acc: 0.1069 - val_loss: 2.2611 - val_acc: 0.2314\n",
            "\n",
            "Epoch 00014: val_acc improved from 0.21844 to 0.23135, saving model to ResNet50_Best\n"
          ]
        },
        {
          "output_type": "stream",
          "name": "stderr",
          "text": [
            "/usr/local/lib/python3.8/dist-packages/tensorflow/python/keras/utils/generic_utils.py:494: CustomMaskWarning: Custom mask layers require a config and must override get_config. When loading, the custom mask layer must be passed to the custom_objects argument.\n",
            "  warnings.warn('Custom mask layers require a config and must override '\n"
          ]
        },
        {
          "output_type": "stream",
          "name": "stdout",
          "text": [
            "Epoch 15/1000\n",
            "100/100 [==============================] - 32s 323ms/step - loss: 2.3388 - acc: 0.1099 - val_loss: 2.2627 - val_acc: 0.2264\n",
            "\n",
            "Epoch 00015: val_acc did not improve from 0.23135\n",
            "Epoch 16/1000\n",
            "100/100 [==============================] - 32s 321ms/step - loss: 2.3344 - acc: 0.1079 - val_loss: 2.2617 - val_acc: 0.2343\n",
            "\n",
            "Epoch 00016: val_acc improved from 0.23135 to 0.23427, saving model to ResNet50_Best\n"
          ]
        },
        {
          "output_type": "stream",
          "name": "stderr",
          "text": [
            "/usr/local/lib/python3.8/dist-packages/tensorflow/python/keras/utils/generic_utils.py:494: CustomMaskWarning: Custom mask layers require a config and must override get_config. When loading, the custom mask layer must be passed to the custom_objects argument.\n",
            "  warnings.warn('Custom mask layers require a config and must override '\n"
          ]
        },
        {
          "output_type": "stream",
          "name": "stdout",
          "text": [
            "Epoch 17/1000\n",
            "100/100 [==============================] - 33s 333ms/step - loss: 2.3269 - acc: 0.1090 - val_loss: 2.2629 - val_acc: 0.2256\n",
            "\n",
            "Epoch 00017: val_acc did not improve from 0.23427\n",
            "Epoch 18/1000\n",
            "100/100 [==============================] - 32s 318ms/step - loss: 2.3246 - acc: 0.1099 - val_loss: 2.2607 - val_acc: 0.2264\n",
            "\n",
            "Epoch 00018: val_acc did not improve from 0.23427\n",
            "Epoch 19/1000\n",
            "100/100 [==============================] - 32s 314ms/step - loss: 2.3144 - acc: 0.1166 - val_loss: 2.2600 - val_acc: 0.2347\n",
            "\n",
            "Epoch 00019: val_acc improved from 0.23427 to 0.23471, saving model to ResNet50_Best\n"
          ]
        },
        {
          "output_type": "stream",
          "name": "stderr",
          "text": [
            "/usr/local/lib/python3.8/dist-packages/tensorflow/python/keras/utils/generic_utils.py:494: CustomMaskWarning: Custom mask layers require a config and must override get_config. When loading, the custom mask layer must be passed to the custom_objects argument.\n",
            "  warnings.warn('Custom mask layers require a config and must override '\n"
          ]
        },
        {
          "output_type": "stream",
          "name": "stdout",
          "text": [
            "Epoch 20/1000\n",
            "100/100 [==============================] - 34s 335ms/step - loss: 2.3176 - acc: 0.1133 - val_loss: 2.2611 - val_acc: 0.2287\n",
            "\n",
            "Epoch 00020: val_acc did not improve from 0.23471\n",
            "Epoch 21/1000\n",
            "100/100 [==============================] - 31s 313ms/step - loss: 2.3100 - acc: 0.1117 - val_loss: 2.2614 - val_acc: 0.2069\n",
            "\n",
            "Epoch 00021: val_acc did not improve from 0.23471\n",
            "Epoch 22/1000\n",
            "100/100 [==============================] - 33s 332ms/step - loss: 2.3076 - acc: 0.1151 - val_loss: 2.2583 - val_acc: 0.2360\n",
            "\n",
            "Epoch 00022: val_acc improved from 0.23471 to 0.23598, saving model to ResNet50_Best\n"
          ]
        },
        {
          "output_type": "stream",
          "name": "stderr",
          "text": [
            "/usr/local/lib/python3.8/dist-packages/tensorflow/python/keras/utils/generic_utils.py:494: CustomMaskWarning: Custom mask layers require a config and must override get_config. When loading, the custom mask layer must be passed to the custom_objects argument.\n",
            "  warnings.warn('Custom mask layers require a config and must override '\n"
          ]
        },
        {
          "output_type": "stream",
          "name": "stdout",
          "text": [
            "Epoch 23/1000\n",
            "100/100 [==============================] - 31s 307ms/step - loss: 2.3094 - acc: 0.1159 - val_loss: 2.2552 - val_acc: 0.2464\n",
            "\n",
            "Epoch 00023: val_acc improved from 0.23598 to 0.24644, saving model to ResNet50_Best\n"
          ]
        },
        {
          "output_type": "stream",
          "name": "stderr",
          "text": [
            "/usr/local/lib/python3.8/dist-packages/tensorflow/python/keras/utils/generic_utils.py:494: CustomMaskWarning: Custom mask layers require a config and must override get_config. When loading, the custom mask layer must be passed to the custom_objects argument.\n",
            "  warnings.warn('Custom mask layers require a config and must override '\n"
          ]
        },
        {
          "output_type": "stream",
          "name": "stdout",
          "text": [
            "Epoch 24/1000\n",
            "100/100 [==============================] - 31s 305ms/step - loss: 2.3036 - acc: 0.1176 - val_loss: 2.2549 - val_acc: 0.2298\n",
            "\n",
            "Epoch 00024: val_acc did not improve from 0.24644\n",
            "Epoch 25/1000\n",
            "100/100 [==============================] - 33s 333ms/step - loss: 2.3035 - acc: 0.1168 - val_loss: 2.2535 - val_acc: 0.2458\n",
            "\n",
            "Epoch 00025: val_acc did not improve from 0.24644\n",
            "Epoch 26/1000\n",
            "100/100 [==============================] - 30s 302ms/step - loss: 2.3017 - acc: 0.1178 - val_loss: 2.2537 - val_acc: 0.2385\n",
            "\n",
            "Epoch 00026: val_acc did not improve from 0.24644\n",
            "Epoch 27/1000\n",
            "100/100 [==============================] - 33s 326ms/step - loss: 2.2970 - acc: 0.1248 - val_loss: 2.2517 - val_acc: 0.2410\n",
            "\n",
            "Epoch 00027: val_acc did not improve from 0.24644\n",
            "Epoch 28/1000\n",
            "100/100 [==============================] - 30s 300ms/step - loss: 2.2950 - acc: 0.1248 - val_loss: 2.2480 - val_acc: 0.2609\n",
            "\n",
            "Epoch 00028: val_acc improved from 0.24644 to 0.26092, saving model to ResNet50_Best\n"
          ]
        },
        {
          "output_type": "stream",
          "name": "stderr",
          "text": [
            "/usr/local/lib/python3.8/dist-packages/tensorflow/python/keras/utils/generic_utils.py:494: CustomMaskWarning: Custom mask layers require a config and must override get_config. When loading, the custom mask layer must be passed to the custom_objects argument.\n",
            "  warnings.warn('Custom mask layers require a config and must override '\n"
          ]
        },
        {
          "output_type": "stream",
          "name": "stdout",
          "text": [
            "Epoch 29/1000\n",
            "100/100 [==============================] - 30s 300ms/step - loss: 2.2974 - acc: 0.1209 - val_loss: 2.2487 - val_acc: 0.2487\n",
            "\n",
            "Epoch 00029: val_acc did not improve from 0.26092\n",
            "Epoch 30/1000\n",
            "100/100 [==============================] - 33s 327ms/step - loss: 2.2950 - acc: 0.1231 - val_loss: 2.2480 - val_acc: 0.2589\n",
            "\n",
            "Epoch 00030: val_acc did not improve from 0.26092\n",
            "Epoch 31/1000\n",
            "100/100 [==============================] - 32s 317ms/step - loss: 2.2933 - acc: 0.1273 - val_loss: 2.2473 - val_acc: 0.2591\n",
            "\n",
            "Epoch 00031: val_acc did not improve from 0.26092\n",
            "Epoch 32/1000\n",
            "100/100 [==============================] - 30s 295ms/step - loss: 2.2925 - acc: 0.1282 - val_loss: 2.2460 - val_acc: 0.2705\n",
            "\n",
            "Epoch 00032: val_acc improved from 0.26092 to 0.27055, saving model to ResNet50_Best\n"
          ]
        },
        {
          "output_type": "stream",
          "name": "stderr",
          "text": [
            "/usr/local/lib/python3.8/dist-packages/tensorflow/python/keras/utils/generic_utils.py:494: CustomMaskWarning: Custom mask layers require a config and must override get_config. When loading, the custom mask layer must be passed to the custom_objects argument.\n",
            "  warnings.warn('Custom mask layers require a config and must override '\n"
          ]
        },
        {
          "output_type": "stream",
          "name": "stdout",
          "text": [
            "Epoch 33/1000\n",
            "100/100 [==============================] - 30s 296ms/step - loss: 2.2918 - acc: 0.1288 - val_loss: 2.2442 - val_acc: 0.2773\n",
            "\n",
            "Epoch 00033: val_acc improved from 0.27055 to 0.27727, saving model to ResNet50_Best\n"
          ]
        },
        {
          "output_type": "stream",
          "name": "stderr",
          "text": [
            "/usr/local/lib/python3.8/dist-packages/tensorflow/python/keras/utils/generic_utils.py:494: CustomMaskWarning: Custom mask layers require a config and must override get_config. When loading, the custom mask layer must be passed to the custom_objects argument.\n",
            "  warnings.warn('Custom mask layers require a config and must override '\n"
          ]
        },
        {
          "output_type": "stream",
          "name": "stdout",
          "text": [
            "Epoch 34/1000\n",
            "100/100 [==============================] - 33s 328ms/step - loss: 2.2892 - acc: 0.1307 - val_loss: 2.2424 - val_acc: 0.2800\n",
            "\n",
            "Epoch 00034: val_acc improved from 0.27727 to 0.27996, saving model to ResNet50_Best\n"
          ]
        },
        {
          "output_type": "stream",
          "name": "stderr",
          "text": [
            "/usr/local/lib/python3.8/dist-packages/tensorflow/python/keras/utils/generic_utils.py:494: CustomMaskWarning: Custom mask layers require a config and must override get_config. When loading, the custom mask layer must be passed to the custom_objects argument.\n",
            "  warnings.warn('Custom mask layers require a config and must override '\n"
          ]
        },
        {
          "output_type": "stream",
          "name": "stdout",
          "text": [
            "Epoch 35/1000\n",
            "100/100 [==============================] - 32s 317ms/step - loss: 2.2883 - acc: 0.1275 - val_loss: 2.2413 - val_acc: 0.2736\n",
            "\n",
            "Epoch 00035: val_acc did not improve from 0.27996\n",
            "Epoch 36/1000\n",
            "100/100 [==============================] - 30s 305ms/step - loss: 2.2878 - acc: 0.1322 - val_loss: 2.2390 - val_acc: 0.2786\n",
            "\n",
            "Epoch 00036: val_acc did not improve from 0.27996\n",
            "Epoch 37/1000\n",
            "100/100 [==============================] - 30s 296ms/step - loss: 2.2887 - acc: 0.1303 - val_loss: 2.2384 - val_acc: 0.2821\n",
            "\n",
            "Epoch 00037: val_acc improved from 0.27996 to 0.28212, saving model to ResNet50_Best\n"
          ]
        },
        {
          "output_type": "stream",
          "name": "stderr",
          "text": [
            "/usr/local/lib/python3.8/dist-packages/tensorflow/python/keras/utils/generic_utils.py:494: CustomMaskWarning: Custom mask layers require a config and must override get_config. When loading, the custom mask layer must be passed to the custom_objects argument.\n",
            "  warnings.warn('Custom mask layers require a config and must override '\n"
          ]
        },
        {
          "output_type": "stream",
          "name": "stdout",
          "text": [
            "Epoch 38/1000\n",
            "100/100 [==============================] - 30s 298ms/step - loss: 2.2868 - acc: 0.1329 - val_loss: 2.2377 - val_acc: 0.2811\n",
            "\n",
            "Epoch 00038: val_acc did not improve from 0.28212\n",
            "Epoch 39/1000\n",
            "100/100 [==============================] - 32s 323ms/step - loss: 2.2883 - acc: 0.1283 - val_loss: 2.2396 - val_acc: 0.2723\n",
            "\n",
            "Epoch 00039: val_acc did not improve from 0.28212\n",
            "Epoch 40/1000\n",
            "100/100 [==============================] - 32s 318ms/step - loss: 2.2852 - acc: 0.1333 - val_loss: 2.2382 - val_acc: 0.2862\n",
            "\n",
            "Epoch 00040: val_acc improved from 0.28212 to 0.28615, saving model to ResNet50_Best\n"
          ]
        },
        {
          "output_type": "stream",
          "name": "stderr",
          "text": [
            "/usr/local/lib/python3.8/dist-packages/tensorflow/python/keras/utils/generic_utils.py:494: CustomMaskWarning: Custom mask layers require a config and must override get_config. When loading, the custom mask layer must be passed to the custom_objects argument.\n",
            "  warnings.warn('Custom mask layers require a config and must override '\n"
          ]
        },
        {
          "output_type": "stream",
          "name": "stdout",
          "text": [
            "Epoch 41/1000\n",
            "100/100 [==============================] - 30s 296ms/step - loss: 2.2844 - acc: 0.1349 - val_loss: 2.2381 - val_acc: 0.2790\n",
            "\n",
            "Epoch 00041: val_acc did not improve from 0.28615\n",
            "Epoch 42/1000\n",
            "100/100 [==============================] - 36s 361ms/step - loss: 2.2857 - acc: 0.1333 - val_loss: 2.2389 - val_acc: 0.2677\n",
            "\n",
            "Epoch 00042: val_acc did not improve from 0.28615\n",
            "Epoch 43/1000\n",
            "100/100 [==============================] - 30s 296ms/step - loss: 2.2840 - acc: 0.1356 - val_loss: 2.2381 - val_acc: 0.2705\n",
            "\n",
            "Epoch 00043: val_acc did not improve from 0.28615\n",
            "Epoch 44/1000\n",
            "100/100 [==============================] - 30s 303ms/step - loss: 2.2827 - acc: 0.1348 - val_loss: 2.2367 - val_acc: 0.2710\n",
            "\n",
            "Epoch 00044: val_acc did not improve from 0.28615\n",
            "Epoch 45/1000\n",
            "100/100 [==============================] - 29s 293ms/step - loss: 2.2826 - acc: 0.1370 - val_loss: 2.2384 - val_acc: 0.2652\n",
            "\n",
            "Epoch 00045: val_acc did not improve from 0.28615\n",
            "Epoch 00045: early stopping\n"
          ]
        }
      ]
    },
    {
      "cell_type": "code",
      "source": [
        "# Freeze the base model\n",
        "base_model.trainable = False\n",
        "\n",
        "from tensorflow.keras.applications import ResNet50\n",
        "from tensorflow.python.keras.models import Sequential\n",
        "from tensorflow.python.keras.layers import Dense, Flatten, GlobalAveragePooling2D\n",
        "\n",
        "base_model = Sequential()\n",
        "base_model.add(ResNet50(include_top=False, weights='imagenet', pooling='max'))\n",
        "base_model.add(Dense(10, activation='sigmoid'))"
      ],
      "metadata": {
        "id": "mEp7RQUoZtAV"
      },
      "execution_count": null,
      "outputs": []
    },
    {
      "cell_type": "code",
      "source": [
        "# base_model.compile(optimizer = tf.keras.optimizers.SGD(), loss = tf.keras.losses.sparse_categorical_crossentropy(), metrics = ['acc'])\n",
        "base_model.compile(optimizer = tf.keras.optimizers.SGD(lr=0.0001), loss = 'sparse_categorical_crossentropy', metrics = ['acc'])"
      ],
      "metadata": {
        "id": "BLMRb0jYjqaT",
        "colab": {
          "base_uri": "https://localhost:8080/"
        },
        "outputId": "5b7e5e2e-50a9-407c-f5ea-1102c8be96e8"
      },
      "execution_count": null,
      "outputs": [
        {
          "output_type": "stream",
          "name": "stderr",
          "text": [
            "/usr/local/lib/python3.8/dist-packages/tensorflow/python/keras/optimizer_v2/optimizer_v2.py:374: UserWarning: The `lr` argument is deprecated, use `learning_rate` instead.\n",
            "  warnings.warn(\n"
          ]
        }
      ]
    },
    {
      "cell_type": "code",
      "source": [
        "!rm -rf ResNet50_Best"
      ],
      "metadata": {
        "id": "K97KKM3vEG0j"
      },
      "execution_count": null,
      "outputs": []
    },
    {
      "cell_type": "code",
      "source": [
        "model_best = keras.models.load_model('ResNet50_Best')\n",
        "\n",
        "pred = model_best.predict(test_generator)\n",
        "pred = np.argmax(pred, axis=1)\n",
        "\n",
        "sub = df_test[['imageid_boxid', 'class']].copy()\n",
        "sub['class'] = pred\n",
        "sub.to_csv('ResNet50.csv', index=False)\n",
        "!kaggle competitions submit -c hackathon-online-2022-image-processing -f 'ResNet50.csv'  -m 'ResNet50_Freeze.csv'"
      ],
      "metadata": {
        "id": "qKdbdDfGa1Ln",
        "colab": {
          "base_uri": "https://localhost:8080/"
        },
        "outputId": "0d42c732-68a7-4213-8555-ed7ef7f2a043"
      },
      "execution_count": null,
      "outputs": [
        {
          "output_type": "stream",
          "name": "stdout",
          "text": [
            "Traceback (most recent call last):\n",
            "  File \"/usr/local/bin/kaggle\", line 5, in <module>\n",
            "    from kaggle.cli import main\n",
            "  File \"/usr/local/lib/python3.8/dist-packages/kaggle/__init__.py\", line 23, in <module>\n",
            "    api.authenticate()\n",
            "  File \"/usr/local/lib/python3.8/dist-packages/kaggle/api/kaggle_api_extended.py\", line 164, in authenticate\n",
            "    raise IOError('Could not find {}. Make sure it\\'s located in'\n",
            "OSError: Could not find kaggle.json. Make sure it's located in /root/.kaggle. Or use the environment method.\n"
          ]
        }
      ]
    },
    {
      "cell_type": "markdown",
      "source": [
        "**Fine Tune**"
      ],
      "metadata": {
        "id": "xjlJ_aeDa6TM"
      }
    },
    {
      "cell_type": "code",
      "source": [
        "# Unfreeze the base model\n",
        "base_model.trainable = True\n",
        "\n",
        "#Everytime you Unfreeze call compile please\n",
        "model.compile(optimizer = tf.keras.optimizers.SGD(lr=0.0001), loss = 'sparse_categorical_crossentropy', metrics = ['acc'])\n",
        "\n",
        "resnet_history = model.fit(train_generator, validation_data = validation_generator, steps_per_epoch = 100, epochs = 1000, callbacks=[checkpoint,early])"
      ],
      "metadata": {
        "id": "2h04I5aOa7tG",
        "colab": {
          "base_uri": "https://localhost:8080/"
        },
        "outputId": "f416abb6-f04b-460d-ec42-9e3e1139e73f"
      },
      "execution_count": null,
      "outputs": [
        {
          "output_type": "stream",
          "name": "stderr",
          "text": [
            "/usr/local/lib/python3.8/dist-packages/tensorflow/python/keras/optimizer_v2/optimizer_v2.py:374: UserWarning: The `lr` argument is deprecated, use `learning_rate` instead.\n",
            "  warnings.warn(\n"
          ]
        },
        {
          "output_type": "stream",
          "name": "stdout",
          "text": [
            "Epoch 1/1000\n",
            "100/100 [==============================] - 38s 345ms/step - loss: 3.7745 - acc: 0.1006 - val_loss: 4.0438 - val_acc: 0.0930\n",
            "\n",
            "Epoch 00001: val_acc did not improve from 0.28615\n",
            "Epoch 2/1000\n",
            "100/100 [==============================] - 31s 306ms/step - loss: 3.5346 - acc: 0.1003 - val_loss: 13.9018 - val_acc: 0.1760\n",
            "\n",
            "Epoch 00002: val_acc did not improve from 0.28615\n",
            "Epoch 3/1000\n",
            "100/100 [==============================] - 30s 300ms/step - loss: 3.3260 - acc: 0.1065 - val_loss: 107.5515 - val_acc: 0.1874\n",
            "\n",
            "Epoch 00003: val_acc did not improve from 0.28615\n",
            "Epoch 4/1000\n",
            "100/100 [==============================] - 30s 301ms/step - loss: 3.1587 - acc: 0.1043 - val_loss: 168.7744 - val_acc: 0.1891\n",
            "\n",
            "Epoch 00004: val_acc did not improve from 0.28615\n",
            "Epoch 5/1000\n",
            "100/100 [==============================] - 34s 335ms/step - loss: 2.9511 - acc: 0.1075 - val_loss: 130.3514 - val_acc: 0.1907\n",
            "\n",
            "Epoch 00005: val_acc did not improve from 0.28615\n",
            "Epoch 6/1000\n",
            "100/100 [==============================] - 31s 308ms/step - loss: 2.7617 - acc: 0.1072 - val_loss: 55.8641 - val_acc: 0.1375\n",
            "\n",
            "Epoch 00006: val_acc did not improve from 0.28615\n",
            "Epoch 7/1000\n",
            "100/100 [==============================] - 33s 335ms/step - loss: 2.6664 - acc: 0.1094 - val_loss: 20.5373 - val_acc: 0.1395\n",
            "\n",
            "Epoch 00007: val_acc did not improve from 0.28615\n",
            "Epoch 8/1000\n",
            "100/100 [==============================] - 31s 304ms/step - loss: 2.5971 - acc: 0.1091 - val_loss: 6.2700 - val_acc: 0.1059\n",
            "\n",
            "Epoch 00008: val_acc did not improve from 0.28615\n",
            "Epoch 9/1000\n",
            "100/100 [==============================] - 30s 303ms/step - loss: 2.5581 - acc: 0.1083 - val_loss: 3.0331 - val_acc: 0.1043\n",
            "\n",
            "Epoch 00009: val_acc did not improve from 0.28615\n",
            "Epoch 10/1000\n",
            "100/100 [==============================] - 30s 299ms/step - loss: 2.5139 - acc: 0.1079 - val_loss: 2.4515 - val_acc: 0.1038\n",
            "\n",
            "Epoch 00010: val_acc did not improve from 0.28615\n",
            "Epoch 00010: early stopping\n"
          ]
        }
      ]
    },
    {
      "cell_type": "code",
      "source": [
        "model_best = keras.models.load_model('ResNet50_Best')\n",
        "\n",
        "pred = model_best.predict(test_generator)\n",
        "pred = np.argmax(pred, axis=1)\n",
        "\n",
        "sub = df_test[['imageid_boxid', 'class']].copy()\n",
        "sub['class'] = pred\n",
        "sub.to_csv('ResNet50.csv', index=False)\n",
        "!kaggle competitions submit -c hackathon-online-2022-image-processing -f 'ResNet50.csv'  -m 'ResNet50_Unfreeze.csv'"
      ],
      "metadata": {
        "id": "iO5dk2qmbMt9",
        "colab": {
          "base_uri": "https://localhost:8080/"
        },
        "outputId": "00b0ee7e-8ac5-4fdf-890b-9f63f9837bf7"
      },
      "execution_count": null,
      "outputs": [
        {
          "output_type": "stream",
          "name": "stdout",
          "text": [
            "Traceback (most recent call last):\n",
            "  File \"/usr/local/bin/kaggle\", line 5, in <module>\n",
            "    from kaggle.cli import main\n",
            "  File \"/usr/local/lib/python3.8/dist-packages/kaggle/__init__.py\", line 23, in <module>\n",
            "    api.authenticate()\n",
            "  File \"/usr/local/lib/python3.8/dist-packages/kaggle/api/kaggle_api_extended.py\", line 164, in authenticate\n",
            "    raise IOError('Could not find {}. Make sure it\\'s located in'\n",
            "OSError: Could not find kaggle.json. Make sure it's located in /root/.kaggle. Or use the environment method.\n"
          ]
        }
      ]
    },
    {
      "cell_type": "markdown",
      "source": [
        "### EfficientNet 94.13%"
      ],
      "metadata": {
        "id": "ap_bb7zCEM6H"
      }
    },
    {
      "cell_type": "markdown",
      "source": [
        "**Data**"
      ],
      "metadata": {
        "id": "XiaRthabFMm3"
      }
    },
    {
      "cell_type": "code",
      "source": [
        "#batch_size 20 because Colab Pro Plus\n",
        "base_dir = 'train_val_aug'\n",
        "train_dir = os.path.join(base_dir, 'train') #resulf = directory\n",
        "validation_dir = os.path.join(base_dir, 'val')\n",
        "\n",
        "# Add our data-augmentation parameters to ImageDataGenerator\n",
        "train_datagen = ImageDataGenerator(rescale = 1.0/255.)\n",
        "# train_datagen = ImageDataGenerator(rescale = 1./255.,rotation_range = 40, width_shift_range = 0.2, height_shift_range = 0.2, shear_range = 0.2, zoom_range = 0.2, horizontal_flip = False)\n",
        "\n",
        "# Note that the validation data should not be augmented!\n",
        "test_datagen = ImageDataGenerator(rescale = 1.0/255.)\n",
        "\n",
        "# Train Flow training images in batches of 20 using train_datagen generator\n",
        "train_generator = train_datagen.flow_from_directory(train_dir, batch_size = 20, class_mode = 'sparse', target_size = (224, 224))\n",
        "\n",
        "# Validation Flow validation images in batches of 20 using test_datagen generator\n",
        "validation_generator = test_datagen.flow_from_directory(validation_dir,  batch_size = 20, class_mode = 'sparse', target_size = (224, 224))\n",
        "\n",
        "# Test use flow from dataframe เพราะ เวลาส่งชื่อต้องเรียงตาม format เขา\n",
        "test_generator = test_datagen.flow_from_dataframe(df_test, x_col='file_name', batch_size = 20, class_mode = None, target_size = (224, 224), shuffle=False)"
      ],
      "metadata": {
        "id": "RunjbiJrFT1x",
        "colab": {
          "base_uri": "https://localhost:8080/"
        },
        "outputId": "198a6c16-2a11-430c-c59d-d45273b13842"
      },
      "execution_count": null,
      "outputs": [
        {
          "output_type": "stream",
          "name": "stdout",
          "text": [
            "Found 260042 images belonging to 10 classes.\n",
            "Found 13480 images belonging to 10 classes.\n",
            "Found 26032 validated image filenames.\n"
          ]
        }
      ]
    },
    {
      "cell_type": "markdown",
      "source": [
        "**Model**"
      ],
      "metadata": {
        "id": "y_WUEFYeFUmp"
      }
    },
    {
      "cell_type": "code",
      "source": [
        "# Rebuild top\n",
        "x = layers.GlobalAveragePooling2D(name=\"avg_pool\")(model.output)\n",
        "x = layers.BatchNormalization()(x)\n",
        "\n",
        "top_dropout_rate = 0.2\n",
        "x = layers.Dropout(top_dropout_rate, name=\"top_dropout\")(x)\n",
        "outputs = layers.Dense(NUM_CLASSES, activation=\"softmax\", name=\"pred\")(x)\n",
        "\n",
        "# Compile\n",
        "model = tf.keras.Model(inputs, outputs, name=\"EfficientNet\")\n",
        "model.compile(tf.keras.optimizers.Adam(learning_rate=1e-2), loss=\"sparse_categorical_crossentropy\", metrics=[\"accuracy\"])"
      ],
      "metadata": {
        "id": "rAc2cEmmVUmc"
      },
      "execution_count": null,
      "outputs": []
    },
    {
      "cell_type": "code",
      "source": [
        "#Call EFF\n",
        "base_model = efficientnet.keras.EfficientNetB0(input_shape = (224, 224, 3), include_top = False, weights = 'imagenet')\n",
        "\n",
        "# Unfreeze the base model\n",
        "base_model.trainable = False\n",
        "\n",
        "# Flatten the output layer to 1 dimension\n",
        "x = layers.Flatten()(base_model.output)\n",
        "\n",
        "# Add a fully connected layer with 512 hidden units and ReLU activation\n",
        "x = layers.Dense(1024, activation='relu')(x)\n",
        "x = layers.Dropout(0.4)(x)\n",
        "\n",
        "# Add a fully connected layer with 512 hidden units and ReLU activation\n",
        "x = layers.Dense(1024, activation='relu')(x)\n",
        "x = layers.Dropout(0.4)(x)\n",
        "\n",
        "# Add a final sigmoid layer with ... node for classification output\n",
        "x = layers.Dense(10, activation='sigmoid')(x)\n",
        "\n",
        "model = tf.keras.models.Model(base_model.input, x)\n",
        "\n",
        "#อย่าลืมเปลี่ยน loss ให้เหมาะกับงาน แต่คิดว่าแค่ตัวนี้ก็เพียงพอ\n",
        "model.compile(tf.keras.optimizers.RMSprop(lr=0.0001, decay=1e-6), loss='sparse_categorical_crossentropy', metrics=['accuracy'])"
      ],
      "metadata": {
        "id": "lv47t2xExD52"
      },
      "execution_count": null,
      "outputs": []
    },
    {
      "cell_type": "code",
      "source": [
        "!rm -rf EFF_best\n",
        "\n",
        "checkpoint = ModelCheckpoint(\"EFF_best\", monitor='val_accuracy', verbose=1, save_best_only=True, save_weights_only=False, mode='max', period=1)\n",
        "early = EarlyStopping(monitor='val_accuracy', min_delta=0, patience=2, verbose=1, mode='max') #2 ตัวไม่ดีขึ้นก็หยุด\n",
        "eff_history = model.fit(train_generator, validation_data = validation_generator, steps_per_epoch = 100, epochs = 1000, callbacks=[checkpoint,early], verbose=2)"
      ],
      "metadata": {
        "id": "RK0A4OjPGRfb",
        "colab": {
          "base_uri": "https://localhost:8080/",
          "height": 626
        },
        "outputId": "c85ec55b-8ae5-4809-e0a1-4e9dc6cf6799"
      },
      "execution_count": null,
      "outputs": [
        {
          "output_type": "stream",
          "name": "stderr",
          "text": [
            "WARNING:tensorflow:`period` argument is deprecated. Please use `save_freq` to specify the frequency in number of batches seen.\n"
          ]
        },
        {
          "output_type": "stream",
          "name": "stdout",
          "text": [
            "Epoch 1/1000\n",
            "\n",
            "Epoch 1: val_accuracy improved from -inf to 0.07567, saving model to EFF_best\n"
          ]
        },
        {
          "output_type": "stream",
          "name": "stderr",
          "text": [
            "WARNING:absl:Found untraced functions such as _jit_compiled_convolution_op, _jit_compiled_convolution_op, _jit_compiled_convolution_op, _jit_compiled_convolution_op, _jit_compiled_convolution_op while saving (showing 5 of 273). These functions will not be directly callable after loading.\n"
          ]
        },
        {
          "output_type": "stream",
          "name": "stdout",
          "text": [
            "100/100 - 329s - loss: 7.1947 - accuracy: 0.0965 - val_loss: 2.7965 - val_accuracy: 0.0757 - 329s/epoch - 3s/step\n",
            "Epoch 2/1000\n",
            "\n",
            "Epoch 2: val_accuracy improved from 0.07567 to 0.07656, saving model to EFF_best\n"
          ]
        },
        {
          "output_type": "stream",
          "name": "stderr",
          "text": [
            "WARNING:absl:Found untraced functions such as _jit_compiled_convolution_op, _jit_compiled_convolution_op, _jit_compiled_convolution_op, _jit_compiled_convolution_op, _jit_compiled_convolution_op while saving (showing 5 of 273). These functions will not be directly callable after loading.\n"
          ]
        },
        {
          "output_type": "stream",
          "name": "stdout",
          "text": [
            "100/100 - 503s - loss: 5.1347 - accuracy: 0.0975 - val_loss: 2.7500 - val_accuracy: 0.0766 - 503s/epoch - 5s/step\n",
            "Epoch 3/1000\n"
          ]
        },
        {
          "output_type": "error",
          "ename": "KeyboardInterrupt",
          "evalue": "ignored",
          "traceback": [
            "\u001b[0;31m---------------------------------------------------------------------------\u001b[0m",
            "\u001b[0;31mKeyboardInterrupt\u001b[0m                         Traceback (most recent call last)",
            "\u001b[0;32m<ipython-input-31-8f0f4a0040ed>\u001b[0m in \u001b[0;36m<module>\u001b[0;34m\u001b[0m\n\u001b[1;32m      3\u001b[0m \u001b[0mcheckpoint\u001b[0m \u001b[0;34m=\u001b[0m \u001b[0mModelCheckpoint\u001b[0m\u001b[0;34m(\u001b[0m\u001b[0;34m\"EFF_best\"\u001b[0m\u001b[0;34m,\u001b[0m \u001b[0mmonitor\u001b[0m\u001b[0;34m=\u001b[0m\u001b[0;34m'val_accuracy'\u001b[0m\u001b[0;34m,\u001b[0m \u001b[0mverbose\u001b[0m\u001b[0;34m=\u001b[0m\u001b[0;36m1\u001b[0m\u001b[0;34m,\u001b[0m \u001b[0msave_best_only\u001b[0m\u001b[0;34m=\u001b[0m\u001b[0;32mTrue\u001b[0m\u001b[0;34m,\u001b[0m \u001b[0msave_weights_only\u001b[0m\u001b[0;34m=\u001b[0m\u001b[0;32mFalse\u001b[0m\u001b[0;34m,\u001b[0m \u001b[0mmode\u001b[0m\u001b[0;34m=\u001b[0m\u001b[0;34m'max'\u001b[0m\u001b[0;34m,\u001b[0m \u001b[0mperiod\u001b[0m\u001b[0;34m=\u001b[0m\u001b[0;36m1\u001b[0m\u001b[0;34m)\u001b[0m\u001b[0;34m\u001b[0m\u001b[0;34m\u001b[0m\u001b[0m\n\u001b[1;32m      4\u001b[0m \u001b[0mearly\u001b[0m \u001b[0;34m=\u001b[0m \u001b[0mEarlyStopping\u001b[0m\u001b[0;34m(\u001b[0m\u001b[0mmonitor\u001b[0m\u001b[0;34m=\u001b[0m\u001b[0;34m'val_accuracy'\u001b[0m\u001b[0;34m,\u001b[0m \u001b[0mmin_delta\u001b[0m\u001b[0;34m=\u001b[0m\u001b[0;36m0\u001b[0m\u001b[0;34m,\u001b[0m \u001b[0mpatience\u001b[0m\u001b[0;34m=\u001b[0m\u001b[0;36m2\u001b[0m\u001b[0;34m,\u001b[0m \u001b[0mverbose\u001b[0m\u001b[0;34m=\u001b[0m\u001b[0;36m1\u001b[0m\u001b[0;34m,\u001b[0m \u001b[0mmode\u001b[0m\u001b[0;34m=\u001b[0m\u001b[0;34m'max'\u001b[0m\u001b[0;34m)\u001b[0m \u001b[0;31m#2 ตัวไม่ดีขึ้นก็หยุด\u001b[0m\u001b[0;34m\u001b[0m\u001b[0;34m\u001b[0m\u001b[0m\n\u001b[0;32m----> 5\u001b[0;31m \u001b[0meff_history\u001b[0m \u001b[0;34m=\u001b[0m \u001b[0mmodel\u001b[0m\u001b[0;34m.\u001b[0m\u001b[0mfit\u001b[0m\u001b[0;34m(\u001b[0m\u001b[0mtrain_generator\u001b[0m\u001b[0;34m,\u001b[0m \u001b[0mvalidation_data\u001b[0m \u001b[0;34m=\u001b[0m \u001b[0mvalidation_generator\u001b[0m\u001b[0;34m,\u001b[0m \u001b[0msteps_per_epoch\u001b[0m \u001b[0;34m=\u001b[0m \u001b[0;36m100\u001b[0m\u001b[0;34m,\u001b[0m \u001b[0mepochs\u001b[0m \u001b[0;34m=\u001b[0m \u001b[0;36m1000\u001b[0m\u001b[0;34m,\u001b[0m \u001b[0mcallbacks\u001b[0m\u001b[0;34m=\u001b[0m\u001b[0;34m[\u001b[0m\u001b[0mcheckpoint\u001b[0m\u001b[0;34m,\u001b[0m\u001b[0mearly\u001b[0m\u001b[0;34m]\u001b[0m\u001b[0;34m,\u001b[0m \u001b[0mverbose\u001b[0m\u001b[0;34m=\u001b[0m\u001b[0;36m2\u001b[0m\u001b[0;34m)\u001b[0m\u001b[0;34m\u001b[0m\u001b[0;34m\u001b[0m\u001b[0m\n\u001b[0m",
            "\u001b[0;32m/usr/local/lib/python3.8/dist-packages/keras/utils/traceback_utils.py\u001b[0m in \u001b[0;36merror_handler\u001b[0;34m(*args, **kwargs)\u001b[0m\n\u001b[1;32m     62\u001b[0m     \u001b[0mfiltered_tb\u001b[0m \u001b[0;34m=\u001b[0m \u001b[0;32mNone\u001b[0m\u001b[0;34m\u001b[0m\u001b[0;34m\u001b[0m\u001b[0m\n\u001b[1;32m     63\u001b[0m     \u001b[0;32mtry\u001b[0m\u001b[0;34m:\u001b[0m\u001b[0;34m\u001b[0m\u001b[0;34m\u001b[0m\u001b[0m\n\u001b[0;32m---> 64\u001b[0;31m       \u001b[0;32mreturn\u001b[0m \u001b[0mfn\u001b[0m\u001b[0;34m(\u001b[0m\u001b[0;34m*\u001b[0m\u001b[0margs\u001b[0m\u001b[0;34m,\u001b[0m \u001b[0;34m**\u001b[0m\u001b[0mkwargs\u001b[0m\u001b[0;34m)\u001b[0m\u001b[0;34m\u001b[0m\u001b[0;34m\u001b[0m\u001b[0m\n\u001b[0m\u001b[1;32m     65\u001b[0m     \u001b[0;32mexcept\u001b[0m \u001b[0mException\u001b[0m \u001b[0;32mas\u001b[0m \u001b[0me\u001b[0m\u001b[0;34m:\u001b[0m  \u001b[0;31m# pylint: disable=broad-except\u001b[0m\u001b[0;34m\u001b[0m\u001b[0;34m\u001b[0m\u001b[0m\n\u001b[1;32m     66\u001b[0m       \u001b[0mfiltered_tb\u001b[0m \u001b[0;34m=\u001b[0m \u001b[0m_process_traceback_frames\u001b[0m\u001b[0;34m(\u001b[0m\u001b[0me\u001b[0m\u001b[0;34m.\u001b[0m\u001b[0m__traceback__\u001b[0m\u001b[0;34m)\u001b[0m\u001b[0;34m\u001b[0m\u001b[0;34m\u001b[0m\u001b[0m\n",
            "\u001b[0;32m/usr/local/lib/python3.8/dist-packages/keras/engine/training.py\u001b[0m in \u001b[0;36mfit\u001b[0;34m(self, x, y, batch_size, epochs, verbose, callbacks, validation_split, validation_data, shuffle, class_weight, sample_weight, initial_epoch, steps_per_epoch, validation_steps, validation_batch_size, validation_freq, max_queue_size, workers, use_multiprocessing)\u001b[0m\n\u001b[1;32m   1443\u001b[0m                 \u001b[0mmodel\u001b[0m\u001b[0;34m=\u001b[0m\u001b[0mself\u001b[0m\u001b[0;34m,\u001b[0m\u001b[0;34m\u001b[0m\u001b[0;34m\u001b[0m\u001b[0m\n\u001b[1;32m   1444\u001b[0m                 steps_per_execution=self._steps_per_execution)\n\u001b[0;32m-> 1445\u001b[0;31m           val_logs = self.evaluate(\n\u001b[0m\u001b[1;32m   1446\u001b[0m               \u001b[0mx\u001b[0m\u001b[0;34m=\u001b[0m\u001b[0mval_x\u001b[0m\u001b[0;34m,\u001b[0m\u001b[0;34m\u001b[0m\u001b[0;34m\u001b[0m\u001b[0m\n\u001b[1;32m   1447\u001b[0m               \u001b[0my\u001b[0m\u001b[0;34m=\u001b[0m\u001b[0mval_y\u001b[0m\u001b[0;34m,\u001b[0m\u001b[0;34m\u001b[0m\u001b[0;34m\u001b[0m\u001b[0m\n",
            "\u001b[0;32m/usr/local/lib/python3.8/dist-packages/keras/utils/traceback_utils.py\u001b[0m in \u001b[0;36merror_handler\u001b[0;34m(*args, **kwargs)\u001b[0m\n\u001b[1;32m     62\u001b[0m     \u001b[0mfiltered_tb\u001b[0m \u001b[0;34m=\u001b[0m \u001b[0;32mNone\u001b[0m\u001b[0;34m\u001b[0m\u001b[0;34m\u001b[0m\u001b[0m\n\u001b[1;32m     63\u001b[0m     \u001b[0;32mtry\u001b[0m\u001b[0;34m:\u001b[0m\u001b[0;34m\u001b[0m\u001b[0;34m\u001b[0m\u001b[0m\n\u001b[0;32m---> 64\u001b[0;31m       \u001b[0;32mreturn\u001b[0m \u001b[0mfn\u001b[0m\u001b[0;34m(\u001b[0m\u001b[0;34m*\u001b[0m\u001b[0margs\u001b[0m\u001b[0;34m,\u001b[0m \u001b[0;34m**\u001b[0m\u001b[0mkwargs\u001b[0m\u001b[0;34m)\u001b[0m\u001b[0;34m\u001b[0m\u001b[0;34m\u001b[0m\u001b[0m\n\u001b[0m\u001b[1;32m     65\u001b[0m     \u001b[0;32mexcept\u001b[0m \u001b[0mException\u001b[0m \u001b[0;32mas\u001b[0m \u001b[0me\u001b[0m\u001b[0;34m:\u001b[0m  \u001b[0;31m# pylint: disable=broad-except\u001b[0m\u001b[0;34m\u001b[0m\u001b[0;34m\u001b[0m\u001b[0m\n\u001b[1;32m     66\u001b[0m       \u001b[0mfiltered_tb\u001b[0m \u001b[0;34m=\u001b[0m \u001b[0m_process_traceback_frames\u001b[0m\u001b[0;34m(\u001b[0m\u001b[0me\u001b[0m\u001b[0;34m.\u001b[0m\u001b[0m__traceback__\u001b[0m\u001b[0;34m)\u001b[0m\u001b[0;34m\u001b[0m\u001b[0;34m\u001b[0m\u001b[0m\n",
            "\u001b[0;32m/usr/local/lib/python3.8/dist-packages/keras/engine/training.py\u001b[0m in \u001b[0;36mevaluate\u001b[0;34m(self, x, y, batch_size, verbose, sample_weight, steps, callbacks, max_queue_size, workers, use_multiprocessing, return_dict, **kwargs)\u001b[0m\n\u001b[1;32m   1754\u001b[0m             \u001b[0;32mwith\u001b[0m \u001b[0mtf\u001b[0m\u001b[0;34m.\u001b[0m\u001b[0mprofiler\u001b[0m\u001b[0;34m.\u001b[0m\u001b[0mexperimental\u001b[0m\u001b[0;34m.\u001b[0m\u001b[0mTrace\u001b[0m\u001b[0;34m(\u001b[0m\u001b[0;34m'test'\u001b[0m\u001b[0;34m,\u001b[0m \u001b[0mstep_num\u001b[0m\u001b[0;34m=\u001b[0m\u001b[0mstep\u001b[0m\u001b[0;34m,\u001b[0m \u001b[0m_r\u001b[0m\u001b[0;34m=\u001b[0m\u001b[0;36m1\u001b[0m\u001b[0;34m)\u001b[0m\u001b[0;34m:\u001b[0m\u001b[0;34m\u001b[0m\u001b[0;34m\u001b[0m\u001b[0m\n\u001b[1;32m   1755\u001b[0m               \u001b[0mcallbacks\u001b[0m\u001b[0;34m.\u001b[0m\u001b[0mon_test_batch_begin\u001b[0m\u001b[0;34m(\u001b[0m\u001b[0mstep\u001b[0m\u001b[0;34m)\u001b[0m\u001b[0;34m\u001b[0m\u001b[0;34m\u001b[0m\u001b[0m\n\u001b[0;32m-> 1756\u001b[0;31m               \u001b[0mtmp_logs\u001b[0m \u001b[0;34m=\u001b[0m \u001b[0mself\u001b[0m\u001b[0;34m.\u001b[0m\u001b[0mtest_function\u001b[0m\u001b[0;34m(\u001b[0m\u001b[0miterator\u001b[0m\u001b[0;34m)\u001b[0m\u001b[0;34m\u001b[0m\u001b[0;34m\u001b[0m\u001b[0m\n\u001b[0m\u001b[1;32m   1757\u001b[0m               \u001b[0;32mif\u001b[0m \u001b[0mdata_handler\u001b[0m\u001b[0;34m.\u001b[0m\u001b[0mshould_sync\u001b[0m\u001b[0;34m:\u001b[0m\u001b[0;34m\u001b[0m\u001b[0;34m\u001b[0m\u001b[0m\n\u001b[1;32m   1758\u001b[0m                 \u001b[0mcontext\u001b[0m\u001b[0;34m.\u001b[0m\u001b[0masync_wait\u001b[0m\u001b[0;34m(\u001b[0m\u001b[0;34m)\u001b[0m\u001b[0;34m\u001b[0m\u001b[0;34m\u001b[0m\u001b[0m\n",
            "\u001b[0;32m/usr/local/lib/python3.8/dist-packages/tensorflow/python/util/traceback_utils.py\u001b[0m in \u001b[0;36merror_handler\u001b[0;34m(*args, **kwargs)\u001b[0m\n\u001b[1;32m    148\u001b[0m     \u001b[0mfiltered_tb\u001b[0m \u001b[0;34m=\u001b[0m \u001b[0;32mNone\u001b[0m\u001b[0;34m\u001b[0m\u001b[0;34m\u001b[0m\u001b[0m\n\u001b[1;32m    149\u001b[0m     \u001b[0;32mtry\u001b[0m\u001b[0;34m:\u001b[0m\u001b[0;34m\u001b[0m\u001b[0;34m\u001b[0m\u001b[0m\n\u001b[0;32m--> 150\u001b[0;31m       \u001b[0;32mreturn\u001b[0m \u001b[0mfn\u001b[0m\u001b[0;34m(\u001b[0m\u001b[0;34m*\u001b[0m\u001b[0margs\u001b[0m\u001b[0;34m,\u001b[0m \u001b[0;34m**\u001b[0m\u001b[0mkwargs\u001b[0m\u001b[0;34m)\u001b[0m\u001b[0;34m\u001b[0m\u001b[0;34m\u001b[0m\u001b[0m\n\u001b[0m\u001b[1;32m    151\u001b[0m     \u001b[0;32mexcept\u001b[0m \u001b[0mException\u001b[0m \u001b[0;32mas\u001b[0m \u001b[0me\u001b[0m\u001b[0;34m:\u001b[0m\u001b[0;34m\u001b[0m\u001b[0;34m\u001b[0m\u001b[0m\n\u001b[1;32m    152\u001b[0m       \u001b[0mfiltered_tb\u001b[0m \u001b[0;34m=\u001b[0m \u001b[0m_process_traceback_frames\u001b[0m\u001b[0;34m(\u001b[0m\u001b[0me\u001b[0m\u001b[0;34m.\u001b[0m\u001b[0m__traceback__\u001b[0m\u001b[0;34m)\u001b[0m\u001b[0;34m\u001b[0m\u001b[0;34m\u001b[0m\u001b[0m\n",
            "\u001b[0;32m/usr/local/lib/python3.8/dist-packages/tensorflow/python/eager/def_function.py\u001b[0m in \u001b[0;36m__call__\u001b[0;34m(self, *args, **kwds)\u001b[0m\n\u001b[1;32m    913\u001b[0m \u001b[0;34m\u001b[0m\u001b[0m\n\u001b[1;32m    914\u001b[0m       \u001b[0;32mwith\u001b[0m \u001b[0mOptionalXlaContext\u001b[0m\u001b[0;34m(\u001b[0m\u001b[0mself\u001b[0m\u001b[0;34m.\u001b[0m\u001b[0m_jit_compile\u001b[0m\u001b[0;34m)\u001b[0m\u001b[0;34m:\u001b[0m\u001b[0;34m\u001b[0m\u001b[0;34m\u001b[0m\u001b[0m\n\u001b[0;32m--> 915\u001b[0;31m         \u001b[0mresult\u001b[0m \u001b[0;34m=\u001b[0m \u001b[0mself\u001b[0m\u001b[0;34m.\u001b[0m\u001b[0m_call\u001b[0m\u001b[0;34m(\u001b[0m\u001b[0;34m*\u001b[0m\u001b[0margs\u001b[0m\u001b[0;34m,\u001b[0m \u001b[0;34m**\u001b[0m\u001b[0mkwds\u001b[0m\u001b[0;34m)\u001b[0m\u001b[0;34m\u001b[0m\u001b[0;34m\u001b[0m\u001b[0m\n\u001b[0m\u001b[1;32m    916\u001b[0m \u001b[0;34m\u001b[0m\u001b[0m\n\u001b[1;32m    917\u001b[0m       \u001b[0mnew_tracing_count\u001b[0m \u001b[0;34m=\u001b[0m \u001b[0mself\u001b[0m\u001b[0;34m.\u001b[0m\u001b[0mexperimental_get_tracing_count\u001b[0m\u001b[0;34m(\u001b[0m\u001b[0;34m)\u001b[0m\u001b[0;34m\u001b[0m\u001b[0;34m\u001b[0m\u001b[0m\n",
            "\u001b[0;32m/usr/local/lib/python3.8/dist-packages/tensorflow/python/eager/def_function.py\u001b[0m in \u001b[0;36m_call\u001b[0;34m(self, *args, **kwds)\u001b[0m\n\u001b[1;32m    952\u001b[0m       \u001b[0;31m# In this case we have not created variables on the first call. So we can\u001b[0m\u001b[0;34m\u001b[0m\u001b[0;34m\u001b[0m\u001b[0;34m\u001b[0m\u001b[0m\n\u001b[1;32m    953\u001b[0m       \u001b[0;31m# run the first trace but we should fail if variables are created.\u001b[0m\u001b[0;34m\u001b[0m\u001b[0;34m\u001b[0m\u001b[0;34m\u001b[0m\u001b[0m\n\u001b[0;32m--> 954\u001b[0;31m       \u001b[0mresults\u001b[0m \u001b[0;34m=\u001b[0m \u001b[0mself\u001b[0m\u001b[0;34m.\u001b[0m\u001b[0m_stateful_fn\u001b[0m\u001b[0;34m(\u001b[0m\u001b[0;34m*\u001b[0m\u001b[0margs\u001b[0m\u001b[0;34m,\u001b[0m \u001b[0;34m**\u001b[0m\u001b[0mkwds\u001b[0m\u001b[0;34m)\u001b[0m\u001b[0;34m\u001b[0m\u001b[0;34m\u001b[0m\u001b[0m\n\u001b[0m\u001b[1;32m    955\u001b[0m       \u001b[0;32mif\u001b[0m \u001b[0mself\u001b[0m\u001b[0;34m.\u001b[0m\u001b[0m_created_variables\u001b[0m \u001b[0;32mand\u001b[0m \u001b[0;32mnot\u001b[0m \u001b[0mALLOW_DYNAMIC_VARIABLE_CREATION\u001b[0m\u001b[0;34m:\u001b[0m\u001b[0;34m\u001b[0m\u001b[0;34m\u001b[0m\u001b[0m\n\u001b[1;32m    956\u001b[0m         raise ValueError(\"Creating variables on a non-first call to a function\"\n",
            "\u001b[0;32m/usr/local/lib/python3.8/dist-packages/tensorflow/python/eager/function.py\u001b[0m in \u001b[0;36m__call__\u001b[0;34m(self, *args, **kwargs)\u001b[0m\n\u001b[1;32m   2451\u001b[0m       (graph_function,\n\u001b[1;32m   2452\u001b[0m        filtered_flat_args) = self._maybe_define_function(args, kwargs)\n\u001b[0;32m-> 2453\u001b[0;31m     return graph_function._call_flat(\n\u001b[0m\u001b[1;32m   2454\u001b[0m         filtered_flat_args, captured_inputs=graph_function.captured_inputs)  # pylint: disable=protected-access\n\u001b[1;32m   2455\u001b[0m \u001b[0;34m\u001b[0m\u001b[0m\n",
            "\u001b[0;32m/usr/local/lib/python3.8/dist-packages/tensorflow/python/eager/function.py\u001b[0m in \u001b[0;36m_call_flat\u001b[0;34m(self, args, captured_inputs, cancellation_manager)\u001b[0m\n\u001b[1;32m   1858\u001b[0m         and executing_eagerly):\n\u001b[1;32m   1859\u001b[0m       \u001b[0;31m# No tape is watching; skip to running the function.\u001b[0m\u001b[0;34m\u001b[0m\u001b[0;34m\u001b[0m\u001b[0;34m\u001b[0m\u001b[0m\n\u001b[0;32m-> 1860\u001b[0;31m       return self._build_call_outputs(self._inference_function.call(\n\u001b[0m\u001b[1;32m   1861\u001b[0m           ctx, args, cancellation_manager=cancellation_manager))\n\u001b[1;32m   1862\u001b[0m     forward_backward = self._select_forward_and_backward_functions(\n",
            "\u001b[0;32m/usr/local/lib/python3.8/dist-packages/tensorflow/python/eager/function.py\u001b[0m in \u001b[0;36mcall\u001b[0;34m(self, ctx, args, cancellation_manager)\u001b[0m\n\u001b[1;32m    495\u001b[0m       \u001b[0;32mwith\u001b[0m \u001b[0m_InterpolateFunctionError\u001b[0m\u001b[0;34m(\u001b[0m\u001b[0mself\u001b[0m\u001b[0;34m)\u001b[0m\u001b[0;34m:\u001b[0m\u001b[0;34m\u001b[0m\u001b[0;34m\u001b[0m\u001b[0m\n\u001b[1;32m    496\u001b[0m         \u001b[0;32mif\u001b[0m \u001b[0mcancellation_manager\u001b[0m \u001b[0;32mis\u001b[0m \u001b[0;32mNone\u001b[0m\u001b[0;34m:\u001b[0m\u001b[0;34m\u001b[0m\u001b[0;34m\u001b[0m\u001b[0m\n\u001b[0;32m--> 497\u001b[0;31m           outputs = execute.execute(\n\u001b[0m\u001b[1;32m    498\u001b[0m               \u001b[0mstr\u001b[0m\u001b[0;34m(\u001b[0m\u001b[0mself\u001b[0m\u001b[0;34m.\u001b[0m\u001b[0msignature\u001b[0m\u001b[0;34m.\u001b[0m\u001b[0mname\u001b[0m\u001b[0;34m)\u001b[0m\u001b[0;34m,\u001b[0m\u001b[0;34m\u001b[0m\u001b[0;34m\u001b[0m\u001b[0m\n\u001b[1;32m    499\u001b[0m               \u001b[0mnum_outputs\u001b[0m\u001b[0;34m=\u001b[0m\u001b[0mself\u001b[0m\u001b[0;34m.\u001b[0m\u001b[0m_num_outputs\u001b[0m\u001b[0;34m,\u001b[0m\u001b[0;34m\u001b[0m\u001b[0;34m\u001b[0m\u001b[0m\n",
            "\u001b[0;32m/usr/local/lib/python3.8/dist-packages/tensorflow/python/eager/execute.py\u001b[0m in \u001b[0;36mquick_execute\u001b[0;34m(op_name, num_outputs, inputs, attrs, ctx, name)\u001b[0m\n\u001b[1;32m     52\u001b[0m   \u001b[0;32mtry\u001b[0m\u001b[0;34m:\u001b[0m\u001b[0;34m\u001b[0m\u001b[0;34m\u001b[0m\u001b[0m\n\u001b[1;32m     53\u001b[0m     \u001b[0mctx\u001b[0m\u001b[0;34m.\u001b[0m\u001b[0mensure_initialized\u001b[0m\u001b[0;34m(\u001b[0m\u001b[0;34m)\u001b[0m\u001b[0;34m\u001b[0m\u001b[0;34m\u001b[0m\u001b[0m\n\u001b[0;32m---> 54\u001b[0;31m     tensors = pywrap_tfe.TFE_Py_Execute(ctx._handle, device_name, op_name,\n\u001b[0m\u001b[1;32m     55\u001b[0m                                         inputs, attrs, num_outputs)\n\u001b[1;32m     56\u001b[0m   \u001b[0;32mexcept\u001b[0m \u001b[0mcore\u001b[0m\u001b[0;34m.\u001b[0m\u001b[0m_NotOkStatusException\u001b[0m \u001b[0;32mas\u001b[0m \u001b[0me\u001b[0m\u001b[0;34m:\u001b[0m\u001b[0;34m\u001b[0m\u001b[0;34m\u001b[0m\u001b[0m\n",
            "\u001b[0;31mKeyboardInterrupt\u001b[0m: "
          ]
        }
      ]
    },
    {
      "cell_type": "code",
      "source": [
        "model_best = keras.models.load_model('EFF_best')\n",
        "\n",
        "pred = model_best.predict(test_generator)\n",
        "pred = np.argmax(pred, axis=1)\n",
        "\n",
        "sub = df_test[['imageid_boxid', 'class']].copy()\n",
        "sub['class'] = pred\n",
        "sub.to_csv('Eff.csv', index=False)\n",
        "!kaggle competitions submit -c hackathon-online-2022-image-processing -f 'Eff.csv'  -m 'Eff_Freeze.csv'"
      ],
      "metadata": {
        "id": "XeWMTEaqGj9r",
        "colab": {
          "base_uri": "https://localhost:8080/"
        },
        "outputId": "8792eac1-b528-4091-a2aa-48d3a82b43f1"
      },
      "execution_count": null,
      "outputs": [
        {
          "output_type": "stream",
          "name": "stdout",
          "text": [
            "22/22 [==============================] - 13s 372ms/step\n",
            "100% 233k/233k [00:01<00:00, 168kB/s]\n",
            "Successfully submitted to Hackathon Online: Image Processing"
          ]
        }
      ]
    },
    {
      "cell_type": "markdown",
      "source": [
        "![image.png](data:image/png;base64,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)"
      ],
      "metadata": {
        "id": "e_eqbnax8dBI"
      }
    },
    {
      "cell_type": "markdown",
      "source": [
        "**Fine tune**"
      ],
      "metadata": {
        "id": "xIJvhXY-GblQ"
      }
    },
    {
      "cell_type": "code",
      "source": [
        "# Make sure you have frozen the correct layers\n",
        "for i, layer in enumerate(model.layers):\n",
        "    print(i, layer.name, layer.trainable)"
      ],
      "metadata": {
        "id": "m6xCKNzzU-RF"
      },
      "execution_count": null,
      "outputs": []
    },
    {
      "cell_type": "code",
      "source": [
        "# # Unfreeze the base model\n",
        "# base_model.trainable = True\n",
        "\n",
        "for layer in base_model.layers[-200:]:\n",
        "  if not isinstance(layer, layers.BatchNormalization):\n",
        "    layer.trainable = True\n",
        "\n",
        "#Everytime you Unfreeze call compile please\n",
        "model.compile(tf.keras.optimizers.Adam(lr=0.0001), loss='sparse_categorical_crossentropy', metrics=['accuracy'])\n",
        "# model.compile(tf.keras.optimizers.RMSprop(lr=0.0001, decay=1e-6), loss='sparse_categorical_crossentropy', metrics=['accuracy'])\n",
        "\n",
        "eff_history = model.fit(train_generator, validation_data = validation_generator, steps_per_epoch = 100, epochs = 1000, callbacks=[checkpoint,early])"
      ],
      "metadata": {
        "id": "cggDuyM2Gc7R",
        "colab": {
          "base_uri": "https://localhost:8080/",
          "height": 398
        },
        "outputId": "40e072ee-5efc-4f45-f9e3-30bda0804550"
      },
      "execution_count": null,
      "outputs": [
        {
          "output_type": "stream",
          "name": "stdout",
          "text": [
            "Epoch 1/1000\n"
          ]
        },
        {
          "output_type": "error",
          "ename": "KeyboardInterrupt",
          "evalue": "ignored",
          "traceback": [
            "\u001b[0;31m---------------------------------------------------------------------------\u001b[0m",
            "\u001b[0;31mKeyboardInterrupt\u001b[0m                         Traceback (most recent call last)",
            "\u001b[0;32m<ipython-input-28-cb26ec06a7c3>\u001b[0m in \u001b[0;36m<module>\u001b[0;34m\u001b[0m\n\u001b[1;32m     10\u001b[0m \u001b[0;31m# # model.compile(tf.keras.optimizers.RMSprop(lr=0.0001, decay=1e-6), loss='sparse_categorical_crossentropy', metrics=['accuracy'])\u001b[0m\u001b[0;34m\u001b[0m\u001b[0;34m\u001b[0m\u001b[0;34m\u001b[0m\u001b[0m\n\u001b[1;32m     11\u001b[0m \u001b[0;34m\u001b[0m\u001b[0m\n\u001b[0;32m---> 12\u001b[0;31m \u001b[0meff_history\u001b[0m \u001b[0;34m=\u001b[0m \u001b[0mmodel\u001b[0m\u001b[0;34m.\u001b[0m\u001b[0mfit\u001b[0m\u001b[0;34m(\u001b[0m\u001b[0mtrain_generator\u001b[0m\u001b[0;34m,\u001b[0m \u001b[0mvalidation_data\u001b[0m \u001b[0;34m=\u001b[0m \u001b[0mvalidation_generator\u001b[0m\u001b[0;34m,\u001b[0m \u001b[0msteps_per_epoch\u001b[0m \u001b[0;34m=\u001b[0m \u001b[0;36m100\u001b[0m\u001b[0;34m,\u001b[0m \u001b[0mepochs\u001b[0m \u001b[0;34m=\u001b[0m \u001b[0;36m1000\u001b[0m\u001b[0;34m,\u001b[0m \u001b[0mcallbacks\u001b[0m\u001b[0;34m=\u001b[0m\u001b[0;34m[\u001b[0m\u001b[0mcheckpoint\u001b[0m\u001b[0;34m,\u001b[0m\u001b[0mearly\u001b[0m\u001b[0;34m]\u001b[0m\u001b[0;34m)\u001b[0m\u001b[0;34m\u001b[0m\u001b[0;34m\u001b[0m\u001b[0m\n\u001b[0m",
            "\u001b[0;32m/usr/local/lib/python3.8/dist-packages/keras/utils/traceback_utils.py\u001b[0m in \u001b[0;36merror_handler\u001b[0;34m(*args, **kwargs)\u001b[0m\n\u001b[1;32m     62\u001b[0m     \u001b[0mfiltered_tb\u001b[0m \u001b[0;34m=\u001b[0m \u001b[0;32mNone\u001b[0m\u001b[0;34m\u001b[0m\u001b[0;34m\u001b[0m\u001b[0m\n\u001b[1;32m     63\u001b[0m     \u001b[0;32mtry\u001b[0m\u001b[0;34m:\u001b[0m\u001b[0;34m\u001b[0m\u001b[0;34m\u001b[0m\u001b[0m\n\u001b[0;32m---> 64\u001b[0;31m       \u001b[0;32mreturn\u001b[0m \u001b[0mfn\u001b[0m\u001b[0;34m(\u001b[0m\u001b[0;34m*\u001b[0m\u001b[0margs\u001b[0m\u001b[0;34m,\u001b[0m \u001b[0;34m**\u001b[0m\u001b[0mkwargs\u001b[0m\u001b[0;34m)\u001b[0m\u001b[0;34m\u001b[0m\u001b[0;34m\u001b[0m\u001b[0m\n\u001b[0m\u001b[1;32m     65\u001b[0m     \u001b[0;32mexcept\u001b[0m \u001b[0mException\u001b[0m \u001b[0;32mas\u001b[0m \u001b[0me\u001b[0m\u001b[0;34m:\u001b[0m  \u001b[0;31m# pylint: disable=broad-except\u001b[0m\u001b[0;34m\u001b[0m\u001b[0;34m\u001b[0m\u001b[0m\n\u001b[1;32m     66\u001b[0m       \u001b[0mfiltered_tb\u001b[0m \u001b[0;34m=\u001b[0m \u001b[0m_process_traceback_frames\u001b[0m\u001b[0;34m(\u001b[0m\u001b[0me\u001b[0m\u001b[0;34m.\u001b[0m\u001b[0m__traceback__\u001b[0m\u001b[0;34m)\u001b[0m\u001b[0;34m\u001b[0m\u001b[0;34m\u001b[0m\u001b[0m\n",
            "\u001b[0;32m/usr/local/lib/python3.8/dist-packages/keras/engine/training.py\u001b[0m in \u001b[0;36mfit\u001b[0;34m(self, x, y, batch_size, epochs, verbose, callbacks, validation_split, validation_data, shuffle, class_weight, sample_weight, initial_epoch, steps_per_epoch, validation_steps, validation_batch_size, validation_freq, max_queue_size, workers, use_multiprocessing)\u001b[0m\n\u001b[1;32m   1407\u001b[0m                 _r=1):\n\u001b[1;32m   1408\u001b[0m               \u001b[0mcallbacks\u001b[0m\u001b[0;34m.\u001b[0m\u001b[0mon_train_batch_begin\u001b[0m\u001b[0;34m(\u001b[0m\u001b[0mstep\u001b[0m\u001b[0;34m)\u001b[0m\u001b[0;34m\u001b[0m\u001b[0;34m\u001b[0m\u001b[0m\n\u001b[0;32m-> 1409\u001b[0;31m               \u001b[0mtmp_logs\u001b[0m \u001b[0;34m=\u001b[0m \u001b[0mself\u001b[0m\u001b[0;34m.\u001b[0m\u001b[0mtrain_function\u001b[0m\u001b[0;34m(\u001b[0m\u001b[0miterator\u001b[0m\u001b[0;34m)\u001b[0m\u001b[0;34m\u001b[0m\u001b[0;34m\u001b[0m\u001b[0m\n\u001b[0m\u001b[1;32m   1410\u001b[0m               \u001b[0;32mif\u001b[0m \u001b[0mdata_handler\u001b[0m\u001b[0;34m.\u001b[0m\u001b[0mshould_sync\u001b[0m\u001b[0;34m:\u001b[0m\u001b[0;34m\u001b[0m\u001b[0;34m\u001b[0m\u001b[0m\n\u001b[1;32m   1411\u001b[0m                 \u001b[0mcontext\u001b[0m\u001b[0;34m.\u001b[0m\u001b[0masync_wait\u001b[0m\u001b[0;34m(\u001b[0m\u001b[0;34m)\u001b[0m\u001b[0;34m\u001b[0m\u001b[0;34m\u001b[0m\u001b[0m\n",
            "\u001b[0;32m/usr/local/lib/python3.8/dist-packages/tensorflow/python/util/traceback_utils.py\u001b[0m in \u001b[0;36merror_handler\u001b[0;34m(*args, **kwargs)\u001b[0m\n\u001b[1;32m    148\u001b[0m     \u001b[0mfiltered_tb\u001b[0m \u001b[0;34m=\u001b[0m \u001b[0;32mNone\u001b[0m\u001b[0;34m\u001b[0m\u001b[0;34m\u001b[0m\u001b[0m\n\u001b[1;32m    149\u001b[0m     \u001b[0;32mtry\u001b[0m\u001b[0;34m:\u001b[0m\u001b[0;34m\u001b[0m\u001b[0;34m\u001b[0m\u001b[0m\n\u001b[0;32m--> 150\u001b[0;31m       \u001b[0;32mreturn\u001b[0m \u001b[0mfn\u001b[0m\u001b[0;34m(\u001b[0m\u001b[0;34m*\u001b[0m\u001b[0margs\u001b[0m\u001b[0;34m,\u001b[0m \u001b[0;34m**\u001b[0m\u001b[0mkwargs\u001b[0m\u001b[0;34m)\u001b[0m\u001b[0;34m\u001b[0m\u001b[0;34m\u001b[0m\u001b[0m\n\u001b[0m\u001b[1;32m    151\u001b[0m     \u001b[0;32mexcept\u001b[0m \u001b[0mException\u001b[0m \u001b[0;32mas\u001b[0m \u001b[0me\u001b[0m\u001b[0;34m:\u001b[0m\u001b[0;34m\u001b[0m\u001b[0;34m\u001b[0m\u001b[0m\n\u001b[1;32m    152\u001b[0m       \u001b[0mfiltered_tb\u001b[0m \u001b[0;34m=\u001b[0m \u001b[0m_process_traceback_frames\u001b[0m\u001b[0;34m(\u001b[0m\u001b[0me\u001b[0m\u001b[0;34m.\u001b[0m\u001b[0m__traceback__\u001b[0m\u001b[0;34m)\u001b[0m\u001b[0;34m\u001b[0m\u001b[0;34m\u001b[0m\u001b[0m\n",
            "\u001b[0;32m/usr/local/lib/python3.8/dist-packages/tensorflow/python/eager/def_function.py\u001b[0m in \u001b[0;36m__call__\u001b[0;34m(self, *args, **kwds)\u001b[0m\n\u001b[1;32m    913\u001b[0m \u001b[0;34m\u001b[0m\u001b[0m\n\u001b[1;32m    914\u001b[0m       \u001b[0;32mwith\u001b[0m \u001b[0mOptionalXlaContext\u001b[0m\u001b[0;34m(\u001b[0m\u001b[0mself\u001b[0m\u001b[0;34m.\u001b[0m\u001b[0m_jit_compile\u001b[0m\u001b[0;34m)\u001b[0m\u001b[0;34m:\u001b[0m\u001b[0;34m\u001b[0m\u001b[0;34m\u001b[0m\u001b[0m\n\u001b[0;32m--> 915\u001b[0;31m         \u001b[0mresult\u001b[0m \u001b[0;34m=\u001b[0m \u001b[0mself\u001b[0m\u001b[0;34m.\u001b[0m\u001b[0m_call\u001b[0m\u001b[0;34m(\u001b[0m\u001b[0;34m*\u001b[0m\u001b[0margs\u001b[0m\u001b[0;34m,\u001b[0m \u001b[0;34m**\u001b[0m\u001b[0mkwds\u001b[0m\u001b[0;34m)\u001b[0m\u001b[0;34m\u001b[0m\u001b[0;34m\u001b[0m\u001b[0m\n\u001b[0m\u001b[1;32m    916\u001b[0m \u001b[0;34m\u001b[0m\u001b[0m\n\u001b[1;32m    917\u001b[0m       \u001b[0mnew_tracing_count\u001b[0m \u001b[0;34m=\u001b[0m \u001b[0mself\u001b[0m\u001b[0;34m.\u001b[0m\u001b[0mexperimental_get_tracing_count\u001b[0m\u001b[0;34m(\u001b[0m\u001b[0;34m)\u001b[0m\u001b[0;34m\u001b[0m\u001b[0;34m\u001b[0m\u001b[0m\n",
            "\u001b[0;32m/usr/local/lib/python3.8/dist-packages/tensorflow/python/eager/def_function.py\u001b[0m in \u001b[0;36m_call\u001b[0;34m(self, *args, **kwds)\u001b[0m\n\u001b[1;32m    978\u001b[0m         \u001b[0;31m# Lifting succeeded, so variables are initialized and we can run the\u001b[0m\u001b[0;34m\u001b[0m\u001b[0;34m\u001b[0m\u001b[0;34m\u001b[0m\u001b[0m\n\u001b[1;32m    979\u001b[0m         \u001b[0;31m# stateless function.\u001b[0m\u001b[0;34m\u001b[0m\u001b[0;34m\u001b[0m\u001b[0;34m\u001b[0m\u001b[0m\n\u001b[0;32m--> 980\u001b[0;31m         \u001b[0;32mreturn\u001b[0m \u001b[0mself\u001b[0m\u001b[0;34m.\u001b[0m\u001b[0m_stateless_fn\u001b[0m\u001b[0;34m(\u001b[0m\u001b[0;34m*\u001b[0m\u001b[0margs\u001b[0m\u001b[0;34m,\u001b[0m \u001b[0;34m**\u001b[0m\u001b[0mkwds\u001b[0m\u001b[0;34m)\u001b[0m\u001b[0;34m\u001b[0m\u001b[0;34m\u001b[0m\u001b[0m\n\u001b[0m\u001b[1;32m    981\u001b[0m     \u001b[0;32melse\u001b[0m\u001b[0;34m:\u001b[0m\u001b[0;34m\u001b[0m\u001b[0;34m\u001b[0m\u001b[0m\n\u001b[1;32m    982\u001b[0m       _, _, filtered_flat_args = (\n",
            "\u001b[0;32m/usr/local/lib/python3.8/dist-packages/tensorflow/python/eager/function.py\u001b[0m in \u001b[0;36m__call__\u001b[0;34m(self, *args, **kwargs)\u001b[0m\n\u001b[1;32m   2450\u001b[0m     \u001b[0;32mwith\u001b[0m \u001b[0mself\u001b[0m\u001b[0;34m.\u001b[0m\u001b[0m_lock\u001b[0m\u001b[0;34m:\u001b[0m\u001b[0;34m\u001b[0m\u001b[0;34m\u001b[0m\u001b[0m\n\u001b[1;32m   2451\u001b[0m       (graph_function,\n\u001b[0;32m-> 2452\u001b[0;31m        filtered_flat_args) = self._maybe_define_function(args, kwargs)\n\u001b[0m\u001b[1;32m   2453\u001b[0m     return graph_function._call_flat(\n\u001b[1;32m   2454\u001b[0m         filtered_flat_args, captured_inputs=graph_function.captured_inputs)  # pylint: disable=protected-access\n",
            "\u001b[0;32m/usr/local/lib/python3.8/dist-packages/tensorflow/python/eager/function.py\u001b[0m in \u001b[0;36m_maybe_define_function\u001b[0;34m(self, args, kwargs)\u001b[0m\n\u001b[1;32m   2709\u001b[0m             \u001b[0;34m(\u001b[0m\u001b[0margs\u001b[0m\u001b[0;34m,\u001b[0m \u001b[0mkwargs\u001b[0m\u001b[0;34m)\u001b[0m \u001b[0;34m=\u001b[0m \u001b[0mcache_key\u001b[0m\u001b[0;34m.\u001b[0m\u001b[0m_placeholder_value\u001b[0m\u001b[0;34m(\u001b[0m\u001b[0;34m)\u001b[0m  \u001b[0;31m# pylint: disable=protected-access\u001b[0m\u001b[0;34m\u001b[0m\u001b[0;34m\u001b[0m\u001b[0m\n\u001b[1;32m   2710\u001b[0m \u001b[0;34m\u001b[0m\u001b[0m\n\u001b[0;32m-> 2711\u001b[0;31m           \u001b[0mgraph_function\u001b[0m \u001b[0;34m=\u001b[0m \u001b[0mself\u001b[0m\u001b[0;34m.\u001b[0m\u001b[0m_create_graph_function\u001b[0m\u001b[0;34m(\u001b[0m\u001b[0margs\u001b[0m\u001b[0;34m,\u001b[0m \u001b[0mkwargs\u001b[0m\u001b[0;34m)\u001b[0m\u001b[0;34m\u001b[0m\u001b[0;34m\u001b[0m\u001b[0m\n\u001b[0m\u001b[1;32m   2712\u001b[0m           self._function_cache.add(cache_key, cache_key_deletion_observer,\n\u001b[1;32m   2713\u001b[0m                                    graph_function)\n",
            "\u001b[0;32m/usr/local/lib/python3.8/dist-packages/tensorflow/python/eager/function.py\u001b[0m in \u001b[0;36m_create_graph_function\u001b[0;34m(self, args, kwargs)\u001b[0m\n\u001b[1;32m   2625\u001b[0m     \u001b[0marg_names\u001b[0m \u001b[0;34m=\u001b[0m \u001b[0mbase_arg_names\u001b[0m \u001b[0;34m+\u001b[0m \u001b[0mmissing_arg_names\u001b[0m\u001b[0;34m\u001b[0m\u001b[0;34m\u001b[0m\u001b[0m\n\u001b[1;32m   2626\u001b[0m     graph_function = ConcreteFunction(\n\u001b[0;32m-> 2627\u001b[0;31m         func_graph_module.func_graph_from_py_func(\n\u001b[0m\u001b[1;32m   2628\u001b[0m             \u001b[0mself\u001b[0m\u001b[0;34m.\u001b[0m\u001b[0m_name\u001b[0m\u001b[0;34m,\u001b[0m\u001b[0;34m\u001b[0m\u001b[0;34m\u001b[0m\u001b[0m\n\u001b[1;32m   2629\u001b[0m             \u001b[0mself\u001b[0m\u001b[0;34m.\u001b[0m\u001b[0m_python_function\u001b[0m\u001b[0;34m,\u001b[0m\u001b[0;34m\u001b[0m\u001b[0;34m\u001b[0m\u001b[0m\n",
            "\u001b[0;32m/usr/local/lib/python3.8/dist-packages/tensorflow/python/framework/func_graph.py\u001b[0m in \u001b[0;36mfunc_graph_from_py_func\u001b[0;34m(name, python_func, args, kwargs, signature, func_graph, autograph, autograph_options, add_control_dependencies, arg_names, op_return_value, collections, capture_by_value, acd_record_initial_resource_uses)\u001b[0m\n\u001b[1;32m   1139\u001b[0m         \u001b[0m_\u001b[0m\u001b[0;34m,\u001b[0m \u001b[0moriginal_func\u001b[0m \u001b[0;34m=\u001b[0m \u001b[0mtf_decorator\u001b[0m\u001b[0;34m.\u001b[0m\u001b[0munwrap\u001b[0m\u001b[0;34m(\u001b[0m\u001b[0mpython_func\u001b[0m\u001b[0;34m)\u001b[0m\u001b[0;34m\u001b[0m\u001b[0;34m\u001b[0m\u001b[0m\n\u001b[1;32m   1140\u001b[0m \u001b[0;34m\u001b[0m\u001b[0m\n\u001b[0;32m-> 1141\u001b[0;31m       \u001b[0mfunc_outputs\u001b[0m \u001b[0;34m=\u001b[0m \u001b[0mpython_func\u001b[0m\u001b[0;34m(\u001b[0m\u001b[0;34m*\u001b[0m\u001b[0mfunc_args\u001b[0m\u001b[0;34m,\u001b[0m \u001b[0;34m**\u001b[0m\u001b[0mfunc_kwargs\u001b[0m\u001b[0;34m)\u001b[0m\u001b[0;34m\u001b[0m\u001b[0;34m\u001b[0m\u001b[0m\n\u001b[0m\u001b[1;32m   1142\u001b[0m \u001b[0;34m\u001b[0m\u001b[0m\n\u001b[1;32m   1143\u001b[0m       \u001b[0;31m# invariant: `func_outputs` contains only Tensors, CompositeTensors,\u001b[0m\u001b[0;34m\u001b[0m\u001b[0;34m\u001b[0m\u001b[0;34m\u001b[0m\u001b[0m\n",
            "\u001b[0;32m/usr/local/lib/python3.8/dist-packages/tensorflow/python/eager/def_function.py\u001b[0m in \u001b[0;36mwrapped_fn\u001b[0;34m(*args, **kwds)\u001b[0m\n\u001b[1;32m    675\u001b[0m         \u001b[0;31m# the function a weak reference to itself to avoid a reference cycle.\u001b[0m\u001b[0;34m\u001b[0m\u001b[0;34m\u001b[0m\u001b[0;34m\u001b[0m\u001b[0m\n\u001b[1;32m    676\u001b[0m         \u001b[0;32mwith\u001b[0m \u001b[0mOptionalXlaContext\u001b[0m\u001b[0;34m(\u001b[0m\u001b[0mcompile_with_xla\u001b[0m\u001b[0;34m)\u001b[0m\u001b[0;34m:\u001b[0m\u001b[0;34m\u001b[0m\u001b[0;34m\u001b[0m\u001b[0m\n\u001b[0;32m--> 677\u001b[0;31m           \u001b[0mout\u001b[0m \u001b[0;34m=\u001b[0m \u001b[0mweak_wrapped_fn\u001b[0m\u001b[0;34m(\u001b[0m\u001b[0;34m)\u001b[0m\u001b[0;34m.\u001b[0m\u001b[0m__wrapped__\u001b[0m\u001b[0;34m(\u001b[0m\u001b[0;34m*\u001b[0m\u001b[0margs\u001b[0m\u001b[0;34m,\u001b[0m \u001b[0;34m**\u001b[0m\u001b[0mkwds\u001b[0m\u001b[0;34m)\u001b[0m\u001b[0;34m\u001b[0m\u001b[0;34m\u001b[0m\u001b[0m\n\u001b[0m\u001b[1;32m    678\u001b[0m         \u001b[0;32mreturn\u001b[0m \u001b[0mout\u001b[0m\u001b[0;34m\u001b[0m\u001b[0;34m\u001b[0m\u001b[0m\n\u001b[1;32m    679\u001b[0m \u001b[0;34m\u001b[0m\u001b[0m\n",
            "\u001b[0;32m/usr/local/lib/python3.8/dist-packages/tensorflow/python/framework/func_graph.py\u001b[0m in \u001b[0;36mautograph_handler\u001b[0;34m(*args, **kwargs)\u001b[0m\n\u001b[1;32m   1114\u001b[0m           \u001b[0;31m# TODO(mdan): Push this block higher in tf.function's call stack.\u001b[0m\u001b[0;34m\u001b[0m\u001b[0;34m\u001b[0m\u001b[0;34m\u001b[0m\u001b[0m\n\u001b[1;32m   1115\u001b[0m           \u001b[0;32mtry\u001b[0m\u001b[0;34m:\u001b[0m\u001b[0;34m\u001b[0m\u001b[0;34m\u001b[0m\u001b[0m\n\u001b[0;32m-> 1116\u001b[0;31m             return autograph.converted_call(\n\u001b[0m\u001b[1;32m   1117\u001b[0m                 \u001b[0moriginal_func\u001b[0m\u001b[0;34m,\u001b[0m\u001b[0;34m\u001b[0m\u001b[0;34m\u001b[0m\u001b[0m\n\u001b[1;32m   1118\u001b[0m                 \u001b[0margs\u001b[0m\u001b[0;34m,\u001b[0m\u001b[0;34m\u001b[0m\u001b[0;34m\u001b[0m\u001b[0m\n",
            "\u001b[0;32m/usr/local/lib/python3.8/dist-packages/tensorflow/python/autograph/impl/api.py\u001b[0m in \u001b[0;36mconverted_call\u001b[0;34m(f, args, kwargs, caller_fn_scope, options)\u001b[0m\n\u001b[1;32m    437\u001b[0m     \u001b[0;32mtry\u001b[0m\u001b[0;34m:\u001b[0m\u001b[0;34m\u001b[0m\u001b[0;34m\u001b[0m\u001b[0m\n\u001b[1;32m    438\u001b[0m       \u001b[0;32mif\u001b[0m \u001b[0mkwargs\u001b[0m \u001b[0;32mis\u001b[0m \u001b[0;32mnot\u001b[0m \u001b[0;32mNone\u001b[0m\u001b[0;34m:\u001b[0m\u001b[0;34m\u001b[0m\u001b[0;34m\u001b[0m\u001b[0m\n\u001b[0;32m--> 439\u001b[0;31m         \u001b[0mresult\u001b[0m \u001b[0;34m=\u001b[0m \u001b[0mconverted_f\u001b[0m\u001b[0;34m(\u001b[0m\u001b[0;34m*\u001b[0m\u001b[0meffective_args\u001b[0m\u001b[0;34m,\u001b[0m \u001b[0;34m**\u001b[0m\u001b[0mkwargs\u001b[0m\u001b[0;34m)\u001b[0m\u001b[0;34m\u001b[0m\u001b[0;34m\u001b[0m\u001b[0m\n\u001b[0m\u001b[1;32m    440\u001b[0m       \u001b[0;32melse\u001b[0m\u001b[0;34m:\u001b[0m\u001b[0;34m\u001b[0m\u001b[0;34m\u001b[0m\u001b[0m\n\u001b[1;32m    441\u001b[0m         \u001b[0mresult\u001b[0m \u001b[0;34m=\u001b[0m \u001b[0mconverted_f\u001b[0m\u001b[0;34m(\u001b[0m\u001b[0;34m*\u001b[0m\u001b[0meffective_args\u001b[0m\u001b[0;34m)\u001b[0m\u001b[0;34m\u001b[0m\u001b[0;34m\u001b[0m\u001b[0m\n",
            "\u001b[0;32m/usr/local/lib/python3.8/dist-packages/keras/engine/training.py\u001b[0m in \u001b[0;36mtf__train_function\u001b[0;34m(iterator)\u001b[0m\n\u001b[1;32m     13\u001b[0m                 \u001b[0;32mtry\u001b[0m\u001b[0;34m:\u001b[0m\u001b[0;34m\u001b[0m\u001b[0;34m\u001b[0m\u001b[0m\n\u001b[1;32m     14\u001b[0m                     \u001b[0mdo_return\u001b[0m \u001b[0;34m=\u001b[0m \u001b[0;32mTrue\u001b[0m\u001b[0;34m\u001b[0m\u001b[0;34m\u001b[0m\u001b[0m\n\u001b[0;32m---> 15\u001b[0;31m                     \u001b[0mretval_\u001b[0m \u001b[0;34m=\u001b[0m \u001b[0mag__\u001b[0m\u001b[0;34m.\u001b[0m\u001b[0mconverted_call\u001b[0m\u001b[0;34m(\u001b[0m\u001b[0mag__\u001b[0m\u001b[0;34m.\u001b[0m\u001b[0mld\u001b[0m\u001b[0;34m(\u001b[0m\u001b[0mstep_function\u001b[0m\u001b[0;34m)\u001b[0m\u001b[0;34m,\u001b[0m \u001b[0;34m(\u001b[0m\u001b[0mag__\u001b[0m\u001b[0;34m.\u001b[0m\u001b[0mld\u001b[0m\u001b[0;34m(\u001b[0m\u001b[0mself\u001b[0m\u001b[0;34m)\u001b[0m\u001b[0;34m,\u001b[0m \u001b[0mag__\u001b[0m\u001b[0;34m.\u001b[0m\u001b[0mld\u001b[0m\u001b[0;34m(\u001b[0m\u001b[0miterator\u001b[0m\u001b[0;34m)\u001b[0m\u001b[0;34m)\u001b[0m\u001b[0;34m,\u001b[0m \u001b[0;32mNone\u001b[0m\u001b[0;34m,\u001b[0m \u001b[0mfscope\u001b[0m\u001b[0;34m)\u001b[0m\u001b[0;34m\u001b[0m\u001b[0;34m\u001b[0m\u001b[0m\n\u001b[0m\u001b[1;32m     16\u001b[0m                 \u001b[0;32mexcept\u001b[0m\u001b[0;34m:\u001b[0m\u001b[0;34m\u001b[0m\u001b[0;34m\u001b[0m\u001b[0m\n\u001b[1;32m     17\u001b[0m                     \u001b[0mdo_return\u001b[0m \u001b[0;34m=\u001b[0m \u001b[0;32mFalse\u001b[0m\u001b[0;34m\u001b[0m\u001b[0;34m\u001b[0m\u001b[0m\n",
            "\u001b[0;32m/usr/local/lib/python3.8/dist-packages/tensorflow/python/autograph/impl/api.py\u001b[0m in \u001b[0;36mconverted_call\u001b[0;34m(f, args, kwargs, caller_fn_scope, options)\u001b[0m\n\u001b[1;32m    329\u001b[0m   \u001b[0;32mif\u001b[0m \u001b[0mconversion\u001b[0m\u001b[0;34m.\u001b[0m\u001b[0mis_in_allowlist_cache\u001b[0m\u001b[0;34m(\u001b[0m\u001b[0mf\u001b[0m\u001b[0;34m,\u001b[0m \u001b[0moptions\u001b[0m\u001b[0;34m)\u001b[0m\u001b[0;34m:\u001b[0m\u001b[0;34m\u001b[0m\u001b[0;34m\u001b[0m\u001b[0m\n\u001b[1;32m    330\u001b[0m     \u001b[0mlogging\u001b[0m\u001b[0;34m.\u001b[0m\u001b[0mlog\u001b[0m\u001b[0;34m(\u001b[0m\u001b[0;36m2\u001b[0m\u001b[0;34m,\u001b[0m \u001b[0;34m'Allowlisted %s: from cache'\u001b[0m\u001b[0;34m,\u001b[0m \u001b[0mf\u001b[0m\u001b[0;34m)\u001b[0m\u001b[0;34m\u001b[0m\u001b[0;34m\u001b[0m\u001b[0m\n\u001b[0;32m--> 331\u001b[0;31m     \u001b[0;32mreturn\u001b[0m \u001b[0m_call_unconverted\u001b[0m\u001b[0;34m(\u001b[0m\u001b[0mf\u001b[0m\u001b[0;34m,\u001b[0m \u001b[0margs\u001b[0m\u001b[0;34m,\u001b[0m \u001b[0mkwargs\u001b[0m\u001b[0;34m,\u001b[0m \u001b[0moptions\u001b[0m\u001b[0;34m,\u001b[0m \u001b[0;32mFalse\u001b[0m\u001b[0;34m)\u001b[0m\u001b[0;34m\u001b[0m\u001b[0;34m\u001b[0m\u001b[0m\n\u001b[0m\u001b[1;32m    332\u001b[0m \u001b[0;34m\u001b[0m\u001b[0m\n\u001b[1;32m    333\u001b[0m   \u001b[0;32mif\u001b[0m \u001b[0mag_ctx\u001b[0m\u001b[0;34m.\u001b[0m\u001b[0mcontrol_status_ctx\u001b[0m\u001b[0;34m(\u001b[0m\u001b[0;34m)\u001b[0m\u001b[0;34m.\u001b[0m\u001b[0mstatus\u001b[0m \u001b[0;34m==\u001b[0m \u001b[0mag_ctx\u001b[0m\u001b[0;34m.\u001b[0m\u001b[0mStatus\u001b[0m\u001b[0;34m.\u001b[0m\u001b[0mDISABLED\u001b[0m\u001b[0;34m:\u001b[0m\u001b[0;34m\u001b[0m\u001b[0;34m\u001b[0m\u001b[0m\n",
            "\u001b[0;32m/usr/local/lib/python3.8/dist-packages/tensorflow/python/autograph/impl/api.py\u001b[0m in \u001b[0;36m_call_unconverted\u001b[0;34m(f, args, kwargs, options, update_cache)\u001b[0m\n\u001b[1;32m    457\u001b[0m   \u001b[0;32mif\u001b[0m \u001b[0mkwargs\u001b[0m \u001b[0;32mis\u001b[0m \u001b[0;32mnot\u001b[0m \u001b[0;32mNone\u001b[0m\u001b[0;34m:\u001b[0m\u001b[0;34m\u001b[0m\u001b[0;34m\u001b[0m\u001b[0m\n\u001b[1;32m    458\u001b[0m     \u001b[0;32mreturn\u001b[0m \u001b[0mf\u001b[0m\u001b[0;34m(\u001b[0m\u001b[0;34m*\u001b[0m\u001b[0margs\u001b[0m\u001b[0;34m,\u001b[0m \u001b[0;34m**\u001b[0m\u001b[0mkwargs\u001b[0m\u001b[0;34m)\u001b[0m\u001b[0;34m\u001b[0m\u001b[0;34m\u001b[0m\u001b[0m\n\u001b[0;32m--> 459\u001b[0;31m   \u001b[0;32mreturn\u001b[0m \u001b[0mf\u001b[0m\u001b[0;34m(\u001b[0m\u001b[0;34m*\u001b[0m\u001b[0margs\u001b[0m\u001b[0;34m)\u001b[0m\u001b[0;34m\u001b[0m\u001b[0;34m\u001b[0m\u001b[0m\n\u001b[0m\u001b[1;32m    460\u001b[0m \u001b[0;34m\u001b[0m\u001b[0m\n\u001b[1;32m    461\u001b[0m \u001b[0;34m\u001b[0m\u001b[0m\n",
            "\u001b[0;32m/usr/local/lib/python3.8/dist-packages/keras/engine/training.py\u001b[0m in \u001b[0;36mstep_function\u001b[0;34m(model, iterator)\u001b[0m\n\u001b[1;32m   1038\u001b[0m             run_step, jit_compile=True, reduce_retracing=True)\n\u001b[1;32m   1039\u001b[0m       \u001b[0mdata\u001b[0m \u001b[0;34m=\u001b[0m \u001b[0mnext\u001b[0m\u001b[0;34m(\u001b[0m\u001b[0miterator\u001b[0m\u001b[0;34m)\u001b[0m\u001b[0;34m\u001b[0m\u001b[0;34m\u001b[0m\u001b[0m\n\u001b[0;32m-> 1040\u001b[0;31m       \u001b[0moutputs\u001b[0m \u001b[0;34m=\u001b[0m \u001b[0mmodel\u001b[0m\u001b[0;34m.\u001b[0m\u001b[0mdistribute_strategy\u001b[0m\u001b[0;34m.\u001b[0m\u001b[0mrun\u001b[0m\u001b[0;34m(\u001b[0m\u001b[0mrun_step\u001b[0m\u001b[0;34m,\u001b[0m \u001b[0margs\u001b[0m\u001b[0;34m=\u001b[0m\u001b[0;34m(\u001b[0m\u001b[0mdata\u001b[0m\u001b[0;34m,\u001b[0m\u001b[0;34m)\u001b[0m\u001b[0;34m)\u001b[0m\u001b[0;34m\u001b[0m\u001b[0;34m\u001b[0m\u001b[0m\n\u001b[0m\u001b[1;32m   1041\u001b[0m       outputs = reduce_per_replica(\n\u001b[1;32m   1042\u001b[0m           outputs, self.distribute_strategy, reduction='first')\n",
            "\u001b[0;32m/usr/local/lib/python3.8/dist-packages/tensorflow/python/distribute/distribute_lib.py\u001b[0m in \u001b[0;36mrun\u001b[0;34m(***failed resolving arguments***)\u001b[0m\n\u001b[1;32m   1310\u001b[0m       fn = autograph.tf_convert(\n\u001b[1;32m   1311\u001b[0m           fn, autograph_ctx.control_status_ctx(), convert_by_default=False)\n\u001b[0;32m-> 1312\u001b[0;31m       \u001b[0;32mreturn\u001b[0m \u001b[0mself\u001b[0m\u001b[0;34m.\u001b[0m\u001b[0m_extended\u001b[0m\u001b[0;34m.\u001b[0m\u001b[0mcall_for_each_replica\u001b[0m\u001b[0;34m(\u001b[0m\u001b[0mfn\u001b[0m\u001b[0;34m,\u001b[0m \u001b[0margs\u001b[0m\u001b[0;34m=\u001b[0m\u001b[0margs\u001b[0m\u001b[0;34m,\u001b[0m \u001b[0mkwargs\u001b[0m\u001b[0;34m=\u001b[0m\u001b[0mkwargs\u001b[0m\u001b[0;34m)\u001b[0m\u001b[0;34m\u001b[0m\u001b[0;34m\u001b[0m\u001b[0m\n\u001b[0m\u001b[1;32m   1313\u001b[0m \u001b[0;34m\u001b[0m\u001b[0m\n\u001b[1;32m   1314\u001b[0m   \u001b[0;32mdef\u001b[0m \u001b[0mreduce\u001b[0m\u001b[0;34m(\u001b[0m\u001b[0mself\u001b[0m\u001b[0;34m,\u001b[0m \u001b[0mreduce_op\u001b[0m\u001b[0;34m,\u001b[0m \u001b[0mvalue\u001b[0m\u001b[0;34m,\u001b[0m \u001b[0maxis\u001b[0m\u001b[0;34m)\u001b[0m\u001b[0;34m:\u001b[0m\u001b[0;34m\u001b[0m\u001b[0;34m\u001b[0m\u001b[0m\n",
            "\u001b[0;32m/usr/local/lib/python3.8/dist-packages/tensorflow/python/distribute/distribute_lib.py\u001b[0m in \u001b[0;36mcall_for_each_replica\u001b[0;34m(self, fn, args, kwargs)\u001b[0m\n\u001b[1;32m   2886\u001b[0m       \u001b[0mkwargs\u001b[0m \u001b[0;34m=\u001b[0m \u001b[0;34m{\u001b[0m\u001b[0;34m}\u001b[0m\u001b[0;34m\u001b[0m\u001b[0;34m\u001b[0m\u001b[0m\n\u001b[1;32m   2887\u001b[0m     \u001b[0;32mwith\u001b[0m \u001b[0mself\u001b[0m\u001b[0;34m.\u001b[0m\u001b[0m_container_strategy\u001b[0m\u001b[0;34m(\u001b[0m\u001b[0;34m)\u001b[0m\u001b[0;34m.\u001b[0m\u001b[0mscope\u001b[0m\u001b[0;34m(\u001b[0m\u001b[0;34m)\u001b[0m\u001b[0;34m:\u001b[0m\u001b[0;34m\u001b[0m\u001b[0;34m\u001b[0m\u001b[0m\n\u001b[0;32m-> 2888\u001b[0;31m       \u001b[0;32mreturn\u001b[0m \u001b[0mself\u001b[0m\u001b[0;34m.\u001b[0m\u001b[0m_call_for_each_replica\u001b[0m\u001b[0;34m(\u001b[0m\u001b[0mfn\u001b[0m\u001b[0;34m,\u001b[0m \u001b[0margs\u001b[0m\u001b[0;34m,\u001b[0m \u001b[0mkwargs\u001b[0m\u001b[0;34m)\u001b[0m\u001b[0;34m\u001b[0m\u001b[0;34m\u001b[0m\u001b[0m\n\u001b[0m\u001b[1;32m   2889\u001b[0m \u001b[0;34m\u001b[0m\u001b[0m\n\u001b[1;32m   2890\u001b[0m   \u001b[0;32mdef\u001b[0m \u001b[0m_call_for_each_replica\u001b[0m\u001b[0;34m(\u001b[0m\u001b[0mself\u001b[0m\u001b[0;34m,\u001b[0m \u001b[0mfn\u001b[0m\u001b[0;34m,\u001b[0m \u001b[0margs\u001b[0m\u001b[0;34m,\u001b[0m \u001b[0mkwargs\u001b[0m\u001b[0;34m)\u001b[0m\u001b[0;34m:\u001b[0m\u001b[0;34m\u001b[0m\u001b[0;34m\u001b[0m\u001b[0m\n",
            "\u001b[0;32m/usr/local/lib/python3.8/dist-packages/tensorflow/python/distribute/distribute_lib.py\u001b[0m in \u001b[0;36m_call_for_each_replica\u001b[0;34m(self, fn, args, kwargs)\u001b[0m\n\u001b[1;32m   3687\u001b[0m   \u001b[0;32mdef\u001b[0m \u001b[0m_call_for_each_replica\u001b[0m\u001b[0;34m(\u001b[0m\u001b[0mself\u001b[0m\u001b[0;34m,\u001b[0m \u001b[0mfn\u001b[0m\u001b[0;34m,\u001b[0m \u001b[0margs\u001b[0m\u001b[0;34m,\u001b[0m \u001b[0mkwargs\u001b[0m\u001b[0;34m)\u001b[0m\u001b[0;34m:\u001b[0m\u001b[0;34m\u001b[0m\u001b[0;34m\u001b[0m\u001b[0m\n\u001b[1;32m   3688\u001b[0m     \u001b[0;32mwith\u001b[0m \u001b[0mReplicaContext\u001b[0m\u001b[0;34m(\u001b[0m\u001b[0mself\u001b[0m\u001b[0;34m.\u001b[0m\u001b[0m_container_strategy\u001b[0m\u001b[0;34m(\u001b[0m\u001b[0;34m)\u001b[0m\u001b[0;34m,\u001b[0m \u001b[0mreplica_id_in_sync_group\u001b[0m\u001b[0;34m=\u001b[0m\u001b[0;36m0\u001b[0m\u001b[0;34m)\u001b[0m\u001b[0;34m:\u001b[0m\u001b[0;34m\u001b[0m\u001b[0;34m\u001b[0m\u001b[0m\n\u001b[0;32m-> 3689\u001b[0;31m       \u001b[0;32mreturn\u001b[0m \u001b[0mfn\u001b[0m\u001b[0;34m(\u001b[0m\u001b[0;34m*\u001b[0m\u001b[0margs\u001b[0m\u001b[0;34m,\u001b[0m \u001b[0;34m**\u001b[0m\u001b[0mkwargs\u001b[0m\u001b[0;34m)\u001b[0m\u001b[0;34m\u001b[0m\u001b[0;34m\u001b[0m\u001b[0m\n\u001b[0m\u001b[1;32m   3690\u001b[0m \u001b[0;34m\u001b[0m\u001b[0m\n\u001b[1;32m   3691\u001b[0m   \u001b[0;32mdef\u001b[0m \u001b[0m_reduce_to\u001b[0m\u001b[0;34m(\u001b[0m\u001b[0mself\u001b[0m\u001b[0;34m,\u001b[0m \u001b[0mreduce_op\u001b[0m\u001b[0;34m,\u001b[0m \u001b[0mvalue\u001b[0m\u001b[0;34m,\u001b[0m \u001b[0mdestinations\u001b[0m\u001b[0;34m,\u001b[0m \u001b[0moptions\u001b[0m\u001b[0;34m)\u001b[0m\u001b[0;34m:\u001b[0m\u001b[0;34m\u001b[0m\u001b[0;34m\u001b[0m\u001b[0m\n",
            "\u001b[0;32m/usr/local/lib/python3.8/dist-packages/tensorflow/python/autograph/impl/api.py\u001b[0m in \u001b[0;36mwrapper\u001b[0;34m(*args, **kwargs)\u001b[0m\n\u001b[1;32m    687\u001b[0m       \u001b[0;32mtry\u001b[0m\u001b[0;34m:\u001b[0m\u001b[0;34m\u001b[0m\u001b[0;34m\u001b[0m\u001b[0m\n\u001b[1;32m    688\u001b[0m         \u001b[0;32mwith\u001b[0m \u001b[0mconversion_ctx\u001b[0m\u001b[0;34m:\u001b[0m\u001b[0;34m\u001b[0m\u001b[0;34m\u001b[0m\u001b[0m\n\u001b[0;32m--> 689\u001b[0;31m           \u001b[0;32mreturn\u001b[0m \u001b[0mconverted_call\u001b[0m\u001b[0;34m(\u001b[0m\u001b[0mf\u001b[0m\u001b[0;34m,\u001b[0m \u001b[0margs\u001b[0m\u001b[0;34m,\u001b[0m \u001b[0mkwargs\u001b[0m\u001b[0;34m,\u001b[0m \u001b[0moptions\u001b[0m\u001b[0;34m=\u001b[0m\u001b[0moptions\u001b[0m\u001b[0;34m)\u001b[0m\u001b[0;34m\u001b[0m\u001b[0;34m\u001b[0m\u001b[0m\n\u001b[0m\u001b[1;32m    690\u001b[0m       \u001b[0;32mexcept\u001b[0m \u001b[0mException\u001b[0m \u001b[0;32mas\u001b[0m \u001b[0me\u001b[0m\u001b[0;34m:\u001b[0m  \u001b[0;31m# pylint:disable=broad-except\u001b[0m\u001b[0;34m\u001b[0m\u001b[0;34m\u001b[0m\u001b[0m\n\u001b[1;32m    691\u001b[0m         \u001b[0;32mif\u001b[0m \u001b[0mhasattr\u001b[0m\u001b[0;34m(\u001b[0m\u001b[0me\u001b[0m\u001b[0;34m,\u001b[0m \u001b[0;34m'ag_error_metadata'\u001b[0m\u001b[0;34m)\u001b[0m\u001b[0;34m:\u001b[0m\u001b[0;34m\u001b[0m\u001b[0;34m\u001b[0m\u001b[0m\n",
            "\u001b[0;32m/usr/local/lib/python3.8/dist-packages/tensorflow/python/autograph/impl/api.py\u001b[0m in \u001b[0;36mconverted_call\u001b[0;34m(f, args, kwargs, caller_fn_scope, options)\u001b[0m\n\u001b[1;32m    375\u001b[0m \u001b[0;34m\u001b[0m\u001b[0m\n\u001b[1;32m    376\u001b[0m   \u001b[0;32mif\u001b[0m \u001b[0;32mnot\u001b[0m \u001b[0moptions\u001b[0m\u001b[0;34m.\u001b[0m\u001b[0muser_requested\u001b[0m \u001b[0;32mand\u001b[0m \u001b[0mconversion\u001b[0m\u001b[0;34m.\u001b[0m\u001b[0mis_allowlisted\u001b[0m\u001b[0;34m(\u001b[0m\u001b[0mf\u001b[0m\u001b[0;34m)\u001b[0m\u001b[0;34m:\u001b[0m\u001b[0;34m\u001b[0m\u001b[0;34m\u001b[0m\u001b[0m\n\u001b[0;32m--> 377\u001b[0;31m     \u001b[0;32mreturn\u001b[0m \u001b[0m_call_unconverted\u001b[0m\u001b[0;34m(\u001b[0m\u001b[0mf\u001b[0m\u001b[0;34m,\u001b[0m \u001b[0margs\u001b[0m\u001b[0;34m,\u001b[0m \u001b[0mkwargs\u001b[0m\u001b[0;34m,\u001b[0m \u001b[0moptions\u001b[0m\u001b[0;34m)\u001b[0m\u001b[0;34m\u001b[0m\u001b[0;34m\u001b[0m\u001b[0m\n\u001b[0m\u001b[1;32m    378\u001b[0m \u001b[0;34m\u001b[0m\u001b[0m\n\u001b[1;32m    379\u001b[0m   \u001b[0;31m# internal_convert_user_code is for example turned off when issuing a dynamic\u001b[0m\u001b[0;34m\u001b[0m\u001b[0;34m\u001b[0m\u001b[0;34m\u001b[0m\u001b[0m\n",
            "\u001b[0;32m/usr/local/lib/python3.8/dist-packages/tensorflow/python/autograph/impl/api.py\u001b[0m in \u001b[0;36m_call_unconverted\u001b[0;34m(f, args, kwargs, options, update_cache)\u001b[0m\n\u001b[1;32m    456\u001b[0m \u001b[0;34m\u001b[0m\u001b[0m\n\u001b[1;32m    457\u001b[0m   \u001b[0;32mif\u001b[0m \u001b[0mkwargs\u001b[0m \u001b[0;32mis\u001b[0m \u001b[0;32mnot\u001b[0m \u001b[0;32mNone\u001b[0m\u001b[0;34m:\u001b[0m\u001b[0;34m\u001b[0m\u001b[0;34m\u001b[0m\u001b[0m\n\u001b[0;32m--> 458\u001b[0;31m     \u001b[0;32mreturn\u001b[0m \u001b[0mf\u001b[0m\u001b[0;34m(\u001b[0m\u001b[0;34m*\u001b[0m\u001b[0margs\u001b[0m\u001b[0;34m,\u001b[0m \u001b[0;34m**\u001b[0m\u001b[0mkwargs\u001b[0m\u001b[0;34m)\u001b[0m\u001b[0;34m\u001b[0m\u001b[0;34m\u001b[0m\u001b[0m\n\u001b[0m\u001b[1;32m    459\u001b[0m   \u001b[0;32mreturn\u001b[0m \u001b[0mf\u001b[0m\u001b[0;34m(\u001b[0m\u001b[0;34m*\u001b[0m\u001b[0margs\u001b[0m\u001b[0;34m)\u001b[0m\u001b[0;34m\u001b[0m\u001b[0;34m\u001b[0m\u001b[0m\n\u001b[1;32m    460\u001b[0m \u001b[0;34m\u001b[0m\u001b[0m\n",
            "\u001b[0;32m/usr/local/lib/python3.8/dist-packages/keras/engine/training.py\u001b[0m in \u001b[0;36mrun_step\u001b[0;34m(data)\u001b[0m\n\u001b[1;32m   1028\u001b[0m \u001b[0;34m\u001b[0m\u001b[0m\n\u001b[1;32m   1029\u001b[0m       \u001b[0;32mdef\u001b[0m \u001b[0mrun_step\u001b[0m\u001b[0;34m(\u001b[0m\u001b[0mdata\u001b[0m\u001b[0;34m)\u001b[0m\u001b[0;34m:\u001b[0m\u001b[0;34m\u001b[0m\u001b[0;34m\u001b[0m\u001b[0m\n\u001b[0;32m-> 1030\u001b[0;31m         \u001b[0moutputs\u001b[0m \u001b[0;34m=\u001b[0m \u001b[0mmodel\u001b[0m\u001b[0;34m.\u001b[0m\u001b[0mtrain_step\u001b[0m\u001b[0;34m(\u001b[0m\u001b[0mdata\u001b[0m\u001b[0;34m)\u001b[0m\u001b[0;34m\u001b[0m\u001b[0;34m\u001b[0m\u001b[0m\n\u001b[0m\u001b[1;32m   1031\u001b[0m         \u001b[0;31m# Ensure counter is updated only if `train_step` succeeds.\u001b[0m\u001b[0;34m\u001b[0m\u001b[0;34m\u001b[0m\u001b[0;34m\u001b[0m\u001b[0m\n\u001b[1;32m   1032\u001b[0m         \u001b[0;32mwith\u001b[0m \u001b[0mtf\u001b[0m\u001b[0;34m.\u001b[0m\u001b[0mcontrol_dependencies\u001b[0m\u001b[0;34m(\u001b[0m\u001b[0m_minimum_control_deps\u001b[0m\u001b[0;34m(\u001b[0m\u001b[0moutputs\u001b[0m\u001b[0;34m)\u001b[0m\u001b[0;34m)\u001b[0m\u001b[0;34m:\u001b[0m\u001b[0;34m\u001b[0m\u001b[0;34m\u001b[0m\u001b[0m\n",
            "\u001b[0;32m/usr/local/lib/python3.8/dist-packages/keras/engine/training.py\u001b[0m in \u001b[0;36mtrain_step\u001b[0;34m(self, data)\u001b[0m\n\u001b[1;32m    887\u001b[0m     \u001b[0;31m# Run forward pass.\u001b[0m\u001b[0;34m\u001b[0m\u001b[0;34m\u001b[0m\u001b[0;34m\u001b[0m\u001b[0m\n\u001b[1;32m    888\u001b[0m     \u001b[0;32mwith\u001b[0m \u001b[0mtf\u001b[0m\u001b[0;34m.\u001b[0m\u001b[0mGradientTape\u001b[0m\u001b[0;34m(\u001b[0m\u001b[0;34m)\u001b[0m \u001b[0;32mas\u001b[0m \u001b[0mtape\u001b[0m\u001b[0;34m:\u001b[0m\u001b[0;34m\u001b[0m\u001b[0;34m\u001b[0m\u001b[0m\n\u001b[0;32m--> 889\u001b[0;31m       \u001b[0my_pred\u001b[0m \u001b[0;34m=\u001b[0m \u001b[0mself\u001b[0m\u001b[0;34m(\u001b[0m\u001b[0mx\u001b[0m\u001b[0;34m,\u001b[0m \u001b[0mtraining\u001b[0m\u001b[0;34m=\u001b[0m\u001b[0;32mTrue\u001b[0m\u001b[0;34m)\u001b[0m\u001b[0;34m\u001b[0m\u001b[0;34m\u001b[0m\u001b[0m\n\u001b[0m\u001b[1;32m    890\u001b[0m       \u001b[0mloss\u001b[0m \u001b[0;34m=\u001b[0m \u001b[0mself\u001b[0m\u001b[0;34m.\u001b[0m\u001b[0mcompute_loss\u001b[0m\u001b[0;34m(\u001b[0m\u001b[0mx\u001b[0m\u001b[0;34m,\u001b[0m \u001b[0my\u001b[0m\u001b[0;34m,\u001b[0m \u001b[0my_pred\u001b[0m\u001b[0;34m,\u001b[0m \u001b[0msample_weight\u001b[0m\u001b[0;34m)\u001b[0m\u001b[0;34m\u001b[0m\u001b[0;34m\u001b[0m\u001b[0m\n\u001b[1;32m    891\u001b[0m     \u001b[0mself\u001b[0m\u001b[0;34m.\u001b[0m\u001b[0m_validate_target_and_loss\u001b[0m\u001b[0;34m(\u001b[0m\u001b[0my\u001b[0m\u001b[0;34m,\u001b[0m \u001b[0mloss\u001b[0m\u001b[0;34m)\u001b[0m\u001b[0;34m\u001b[0m\u001b[0;34m\u001b[0m\u001b[0m\n",
            "\u001b[0;32m/usr/local/lib/python3.8/dist-packages/keras/utils/traceback_utils.py\u001b[0m in \u001b[0;36merror_handler\u001b[0;34m(*args, **kwargs)\u001b[0m\n\u001b[1;32m     62\u001b[0m     \u001b[0mfiltered_tb\u001b[0m \u001b[0;34m=\u001b[0m \u001b[0;32mNone\u001b[0m\u001b[0;34m\u001b[0m\u001b[0;34m\u001b[0m\u001b[0m\n\u001b[1;32m     63\u001b[0m     \u001b[0;32mtry\u001b[0m\u001b[0;34m:\u001b[0m\u001b[0;34m\u001b[0m\u001b[0;34m\u001b[0m\u001b[0m\n\u001b[0;32m---> 64\u001b[0;31m       \u001b[0;32mreturn\u001b[0m \u001b[0mfn\u001b[0m\u001b[0;34m(\u001b[0m\u001b[0;34m*\u001b[0m\u001b[0margs\u001b[0m\u001b[0;34m,\u001b[0m \u001b[0;34m**\u001b[0m\u001b[0mkwargs\u001b[0m\u001b[0;34m)\u001b[0m\u001b[0;34m\u001b[0m\u001b[0;34m\u001b[0m\u001b[0m\n\u001b[0m\u001b[1;32m     65\u001b[0m     \u001b[0;32mexcept\u001b[0m \u001b[0mException\u001b[0m \u001b[0;32mas\u001b[0m \u001b[0me\u001b[0m\u001b[0;34m:\u001b[0m  \u001b[0;31m# pylint: disable=broad-except\u001b[0m\u001b[0;34m\u001b[0m\u001b[0;34m\u001b[0m\u001b[0m\n\u001b[1;32m     66\u001b[0m       \u001b[0mfiltered_tb\u001b[0m \u001b[0;34m=\u001b[0m \u001b[0m_process_traceback_frames\u001b[0m\u001b[0;34m(\u001b[0m\u001b[0me\u001b[0m\u001b[0;34m.\u001b[0m\u001b[0m__traceback__\u001b[0m\u001b[0;34m)\u001b[0m\u001b[0;34m\u001b[0m\u001b[0;34m\u001b[0m\u001b[0m\n",
            "\u001b[0;32m/usr/local/lib/python3.8/dist-packages/keras/engine/training.py\u001b[0m in \u001b[0;36m__call__\u001b[0;34m(self, *args, **kwargs)\u001b[0m\n\u001b[1;32m    488\u001b[0m       \u001b[0mlayout_map_lib\u001b[0m\u001b[0;34m.\u001b[0m\u001b[0m_map_subclass_model_variable\u001b[0m\u001b[0;34m(\u001b[0m\u001b[0mself\u001b[0m\u001b[0;34m,\u001b[0m \u001b[0mself\u001b[0m\u001b[0;34m.\u001b[0m\u001b[0m_layout_map\u001b[0m\u001b[0;34m)\u001b[0m\u001b[0;34m\u001b[0m\u001b[0;34m\u001b[0m\u001b[0m\n\u001b[1;32m    489\u001b[0m \u001b[0;34m\u001b[0m\u001b[0m\n\u001b[0;32m--> 490\u001b[0;31m     \u001b[0;32mreturn\u001b[0m \u001b[0msuper\u001b[0m\u001b[0;34m(\u001b[0m\u001b[0;34m)\u001b[0m\u001b[0;34m.\u001b[0m\u001b[0m__call__\u001b[0m\u001b[0;34m(\u001b[0m\u001b[0;34m*\u001b[0m\u001b[0margs\u001b[0m\u001b[0;34m,\u001b[0m \u001b[0;34m**\u001b[0m\u001b[0mkwargs\u001b[0m\u001b[0;34m)\u001b[0m\u001b[0;34m\u001b[0m\u001b[0;34m\u001b[0m\u001b[0m\n\u001b[0m\u001b[1;32m    491\u001b[0m \u001b[0;34m\u001b[0m\u001b[0m\n\u001b[1;32m    492\u001b[0m   \u001b[0;34m@\u001b[0m\u001b[0mdoc_controls\u001b[0m\u001b[0;34m.\u001b[0m\u001b[0mdoc_in_current_and_subclasses\u001b[0m\u001b[0;34m\u001b[0m\u001b[0;34m\u001b[0m\u001b[0m\n",
            "\u001b[0;32m/usr/local/lib/python3.8/dist-packages/keras/utils/traceback_utils.py\u001b[0m in \u001b[0;36merror_handler\u001b[0;34m(*args, **kwargs)\u001b[0m\n\u001b[1;32m     62\u001b[0m     \u001b[0mfiltered_tb\u001b[0m \u001b[0;34m=\u001b[0m \u001b[0;32mNone\u001b[0m\u001b[0;34m\u001b[0m\u001b[0;34m\u001b[0m\u001b[0m\n\u001b[1;32m     63\u001b[0m     \u001b[0;32mtry\u001b[0m\u001b[0;34m:\u001b[0m\u001b[0;34m\u001b[0m\u001b[0;34m\u001b[0m\u001b[0m\n\u001b[0;32m---> 64\u001b[0;31m       \u001b[0;32mreturn\u001b[0m \u001b[0mfn\u001b[0m\u001b[0;34m(\u001b[0m\u001b[0;34m*\u001b[0m\u001b[0margs\u001b[0m\u001b[0;34m,\u001b[0m \u001b[0;34m**\u001b[0m\u001b[0mkwargs\u001b[0m\u001b[0;34m)\u001b[0m\u001b[0;34m\u001b[0m\u001b[0;34m\u001b[0m\u001b[0m\n\u001b[0m\u001b[1;32m     65\u001b[0m     \u001b[0;32mexcept\u001b[0m \u001b[0mException\u001b[0m \u001b[0;32mas\u001b[0m \u001b[0me\u001b[0m\u001b[0;34m:\u001b[0m  \u001b[0;31m# pylint: disable=broad-except\u001b[0m\u001b[0;34m\u001b[0m\u001b[0;34m\u001b[0m\u001b[0m\n\u001b[1;32m     66\u001b[0m       \u001b[0mfiltered_tb\u001b[0m \u001b[0;34m=\u001b[0m \u001b[0m_process_traceback_frames\u001b[0m\u001b[0;34m(\u001b[0m\u001b[0me\u001b[0m\u001b[0;34m.\u001b[0m\u001b[0m__traceback__\u001b[0m\u001b[0;34m)\u001b[0m\u001b[0;34m\u001b[0m\u001b[0;34m\u001b[0m\u001b[0m\n",
            "\u001b[0;32m/usr/local/lib/python3.8/dist-packages/keras/engine/base_layer.py\u001b[0m in \u001b[0;36m__call__\u001b[0;34m(self, *args, **kwargs)\u001b[0m\n\u001b[1;32m   1012\u001b[0m         with autocast_variable.enable_auto_cast_variables(\n\u001b[1;32m   1013\u001b[0m             self._compute_dtype_object):\n\u001b[0;32m-> 1014\u001b[0;31m           \u001b[0moutputs\u001b[0m \u001b[0;34m=\u001b[0m \u001b[0mcall_fn\u001b[0m\u001b[0;34m(\u001b[0m\u001b[0minputs\u001b[0m\u001b[0;34m,\u001b[0m \u001b[0;34m*\u001b[0m\u001b[0margs\u001b[0m\u001b[0;34m,\u001b[0m \u001b[0;34m**\u001b[0m\u001b[0mkwargs\u001b[0m\u001b[0;34m)\u001b[0m\u001b[0;34m\u001b[0m\u001b[0;34m\u001b[0m\u001b[0m\n\u001b[0m\u001b[1;32m   1015\u001b[0m \u001b[0;34m\u001b[0m\u001b[0m\n\u001b[1;32m   1016\u001b[0m         \u001b[0;32mif\u001b[0m \u001b[0mself\u001b[0m\u001b[0;34m.\u001b[0m\u001b[0m_activity_regularizer\u001b[0m\u001b[0;34m:\u001b[0m\u001b[0;34m\u001b[0m\u001b[0;34m\u001b[0m\u001b[0m\n",
            "\u001b[0;32m/usr/local/lib/python3.8/dist-packages/keras/utils/traceback_utils.py\u001b[0m in \u001b[0;36merror_handler\u001b[0;34m(*args, **kwargs)\u001b[0m\n\u001b[1;32m     90\u001b[0m     \u001b[0mbound_signature\u001b[0m \u001b[0;34m=\u001b[0m \u001b[0;32mNone\u001b[0m\u001b[0;34m\u001b[0m\u001b[0;34m\u001b[0m\u001b[0m\n\u001b[1;32m     91\u001b[0m     \u001b[0;32mtry\u001b[0m\u001b[0;34m:\u001b[0m\u001b[0;34m\u001b[0m\u001b[0;34m\u001b[0m\u001b[0m\n\u001b[0;32m---> 92\u001b[0;31m       \u001b[0;32mreturn\u001b[0m \u001b[0mfn\u001b[0m\u001b[0;34m(\u001b[0m\u001b[0;34m*\u001b[0m\u001b[0margs\u001b[0m\u001b[0;34m,\u001b[0m \u001b[0;34m**\u001b[0m\u001b[0mkwargs\u001b[0m\u001b[0;34m)\u001b[0m\u001b[0;34m\u001b[0m\u001b[0;34m\u001b[0m\u001b[0m\n\u001b[0m\u001b[1;32m     93\u001b[0m     \u001b[0;32mexcept\u001b[0m \u001b[0mException\u001b[0m \u001b[0;32mas\u001b[0m \u001b[0me\u001b[0m\u001b[0;34m:\u001b[0m  \u001b[0;31m# pylint: disable=broad-except\u001b[0m\u001b[0;34m\u001b[0m\u001b[0;34m\u001b[0m\u001b[0m\n\u001b[1;32m     94\u001b[0m       \u001b[0;32mif\u001b[0m \u001b[0mhasattr\u001b[0m\u001b[0;34m(\u001b[0m\u001b[0me\u001b[0m\u001b[0;34m,\u001b[0m \u001b[0;34m'_keras_call_info_injected'\u001b[0m\u001b[0;34m)\u001b[0m\u001b[0;34m:\u001b[0m\u001b[0;34m\u001b[0m\u001b[0;34m\u001b[0m\u001b[0m\n",
            "\u001b[0;32m/usr/local/lib/python3.8/dist-packages/keras/engine/functional.py\u001b[0m in \u001b[0;36mcall\u001b[0;34m(self, inputs, training, mask)\u001b[0m\n\u001b[1;32m    456\u001b[0m         \u001b[0ma\u001b[0m \u001b[0mlist\u001b[0m \u001b[0mof\u001b[0m \u001b[0mtensors\u001b[0m \u001b[0;32mif\u001b[0m \u001b[0mthere\u001b[0m \u001b[0mare\u001b[0m \u001b[0mmore\u001b[0m \u001b[0mthan\u001b[0m \u001b[0mone\u001b[0m \u001b[0moutputs\u001b[0m\u001b[0;34m.\u001b[0m\u001b[0;34m\u001b[0m\u001b[0;34m\u001b[0m\u001b[0m\n\u001b[1;32m    457\u001b[0m     \"\"\"\n\u001b[0;32m--> 458\u001b[0;31m     return self._run_internal_graph(\n\u001b[0m\u001b[1;32m    459\u001b[0m         inputs, training=training, mask=mask)\n\u001b[1;32m    460\u001b[0m \u001b[0;34m\u001b[0m\u001b[0m\n",
            "\u001b[0;32m/usr/local/lib/python3.8/dist-packages/keras/engine/functional.py\u001b[0m in \u001b[0;36m_run_internal_graph\u001b[0;34m(self, inputs, training, mask)\u001b[0m\n\u001b[1;32m    594\u001b[0m \u001b[0;34m\u001b[0m\u001b[0m\n\u001b[1;32m    595\u001b[0m         \u001b[0margs\u001b[0m\u001b[0;34m,\u001b[0m \u001b[0mkwargs\u001b[0m \u001b[0;34m=\u001b[0m \u001b[0mnode\u001b[0m\u001b[0;34m.\u001b[0m\u001b[0mmap_arguments\u001b[0m\u001b[0;34m(\u001b[0m\u001b[0mtensor_dict\u001b[0m\u001b[0;34m)\u001b[0m\u001b[0;34m\u001b[0m\u001b[0;34m\u001b[0m\u001b[0m\n\u001b[0;32m--> 596\u001b[0;31m         \u001b[0moutputs\u001b[0m \u001b[0;34m=\u001b[0m \u001b[0mnode\u001b[0m\u001b[0;34m.\u001b[0m\u001b[0mlayer\u001b[0m\u001b[0;34m(\u001b[0m\u001b[0;34m*\u001b[0m\u001b[0margs\u001b[0m\u001b[0;34m,\u001b[0m \u001b[0;34m**\u001b[0m\u001b[0mkwargs\u001b[0m\u001b[0;34m)\u001b[0m\u001b[0;34m\u001b[0m\u001b[0;34m\u001b[0m\u001b[0m\n\u001b[0m\u001b[1;32m    597\u001b[0m \u001b[0;34m\u001b[0m\u001b[0m\n\u001b[1;32m    598\u001b[0m         \u001b[0;31m# Update tensor_dict.\u001b[0m\u001b[0;34m\u001b[0m\u001b[0;34m\u001b[0m\u001b[0;34m\u001b[0m\u001b[0m\n",
            "\u001b[0;32m/usr/local/lib/python3.8/dist-packages/keras/utils/traceback_utils.py\u001b[0m in \u001b[0;36merror_handler\u001b[0;34m(*args, **kwargs)\u001b[0m\n\u001b[1;32m     62\u001b[0m     \u001b[0mfiltered_tb\u001b[0m \u001b[0;34m=\u001b[0m \u001b[0;32mNone\u001b[0m\u001b[0;34m\u001b[0m\u001b[0;34m\u001b[0m\u001b[0m\n\u001b[1;32m     63\u001b[0m     \u001b[0;32mtry\u001b[0m\u001b[0;34m:\u001b[0m\u001b[0;34m\u001b[0m\u001b[0;34m\u001b[0m\u001b[0m\n\u001b[0;32m---> 64\u001b[0;31m       \u001b[0;32mreturn\u001b[0m \u001b[0mfn\u001b[0m\u001b[0;34m(\u001b[0m\u001b[0;34m*\u001b[0m\u001b[0margs\u001b[0m\u001b[0;34m,\u001b[0m \u001b[0;34m**\u001b[0m\u001b[0mkwargs\u001b[0m\u001b[0;34m)\u001b[0m\u001b[0;34m\u001b[0m\u001b[0;34m\u001b[0m\u001b[0m\n\u001b[0m\u001b[1;32m     65\u001b[0m     \u001b[0;32mexcept\u001b[0m \u001b[0mException\u001b[0m \u001b[0;32mas\u001b[0m \u001b[0me\u001b[0m\u001b[0;34m:\u001b[0m  \u001b[0;31m# pylint: disable=broad-except\u001b[0m\u001b[0;34m\u001b[0m\u001b[0;34m\u001b[0m\u001b[0m\n\u001b[1;32m     66\u001b[0m       \u001b[0mfiltered_tb\u001b[0m \u001b[0;34m=\u001b[0m \u001b[0m_process_traceback_frames\u001b[0m\u001b[0;34m(\u001b[0m\u001b[0me\u001b[0m\u001b[0;34m.\u001b[0m\u001b[0m__traceback__\u001b[0m\u001b[0;34m)\u001b[0m\u001b[0;34m\u001b[0m\u001b[0;34m\u001b[0m\u001b[0m\n",
            "\u001b[0;32m/usr/local/lib/python3.8/dist-packages/keras/engine/base_layer.py\u001b[0m in \u001b[0;36m__call__\u001b[0;34m(self, *args, **kwargs)\u001b[0m\n\u001b[1;32m   1012\u001b[0m         with autocast_variable.enable_auto_cast_variables(\n\u001b[1;32m   1013\u001b[0m             self._compute_dtype_object):\n\u001b[0;32m-> 1014\u001b[0;31m           \u001b[0moutputs\u001b[0m \u001b[0;34m=\u001b[0m \u001b[0mcall_fn\u001b[0m\u001b[0;34m(\u001b[0m\u001b[0minputs\u001b[0m\u001b[0;34m,\u001b[0m \u001b[0;34m*\u001b[0m\u001b[0margs\u001b[0m\u001b[0;34m,\u001b[0m \u001b[0;34m**\u001b[0m\u001b[0mkwargs\u001b[0m\u001b[0;34m)\u001b[0m\u001b[0;34m\u001b[0m\u001b[0;34m\u001b[0m\u001b[0m\n\u001b[0m\u001b[1;32m   1015\u001b[0m \u001b[0;34m\u001b[0m\u001b[0m\n\u001b[1;32m   1016\u001b[0m         \u001b[0;32mif\u001b[0m \u001b[0mself\u001b[0m\u001b[0;34m.\u001b[0m\u001b[0m_activity_regularizer\u001b[0m\u001b[0;34m:\u001b[0m\u001b[0;34m\u001b[0m\u001b[0;34m\u001b[0m\u001b[0m\n",
            "\u001b[0;32m/usr/local/lib/python3.8/dist-packages/keras/utils/traceback_utils.py\u001b[0m in \u001b[0;36merror_handler\u001b[0;34m(*args, **kwargs)\u001b[0m\n\u001b[1;32m     90\u001b[0m     \u001b[0mbound_signature\u001b[0m \u001b[0;34m=\u001b[0m \u001b[0;32mNone\u001b[0m\u001b[0;34m\u001b[0m\u001b[0;34m\u001b[0m\u001b[0m\n\u001b[1;32m     91\u001b[0m     \u001b[0;32mtry\u001b[0m\u001b[0;34m:\u001b[0m\u001b[0;34m\u001b[0m\u001b[0;34m\u001b[0m\u001b[0m\n\u001b[0;32m---> 92\u001b[0;31m       \u001b[0;32mreturn\u001b[0m \u001b[0mfn\u001b[0m\u001b[0;34m(\u001b[0m\u001b[0;34m*\u001b[0m\u001b[0margs\u001b[0m\u001b[0;34m,\u001b[0m \u001b[0;34m**\u001b[0m\u001b[0mkwargs\u001b[0m\u001b[0;34m)\u001b[0m\u001b[0;34m\u001b[0m\u001b[0;34m\u001b[0m\u001b[0m\n\u001b[0m\u001b[1;32m     93\u001b[0m     \u001b[0;32mexcept\u001b[0m \u001b[0mException\u001b[0m \u001b[0;32mas\u001b[0m \u001b[0me\u001b[0m\u001b[0;34m:\u001b[0m  \u001b[0;31m# pylint: disable=broad-except\u001b[0m\u001b[0;34m\u001b[0m\u001b[0;34m\u001b[0m\u001b[0m\n\u001b[1;32m     94\u001b[0m       \u001b[0;32mif\u001b[0m \u001b[0mhasattr\u001b[0m\u001b[0;34m(\u001b[0m\u001b[0me\u001b[0m\u001b[0;34m,\u001b[0m \u001b[0;34m'_keras_call_info_injected'\u001b[0m\u001b[0;34m)\u001b[0m\u001b[0;34m:\u001b[0m\u001b[0;34m\u001b[0m\u001b[0;34m\u001b[0m\u001b[0m\n",
            "\u001b[0;32m/usr/local/lib/python3.8/dist-packages/keras/layers/convolutional/base_conv.py\u001b[0m in \u001b[0;36mcall\u001b[0;34m(self, inputs)\u001b[0m\n\u001b[1;32m    276\u001b[0m \u001b[0;34m\u001b[0m\u001b[0m\n\u001b[1;32m    277\u001b[0m     \u001b[0;32mif\u001b[0m \u001b[0mself\u001b[0m\u001b[0;34m.\u001b[0m\u001b[0mactivation\u001b[0m \u001b[0;32mis\u001b[0m \u001b[0;32mnot\u001b[0m \u001b[0;32mNone\u001b[0m\u001b[0;34m:\u001b[0m\u001b[0;34m\u001b[0m\u001b[0;34m\u001b[0m\u001b[0m\n\u001b[0;32m--> 278\u001b[0;31m       \u001b[0;32mreturn\u001b[0m \u001b[0mself\u001b[0m\u001b[0;34m.\u001b[0m\u001b[0mactivation\u001b[0m\u001b[0;34m(\u001b[0m\u001b[0moutputs\u001b[0m\u001b[0;34m)\u001b[0m\u001b[0;34m\u001b[0m\u001b[0;34m\u001b[0m\u001b[0m\n\u001b[0m\u001b[1;32m    279\u001b[0m     \u001b[0;32mreturn\u001b[0m \u001b[0moutputs\u001b[0m\u001b[0;34m\u001b[0m\u001b[0;34m\u001b[0m\u001b[0m\n\u001b[1;32m    280\u001b[0m \u001b[0;34m\u001b[0m\u001b[0m\n",
            "\u001b[0;32m/usr/local/lib/python3.8/dist-packages/tensorflow/python/util/traceback_utils.py\u001b[0m in \u001b[0;36merror_handler\u001b[0;34m(*args, **kwargs)\u001b[0m\n\u001b[1;32m    148\u001b[0m     \u001b[0mfiltered_tb\u001b[0m \u001b[0;34m=\u001b[0m \u001b[0;32mNone\u001b[0m\u001b[0;34m\u001b[0m\u001b[0;34m\u001b[0m\u001b[0m\n\u001b[1;32m    149\u001b[0m     \u001b[0;32mtry\u001b[0m\u001b[0;34m:\u001b[0m\u001b[0;34m\u001b[0m\u001b[0;34m\u001b[0m\u001b[0m\n\u001b[0;32m--> 150\u001b[0;31m       \u001b[0;32mreturn\u001b[0m \u001b[0mfn\u001b[0m\u001b[0;34m(\u001b[0m\u001b[0;34m*\u001b[0m\u001b[0margs\u001b[0m\u001b[0;34m,\u001b[0m \u001b[0;34m**\u001b[0m\u001b[0mkwargs\u001b[0m\u001b[0;34m)\u001b[0m\u001b[0;34m\u001b[0m\u001b[0;34m\u001b[0m\u001b[0m\n\u001b[0m\u001b[1;32m    151\u001b[0m     \u001b[0;32mexcept\u001b[0m \u001b[0mException\u001b[0m \u001b[0;32mas\u001b[0m \u001b[0me\u001b[0m\u001b[0;34m:\u001b[0m\u001b[0;34m\u001b[0m\u001b[0;34m\u001b[0m\u001b[0m\n\u001b[1;32m    152\u001b[0m       \u001b[0mfiltered_tb\u001b[0m \u001b[0;34m=\u001b[0m \u001b[0m_process_traceback_frames\u001b[0m\u001b[0;34m(\u001b[0m\u001b[0me\u001b[0m\u001b[0;34m.\u001b[0m\u001b[0m__traceback__\u001b[0m\u001b[0;34m)\u001b[0m\u001b[0;34m\u001b[0m\u001b[0;34m\u001b[0m\u001b[0m\n",
            "\u001b[0;32m/usr/local/lib/python3.8/dist-packages/tensorflow/python/util/dispatch.py\u001b[0m in \u001b[0;36mop_dispatch_handler\u001b[0;34m(*args, **kwargs)\u001b[0m\n\u001b[1;32m   1080\u001b[0m       \u001b[0;31m# Fallback dispatch system (dispatch v1):\u001b[0m\u001b[0;34m\u001b[0m\u001b[0;34m\u001b[0m\u001b[0;34m\u001b[0m\u001b[0m\n\u001b[1;32m   1081\u001b[0m       \u001b[0;32mtry\u001b[0m\u001b[0;34m:\u001b[0m\u001b[0;34m\u001b[0m\u001b[0;34m\u001b[0m\u001b[0m\n\u001b[0;32m-> 1082\u001b[0;31m         \u001b[0;32mreturn\u001b[0m \u001b[0mdispatch_target\u001b[0m\u001b[0;34m(\u001b[0m\u001b[0;34m*\u001b[0m\u001b[0margs\u001b[0m\u001b[0;34m,\u001b[0m \u001b[0;34m**\u001b[0m\u001b[0mkwargs\u001b[0m\u001b[0;34m)\u001b[0m\u001b[0;34m\u001b[0m\u001b[0;34m\u001b[0m\u001b[0m\n\u001b[0m\u001b[1;32m   1083\u001b[0m       \u001b[0;32mexcept\u001b[0m \u001b[0;34m(\u001b[0m\u001b[0mTypeError\u001b[0m\u001b[0;34m,\u001b[0m \u001b[0mValueError\u001b[0m\u001b[0;34m)\u001b[0m\u001b[0;34m:\u001b[0m\u001b[0;34m\u001b[0m\u001b[0;34m\u001b[0m\u001b[0m\n\u001b[1;32m   1084\u001b[0m         \u001b[0;31m# Note: convert_to_eager_tensor currently raises a ValueError, not a\u001b[0m\u001b[0;34m\u001b[0m\u001b[0;34m\u001b[0m\u001b[0;34m\u001b[0m\u001b[0m\n",
            "\u001b[0;32m/usr/local/lib/python3.8/dist-packages/keras/activations.py\u001b[0m in \u001b[0;36mswish\u001b[0;34m(x)\u001b[0m\n\u001b[1;32m    268\u001b[0m     \u001b[0;34m-\u001b[0m \u001b[0;34m[\u001b[0m\u001b[0mRamachandran\u001b[0m \u001b[0met\u001b[0m \u001b[0mal\u001b[0m\u001b[0;34m.\u001b[0m\u001b[0;34m,\u001b[0m \u001b[0;36m2017\u001b[0m\u001b[0;34m]\u001b[0m\u001b[0;34m(\u001b[0m\u001b[0mhttps\u001b[0m\u001b[0;34m:\u001b[0m\u001b[0;34m//\u001b[0m\u001b[0marxiv\u001b[0m\u001b[0;34m.\u001b[0m\u001b[0morg\u001b[0m\u001b[0;34m/\u001b[0m\u001b[0mabs\u001b[0m\u001b[0;34m/\u001b[0m\u001b[0;36m1710.05941\u001b[0m\u001b[0;34m)\u001b[0m\u001b[0;34m\u001b[0m\u001b[0;34m\u001b[0m\u001b[0m\n\u001b[1;32m    269\u001b[0m   \"\"\"\n\u001b[0;32m--> 270\u001b[0;31m   \u001b[0;32mreturn\u001b[0m \u001b[0mtf\u001b[0m\u001b[0;34m.\u001b[0m\u001b[0mnn\u001b[0m\u001b[0;34m.\u001b[0m\u001b[0msilu\u001b[0m\u001b[0;34m(\u001b[0m\u001b[0mx\u001b[0m\u001b[0;34m)\u001b[0m\u001b[0;34m\u001b[0m\u001b[0;34m\u001b[0m\u001b[0m\n\u001b[0m\u001b[1;32m    271\u001b[0m \u001b[0;34m\u001b[0m\u001b[0m\n\u001b[1;32m    272\u001b[0m \u001b[0;34m\u001b[0m\u001b[0m\n",
            "\u001b[0;32m/usr/local/lib/python3.8/dist-packages/tensorflow/python/util/traceback_utils.py\u001b[0m in \u001b[0;36merror_handler\u001b[0;34m(*args, **kwargs)\u001b[0m\n\u001b[1;32m    148\u001b[0m     \u001b[0mfiltered_tb\u001b[0m \u001b[0;34m=\u001b[0m \u001b[0;32mNone\u001b[0m\u001b[0;34m\u001b[0m\u001b[0;34m\u001b[0m\u001b[0m\n\u001b[1;32m    149\u001b[0m     \u001b[0;32mtry\u001b[0m\u001b[0;34m:\u001b[0m\u001b[0;34m\u001b[0m\u001b[0;34m\u001b[0m\u001b[0m\n\u001b[0;32m--> 150\u001b[0;31m       \u001b[0;32mreturn\u001b[0m \u001b[0mfn\u001b[0m\u001b[0;34m(\u001b[0m\u001b[0;34m*\u001b[0m\u001b[0margs\u001b[0m\u001b[0;34m,\u001b[0m \u001b[0;34m**\u001b[0m\u001b[0mkwargs\u001b[0m\u001b[0;34m)\u001b[0m\u001b[0;34m\u001b[0m\u001b[0;34m\u001b[0m\u001b[0m\n\u001b[0m\u001b[1;32m    151\u001b[0m     \u001b[0;32mexcept\u001b[0m \u001b[0mException\u001b[0m \u001b[0;32mas\u001b[0m \u001b[0me\u001b[0m\u001b[0;34m:\u001b[0m\u001b[0;34m\u001b[0m\u001b[0;34m\u001b[0m\u001b[0m\n\u001b[1;32m    152\u001b[0m       \u001b[0mfiltered_tb\u001b[0m \u001b[0;34m=\u001b[0m \u001b[0m_process_traceback_frames\u001b[0m\u001b[0;34m(\u001b[0m\u001b[0me\u001b[0m\u001b[0;34m.\u001b[0m\u001b[0m__traceback__\u001b[0m\u001b[0;34m)\u001b[0m\u001b[0;34m\u001b[0m\u001b[0;34m\u001b[0m\u001b[0m\n",
            "\u001b[0;32m/usr/local/lib/python3.8/dist-packages/tensorflow/python/util/dispatch.py\u001b[0m in \u001b[0;36mop_dispatch_handler\u001b[0;34m(*args, **kwargs)\u001b[0m\n\u001b[1;32m   1080\u001b[0m       \u001b[0;31m# Fallback dispatch system (dispatch v1):\u001b[0m\u001b[0;34m\u001b[0m\u001b[0;34m\u001b[0m\u001b[0;34m\u001b[0m\u001b[0m\n\u001b[1;32m   1081\u001b[0m       \u001b[0;32mtry\u001b[0m\u001b[0;34m:\u001b[0m\u001b[0;34m\u001b[0m\u001b[0;34m\u001b[0m\u001b[0m\n\u001b[0;32m-> 1082\u001b[0;31m         \u001b[0;32mreturn\u001b[0m \u001b[0mdispatch_target\u001b[0m\u001b[0;34m(\u001b[0m\u001b[0;34m*\u001b[0m\u001b[0margs\u001b[0m\u001b[0;34m,\u001b[0m \u001b[0;34m**\u001b[0m\u001b[0mkwargs\u001b[0m\u001b[0;34m)\u001b[0m\u001b[0;34m\u001b[0m\u001b[0;34m\u001b[0m\u001b[0m\n\u001b[0m\u001b[1;32m   1083\u001b[0m       \u001b[0;32mexcept\u001b[0m \u001b[0;34m(\u001b[0m\u001b[0mTypeError\u001b[0m\u001b[0;34m,\u001b[0m \u001b[0mValueError\u001b[0m\u001b[0;34m)\u001b[0m\u001b[0;34m:\u001b[0m\u001b[0;34m\u001b[0m\u001b[0;34m\u001b[0m\u001b[0m\n\u001b[1;32m   1084\u001b[0m         \u001b[0;31m# Note: convert_to_eager_tensor currently raises a ValueError, not a\u001b[0m\u001b[0;34m\u001b[0m\u001b[0;34m\u001b[0m\u001b[0;34m\u001b[0m\u001b[0m\n",
            "\u001b[0;32m/usr/local/lib/python3.8/dist-packages/tensorflow/python/ops/nn_impl.py\u001b[0m in \u001b[0;36mswish\u001b[0;34m(features, beta)\u001b[0m\n\u001b[1;32m    585\u001b[0m     \u001b[0;32mreturn\u001b[0m \u001b[0mfeatures\u001b[0m \u001b[0;34m*\u001b[0m \u001b[0mmath_ops\u001b[0m\u001b[0;34m.\u001b[0m\u001b[0msigmoid\u001b[0m\u001b[0;34m(\u001b[0m\u001b[0mbeta\u001b[0m \u001b[0;34m*\u001b[0m \u001b[0mfeatures\u001b[0m\u001b[0;34m)\u001b[0m\u001b[0;34m,\u001b[0m \u001b[0mgrad\u001b[0m\u001b[0;34m\u001b[0m\u001b[0;34m\u001b[0m\u001b[0m\n\u001b[1;32m    586\u001b[0m \u001b[0;34m\u001b[0m\u001b[0m\n\u001b[0;32m--> 587\u001b[0;31m   \u001b[0;32mreturn\u001b[0m \u001b[0mswish_impl\u001b[0m\u001b[0;34m(\u001b[0m\u001b[0mfeatures\u001b[0m\u001b[0;34m)\u001b[0m\u001b[0;34m\u001b[0m\u001b[0;34m\u001b[0m\u001b[0m\n\u001b[0m\u001b[1;32m    588\u001b[0m \u001b[0;34m\u001b[0m\u001b[0m\n\u001b[1;32m    589\u001b[0m \u001b[0;34m\u001b[0m\u001b[0m\n",
            "\u001b[0;32m/usr/local/lib/python3.8/dist-packages/tensorflow/python/ops/custom_gradient.py\u001b[0m in \u001b[0;36m__call__\u001b[0;34m(self, *a, **k)\u001b[0m\n\u001b[1;32m    337\u001b[0m \u001b[0;34m\u001b[0m\u001b[0m\n\u001b[1;32m    338\u001b[0m   \u001b[0;32mdef\u001b[0m \u001b[0m__call__\u001b[0m\u001b[0;34m(\u001b[0m\u001b[0mself\u001b[0m\u001b[0;34m,\u001b[0m \u001b[0;34m*\u001b[0m\u001b[0ma\u001b[0m\u001b[0;34m,\u001b[0m \u001b[0;34m**\u001b[0m\u001b[0mk\u001b[0m\u001b[0;34m)\u001b[0m\u001b[0;34m:\u001b[0m\u001b[0;34m\u001b[0m\u001b[0;34m\u001b[0m\u001b[0m\n\u001b[0;32m--> 339\u001b[0;31m     \u001b[0;32mreturn\u001b[0m \u001b[0mself\u001b[0m\u001b[0;34m.\u001b[0m\u001b[0m_d\u001b[0m\u001b[0;34m(\u001b[0m\u001b[0mself\u001b[0m\u001b[0;34m.\u001b[0m\u001b[0m_f\u001b[0m\u001b[0;34m,\u001b[0m \u001b[0ma\u001b[0m\u001b[0;34m,\u001b[0m \u001b[0mk\u001b[0m\u001b[0;34m)\u001b[0m\u001b[0;34m\u001b[0m\u001b[0;34m\u001b[0m\u001b[0m\n\u001b[0m\u001b[1;32m    340\u001b[0m \u001b[0;34m\u001b[0m\u001b[0m\n\u001b[1;32m    341\u001b[0m \u001b[0;34m\u001b[0m\u001b[0m\n",
            "\u001b[0;32m/usr/local/lib/python3.8/dist-packages/tensorflow/python/ops/custom_gradient.py\u001b[0m in \u001b[0;36mdecorated\u001b[0;34m(wrapped, args, kwargs)\u001b[0m\n\u001b[1;32m    293\u001b[0m       \u001b[0;32mreturn\u001b[0m \u001b[0m_eager_mode_decorator\u001b[0m\u001b[0;34m(\u001b[0m\u001b[0mwrapped\u001b[0m\u001b[0;34m,\u001b[0m \u001b[0margs\u001b[0m\u001b[0;34m,\u001b[0m \u001b[0mkwargs\u001b[0m\u001b[0;34m)\u001b[0m\u001b[0;34m\u001b[0m\u001b[0;34m\u001b[0m\u001b[0m\n\u001b[1;32m    294\u001b[0m     \u001b[0;32melse\u001b[0m\u001b[0;34m:\u001b[0m\u001b[0;34m\u001b[0m\u001b[0;34m\u001b[0m\u001b[0m\n\u001b[0;32m--> 295\u001b[0;31m       \u001b[0;32mreturn\u001b[0m \u001b[0m_graph_mode_decorator\u001b[0m\u001b[0;34m(\u001b[0m\u001b[0mwrapped\u001b[0m\u001b[0;34m,\u001b[0m \u001b[0margs\u001b[0m\u001b[0;34m,\u001b[0m \u001b[0mkwargs\u001b[0m\u001b[0;34m)\u001b[0m\u001b[0;34m\u001b[0m\u001b[0;34m\u001b[0m\u001b[0m\n\u001b[0m\u001b[1;32m    296\u001b[0m \u001b[0;34m\u001b[0m\u001b[0m\n\u001b[1;32m    297\u001b[0m   \u001b[0;32mreturn\u001b[0m \u001b[0mtf_decorator\u001b[0m\u001b[0;34m.\u001b[0m\u001b[0mmake_decorator\u001b[0m\u001b[0;34m(\u001b[0m\u001b[0mf\u001b[0m\u001b[0;34m,\u001b[0m \u001b[0mdecorated\u001b[0m\u001b[0;34m(\u001b[0m\u001b[0mf\u001b[0m\u001b[0;34m)\u001b[0m\u001b[0;34m)\u001b[0m  \u001b[0;31m# pylint: disable=no-value-for-parameter\u001b[0m\u001b[0;34m\u001b[0m\u001b[0;34m\u001b[0m\u001b[0m\n",
            "\u001b[0;32m/usr/local/lib/python3.8/dist-packages/tensorflow/python/ops/custom_gradient.py\u001b[0m in \u001b[0;36m_graph_mode_decorator\u001b[0;34m(f, args, kwargs)\u001b[0m\n\u001b[1;32m    418\u001b[0m   ])\n\u001b[1;32m    419\u001b[0m   \u001b[0;32mwith\u001b[0m \u001b[0mtape_lib\u001b[0m\u001b[0;34m.\u001b[0m\u001b[0mVariableWatcher\u001b[0m\u001b[0;34m(\u001b[0m\u001b[0;34m)\u001b[0m \u001b[0;32mas\u001b[0m \u001b[0mvariable_watcher\u001b[0m\u001b[0;34m:\u001b[0m\u001b[0;34m\u001b[0m\u001b[0;34m\u001b[0m\u001b[0m\n\u001b[0;32m--> 420\u001b[0;31m     \u001b[0mresult\u001b[0m\u001b[0;34m,\u001b[0m \u001b[0mgrad_fn\u001b[0m \u001b[0;34m=\u001b[0m \u001b[0mf\u001b[0m\u001b[0;34m(\u001b[0m\u001b[0;34m*\u001b[0m\u001b[0margs\u001b[0m\u001b[0;34m)\u001b[0m\u001b[0;34m\u001b[0m\u001b[0;34m\u001b[0m\u001b[0m\n\u001b[0m\u001b[1;32m    421\u001b[0m \u001b[0;34m\u001b[0m\u001b[0m\n\u001b[1;32m    422\u001b[0m   \u001b[0margs\u001b[0m \u001b[0;34m=\u001b[0m \u001b[0mnest\u001b[0m\u001b[0;34m.\u001b[0m\u001b[0mflatten\u001b[0m\u001b[0;34m(\u001b[0m\u001b[0margs\u001b[0m\u001b[0;34m)\u001b[0m\u001b[0;34m\u001b[0m\u001b[0;34m\u001b[0m\u001b[0m\n",
            "\u001b[0;32m/usr/local/lib/python3.8/dist-packages/tensorflow/python/ops/nn_impl.py\u001b[0m in \u001b[0;36mswish_impl\u001b[0;34m(features)\u001b[0m\n\u001b[1;32m    583\u001b[0m       \u001b[0;32mreturn\u001b[0m \u001b[0mdy\u001b[0m \u001b[0;34m*\u001b[0m \u001b[0mactivation_grad\u001b[0m\u001b[0;34m\u001b[0m\u001b[0;34m\u001b[0m\u001b[0m\n\u001b[1;32m    584\u001b[0m \u001b[0;34m\u001b[0m\u001b[0m\n\u001b[0;32m--> 585\u001b[0;31m     \u001b[0;32mreturn\u001b[0m \u001b[0mfeatures\u001b[0m \u001b[0;34m*\u001b[0m \u001b[0mmath_ops\u001b[0m\u001b[0;34m.\u001b[0m\u001b[0msigmoid\u001b[0m\u001b[0;34m(\u001b[0m\u001b[0mbeta\u001b[0m \u001b[0;34m*\u001b[0m \u001b[0mfeatures\u001b[0m\u001b[0;34m)\u001b[0m\u001b[0;34m,\u001b[0m \u001b[0mgrad\u001b[0m\u001b[0;34m\u001b[0m\u001b[0;34m\u001b[0m\u001b[0m\n\u001b[0m\u001b[1;32m    586\u001b[0m \u001b[0;34m\u001b[0m\u001b[0m\n\u001b[1;32m    587\u001b[0m   \u001b[0;32mreturn\u001b[0m \u001b[0mswish_impl\u001b[0m\u001b[0;34m(\u001b[0m\u001b[0mfeatures\u001b[0m\u001b[0;34m)\u001b[0m\u001b[0;34m\u001b[0m\u001b[0;34m\u001b[0m\u001b[0m\n",
            "\u001b[0;32m/usr/local/lib/python3.8/dist-packages/tensorflow/python/util/traceback_utils.py\u001b[0m in \u001b[0;36merror_handler\u001b[0;34m(*args, **kwargs)\u001b[0m\n\u001b[1;32m    148\u001b[0m     \u001b[0mfiltered_tb\u001b[0m \u001b[0;34m=\u001b[0m \u001b[0;32mNone\u001b[0m\u001b[0;34m\u001b[0m\u001b[0;34m\u001b[0m\u001b[0m\n\u001b[1;32m    149\u001b[0m     \u001b[0;32mtry\u001b[0m\u001b[0;34m:\u001b[0m\u001b[0;34m\u001b[0m\u001b[0;34m\u001b[0m\u001b[0m\n\u001b[0;32m--> 150\u001b[0;31m       \u001b[0;32mreturn\u001b[0m \u001b[0mfn\u001b[0m\u001b[0;34m(\u001b[0m\u001b[0;34m*\u001b[0m\u001b[0margs\u001b[0m\u001b[0;34m,\u001b[0m \u001b[0;34m**\u001b[0m\u001b[0mkwargs\u001b[0m\u001b[0;34m)\u001b[0m\u001b[0;34m\u001b[0m\u001b[0;34m\u001b[0m\u001b[0m\n\u001b[0m\u001b[1;32m    151\u001b[0m     \u001b[0;32mexcept\u001b[0m \u001b[0mException\u001b[0m \u001b[0;32mas\u001b[0m \u001b[0me\u001b[0m\u001b[0;34m:\u001b[0m\u001b[0;34m\u001b[0m\u001b[0;34m\u001b[0m\u001b[0m\n\u001b[1;32m    152\u001b[0m       \u001b[0mfiltered_tb\u001b[0m \u001b[0;34m=\u001b[0m \u001b[0m_process_traceback_frames\u001b[0m\u001b[0;34m(\u001b[0m\u001b[0me\u001b[0m\u001b[0;34m.\u001b[0m\u001b[0m__traceback__\u001b[0m\u001b[0;34m)\u001b[0m\u001b[0;34m\u001b[0m\u001b[0;34m\u001b[0m\u001b[0m\n",
            "\u001b[0;32m/usr/local/lib/python3.8/dist-packages/tensorflow/python/ops/math_ops.py\u001b[0m in \u001b[0;36mbinary_op_wrapper\u001b[0;34m(x, y)\u001b[0m\n\u001b[1;32m   1398\u001b[0m   \u001b[0;34m@\u001b[0m\u001b[0mtraceback_utils\u001b[0m\u001b[0;34m.\u001b[0m\u001b[0mfilter_traceback\u001b[0m\u001b[0;34m\u001b[0m\u001b[0;34m\u001b[0m\u001b[0m\n\u001b[1;32m   1399\u001b[0m   \u001b[0;32mdef\u001b[0m \u001b[0mbinary_op_wrapper\u001b[0m\u001b[0;34m(\u001b[0m\u001b[0mx\u001b[0m\u001b[0;34m,\u001b[0m \u001b[0my\u001b[0m\u001b[0;34m)\u001b[0m\u001b[0;34m:\u001b[0m\u001b[0;34m\u001b[0m\u001b[0;34m\u001b[0m\u001b[0m\n\u001b[0;32m-> 1400\u001b[0;31m     \u001b[0;32mwith\u001b[0m \u001b[0mops\u001b[0m\u001b[0;34m.\u001b[0m\u001b[0mname_scope\u001b[0m\u001b[0;34m(\u001b[0m\u001b[0;32mNone\u001b[0m\u001b[0;34m,\u001b[0m \u001b[0mop_name\u001b[0m\u001b[0;34m,\u001b[0m \u001b[0;34m[\u001b[0m\u001b[0mx\u001b[0m\u001b[0;34m,\u001b[0m \u001b[0my\u001b[0m\u001b[0;34m]\u001b[0m\u001b[0;34m)\u001b[0m \u001b[0;32mas\u001b[0m \u001b[0mname\u001b[0m\u001b[0;34m:\u001b[0m\u001b[0;34m\u001b[0m\u001b[0;34m\u001b[0m\u001b[0m\n\u001b[0m\u001b[1;32m   1401\u001b[0m       \u001b[0;32mtry\u001b[0m\u001b[0;34m:\u001b[0m\u001b[0;34m\u001b[0m\u001b[0;34m\u001b[0m\u001b[0m\n\u001b[1;32m   1402\u001b[0m         \u001b[0;31m# force_same_dtype=False to preserve existing TF behavior\u001b[0m\u001b[0;34m\u001b[0m\u001b[0;34m\u001b[0m\u001b[0;34m\u001b[0m\u001b[0m\n",
            "\u001b[0;32m/usr/local/lib/python3.8/dist-packages/tensorflow/python/framework/ops.py\u001b[0m in \u001b[0;36m__enter__\u001b[0;34m(self)\u001b[0m\n\u001b[1;32m   6773\u001b[0m     \u001b[0;32mtry\u001b[0m\u001b[0;34m:\u001b[0m\u001b[0;34m\u001b[0m\u001b[0;34m\u001b[0m\u001b[0m\n\u001b[1;32m   6774\u001b[0m       \u001b[0mself\u001b[0m\u001b[0;34m.\u001b[0m\u001b[0m_name_scope\u001b[0m \u001b[0;34m=\u001b[0m \u001b[0mg\u001b[0m\u001b[0;34m.\u001b[0m\u001b[0mname_scope\u001b[0m\u001b[0;34m(\u001b[0m\u001b[0mself\u001b[0m\u001b[0;34m.\u001b[0m\u001b[0m_name\u001b[0m\u001b[0;34m)\u001b[0m\u001b[0;34m\u001b[0m\u001b[0;34m\u001b[0m\u001b[0m\n\u001b[0;32m-> 6775\u001b[0;31m       \u001b[0;32mreturn\u001b[0m \u001b[0mself\u001b[0m\u001b[0;34m.\u001b[0m\u001b[0m_name_scope\u001b[0m\u001b[0;34m.\u001b[0m\u001b[0m__enter__\u001b[0m\u001b[0;34m(\u001b[0m\u001b[0;34m)\u001b[0m\u001b[0;34m\u001b[0m\u001b[0;34m\u001b[0m\u001b[0m\n\u001b[0m\u001b[1;32m   6776\u001b[0m     \u001b[0;32mexcept\u001b[0m\u001b[0;34m:\u001b[0m\u001b[0;34m\u001b[0m\u001b[0;34m\u001b[0m\u001b[0m\n\u001b[1;32m   6777\u001b[0m       \u001b[0;32mif\u001b[0m \u001b[0mself\u001b[0m\u001b[0;34m.\u001b[0m\u001b[0m_g_manager\u001b[0m \u001b[0;32mis\u001b[0m \u001b[0;32mnot\u001b[0m \u001b[0;32mNone\u001b[0m\u001b[0;34m:\u001b[0m\u001b[0;34m\u001b[0m\u001b[0;34m\u001b[0m\u001b[0m\n",
            "\u001b[0;32m/usr/lib/python3.8/contextlib.py\u001b[0m in \u001b[0;36m__enter__\u001b[0;34m(self)\u001b[0m\n\u001b[1;32m    111\u001b[0m         \u001b[0;32mdel\u001b[0m \u001b[0mself\u001b[0m\u001b[0;34m.\u001b[0m\u001b[0margs\u001b[0m\u001b[0;34m,\u001b[0m \u001b[0mself\u001b[0m\u001b[0;34m.\u001b[0m\u001b[0mkwds\u001b[0m\u001b[0;34m,\u001b[0m \u001b[0mself\u001b[0m\u001b[0;34m.\u001b[0m\u001b[0mfunc\u001b[0m\u001b[0;34m\u001b[0m\u001b[0;34m\u001b[0m\u001b[0m\n\u001b[1;32m    112\u001b[0m         \u001b[0;32mtry\u001b[0m\u001b[0;34m:\u001b[0m\u001b[0;34m\u001b[0m\u001b[0;34m\u001b[0m\u001b[0m\n\u001b[0;32m--> 113\u001b[0;31m             \u001b[0;32mreturn\u001b[0m \u001b[0mnext\u001b[0m\u001b[0;34m(\u001b[0m\u001b[0mself\u001b[0m\u001b[0;34m.\u001b[0m\u001b[0mgen\u001b[0m\u001b[0;34m)\u001b[0m\u001b[0;34m\u001b[0m\u001b[0;34m\u001b[0m\u001b[0m\n\u001b[0m\u001b[1;32m    114\u001b[0m         \u001b[0;32mexcept\u001b[0m \u001b[0mStopIteration\u001b[0m\u001b[0;34m:\u001b[0m\u001b[0;34m\u001b[0m\u001b[0;34m\u001b[0m\u001b[0m\n\u001b[1;32m    115\u001b[0m             \u001b[0;32mraise\u001b[0m \u001b[0mRuntimeError\u001b[0m\u001b[0;34m(\u001b[0m\u001b[0;34m\"generator didn't yield\"\u001b[0m\u001b[0;34m)\u001b[0m \u001b[0;32mfrom\u001b[0m \u001b[0;32mNone\u001b[0m\u001b[0;34m\u001b[0m\u001b[0;34m\u001b[0m\u001b[0m\n",
            "\u001b[0;32m/usr/local/lib/python3.8/dist-packages/tensorflow/python/framework/ops.py\u001b[0m in \u001b[0;36mname_scope\u001b[0;34m(self, name)\u001b[0m\n\u001b[1;32m   4457\u001b[0m     \"\"\"\n\u001b[1;32m   4458\u001b[0m     \u001b[0;32mif\u001b[0m \u001b[0mname\u001b[0m\u001b[0;34m:\u001b[0m\u001b[0;34m\u001b[0m\u001b[0;34m\u001b[0m\u001b[0m\n\u001b[0;32m-> 4459\u001b[0;31m       \u001b[0;32mif\u001b[0m \u001b[0misinstance\u001b[0m\u001b[0;34m(\u001b[0m\u001b[0mname\u001b[0m\u001b[0;34m,\u001b[0m \u001b[0mcompat\u001b[0m\u001b[0;34m.\u001b[0m\u001b[0mbytes_or_text_types\u001b[0m\u001b[0;34m)\u001b[0m\u001b[0;34m:\u001b[0m\u001b[0;34m\u001b[0m\u001b[0;34m\u001b[0m\u001b[0m\n\u001b[0m\u001b[1;32m   4460\u001b[0m         \u001b[0mname\u001b[0m \u001b[0;34m=\u001b[0m \u001b[0mcompat\u001b[0m\u001b[0;34m.\u001b[0m\u001b[0mas_str\u001b[0m\u001b[0;34m(\u001b[0m\u001b[0mname\u001b[0m\u001b[0;34m)\u001b[0m\u001b[0;34m\u001b[0m\u001b[0;34m\u001b[0m\u001b[0m\n\u001b[1;32m   4461\u001b[0m \u001b[0;34m\u001b[0m\u001b[0m\n",
            "\u001b[0;31mKeyboardInterrupt\u001b[0m: "
          ]
        }
      ]
    },
    {
      "cell_type": "code",
      "source": [
        "# Make sure you have frozen the correct layers\n",
        "for i, layer in enumerate(model.layers):\n",
        "    print(i, layer.name, layer.trainable)"
      ],
      "metadata": {
        "id": "XlaChsUmJYaQ"
      },
      "execution_count": null,
      "outputs": []
    },
    {
      "cell_type": "code",
      "source": [
        "model_best = keras.models.load_model('EFF_best')\n",
        "\n",
        "pred = model_best.predict(test_generator)\n",
        "pred = np.argmax(pred, axis=1)\n",
        "\n",
        "sub = df_test[['imageid_boxid', 'class']].copy()\n",
        "sub['class'] = pred\n",
        "sub.to_csv('Eff.csv', index=False)\n",
        "!kaggle competitions submit -c hackathon-online-2022-image-processing -f 'Eff.csv'  -m 'Eff_Unfreeze.csv'"
      ],
      "metadata": {
        "id": "ivkLv41WG6ox",
        "colab": {
          "base_uri": "https://localhost:8080/"
        },
        "outputId": "7d0ead23-fc61-4f68-a181-e2d2a08c82c7"
      },
      "execution_count": null,
      "outputs": [
        {
          "output_type": "stream",
          "name": "stdout",
          "text": [
            "22/22 [==============================] - 12s 321ms/step\n",
            "100% 233k/233k [00:02<00:00, 92.7kB/s]\n",
            "Successfully submitted to Hackathon Online: Image Processing"
          ]
        }
      ]
    },
    {
      "cell_type": "markdown",
      "source": [
        "![image.png](data:image/png;base64,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)"
      ],
      "metadata": {
        "id": "oAveDZUn4q4o"
      }
    },
    {
      "cell_type": "code",
      "source": [],
      "metadata": {
        "id": "q4MFuILRQPi2"
      },
      "execution_count": null,
      "outputs": []
    }
  ],
  "metadata": {
    "colab": {
      "provenance": [],
      "toc_visible": true,
      "include_colab_link": true
    },
    "gpuClass": "premium",
    "kernelspec": {
      "display_name": "Python 3",
      "name": "python3"
    },
    "language_info": {
      "name": "python"
    },
    "accelerator": "GPU"
  },
  "nbformat": 4,
  "nbformat_minor": 0
}