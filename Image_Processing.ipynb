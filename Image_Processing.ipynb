{
  "cells": [
    {
      "cell_type": "markdown",
      "metadata": {
        "id": "view-in-github",
        "colab_type": "text"
      },
      "source": [
        "<a href=\"https://colab.research.google.com/github/NawinMasterM/SuperaiLv1_1_ImageProcessing/blob/main/Image_Processing.ipynb\" target=\"_parent\"><img src=\"https://colab.research.google.com/assets/colab-badge.svg\" alt=\"Open In Colab\"/></a>"
      ]
    },
    {
      "cell_type": "markdown",
      "metadata": {
        "id": "MxQg3CK97eZB"
      },
      "source": [
        "# Image Processing"
      ]
    },
    {
      "cell_type": "markdown",
      "source": [
        "## Source For Model\n",
        "https://www.analyticsvidhya.com/blog/2020/08/top-4-pre-trained-models-for-image-classification-with-python-code/"
      ],
      "metadata": {
        "id": "tDWRScdx4ZZY"
      }
    },
    {
      "cell_type": "markdown",
      "metadata": {
        "id": "-vCHAZwDr0IZ"
      },
      "source": [
        "## Library\n",
        "> Note *Dont Forget to Restart Runtime"
      ]
    },
    {
      "cell_type": "markdown",
      "metadata": {
        "id": "Ef4a3OqrsYwP"
      },
      "source": [
        "**When download matplotlib dont forget to restart runtime**"
      ]
    },
    {
      "cell_type": "code",
      "execution_count": null,
      "metadata": {
        "id": "vxkkaBZKXRN5",
        "colab": {
          "base_uri": "https://localhost:8080/"
        },
        "outputId": "cc96e653-ab0b-492e-d3de-66ea0a61bc82"
      },
      "outputs": [
        {
          "output_type": "stream",
          "name": "stdout",
          "text": [
            "Mounted at /content/drive\n"
          ]
        }
      ],
      "source": [
        "from google.colab import drive\n",
        "drive.mount('/content/drive')"
      ]
    },
    {
      "cell_type": "code",
      "execution_count": null,
      "metadata": {
        "colab": {
          "base_uri": "https://localhost:8080/",
          "height": 1000
        },
        "id": "ZKfoI4cGhfpZ",
        "outputId": "b09b466b-55fd-48ef-eb3a-f502317ffab8"
      },
      "outputs": [
        {
          "output_type": "stream",
          "name": "stdout",
          "text": [
            "Looking in indexes: https://pypi.org/simple, https://us-python.pkg.dev/colab-wheels/public/simple/\n",
            "Collecting tensorflow==2.3.0\n",
            "  Downloading tensorflow-2.3.0-cp38-cp38-manylinux2010_x86_64.whl (320.5 MB)\n",
            "\u001b[K     |████████████████████████████████| 320.5 MB 1.4 kB/s \n",
            "\u001b[?25hRequirement already satisfied: google-pasta>=0.1.8 in /usr/local/lib/python3.8/dist-packages (from tensorflow==2.3.0) (0.2.0)\n",
            "Requirement already satisfied: opt-einsum>=2.3.2 in /usr/local/lib/python3.8/dist-packages (from tensorflow==2.3.0) (3.3.0)\n",
            "Requirement already satisfied: protobuf>=3.9.2 in /usr/local/lib/python3.8/dist-packages (from tensorflow==2.3.0) (3.19.6)\n",
            "Collecting tensorflow-estimator<2.4.0,>=2.3.0\n",
            "  Downloading tensorflow_estimator-2.3.0-py2.py3-none-any.whl (459 kB)\n",
            "\u001b[K     |████████████████████████████████| 459 kB 55.4 MB/s \n",
            "\u001b[?25hRequirement already satisfied: keras-preprocessing<1.2,>=1.1.1 in /usr/local/lib/python3.8/dist-packages (from tensorflow==2.3.0) (1.1.2)\n",
            "Requirement already satisfied: six>=1.12.0 in /usr/local/lib/python3.8/dist-packages (from tensorflow==2.3.0) (1.15.0)\n",
            "Collecting scipy==1.4.1\n",
            "  Downloading scipy-1.4.1-cp38-cp38-manylinux1_x86_64.whl (26.0 MB)\n",
            "\u001b[K     |████████████████████████████████| 26.0 MB 1.4 MB/s \n",
            "\u001b[?25hCollecting h5py<2.11.0,>=2.10.0\n",
            "  Downloading h5py-2.10.0-cp38-cp38-manylinux1_x86_64.whl (2.9 MB)\n",
            "\u001b[K     |████████████████████████████████| 2.9 MB 58.0 MB/s \n",
            "\u001b[?25hRequirement already satisfied: astunparse==1.6.3 in /usr/local/lib/python3.8/dist-packages (from tensorflow==2.3.0) (1.6.3)\n",
            "Requirement already satisfied: absl-py>=0.7.0 in /usr/local/lib/python3.8/dist-packages (from tensorflow==2.3.0) (1.3.0)\n",
            "Collecting numpy<1.19.0,>=1.16.0\n",
            "  Downloading numpy-1.18.5-cp38-cp38-manylinux1_x86_64.whl (20.6 MB)\n",
            "\u001b[K     |████████████████████████████████| 20.6 MB 1.3 MB/s \n",
            "\u001b[?25hRequirement already satisfied: grpcio>=1.8.6 in /usr/local/lib/python3.8/dist-packages (from tensorflow==2.3.0) (1.51.1)\n",
            "Requirement already satisfied: wrapt>=1.11.1 in /usr/local/lib/python3.8/dist-packages (from tensorflow==2.3.0) (1.14.1)\n",
            "Requirement already satisfied: tensorboard<3,>=2.3.0 in /usr/local/lib/python3.8/dist-packages (from tensorflow==2.3.0) (2.9.1)\n",
            "Requirement already satisfied: wheel>=0.26 in /usr/local/lib/python3.8/dist-packages (from tensorflow==2.3.0) (0.38.4)\n",
            "Collecting gast==0.3.3\n",
            "  Downloading gast-0.3.3-py2.py3-none-any.whl (9.7 kB)\n",
            "Requirement already satisfied: termcolor>=1.1.0 in /usr/local/lib/python3.8/dist-packages (from tensorflow==2.3.0) (2.1.1)\n",
            "Requirement already satisfied: markdown>=2.6.8 in /usr/local/lib/python3.8/dist-packages (from tensorboard<3,>=2.3.0->tensorflow==2.3.0) (3.4.1)\n",
            "Requirement already satisfied: setuptools>=41.0.0 in /usr/local/lib/python3.8/dist-packages (from tensorboard<3,>=2.3.0->tensorflow==2.3.0) (57.4.0)\n",
            "Requirement already satisfied: werkzeug>=1.0.1 in /usr/local/lib/python3.8/dist-packages (from tensorboard<3,>=2.3.0->tensorflow==2.3.0) (1.0.1)\n",
            "Requirement already satisfied: google-auth-oauthlib<0.5,>=0.4.1 in /usr/local/lib/python3.8/dist-packages (from tensorboard<3,>=2.3.0->tensorflow==2.3.0) (0.4.6)\n",
            "Requirement already satisfied: tensorboard-data-server<0.7.0,>=0.6.0 in /usr/local/lib/python3.8/dist-packages (from tensorboard<3,>=2.3.0->tensorflow==2.3.0) (0.6.1)\n",
            "Requirement already satisfied: google-auth<3,>=1.6.3 in /usr/local/lib/python3.8/dist-packages (from tensorboard<3,>=2.3.0->tensorflow==2.3.0) (2.15.0)\n",
            "Requirement already satisfied: tensorboard-plugin-wit>=1.6.0 in /usr/local/lib/python3.8/dist-packages (from tensorboard<3,>=2.3.0->tensorflow==2.3.0) (1.8.1)\n",
            "Requirement already satisfied: requests<3,>=2.21.0 in /usr/local/lib/python3.8/dist-packages (from tensorboard<3,>=2.3.0->tensorflow==2.3.0) (2.23.0)\n",
            "Requirement already satisfied: rsa<5,>=3.1.4 in /usr/local/lib/python3.8/dist-packages (from google-auth<3,>=1.6.3->tensorboard<3,>=2.3.0->tensorflow==2.3.0) (4.9)\n",
            "Requirement already satisfied: pyasn1-modules>=0.2.1 in /usr/local/lib/python3.8/dist-packages (from google-auth<3,>=1.6.3->tensorboard<3,>=2.3.0->tensorflow==2.3.0) (0.2.8)\n",
            "Requirement already satisfied: cachetools<6.0,>=2.0.0 in /usr/local/lib/python3.8/dist-packages (from google-auth<3,>=1.6.3->tensorboard<3,>=2.3.0->tensorflow==2.3.0) (5.2.0)\n",
            "Requirement already satisfied: requests-oauthlib>=0.7.0 in /usr/local/lib/python3.8/dist-packages (from google-auth-oauthlib<0.5,>=0.4.1->tensorboard<3,>=2.3.0->tensorflow==2.3.0) (1.3.1)\n",
            "Requirement already satisfied: importlib-metadata>=4.4 in /usr/local/lib/python3.8/dist-packages (from markdown>=2.6.8->tensorboard<3,>=2.3.0->tensorflow==2.3.0) (5.1.0)\n",
            "Requirement already satisfied: zipp>=0.5 in /usr/local/lib/python3.8/dist-packages (from importlib-metadata>=4.4->markdown>=2.6.8->tensorboard<3,>=2.3.0->tensorflow==2.3.0) (3.11.0)\n",
            "Requirement already satisfied: pyasn1<0.5.0,>=0.4.6 in /usr/local/lib/python3.8/dist-packages (from pyasn1-modules>=0.2.1->google-auth<3,>=1.6.3->tensorboard<3,>=2.3.0->tensorflow==2.3.0) (0.4.8)\n",
            "Requirement already satisfied: urllib3!=1.25.0,!=1.25.1,<1.26,>=1.21.1 in /usr/local/lib/python3.8/dist-packages (from requests<3,>=2.21.0->tensorboard<3,>=2.3.0->tensorflow==2.3.0) (1.24.3)\n",
            "Requirement already satisfied: chardet<4,>=3.0.2 in /usr/local/lib/python3.8/dist-packages (from requests<3,>=2.21.0->tensorboard<3,>=2.3.0->tensorflow==2.3.0) (3.0.4)\n",
            "Requirement already satisfied: certifi>=2017.4.17 in /usr/local/lib/python3.8/dist-packages (from requests<3,>=2.21.0->tensorboard<3,>=2.3.0->tensorflow==2.3.0) (2022.12.7)\n",
            "Requirement already satisfied: idna<3,>=2.5 in /usr/local/lib/python3.8/dist-packages (from requests<3,>=2.21.0->tensorboard<3,>=2.3.0->tensorflow==2.3.0) (2.10)\n",
            "Requirement already satisfied: oauthlib>=3.0.0 in /usr/local/lib/python3.8/dist-packages (from requests-oauthlib>=0.7.0->google-auth-oauthlib<0.5,>=0.4.1->tensorboard<3,>=2.3.0->tensorflow==2.3.0) (3.2.2)\n",
            "Installing collected packages: numpy, tensorflow-estimator, scipy, h5py, gast, tensorflow\n",
            "  Attempting uninstall: numpy\n",
            "    Found existing installation: numpy 1.21.6\n",
            "    Uninstalling numpy-1.21.6:\n",
            "      Successfully uninstalled numpy-1.21.6\n",
            "  Attempting uninstall: tensorflow-estimator\n",
            "    Found existing installation: tensorflow-estimator 2.9.0\n",
            "    Uninstalling tensorflow-estimator-2.9.0:\n",
            "      Successfully uninstalled tensorflow-estimator-2.9.0\n",
            "  Attempting uninstall: scipy\n",
            "    Found existing installation: scipy 1.7.3\n",
            "    Uninstalling scipy-1.7.3:\n",
            "      Successfully uninstalled scipy-1.7.3\n",
            "  Attempting uninstall: h5py\n",
            "    Found existing installation: h5py 3.1.0\n",
            "    Uninstalling h5py-3.1.0:\n",
            "      Successfully uninstalled h5py-3.1.0\n",
            "  Attempting uninstall: gast\n",
            "    Found existing installation: gast 0.4.0\n",
            "    Uninstalling gast-0.4.0:\n",
            "      Successfully uninstalled gast-0.4.0\n",
            "  Attempting uninstall: tensorflow\n",
            "    Found existing installation: tensorflow 2.9.2\n",
            "    Uninstalling tensorflow-2.9.2:\n",
            "      Successfully uninstalled tensorflow-2.9.2\n",
            "\u001b[31mERROR: pip's dependency resolver does not currently take into account all the packages that are installed. This behaviour is the source of the following dependency conflicts.\n",
            "xarray 2022.12.0 requires numpy>=1.20, but you have numpy 1.18.5 which is incompatible.\n",
            "xarray-einstats 0.4.0 requires numpy>=1.20, but you have numpy 1.18.5 which is incompatible.\n",
            "xarray-einstats 0.4.0 requires scipy>=1.6, but you have scipy 1.4.1 which is incompatible.\n",
            "tifffile 2022.10.10 requires numpy>=1.19.2, but you have numpy 1.18.5 which is incompatible.\n",
            "tables 3.7.0 requires numpy>=1.19.0, but you have numpy 1.18.5 which is incompatible.\n",
            "plotnine 0.8.0 requires numpy>=1.19.0, but you have numpy 1.18.5 which is incompatible.\n",
            "plotnine 0.8.0 requires scipy>=1.5.0, but you have scipy 1.4.1 which is incompatible.\n",
            "jaxlib 0.3.25+cuda11.cudnn805 requires numpy>=1.20, but you have numpy 1.18.5 which is incompatible.\n",
            "jaxlib 0.3.25+cuda11.cudnn805 requires scipy>=1.5, but you have scipy 1.4.1 which is incompatible.\n",
            "jax 0.3.25 requires numpy>=1.20, but you have numpy 1.18.5 which is incompatible.\n",
            "jax 0.3.25 requires scipy>=1.5, but you have scipy 1.4.1 which is incompatible.\n",
            "cupy-cuda11x 11.0.0 requires numpy<1.26,>=1.20, but you have numpy 1.18.5 which is incompatible.\n",
            "cmdstanpy 1.0.8 requires numpy>=1.21, but you have numpy 1.18.5 which is incompatible.\u001b[0m\n",
            "Successfully installed gast-0.3.3 h5py-2.10.0 numpy-1.18.5 scipy-1.4.1 tensorflow-2.3.0 tensorflow-estimator-2.3.0\n"
          ]
        },
        {
          "output_type": "display_data",
          "data": {
            "application/vnd.colab-display-data+json": {
              "pip_warning": {
                "packages": [
                  "numpy"
                ]
              }
            }
          },
          "metadata": {}
        },
        {
          "output_type": "stream",
          "name": "stdout",
          "text": [
            "Looking in indexes: https://pypi.org/simple, https://us-python.pkg.dev/colab-wheels/public/simple/\n",
            "Requirement already satisfied: gdown in /usr/local/lib/python3.8/dist-packages (4.4.0)\n",
            "Collecting gdown\n",
            "  Downloading gdown-4.6.0-py3-none-any.whl (14 kB)\n",
            "Requirement already satisfied: requests[socks] in /usr/local/lib/python3.8/dist-packages (from gdown) (2.23.0)\n",
            "Requirement already satisfied: beautifulsoup4 in /usr/local/lib/python3.8/dist-packages (from gdown) (4.6.3)\n",
            "Requirement already satisfied: filelock in /usr/local/lib/python3.8/dist-packages (from gdown) (3.8.2)\n",
            "Requirement already satisfied: six in /usr/local/lib/python3.8/dist-packages (from gdown) (1.15.0)\n",
            "Requirement already satisfied: tqdm in /usr/local/lib/python3.8/dist-packages (from gdown) (4.64.1)\n",
            "Requirement already satisfied: certifi>=2017.4.17 in /usr/local/lib/python3.8/dist-packages (from requests[socks]->gdown) (2022.12.7)\n",
            "Requirement already satisfied: idna<3,>=2.5 in /usr/local/lib/python3.8/dist-packages (from requests[socks]->gdown) (2.10)\n",
            "Requirement already satisfied: chardet<4,>=3.0.2 in /usr/local/lib/python3.8/dist-packages (from requests[socks]->gdown) (3.0.4)\n",
            "Requirement already satisfied: urllib3!=1.25.0,!=1.25.1,<1.26,>=1.21.1 in /usr/local/lib/python3.8/dist-packages (from requests[socks]->gdown) (1.24.3)\n",
            "Requirement already satisfied: PySocks!=1.5.7,>=1.5.6 in /usr/local/lib/python3.8/dist-packages (from requests[socks]->gdown) (1.7.1)\n",
            "Installing collected packages: gdown\n",
            "  Attempting uninstall: gdown\n",
            "    Found existing installation: gdown 4.4.0\n",
            "    Uninstalling gdown-4.4.0:\n",
            "      Successfully uninstalled gdown-4.4.0\n",
            "Successfully installed gdown-4.6.0\n",
            "Looking in indexes: https://pypi.org/simple, https://us-python.pkg.dev/colab-wheels/public/simple/\n",
            "Collecting matplotlib==3.1.3\n",
            "  Downloading matplotlib-3.1.3-cp38-cp38-manylinux1_x86_64.whl (13.1 MB)\n",
            "\u001b[K     |████████████████████████████████| 13.1 MB 27.1 MB/s \n",
            "\u001b[?25hRequirement already satisfied: cycler>=0.10 in /usr/local/lib/python3.8/dist-packages (from matplotlib==3.1.3) (0.11.0)\n",
            "Requirement already satisfied: numpy>=1.11 in /usr/local/lib/python3.8/dist-packages (from matplotlib==3.1.3) (1.18.5)\n",
            "Requirement already satisfied: python-dateutil>=2.1 in /usr/local/lib/python3.8/dist-packages (from matplotlib==3.1.3) (2.8.2)\n",
            "Requirement already satisfied: pyparsing!=2.0.4,!=2.1.2,!=2.1.6,>=2.0.1 in /usr/local/lib/python3.8/dist-packages (from matplotlib==3.1.3) (3.0.9)\n",
            "Requirement already satisfied: kiwisolver>=1.0.1 in /usr/local/lib/python3.8/dist-packages (from matplotlib==3.1.3) (1.4.4)\n",
            "Requirement already satisfied: six>=1.5 in /usr/local/lib/python3.8/dist-packages (from python-dateutil>=2.1->matplotlib==3.1.3) (1.15.0)\n",
            "Installing collected packages: matplotlib\n",
            "  Attempting uninstall: matplotlib\n",
            "    Found existing installation: matplotlib 3.2.2\n",
            "    Uninstalling matplotlib-3.2.2:\n",
            "      Successfully uninstalled matplotlib-3.2.2\n",
            "\u001b[31mERROR: pip's dependency resolver does not currently take into account all the packages that are installed. This behaviour is the source of the following dependency conflicts.\n",
            "plotnine 0.8.0 requires numpy>=1.19.0, but you have numpy 1.18.5 which is incompatible.\n",
            "plotnine 0.8.0 requires scipy>=1.5.0, but you have scipy 1.4.1 which is incompatible.\u001b[0m\n",
            "Successfully installed matplotlib-3.1.3\n"
          ]
        },
        {
          "output_type": "display_data",
          "data": {
            "application/vnd.colab-display-data+json": {
              "pip_warning": {
                "packages": [
                  "matplotlib",
                  "mpl_toolkits"
                ]
              }
            }
          },
          "metadata": {}
        },
        {
          "output_type": "stream",
          "name": "stdout",
          "text": [
            "Looking in indexes: https://pypi.org/simple, https://us-python.pkg.dev/colab-wheels/public/simple/\n",
            "Collecting pillow==9.2.0\n",
            "  Downloading Pillow-9.2.0-cp38-cp38-manylinux_2_17_x86_64.manylinux2014_x86_64.whl (3.1 MB)\n",
            "\u001b[K     |████████████████████████████████| 3.1 MB 26.6 MB/s \n",
            "\u001b[?25hInstalling collected packages: pillow\n",
            "  Attempting uninstall: pillow\n",
            "    Found existing installation: Pillow 7.1.2\n",
            "    Uninstalling Pillow-7.1.2:\n",
            "      Successfully uninstalled Pillow-7.1.2\n",
            "Successfully installed pillow-9.2.0\n"
          ]
        },
        {
          "output_type": "display_data",
          "data": {
            "application/vnd.colab-display-data+json": {
              "pip_warning": {
                "packages": [
                  "PIL"
                ]
              }
            }
          },
          "metadata": {}
        },
        {
          "output_type": "stream",
          "name": "stdout",
          "text": [
            "Looking in indexes: https://pypi.org/simple, https://us-python.pkg.dev/colab-wheels/public/simple/\n",
            "Collecting numpy==1.21\n",
            "  Downloading numpy-1.21.0-cp38-cp38-manylinux_2_12_x86_64.manylinux2010_x86_64.whl (15.7 MB)\n",
            "\u001b[K     |████████████████████████████████| 15.7 MB 37.1 MB/s \n",
            "\u001b[?25hInstalling collected packages: numpy\n",
            "  Attempting uninstall: numpy\n",
            "    Found existing installation: numpy 1.18.5\n",
            "    Uninstalling numpy-1.18.5:\n",
            "      Successfully uninstalled numpy-1.18.5\n",
            "\u001b[31mERROR: pip's dependency resolver does not currently take into account all the packages that are installed. This behaviour is the source of the following dependency conflicts.\n",
            "xarray-einstats 0.4.0 requires scipy>=1.6, but you have scipy 1.4.1 which is incompatible.\n",
            "tensorflow 2.3.0 requires numpy<1.19.0,>=1.16.0, but you have numpy 1.21.0 which is incompatible.\n",
            "plotnine 0.8.0 requires scipy>=1.5.0, but you have scipy 1.4.1 which is incompatible.\n",
            "jaxlib 0.3.25+cuda11.cudnn805 requires scipy>=1.5, but you have scipy 1.4.1 which is incompatible.\n",
            "jax 0.3.25 requires scipy>=1.5, but you have scipy 1.4.1 which is incompatible.\u001b[0m\n",
            "Successfully installed numpy-1.21.0\n"
          ]
        },
        {
          "output_type": "display_data",
          "data": {
            "application/vnd.colab-display-data+json": {
              "pip_warning": {
                "packages": [
                  "numpy"
                ]
              }
            }
          },
          "metadata": {}
        }
      ],
      "source": [
        "!pip install tensorflow==2.3.0\n",
        "\n",
        "!pip install --upgrade gdown\n",
        "\n",
        "!pip install matplotlib==3.1.3\n",
        "\n",
        "!pip install pillow==9.2.0\n",
        "\n",
        "!pip install numpy==1.21"
      ]
    },
    {
      "cell_type": "code",
      "execution_count": null,
      "metadata": {
        "colab": {
          "base_uri": "https://localhost:8080/"
        },
        "id": "BUuPgadRtJd_",
        "outputId": "dcbda4f9-717c-42ed-e3d5-fa72dceb4a74"
      },
      "outputs": [
        {
          "output_type": "stream",
          "name": "stdout",
          "text": [
            "\u001b[K     |████████████████████████████████| 64 kB 2.6 MB/s \n",
            "\u001b[K     |████████████████████████████████| 12.9 MB 52.6 MB/s \n",
            "\u001b[K     |████████████████████████████████| 16.5 MB 51.0 MB/s \n",
            "\u001b[K     |████████████████████████████████| 9.4 MB 61.9 MB/s \n",
            "\u001b[K     |████████████████████████████████| 240 kB 47.8 MB/s \n",
            "\u001b[K     |████████████████████████████████| 3.2 MB 9.9 MB/s \n",
            "\u001b[K     |████████████████████████████████| 1.7 MB 47.8 MB/s \n",
            "\u001b[K     |████████████████████████████████| 55 kB 4.8 MB/s \n",
            "\u001b[K     |████████████████████████████████| 295 kB 53.4 MB/s \n",
            "\u001b[K     |████████████████████████████████| 965 kB 55.9 MB/s \n",
            "\u001b[K     |████████████████████████████████| 18.5 MB 152 kB/s \n",
            "\u001b[K     |████████████████████████████████| 1.6 MB 46.8 MB/s \n",
            "\u001b[K     |████████████████████████████████| 121 kB 59.0 MB/s \n",
            "\u001b[K     |████████████████████████████████| 83 kB 1.1 MB/s \n",
            "\u001b[?25h  Building wheel for emoji (setup.py) ... \u001b[?25l\u001b[?25hdone\n"
          ]
        }
      ],
      "source": [
        "!pip install split-folders[full] -qq\n",
        "!pip install kaggle -qq\n",
        "!pip install autoviz -qq"
      ]
    },
    {
      "cell_type": "code",
      "source": [
        "#Restart runtime ขก.กด\n",
        "import os\n",
        "os.kill(os.getpid(), 9)"
      ],
      "metadata": {
        "id": "QFjXye-HlXOm"
      },
      "execution_count": null,
      "outputs": []
    },
    {
      "cell_type": "code",
      "execution_count": null,
      "metadata": {
        "id": "mLJ6FzHPr1lK"
      },
      "outputs": [],
      "source": [
        "import os\n",
        "import pandas as pd\n",
        "from tqdm import tqdm\n",
        "import numpy as np\n",
        "import shutil\n",
        "\n",
        "#opencv\n",
        "import cv2\n",
        "from google.colab.patches import cv2_imshow\n",
        "from PIL import Image, ImageOps\n",
        "\n",
        "#plot\n",
        "import matplotlib.pyplot as plt\n",
        "import seaborn as sns\n",
        "\n",
        "#spli folder\n",
        "import splitfolders\n",
        "\n",
        "#Augmentation\n",
        "from tqdm import tqdm\n",
        "\n",
        "#Model\n",
        "import tensorflow as tf \n",
        "from tensorflow.keras.preprocessing.image import ImageDataGenerator \n",
        "from tensorflow.keras import layers\n",
        "from tensorflow import keras\n",
        "from tensorflow.keras import Model \n",
        "from tensorflow.keras.callbacks import ModelCheckpoint, EarlyStopping\n",
        "\n",
        "from tensorflow.python.keras.models import Sequential\n",
        "from tensorflow.python.keras.layers import Dense, Flatten, GlobalAveragePooling2D\n",
        "\n",
        "from tensorflow.keras.optimizers import RMSprop, SGD\n",
        "\n",
        "from tensorflow.keras.applications.vgg16 import VGG16 #vgg16\n",
        "from tensorflow.keras.applications.inception_v3 import InceptionV3 #InceptionV3\n",
        "from tensorflow.keras.applications import ResNet50\n",
        "\n",
        "from tensorflow import keras\n",
        "from tensorflow.keras import layers"
      ]
    },
    {
      "cell_type": "code",
      "source": [
        "#test matplotlib\n",
        "plt.scatter(1, 1)"
      ],
      "metadata": {
        "colab": {
          "base_uri": "https://localhost:8080/",
          "height": 282
        },
        "id": "O2DHPaKpkQao",
        "outputId": "27b02075-0422-4569-fcbb-9d9678a71796"
      },
      "execution_count": null,
      "outputs": [
        {
          "output_type": "execute_result",
          "data": {
            "text/plain": [
              "<matplotlib.collections.PathCollection at 0x7fc07e6341f0>"
            ]
          },
          "metadata": {},
          "execution_count": 2
        },
        {
          "output_type": "display_data",
          "data": {
            "text/plain": [
              "<Figure size 432x288 with 1 Axes>"
            ],
            "image/png": "[encoded data removed]"
          },
          "metadata": {
            "needs_background": "light"
          }
        }
      ]
    },
    {
      "cell_type": "markdown",
      "metadata": {
        "id": "LsoZBhBL0pSw"
      },
      "source": [
        "## Load"
      ]
    },
    {
      "cell_type": "code",
      "execution_count": null,
      "metadata": {
        "colab": {
          "base_uri": "https://localhost:8080/"
        },
        "id": "CSeT7f56BVHK",
        "outputId": "cd527f83-0ee3-4646-b43f-7a714e69e80a"
      },
      "outputs": [
        {
          "output_type": "stream",
          "name": "stdout",
          "text": [
            "ref                                                             title                                           size  lastUpdated          downloadCount  voteCount  usabilityRating  \n",
            "--------------------------------------------------------------  ---------------------------------------------  -----  -------------------  -------------  ---------  ---------------  \n",
            "meirnizri/covid19-dataset                                       COVID-19 Dataset                                 5MB  2022-11-13 15:47:17          12932        371  1.0              \n",
            "thedevastator/analyzing-credit-card-spending-habits-in-india    Credit Card Spending Habits in India           319KB  2022-12-14 07:30:37            649         29  1.0              \n",
            "michals22/coffee-dataset                                        Coffee dataset                                  24KB  2022-12-15 20:02:12           2722         70  1.0              \n",
            "thedevastator/unlock-profits-with-e-commerce-sales-data         E-Commerce Sales Dataset                         6MB  2022-12-03 09:27:17           2018         53  1.0              \n",
            "thedevastator/jobs-dataset-from-glassdoor                       Salary Prediction                                3MB  2022-11-16 13:52:31           7602        167  1.0              \n",
            "die9origephit/fifa-world-cup-2022-complete-dataset              Fifa World Cup 2022: Complete Dataset            7KB  2022-12-18 22:51:11           2250         94  1.0              \n",
            "mattop/highest-grossing-mobile-games                            Highest Grossing Mobile Games                    3KB  2022-12-19 15:20:22            385         23  1.0              \n",
            "thedevastator/uncover-global-trends-in-mental-health-disorder   Global Trends in Mental Health Disorder          1MB  2022-12-14 05:30:38            648         23  1.0              \n",
            "rajkumarpandey02/fifa-world-cup-attendance-19302022             FIFA World Cup Attendance 1930-2022              5KB  2022-12-19 10:04:26            716         21  1.0              \n",
            "thedevastator/revealing-insights-from-youtube-video-and-channe  YouTube Videos and Channels Metadata            82MB  2022-12-14 02:48:24            409         22  0.9411765        \n",
            "thedevastator/uncovering-insights-to-college-majors-and-their   College Majors and their Graduates              39KB  2022-12-06 16:06:52           1052         31  1.0              \n",
            "mvieira101/global-cost-of-living                                Global Cost of Living                            1MB  2022-12-03 16:37:53           3495         73  0.9705882        \n",
            "anashamoutni/students-employability-dataset                     Students' Employability Dataset - Philippines   97KB  2022-12-18 15:51:39            539         22  0.88235295       \n",
            "swaptr/fifa-world-cup-2022-statistics                           FIFA World Cup 2022 Team Data                   15KB  2022-12-19 00:29:15           2668         61  0.9705882        \n",
            "thedevastator/the-ultimate-netflix-tv-shows-and-movies-dataset  Netflix TV Shows and Movies (2022 Updated)       2MB  2022-11-27 20:41:41           2476         46  1.0              \n",
            "whenamancodes/predict-diabities                                 Predict Diabetes                                 9KB  2022-11-09 12:18:49           7916        122  1.0              \n",
            "kulturehire/understanding-career-aspirations-of-genz            Understanding Career Aspirations of GenZ         8KB  2022-12-21 13:44:32            230         23  0.9117647        \n",
            "thedevastator/uncovering-wage-disparities-in-pennsylvania-s-hi  Higher Education Wages                         223KB  2022-12-04 15:42:36           1264         40  1.0              \n",
            "laibaanwer/superstore-sales-dataset                             SuperStore Sales Dataset                         2MB  2022-12-07 08:53:32           1470         37  1.0              \n",
            "catherinerasgaitis/mxmh-survey-results                          Music & Mental Health Survey Results            22KB  2022-11-21 10:03:12           3138         75  1.0              \n"
          ]
        }
      ],
      "source": [
        "!mkdir ~/.kaggle\n",
        "!cp /content/kaggle.json ~/.kaggle/ #copy api key ---- depend on your directory -- my directory is .../colab/..\n",
        "!chmod 600 ~/.kaggle/kaggle.json\n",
        "!kaggle datasets list"
      ]
    },
    {
      "cell_type": "code",
      "execution_count": null,
      "metadata": {
        "colab": {
          "base_uri": "https://localhost:8080/"
        },
        "id": "qbHgIi7S06Ab",
        "outputId": "8584c199-e3a8-470f-f493-7ee5cf873028"
      },
      "outputs": [
        {
          "output_type": "stream",
          "name": "stdout",
          "text": [
            "Downloading hackathon-online-2022-image-processing.zip to /content\n",
            "100% 415M/415M [00:20<00:00, 26.2MB/s]\n",
            "100% 415M/415M [00:20<00:00, 20.8MB/s]\n"
          ]
        }
      ],
      "source": [
        "!kaggle competitions download -c hackathon-online-2022-image-processing\n",
        "!unzip -q hackathon-online-2022-image-processing"
      ]
    },
    {
      "cell_type": "code",
      "execution_count": null,
      "metadata": {
        "colab": {
          "base_uri": "https://localhost:8080/"
        },
        "id": "n6j1D2Yh1Njp",
        "outputId": "6a9965f9-9a4b-4e2d-b797-8ce508b38c7d"
      },
      "outputs": [
        {
          "output_type": "stream",
          "name": "stdout",
          "text": [
            "Archive:  /content/IM_Test.zipfile\n",
            "replace IM_Test.zipfile? [y]es, [n]o, [A]ll, [N]one, [r]ename: y\n",
            "  inflating: IM_Test.zipfile         \n",
            "Archive:  /content/IM_Train.zipfile\n",
            "replace IM_Train.zipfile? [y]es, [n]o, [A]ll, [N]one, [r]ename: y\n",
            "  inflating: IM_Train.zipfile        \n"
          ]
        }
      ],
      "source": [
        "!unzip /content/IM_Test.zipfile\n",
        "!unzip /content/IM_Train.zipfile"
      ]
    },
    {
      "cell_type": "code",
      "execution_count": null,
      "metadata": {
        "id": "vup-n8igFxbP"
      },
      "outputs": [],
      "source": [
        "!unzip -q /content/IM_Test.zipfile\n",
        "!unzip -q /content/IM_Train.zipfile"
      ]
    },
    {
      "cell_type": "markdown",
      "metadata": {
        "id": "c0T6JQ-k1YaC"
      },
      "source": [
        "## Read"
      ]
    },
    {
      "cell_type": "code",
      "execution_count": null,
      "metadata": {
        "colab": {
          "base_uri": "https://localhost:8080/",
          "height": 424
        },
        "id": "nVcWgv6P4C15",
        "outputId": "61e3a55c-3c06-4aaf-b848-7434ea1d6576"
      },
      "outputs": [
        {
          "output_type": "execute_result",
          "data": {
            "text/plain": [
              "      imageid_boxid  class\n",
              "0               1_0    NaN\n",
              "1               2_0    NaN\n",
              "2               2_1    NaN\n",
              "3               2_2    NaN\n",
              "4               3_0    NaN\n",
              "...             ...    ...\n",
              "26027       13067_0    NaN\n",
              "26028       13067_1    NaN\n",
              "26029       13067_2    NaN\n",
              "26030       13068_0    NaN\n",
              "26031       13068_1    NaN\n",
              "\n",
              "[26032 rows x 2 columns]"
            ],
            "text/html": [
              "\n",
              "  <div id=\"df-a65786de-2437-4bac-b077-41f7f147e6e1\">\n",
              "    <div class=\"colab-df-container\">\n",
              "      <div>\n",
              "<style scoped>\n",
              "    .dataframe tbody tr th:only-of-type {\n",
              "        vertical-align: middle;\n",
              "    }\n",
              "\n",
              "    .dataframe tbody tr th {\n",
              "        vertical-align: top;\n",
              "    }\n",
              "\n",
              "    .dataframe thead th {\n",
              "        text-align: right;\n",
              "    }\n",
              "</style>\n",
              "<table border=\"1\" class=\"dataframe\">\n",
              "  <thead>\n",
              "    <tr style=\"text-align: right;\">\n",
              "      <th></th>\n",
              "      <th>imageid_boxid</th>\n",
              "      <th>class</th>\n",
              "    </tr>\n",
              "  </thead>\n",
              "  <tbody>\n",
              "    <tr>\n",
              "      <th>0</th>\n",
              "      <td>1_0</td>\n",
              "      <td>NaN</td>\n",
              "    </tr>\n",
              "    <tr>\n",
              "      <th>1</th>\n",
              "      <td>2_0</td>\n",
              "      <td>NaN</td>\n",
              "    </tr>\n",
              "    <tr>\n",
              "      <th>2</th>\n",
              "      <td>2_1</td>\n",
              "      <td>NaN</td>\n",
              "    </tr>\n",
              "    <tr>\n",
              "      <th>3</th>\n",
              "      <td>2_2</td>\n",
              "      <td>NaN</td>\n",
              "    </tr>\n",
              "    <tr>\n",
              "      <th>4</th>\n",
              "      <td>3_0</td>\n",
              "      <td>NaN</td>\n",
              "    </tr>\n",
              "    <tr>\n",
              "      <th>...</th>\n",
              "      <td>...</td>\n",
              "      <td>...</td>\n",
              "    </tr>\n",
              "    <tr>\n",
              "      <th>26027</th>\n",
              "      <td>13067_0</td>\n",
              "      <td>NaN</td>\n",
              "    </tr>\n",
              "    <tr>\n",
              "      <th>26028</th>\n",
              "      <td>13067_1</td>\n",
              "      <td>NaN</td>\n",
              "    </tr>\n",
              "    <tr>\n",
              "      <th>26029</th>\n",
              "      <td>13067_2</td>\n",
              "      <td>NaN</td>\n",
              "    </tr>\n",
              "    <tr>\n",
              "      <th>26030</th>\n",
              "      <td>13068_0</td>\n",
              "      <td>NaN</td>\n",
              "    </tr>\n",
              "    <tr>\n",
              "      <th>26031</th>\n",
              "      <td>13068_1</td>\n",
              "      <td>NaN</td>\n",
              "    </tr>\n",
              "  </tbody>\n",
              "</table>\n",
              "<p>26032 rows × 2 columns</p>\n",
              "</div>\n",
              "      <button class=\"colab-df-convert\" onclick=\"convertToInteractive('df-a65786de-2437-4bac-b077-41f7f147e6e1')\"\n",
              "              title=\"Convert this dataframe to an interactive table.\"\n",
              "              style=\"display:none;\">\n",
              "        \n",
              "  <svg xmlns=\"http://www.w3.org/2000/svg\" height=\"24px\"viewBox=\"0 0 24 24\"\n",
              "       width=\"24px\">\n",
              "    <path d=\"M0 0h24v24H0V0z\" fill=\"none\"/>\n",
              "    <path d=\"M18.56 5.44l.94 2.06.94-2.06 2.06-.94-2.06-.94-.94-2.06-.94 2.06-2.06.94zm-11 1L8.5 8.5l.94-2.06 2.06-.94-2.06-.94L8.5 2.5l-.94 2.06-2.06.94zm10 10l.94 2.06.94-2.06 2.06-.94-2.06-.94-.94-2.06-.94 2.06-2.06.94z\"/><path d=\"M17.41 7.96l-1.37-1.37c-.4-.4-.92-.59-1.43-.59-.52 0-1.04.2-1.43.59L10.3 9.45l-7.72 7.72c-.78.78-.78 2.05 0 2.83L4 21.41c.39.39.9.59 1.41.59.51 0 1.02-.2 1.41-.59l7.78-7.78 2.81-2.81c.8-.78.8-2.07 0-2.86zM5.41 20L4 18.59l7.72-7.72 1.47 1.35L5.41 20z\"/>\n",
              "  </svg>\n",
              "      </button>\n",
              "      \n",
              "  <style>\n",
              "    .colab-df-container {\n",
              "      display:flex;\n",
              "      flex-wrap:wrap;\n",
              "      gap: 12px;\n",
              "    }\n",
              "\n",
              "    .colab-df-convert {\n",
              "      background-color: #E8F0FE;\n",
              "      border: none;\n",
              "      border-radius: 50%;\n",
              "      cursor: pointer;\n",
              "      display: none;\n",
              "      fill: #1967D2;\n",
              "      height: 32px;\n",
              "      padding: 0 0 0 0;\n",
              "      width: 32px;\n",
              "    }\n",
              "\n",
              "    .colab-df-convert:hover {\n",
              "      background-color: #E2EBFA;\n",
              "      box-shadow: 0px 1px 2px rgba(60, 64, 67, 0.3), 0px 1px 3px 1px rgba(60, 64, 67, 0.15);\n",
              "      fill: #174EA6;\n",
              "    }\n",
              "\n",
              "    [theme=dark] .colab-df-convert {\n",
              "      background-color: #3B4455;\n",
              "      fill: #D2E3FC;\n",
              "    }\n",
              "\n",
              "    [theme=dark] .colab-df-convert:hover {\n",
              "      background-color: #434B5C;\n",
              "      box-shadow: 0px 1px 3px 1px rgba(0, 0, 0, 0.15);\n",
              "      filter: drop-shadow(0px 1px 2px rgba(0, 0, 0, 0.3));\n",
              "      fill: #FFFFFF;\n",
              "    }\n",
              "  </style>\n",
              "\n",
              "      <script>\n",
              "        const buttonEl =\n",
              "          document.querySelector('#df-a65786de-2437-4bac-b077-41f7f147e6e1 button.colab-df-convert');\n",
              "        buttonEl.style.display =\n",
              "          google.colab.kernel.accessAllowed ? 'block' : 'none';\n",
              "\n",
              "        async function convertToInteractive(key) {\n",
              "          const element = document.querySelector('#df-a65786de-2437-4bac-b077-41f7f147e6e1');\n",
              "          const dataTable =\n",
              "            await google.colab.kernel.invokeFunction('convertToInteractive',\n",
              "                                                     [key], {});\n",
              "          if (!dataTable) return;\n",
              "\n",
              "          const docLinkHtml = 'Like what you see? Visit the ' +\n",
              "            '<a target=\"_blank\" href=https://colab.research.google.com/notebooks/data_table.ipynb>data table notebook</a>'\n",
              "            + ' to learn more about interactive tables.';\n",
              "          element.innerHTML = '';\n",
              "          dataTable['output_type'] = 'display_data';\n",
              "          await google.colab.output.renderOutput(dataTable, element);\n",
              "          const docLink = document.createElement('div');\n",
              "          docLink.innerHTML = docLinkHtml;\n",
              "          element.appendChild(docLink);\n",
              "        }\n",
              "      </script>\n",
              "    </div>\n",
              "  </div>\n",
              "  "
            ]
          },
          "metadata": {},
          "execution_count": 8
        }
      ],
      "source": [
        "df_test = pd.read_csv('/content/IM_Submit.csv')\n",
        "json_test = pd.read_json('/content/IM_Test/IM_Test.json')\n",
        "df_test"
      ]
    },
    {
      "cell_type": "code",
      "execution_count": null,
      "metadata": {
        "colab": {
          "base_uri": "https://localhost:8080/",
          "height": 424
        },
        "id": "yfXQGM8e4dr5",
        "outputId": "b2ff003c-90f3-49ce-86ac-a3338ed7d8af"
      },
      "outputs": [
        {
          "output_type": "execute_result",
          "data": {
            "text/plain": [
              "        filename                                             bboxes\n",
              "0          1.png  [{'bbox_id': 0, 'x1': 43, 'x2': 62, 'y1': 7, '...\n",
              "1          2.png  [{'bbox_id': 0, 'x1': 99, 'x2': 113, 'y1': 5, ...\n",
              "2          3.png  [{'bbox_id': 0, 'x1': 61, 'x2': 72, 'y1': 6, '...\n",
              "3          4.png  [{'bbox_id': 0, 'x1': 32, 'x2': 46, 'y1': 6, '...\n",
              "4          5.png  [{'bbox_id': 0, 'x1': 97, 'x2': 116, 'y1': 28,...\n",
              "...          ...                                                ...\n",
              "13063  13064.png  [{'bbox_id': 0, 'x1': 227, 'x2': 249, 'y1': 43...\n",
              "13064  13065.png  [{'bbox_id': 0, 'x1': 67, 'x2': 82, 'y1': 14, ...\n",
              "13065  13066.png  [{'bbox_id': 0, 'x1': 33, 'x2': 45, 'y1': 19, ...\n",
              "13066  13067.png  [{'bbox_id': 0, 'x1': 113, 'x2': 126, 'y1': 14...\n",
              "13067  13068.png  [{'bbox_id': 0, 'x1': 36, 'x2': 47, 'y1': 9, '...\n",
              "\n",
              "[13068 rows x 2 columns]"
            ],
            "text/html": [
              "\n",
              "  <div id=\"df-ed17da2c-93ab-4dcd-aa34-493c2b81e652\">\n",
              "    <div class=\"colab-df-container\">\n",
              "      <div>\n",
              "<style scoped>\n",
              "    .dataframe tbody tr th:only-of-type {\n",
              "        vertical-align: middle;\n",
              "    }\n",
              "\n",
              "    .dataframe tbody tr th {\n",
              "        vertical-align: top;\n",
              "    }\n",
              "\n",
              "    .dataframe thead th {\n",
              "        text-align: right;\n",
              "    }\n",
              "</style>\n",
              "<table border=\"1\" class=\"dataframe\">\n",
              "  <thead>\n",
              "    <tr style=\"text-align: right;\">\n",
              "      <th></th>\n",
              "      <th>filename</th>\n",
              "      <th>bboxes</th>\n",
              "    </tr>\n",
              "  </thead>\n",
              "  <tbody>\n",
              "    <tr>\n",
              "      <th>0</th>\n",
              "      <td>1.png</td>\n",
              "      <td>[{'bbox_id': 0, 'x1': 43, 'x2': 62, 'y1': 7, '...</td>\n",
              "    </tr>\n",
              "    <tr>\n",
              "      <th>1</th>\n",
              "      <td>2.png</td>\n",
              "      <td>[{'bbox_id': 0, 'x1': 99, 'x2': 113, 'y1': 5, ...</td>\n",
              "    </tr>\n",
              "    <tr>\n",
              "      <th>2</th>\n",
              "      <td>3.png</td>\n",
              "      <td>[{'bbox_id': 0, 'x1': 61, 'x2': 72, 'y1': 6, '...</td>\n",
              "    </tr>\n",
              "    <tr>\n",
              "      <th>3</th>\n",
              "      <td>4.png</td>\n",
              "      <td>[{'bbox_id': 0, 'x1': 32, 'x2': 46, 'y1': 6, '...</td>\n",
              "    </tr>\n",
              "    <tr>\n",
              "      <th>4</th>\n",
              "      <td>5.png</td>\n",
              "      <td>[{'bbox_id': 0, 'x1': 97, 'x2': 116, 'y1': 28,...</td>\n",
              "    </tr>\n",
              "    <tr>\n",
              "      <th>...</th>\n",
              "      <td>...</td>\n",
              "      <td>...</td>\n",
              "    </tr>\n",
              "    <tr>\n",
              "      <th>13063</th>\n",
              "      <td>13064.png</td>\n",
              "      <td>[{'bbox_id': 0, 'x1': 227, 'x2': 249, 'y1': 43...</td>\n",
              "    </tr>\n",
              "    <tr>\n",
              "      <th>13064</th>\n",
              "      <td>13065.png</td>\n",
              "      <td>[{'bbox_id': 0, 'x1': 67, 'x2': 82, 'y1': 14, ...</td>\n",
              "    </tr>\n",
              "    <tr>\n",
              "      <th>13065</th>\n",
              "      <td>13066.png</td>\n",
              "      <td>[{'bbox_id': 0, 'x1': 33, 'x2': 45, 'y1': 19, ...</td>\n",
              "    </tr>\n",
              "    <tr>\n",
              "      <th>13066</th>\n",
              "      <td>13067.png</td>\n",
              "      <td>[{'bbox_id': 0, 'x1': 113, 'x2': 126, 'y1': 14...</td>\n",
              "    </tr>\n",
              "    <tr>\n",
              "      <th>13067</th>\n",
              "      <td>13068.png</td>\n",
              "      <td>[{'bbox_id': 0, 'x1': 36, 'x2': 47, 'y1': 9, '...</td>\n",
              "    </tr>\n",
              "  </tbody>\n",
              "</table>\n",
              "<p>13068 rows × 2 columns</p>\n",
              "</div>\n",
              "      <button class=\"colab-df-convert\" onclick=\"convertToInteractive('df-ed17da2c-93ab-4dcd-aa34-493c2b81e652')\"\n",
              "              title=\"Convert this dataframe to an interactive table.\"\n",
              "              style=\"display:none;\">\n",
              "        \n",
              "  <svg xmlns=\"http://www.w3.org/2000/svg\" height=\"24px\"viewBox=\"0 0 24 24\"\n",
              "       width=\"24px\">\n",
              "    <path d=\"M0 0h24v24H0V0z\" fill=\"none\"/>\n",
              "    <path d=\"M18.56 5.44l.94 2.06.94-2.06 2.06-.94-2.06-.94-.94-2.06-.94 2.06-2.06.94zm-11 1L8.5 8.5l.94-2.06 2.06-.94-2.06-.94L8.5 2.5l-.94 2.06-2.06.94zm10 10l.94 2.06.94-2.06 2.06-.94-2.06-.94-.94-2.06-.94 2.06-2.06.94z\"/><path d=\"M17.41 7.96l-1.37-1.37c-.4-.4-.92-.59-1.43-.59-.52 0-1.04.2-1.43.59L10.3 9.45l-7.72 7.72c-.78.78-.78 2.05 0 2.83L4 21.41c.39.39.9.59 1.41.59.51 0 1.02-.2 1.41-.59l7.78-7.78 2.81-2.81c.8-.78.8-2.07 0-2.86zM5.41 20L4 18.59l7.72-7.72 1.47 1.35L5.41 20z\"/>\n",
              "  </svg>\n",
              "      </button>\n",
              "      \n",
              "  <style>\n",
              "    .colab-df-container {\n",
              "      display:flex;\n",
              "      flex-wrap:wrap;\n",
              "      gap: 12px;\n",
              "    }\n",
              "\n",
              "    .colab-df-convert {\n",
              "      background-color: #E8F0FE;\n",
              "      border: none;\n",
              "      border-radius: 50%;\n",
              "      cursor: pointer;\n",
              "      display: none;\n",
              "      fill: #1967D2;\n",
              "      height: 32px;\n",
              "      padding: 0 0 0 0;\n",
              "      width: 32px;\n",
              "    }\n",
              "\n",
              "    .colab-df-convert:hover {\n",
              "      background-color: #E2EBFA;\n",
              "      box-shadow: 0px 1px 2px rgba(60, 64, 67, 0.3), 0px 1px 3px 1px rgba(60, 64, 67, 0.15);\n",
              "      fill: #174EA6;\n",
              "    }\n",
              "\n",
              "    [theme=dark] .colab-df-convert {\n",
              "      background-color: #3B4455;\n",
              "      fill: #D2E3FC;\n",
              "    }\n",
              "\n",
              "    [theme=dark] .colab-df-convert:hover {\n",
              "      background-color: #434B5C;\n",
              "      box-shadow: 0px 1px 3px 1px rgba(0, 0, 0, 0.15);\n",
              "      filter: drop-shadow(0px 1px 2px rgba(0, 0, 0, 0.3));\n",
              "      fill: #FFFFFF;\n",
              "    }\n",
              "  </style>\n",
              "\n",
              "      <script>\n",
              "        const buttonEl =\n",
              "          document.querySelector('#df-ed17da2c-93ab-4dcd-aa34-493c2b81e652 button.colab-df-convert');\n",
              "        buttonEl.style.display =\n",
              "          google.colab.kernel.accessAllowed ? 'block' : 'none';\n",
              "\n",
              "        async function convertToInteractive(key) {\n",
              "          const element = document.querySelector('#df-ed17da2c-93ab-4dcd-aa34-493c2b81e652');\n",
              "          const dataTable =\n",
              "            await google.colab.kernel.invokeFunction('convertToInteractive',\n",
              "                                                     [key], {});\n",
              "          if (!dataTable) return;\n",
              "\n",
              "          const docLinkHtml = 'Like what you see? Visit the ' +\n",
              "            '<a target=\"_blank\" href=https://colab.research.google.com/notebooks/data_table.ipynb>data table notebook</a>'\n",
              "            + ' to learn more about interactive tables.';\n",
              "          element.innerHTML = '';\n",
              "          dataTable['output_type'] = 'display_data';\n",
              "          await google.colab.output.renderOutput(dataTable, element);\n",
              "          const docLink = document.createElement('div');\n",
              "          docLink.innerHTML = docLinkHtml;\n",
              "          element.appendChild(docLink);\n",
              "        }\n",
              "      </script>\n",
              "    </div>\n",
              "  </div>\n",
              "  "
            ]
          },
          "metadata": {},
          "execution_count": 9
        }
      ],
      "source": [
        "json_test"
      ]
    },
    {
      "cell_type": "markdown",
      "metadata": {
        "id": "50GlBnk7Bgo2"
      },
      "source": [
        "**RAM เต็ม**"
      ]
    },
    {
      "cell_type": "code",
      "execution_count": null,
      "metadata": {
        "id": "VWfAYvQT4enh"
      },
      "outputs": [],
      "source": [
        "# # ram เต็มเลยใช้วิธีนี้ไม่ได้\n",
        "# from tqdm import tqdm\n",
        "# file_name, x1, x2, y1, y2 = [], [], [], [], []\n",
        "# for i in tqdm(json_test['filename']):\n",
        "#   for j in json_test['bboxes']:\n",
        "#     for k in j:\n",
        "#       file_name.append(i)\n",
        "#       x1.append(k['x1'])\n",
        "#       x2.append(k['x2'])\n",
        "#       y1.append(k['y1'])\n",
        "#       y2.append(k['y2'])\n",
        "# df_test['file_name'] = file_name\n",
        "# df_test['x1'] = x1\n",
        "# df_test['x2'] = x2\n",
        "# df_test['y1'] = y1\n",
        "# df_test['y2'] = y2"
      ]
    },
    {
      "cell_type": "markdown",
      "metadata": {
        "id": "PoesCjFMroQE"
      },
      "source": [
        "**ลองวิธีนี้แทน**"
      ]
    },
    {
      "cell_type": "code",
      "execution_count": null,
      "metadata": {
        "colab": {
          "base_uri": "https://localhost:8080/"
        },
        "id": "Neyqkn2YA_L6",
        "outputId": "15e1982c-d4df-427b-a605-4c3e4c279878"
      },
      "outputs": [
        {
          "output_type": "execute_result",
          "data": {
            "text/plain": [
              "0            1\n",
              "1            2\n",
              "2            2\n",
              "3            2\n",
              "4            3\n",
              "         ...  \n",
              "26027    13067\n",
              "26028    13067\n",
              "26029    13067\n",
              "26030    13068\n",
              "26031    13068\n",
              "Name: 0, Length: 26032, dtype: object"
            ]
          },
          "metadata": {},
          "execution_count": 11
        }
      ],
      "source": [
        "df_test['imageid_boxid'].str.split('_', n = 1, expand = True)[0]"
      ]
    },
    {
      "cell_type": "markdown",
      "metadata": {
        "id": "5Odalc89N2_h"
      },
      "source": [
        "**ผลลัพธ์ที่ได้ไม่กินแรมเลย ใช้เสร็จก็คืนแรม และ Run เร็วแบบเห็นได้ชัด**"
      ]
    },
    {
      "cell_type": "code",
      "execution_count": null,
      "metadata": {
        "colab": {
          "base_uri": "https://localhost:8080/",
          "height": 223
        },
        "id": "4BcuZTqW9LNf",
        "outputId": "a4740e67-939e-4840-b05c-24f8c3aae8e4"
      },
      "outputs": [
        {
          "output_type": "stream",
          "name": "stderr",
          "text": [
            "100%|██████████| 13068/13068 [00:57<00:00, 229.00it/s]\n"
          ]
        },
        {
          "output_type": "execute_result",
          "data": {
            "text/plain": [
              "  imageid_boxid  class file_name     x1     x2   y1    y2\n",
              "0           1_0    NaN     1.png   43.0   62.0  7.0  37.0\n",
              "1           2_0    NaN     2.png   99.0  113.0  5.0  28.0\n",
              "2           2_1    NaN     2.png  114.0  122.0  8.0  31.0\n",
              "3           2_2    NaN     2.png  121.0  133.0  6.0  29.0\n",
              "4           3_0    NaN     3.png   61.0   72.0  6.0  22.0"
            ],
            "text/html": [
              "\n",
              "  <div id=\"df-77702fe9-ff46-4a0a-9c15-0f6c614afb75\">\n",
              "    <div class=\"colab-df-container\">\n",
              "      <div>\n",
              "<style scoped>\n",
              "    .dataframe tbody tr th:only-of-type {\n",
              "        vertical-align: middle;\n",
              "    }\n",
              "\n",
              "    .dataframe tbody tr th {\n",
              "        vertical-align: top;\n",
              "    }\n",
              "\n",
              "    .dataframe thead th {\n",
              "        text-align: right;\n",
              "    }\n",
              "</style>\n",
              "<table border=\"1\" class=\"dataframe\">\n",
              "  <thead>\n",
              "    <tr style=\"text-align: right;\">\n",
              "      <th></th>\n",
              "      <th>imageid_boxid</th>\n",
              "      <th>class</th>\n",
              "      <th>file_name</th>\n",
              "      <th>x1</th>\n",
              "      <th>x2</th>\n",
              "      <th>y1</th>\n",
              "      <th>y2</th>\n",
              "    </tr>\n",
              "  </thead>\n",
              "  <tbody>\n",
              "    <tr>\n",
              "      <th>0</th>\n",
              "      <td>1_0</td>\n",
              "      <td>NaN</td>\n",
              "      <td>1.png</td>\n",
              "      <td>43.0</td>\n",
              "      <td>62.0</td>\n",
              "      <td>7.0</td>\n",
              "      <td>37.0</td>\n",
              "    </tr>\n",
              "    <tr>\n",
              "      <th>1</th>\n",
              "      <td>2_0</td>\n",
              "      <td>NaN</td>\n",
              "      <td>2.png</td>\n",
              "      <td>99.0</td>\n",
              "      <td>113.0</td>\n",
              "      <td>5.0</td>\n",
              "      <td>28.0</td>\n",
              "    </tr>\n",
              "    <tr>\n",
              "      <th>2</th>\n",
              "      <td>2_1</td>\n",
              "      <td>NaN</td>\n",
              "      <td>2.png</td>\n",
              "      <td>114.0</td>\n",
              "      <td>122.0</td>\n",
              "      <td>8.0</td>\n",
              "      <td>31.0</td>\n",
              "    </tr>\n",
              "    <tr>\n",
              "      <th>3</th>\n",
              "      <td>2_2</td>\n",
              "      <td>NaN</td>\n",
              "      <td>2.png</td>\n",
              "      <td>121.0</td>\n",
              "      <td>133.0</td>\n",
              "      <td>6.0</td>\n",
              "      <td>29.0</td>\n",
              "    </tr>\n",
              "    <tr>\n",
              "      <th>4</th>\n",
              "      <td>3_0</td>\n",
              "      <td>NaN</td>\n",
              "      <td>3.png</td>\n",
              "      <td>61.0</td>\n",
              "      <td>72.0</td>\n",
              "      <td>6.0</td>\n",
              "      <td>22.0</td>\n",
              "    </tr>\n",
              "  </tbody>\n",
              "</table>\n",
              "</div>\n",
              "      <button class=\"colab-df-convert\" onclick=\"convertToInteractive('df-77702fe9-ff46-4a0a-9c15-0f6c614afb75')\"\n",
              "              title=\"Convert this dataframe to an interactive table.\"\n",
              "              style=\"display:none;\">\n",
              "        \n",
              "  <svg xmlns=\"http://www.w3.org/2000/svg\" height=\"24px\"viewBox=\"0 0 24 24\"\n",
              "       width=\"24px\">\n",
              "    <path d=\"M0 0h24v24H0V0z\" fill=\"none\"/>\n",
              "    <path d=\"M18.56 5.44l.94 2.06.94-2.06 2.06-.94-2.06-.94-.94-2.06-.94 2.06-2.06.94zm-11 1L8.5 8.5l.94-2.06 2.06-.94-2.06-.94L8.5 2.5l-.94 2.06-2.06.94zm10 10l.94 2.06.94-2.06 2.06-.94-2.06-.94-.94-2.06-.94 2.06-2.06.94z\"/><path d=\"M17.41 7.96l-1.37-1.37c-.4-.4-.92-.59-1.43-.59-.52 0-1.04.2-1.43.59L10.3 9.45l-7.72 7.72c-.78.78-.78 2.05 0 2.83L4 21.41c.39.39.9.59 1.41.59.51 0 1.02-.2 1.41-.59l7.78-7.78 2.81-2.81c.8-.78.8-2.07 0-2.86zM5.41 20L4 18.59l7.72-7.72 1.47 1.35L5.41 20z\"/>\n",
              "  </svg>\n",
              "      </button>\n",
              "      \n",
              "  <style>\n",
              "    .colab-df-container {\n",
              "      display:flex;\n",
              "      flex-wrap:wrap;\n",
              "      gap: 12px;\n",
              "    }\n",
              "\n",
              "    .colab-df-convert {\n",
              "      background-color: #E8F0FE;\n",
              "      border: none;\n",
              "      border-radius: 50%;\n",
              "      cursor: pointer;\n",
              "      display: none;\n",
              "      fill: #1967D2;\n",
              "      height: 32px;\n",
              "      padding: 0 0 0 0;\n",
              "      width: 32px;\n",
              "    }\n",
              "\n",
              "    .colab-df-convert:hover {\n",
              "      background-color: #E2EBFA;\n",
              "      box-shadow: 0px 1px 2px rgba(60, 64, 67, 0.3), 0px 1px 3px 1px rgba(60, 64, 67, 0.15);\n",
              "      fill: #174EA6;\n",
              "    }\n",
              "\n",
              "    [theme=dark] .colab-df-convert {\n",
              "      background-color: #3B4455;\n",
              "      fill: #D2E3FC;\n",
              "    }\n",
              "\n",
              "    [theme=dark] .colab-df-convert:hover {\n",
              "      background-color: #434B5C;\n",
              "      box-shadow: 0px 1px 3px 1px rgba(0, 0, 0, 0.15);\n",
              "      filter: drop-shadow(0px 1px 2px rgba(0, 0, 0, 0.3));\n",
              "      fill: #FFFFFF;\n",
              "    }\n",
              "  </style>\n",
              "\n",
              "      <script>\n",
              "        const buttonEl =\n",
              "          document.querySelector('#df-77702fe9-ff46-4a0a-9c15-0f6c614afb75 button.colab-df-convert');\n",
              "        buttonEl.style.display =\n",
              "          google.colab.kernel.accessAllowed ? 'block' : 'none';\n",
              "\n",
              "        async function convertToInteractive(key) {\n",
              "          const element = document.querySelector('#df-77702fe9-ff46-4a0a-9c15-0f6c614afb75');\n",
              "          const dataTable =\n",
              "            await google.colab.kernel.invokeFunction('convertToInteractive',\n",
              "                                                     [key], {});\n",
              "          if (!dataTable) return;\n",
              "\n",
              "          const docLinkHtml = 'Like what you see? Visit the ' +\n",
              "            '<a target=\"_blank\" href=https://colab.research.google.com/notebooks/data_table.ipynb>data table notebook</a>'\n",
              "            + ' to learn more about interactive tables.';\n",
              "          element.innerHTML = '';\n",
              "          dataTable['output_type'] = 'display_data';\n",
              "          await google.colab.output.renderOutput(dataTable, element);\n",
              "          const docLink = document.createElement('div');\n",
              "          docLink.innerHTML = docLinkHtml;\n",
              "          element.appendChild(docLink);\n",
              "        }\n",
              "      </script>\n",
              "    </div>\n",
              "  </div>\n",
              "  "
            ]
          },
          "metadata": {},
          "execution_count": 12
        }
      ],
      "source": [
        "#get file_name\n",
        "lis1 = df_test['imageid_boxid'].str.split('_',n = 1, expand = True)[0]\n",
        "lis2 = [i+'.png' for i in lis1]\n",
        "df_test['file_name'] = lis2\n",
        "\n",
        "#get bboxes\n",
        "idx = 0\n",
        "for i in tqdm(json_test['bboxes']):\n",
        "  for dic in i:\n",
        "    box = [dic['x1'], dic['x2'], dic['y1'], dic['y2']]\n",
        "    df_test.loc[idx, ['x1', 'x2', 'y1', 'y2']] = box\n",
        "    idx += 1\n",
        "df_test.head()"
      ]
    },
    {
      "cell_type": "markdown",
      "metadata": {
        "id": "Oq4WLy-exm9B"
      },
      "source": [
        "## bbox df_test"
      ]
    },
    {
      "cell_type": "code",
      "execution_count": null,
      "metadata": {
        "id": "0ZtXig4I7wMo"
      },
      "outputs": [],
      "source": [
        "#change to int for bbox float not accept\n",
        "df_test[['x1', 'x2', 'y1', 'y2']] = df_test[['x1', 'x2', 'y1', 'y2']].astype(int)"
      ]
    },
    {
      "cell_type": "code",
      "execution_count": null,
      "metadata": {
        "id": "b-Z6mhYy7FGJ"
      },
      "outputs": [],
      "source": [
        "# ! rm -rf /content/IM_test_bbox #force to remove folder\n",
        "!mkdir IM_test_bbox"
      ]
    },
    {
      "cell_type": "code",
      "execution_count": null,
      "metadata": {
        "colab": {
          "base_uri": "https://localhost:8080/"
        },
        "id": "TUPZCBuh1gQz",
        "outputId": "3bc5f472-a44d-4dfe-e95a-fa96c777ee3a"
      },
      "outputs": [
        {
          "output_type": "stream",
          "name": "stderr",
          "text": [
            "100%|██████████| 26032/26032 [01:16<00:00, 338.33it/s]\n"
          ]
        }
      ],
      "source": [
        "for idx in tqdm(df_test.index):\n",
        "  img = cv2.imread('/content/IM_Test/IM_Test/'+ df_test['file_name'][idx])\n",
        "  x1 = df_test['x1'][idx]\n",
        "  x2 = df_test['x2'][idx]\n",
        "  y1 = df_test['y1'][idx]\n",
        "  y2 = df_test['y2'][idx]\n",
        "  file_name = df_test['imageid_boxid'][idx]\n",
        "  cv2.imwrite(f'/content/IM_test_bbox/{file_name}.png',img[y1:y2, x1:x2]) #เก็บ image test เข้า folder\n",
        "  df_test.loc[idx, 'file_name'] = file_name + '.png'"
      ]
    },
    {
      "cell_type": "code",
      "execution_count": null,
      "metadata": {
        "id": "FXQX-eAnGcI5"
      },
      "outputs": [],
      "source": [
        "def foo(x):\n",
        "  x = '/content/IM_test_bbox/' + x\n",
        "  return x\n",
        "df_test['file_name'] = df_test['file_name'].apply(foo)"
      ]
    },
    {
      "cell_type": "code",
      "execution_count": null,
      "metadata": {
        "colab": {
          "base_uri": "https://localhost:8080/",
          "height": 424
        },
        "id": "OOBeCMI-9ZaA",
        "outputId": "ed21dafb-df19-4c77-d912-996dcf3a3a21"
      },
      "outputs": [
        {
          "output_type": "execute_result",
          "data": {
            "text/plain": [
              "      imageid_boxid  class                          file_name   x1   x2  y1  \\\n",
              "0               1_0    NaN      /content/IM_test_bbox/1_0.png   43   62   7   \n",
              "1               2_0    NaN      /content/IM_test_bbox/2_0.png   99  113   5   \n",
              "2               2_1    NaN      /content/IM_test_bbox/2_1.png  114  122   8   \n",
              "3               2_2    NaN      /content/IM_test_bbox/2_2.png  121  133   6   \n",
              "4               3_0    NaN      /content/IM_test_bbox/3_0.png   61   72   6   \n",
              "...             ...    ...                                ...  ...  ...  ..   \n",
              "26027       13067_0    NaN  /content/IM_test_bbox/13067_0.png  113  126  14   \n",
              "26028       13067_1    NaN  /content/IM_test_bbox/13067_1.png  124  137  14   \n",
              "26029       13067_2    NaN  /content/IM_test_bbox/13067_2.png  133  149  13   \n",
              "26030       13068_0    NaN  /content/IM_test_bbox/13068_0.png   36   47   9   \n",
              "26031       13068_1    NaN  /content/IM_test_bbox/13068_1.png   47   57  10   \n",
              "\n",
              "       y2  \n",
              "0      37  \n",
              "1      28  \n",
              "2      31  \n",
              "3      29  \n",
              "4      22  \n",
              "...    ..  \n",
              "26027  34  \n",
              "26028  34  \n",
              "26029  33  \n",
              "26030  31  \n",
              "26031  32  \n",
              "\n",
              "[26032 rows x 7 columns]"
            ],
            "text/html": [
              "\n",
              "  <div id=\"df-29965e35-acfd-4423-8476-d6f36eaddf4e\">\n",
              "    <div class=\"colab-df-container\">\n",
              "      <div>\n",
              "<style scoped>\n",
              "    .dataframe tbody tr th:only-of-type {\n",
              "        vertical-align: middle;\n",
              "    }\n",
              "\n",
              "    .dataframe tbody tr th {\n",
              "        vertical-align: top;\n",
              "    }\n",
              "\n",
              "    .dataframe thead th {\n",
              "        text-align: right;\n",
              "    }\n",
              "</style>\n",
              "<table border=\"1\" class=\"dataframe\">\n",
              "  <thead>\n",
              "    <tr style=\"text-align: right;\">\n",
              "      <th></th>\n",
              "      <th>imageid_boxid</th>\n",
              "      <th>class</th>\n",
              "      <th>file_name</th>\n",
              "      <th>x1</th>\n",
              "      <th>x2</th>\n",
              "      <th>y1</th>\n",
              "      <th>y2</th>\n",
              "    </tr>\n",
              "  </thead>\n",
              "  <tbody>\n",
              "    <tr>\n",
              "      <th>0</th>\n",
              "      <td>1_0</td>\n",
              "      <td>NaN</td>\n",
              "      <td>/content/IM_test_bbox/1_0.png</td>\n",
              "      <td>43</td>\n",
              "      <td>62</td>\n",
              "      <td>7</td>\n",
              "      <td>37</td>\n",
              "    </tr>\n",
              "    <tr>\n",
              "      <th>1</th>\n",
              "      <td>2_0</td>\n",
              "      <td>NaN</td>\n",
              "      <td>/content/IM_test_bbox/2_0.png</td>\n",
              "      <td>99</td>\n",
              "      <td>113</td>\n",
              "      <td>5</td>\n",
              "      <td>28</td>\n",
              "    </tr>\n",
              "    <tr>\n",
              "      <th>2</th>\n",
              "      <td>2_1</td>\n",
              "      <td>NaN</td>\n",
              "      <td>/content/IM_test_bbox/2_1.png</td>\n",
              "      <td>114</td>\n",
              "      <td>122</td>\n",
              "      <td>8</td>\n",
              "      <td>31</td>\n",
              "    </tr>\n",
              "    <tr>\n",
              "      <th>3</th>\n",
              "      <td>2_2</td>\n",
              "      <td>NaN</td>\n",
              "      <td>/content/IM_test_bbox/2_2.png</td>\n",
              "      <td>121</td>\n",
              "      <td>133</td>\n",
              "      <td>6</td>\n",
              "      <td>29</td>\n",
              "    </tr>\n",
              "    <tr>\n",
              "      <th>4</th>\n",
              "      <td>3_0</td>\n",
              "      <td>NaN</td>\n",
              "      <td>/content/IM_test_bbox/3_0.png</td>\n",
              "      <td>61</td>\n",
              "      <td>72</td>\n",
              "      <td>6</td>\n",
              "      <td>22</td>\n",
              "    </tr>\n",
              "    <tr>\n",
              "      <th>...</th>\n",
              "      <td>...</td>\n",
              "      <td>...</td>\n",
              "      <td>...</td>\n",
              "      <td>...</td>\n",
              "      <td>...</td>\n",
              "      <td>...</td>\n",
              "      <td>...</td>\n",
              "    </tr>\n",
              "    <tr>\n",
              "      <th>26027</th>\n",
              "      <td>13067_0</td>\n",
              "      <td>NaN</td>\n",
              "      <td>/content/IM_test_bbox/13067_0.png</td>\n",
              "      <td>113</td>\n",
              "      <td>126</td>\n",
              "      <td>14</td>\n",
              "      <td>34</td>\n",
              "    </tr>\n",
              "    <tr>\n",
              "      <th>26028</th>\n",
              "      <td>13067_1</td>\n",
              "      <td>NaN</td>\n",
              "      <td>/content/IM_test_bbox/13067_1.png</td>\n",
              "      <td>124</td>\n",
              "      <td>137</td>\n",
              "      <td>14</td>\n",
              "      <td>34</td>\n",
              "    </tr>\n",
              "    <tr>\n",
              "      <th>26029</th>\n",
              "      <td>13067_2</td>\n",
              "      <td>NaN</td>\n",
              "      <td>/content/IM_test_bbox/13067_2.png</td>\n",
              "      <td>133</td>\n",
              "      <td>149</td>\n",
              "      <td>13</td>\n",
              "      <td>33</td>\n",
              "    </tr>\n",
              "    <tr>\n",
              "      <th>26030</th>\n",
              "      <td>13068_0</td>\n",
              "      <td>NaN</td>\n",
              "      <td>/content/IM_test_bbox/13068_0.png</td>\n",
              "      <td>36</td>\n",
              "      <td>47</td>\n",
              "      <td>9</td>\n",
              "      <td>31</td>\n",
              "    </tr>\n",
              "    <tr>\n",
              "      <th>26031</th>\n",
              "      <td>13068_1</td>\n",
              "      <td>NaN</td>\n",
              "      <td>/content/IM_test_bbox/13068_1.png</td>\n",
              "      <td>47</td>\n",
              "      <td>57</td>\n",
              "      <td>10</td>\n",
              "      <td>32</td>\n",
              "    </tr>\n",
              "  </tbody>\n",
              "</table>\n",
              "<p>26032 rows × 7 columns</p>\n",
              "</div>\n",
              "      <button class=\"colab-df-convert\" onclick=\"convertToInteractive('df-29965e35-acfd-4423-8476-d6f36eaddf4e')\"\n",
              "              title=\"Convert this dataframe to an interactive table.\"\n",
              "              style=\"display:none;\">\n",
              "        \n",
              "  <svg xmlns=\"http://www.w3.org/2000/svg\" height=\"24px\"viewBox=\"0 0 24 24\"\n",
              "       width=\"24px\">\n",
              "    <path d=\"M0 0h24v24H0V0z\" fill=\"none\"/>\n",
              "    <path d=\"M18.56 5.44l.94 2.06.94-2.06 2.06-.94-2.06-.94-.94-2.06-.94 2.06-2.06.94zm-11 1L8.5 8.5l.94-2.06 2.06-.94-2.06-.94L8.5 2.5l-.94 2.06-2.06.94zm10 10l.94 2.06.94-2.06 2.06-.94-2.06-.94-.94-2.06-.94 2.06-2.06.94z\"/><path d=\"M17.41 7.96l-1.37-1.37c-.4-.4-.92-.59-1.43-.59-.52 0-1.04.2-1.43.59L10.3 9.45l-7.72 7.72c-.78.78-.78 2.05 0 2.83L4 21.41c.39.39.9.59 1.41.59.51 0 1.02-.2 1.41-.59l7.78-7.78 2.81-2.81c.8-.78.8-2.07 0-2.86zM5.41 20L4 18.59l7.72-7.72 1.47 1.35L5.41 20z\"/>\n",
              "  </svg>\n",
              "      </button>\n",
              "      \n",
              "  <style>\n",
              "    .colab-df-container {\n",
              "      display:flex;\n",
              "      flex-wrap:wrap;\n",
              "      gap: 12px;\n",
              "    }\n",
              "\n",
              "    .colab-df-convert {\n",
              "      background-color: #E8F0FE;\n",
              "      border: none;\n",
              "      border-radius: 50%;\n",
              "      cursor: pointer;\n",
              "      display: none;\n",
              "      fill: #1967D2;\n",
              "      height: 32px;\n",
              "      padding: 0 0 0 0;\n",
              "      width: 32px;\n",
              "    }\n",
              "\n",
              "    .colab-df-convert:hover {\n",
              "      background-color: #E2EBFA;\n",
              "      box-shadow: 0px 1px 2px rgba(60, 64, 67, 0.3), 0px 1px 3px 1px rgba(60, 64, 67, 0.15);\n",
              "      fill: #174EA6;\n",
              "    }\n",
              "\n",
              "    [theme=dark] .colab-df-convert {\n",
              "      background-color: #3B4455;\n",
              "      fill: #D2E3FC;\n",
              "    }\n",
              "\n",
              "    [theme=dark] .colab-df-convert:hover {\n",
              "      background-color: #434B5C;\n",
              "      box-shadow: 0px 1px 3px 1px rgba(0, 0, 0, 0.15);\n",
              "      filter: drop-shadow(0px 1px 2px rgba(0, 0, 0, 0.3));\n",
              "      fill: #FFFFFF;\n",
              "    }\n",
              "  </style>\n",
              "\n",
              "      <script>\n",
              "        const buttonEl =\n",
              "          document.querySelector('#df-29965e35-acfd-4423-8476-d6f36eaddf4e button.colab-df-convert');\n",
              "        buttonEl.style.display =\n",
              "          google.colab.kernel.accessAllowed ? 'block' : 'none';\n",
              "\n",
              "        async function convertToInteractive(key) {\n",
              "          const element = document.querySelector('#df-29965e35-acfd-4423-8476-d6f36eaddf4e');\n",
              "          const dataTable =\n",
              "            await google.colab.kernel.invokeFunction('convertToInteractive',\n",
              "                                                     [key], {});\n",
              "          if (!dataTable) return;\n",
              "\n",
              "          const docLinkHtml = 'Like what you see? Visit the ' +\n",
              "            '<a target=\"_blank\" href=https://colab.research.google.com/notebooks/data_table.ipynb>data table notebook</a>'\n",
              "            + ' to learn more about interactive tables.';\n",
              "          element.innerHTML = '';\n",
              "          dataTable['output_type'] = 'display_data';\n",
              "          await google.colab.output.renderOutput(dataTable, element);\n",
              "          const docLink = document.createElement('div');\n",
              "          docLink.innerHTML = docLinkHtml;\n",
              "          element.appendChild(docLink);\n",
              "        }\n",
              "      </script>\n",
              "    </div>\n",
              "  </div>\n",
              "  "
            ]
          },
          "metadata": {},
          "execution_count": 17
        }
      ],
      "source": [
        "df_test.to_csv('df_test.csv', index=False)\n",
        "df_test"
      ]
    },
    {
      "cell_type": "markdown",
      "metadata": {
        "id": "ROXPyLn3IKQe"
      },
      "source": [
        "## Clean"
      ]
    },
    {
      "cell_type": "code",
      "execution_count": null,
      "metadata": {
        "id": "uBz9EwX1JMWL"
      },
      "outputs": [],
      "source": [
        "digit, count = [], []\n",
        "for i in os.listdir('/content/train'):\n",
        "  digit.append(i)\n",
        "  count.append(len(os.listdir('/content/train/'+i)))"
      ]
    },
    {
      "cell_type": "code",
      "execution_count": null,
      "metadata": {
        "colab": {
          "base_uri": "https://localhost:8080/",
          "height": 448
        },
        "id": "Gib6cKRQKJzO",
        "outputId": "2870fc48-7624-4734-c11e-f6eb5e8861d9"
      },
      "outputs": [
        {
          "output_type": "display_data",
          "data": {
            "text/plain": [
              "<Figure size 1440x576 with 1 Axes>"
            ],
            "image/png": "[encoded data removed]"
          },
          "metadata": {
            "needs_background": "light"
          }
        }
      ],
      "source": [
        "df = pd.DataFrame({\n",
        "    'digit':digit,\n",
        "    'count':count\n",
        "})\n",
        "df.sort_values(by='digit', inplace=True)\n",
        "plt.figure(figsize=(20, 8));\n",
        "sns.barplot(data=df,x='digit', y='count');"
      ]
    },
    {
      "cell_type": "markdown",
      "metadata": {
        "id": "oW2IN1zcaHAI"
      },
      "source": [
        "**Clean**\n",
        "> เพราะบางรูปใน train มันมีหลายเลข แต่ label มีได้แค่เลขเดียว"
      ]
    },
    {
      "cell_type": "code",
      "execution_count": null,
      "metadata": {
        "id": "_67RSnFBbcYC"
      },
      "outputs": [],
      "source": [
        "!rm -rf /content/train_clean\n",
        "!cp -r /content/train /content/train_clean"
      ]
    },
    {
      "cell_type": "markdown",
      "source": [
        "**Distribute of Train Data**"
      ],
      "metadata": {
        "id": "h-ellIsH2aJ1"
      }
    },
    {
      "cell_type": "code",
      "execution_count": null,
      "metadata": {
        "colab": {
          "base_uri": "https://localhost:8080/",
          "height": 312
        },
        "id": "3Vcvy0QFgPVD",
        "outputId": "7fd28033-61e1-4525-b546-0fdac8c1b71b"
      },
      "outputs": [
        {
          "output_type": "stream",
          "name": "stderr",
          "text": [
            "100%|██████████| 10/10 [00:05<00:00,  1.91it/s]\n"
          ]
        },
        {
          "output_type": "display_data",
          "data": {
            "text/plain": [
              "<Figure size 432x288 with 1 Axes>"
            ],
            "image/png": "[encoded data removed]"
          },
          "metadata": {
            "needs_background": "light"
          }
        }
      ],
      "source": [
        "#เช็คการกระจายตัวของ train data\n",
        "W,H = [],[]\n",
        "base = '/content/train_clean'\n",
        "\n",
        "for i in tqdm(os.listdir(base)):\n",
        "  dir = os.path.join(base, i)\n",
        "  for j in os.listdir(dir):\n",
        "    img_dir = os.path.join(dir, j)\n",
        "    img = cv2.imread(img_dir)\n",
        "    h,w,c=img.shape\n",
        "    W.append(w)\n",
        "    H.append(h)\n",
        "data=pd.DataFrame({'W': W,'H': H})\n",
        "plt.title('Train Dis')\n",
        "sns.scatterplot(data=data, x=\"W\", y=\"H\");"
      ]
    },
    {
      "cell_type": "markdown",
      "source": [
        "**Distribute of Test Data**"
      ],
      "metadata": {
        "id": "ECbqT2Io2Usl"
      }
    },
    {
      "cell_type": "code",
      "source": [
        "#เช็คการกระจายของ test data\n",
        "WW, HH = [], []\n",
        "base = '/content/IM_test_bbox'\n",
        "for i in tqdm(os.listdir(base)):\n",
        "  img_path = os.path.join(base, i)\n",
        "  img = cv2.imread(img_dir)\n",
        "  h,w,c=img.shape\n",
        "  WW.append(w)\n",
        "  HH.append(h)\n",
        "data=pd.DataFrame({'W': W,'H': H})\n",
        "plt.title('Test Dis')\n",
        "sns.scatterplot(data=data, x=\"W\", y=\"H\",);"
      ],
      "metadata": {
        "colab": {
          "base_uri": "https://localhost:8080/",
          "height": 312
        },
        "id": "yrDVCnik1HOl",
        "outputId": "220ecb8d-5b77-4975-aa82-88d0e1e71683"
      },
      "execution_count": null,
      "outputs": [
        {
          "output_type": "stream",
          "name": "stderr",
          "text": [
            "100%|██████████| 26032/26032 [00:09<00:00, 2862.37it/s]\n"
          ]
        },
        {
          "output_type": "display_data",
          "data": {
            "text/plain": [
              "<Figure size 432x288 with 1 Axes>"
            ],
            "image/png": "[encoded data removed]"
          },
          "metadata": {
            "needs_background": "light"
          }
        }
      ]
    },
    {
      "cell_type": "markdown",
      "metadata": {
        "id": "BEsB9xuMgmwA"
      },
      "source": [
        "**Remove bad image**\n",
        "> train data มีลักษณะการกระจายตัว ไม่เหมือนของ test แสดงว่ามีหลุมดักอยู่"
      ]
    },
    {
      "cell_type": "code",
      "execution_count": null,
      "metadata": {
        "colab": {
          "base_uri": "https://localhost:8080/"
        },
        "id": "axcBXXLiaKkc",
        "outputId": "c32ac121-ab9a-4ef1-b745-ea956c6d7f00"
      },
      "outputs": [
        {
          "output_type": "stream",
          "name": "stderr",
          "text": [
            "100%|██████████| 10/10 [00:06<00:00,  1.62it/s]\n"
          ]
        }
      ],
      "source": [
        "#remove bad image\n",
        "base = '/content/train_clean'\n",
        "\n",
        "for i in tqdm(os.listdir(base)):\n",
        "  dir = os.path.join(base, i)\n",
        "  for j in os.listdir(dir):\n",
        "    img_dir = os.path.join(dir, j)\n",
        "    img_dir = dir + '/' + j\n",
        "    img = cv2.imread(img_dir)\n",
        "    h,w,c=img.shape\n",
        "\n",
        "    #remove bad image\n",
        "    if (w > (0.9*h)) or (w < (0.22*h)): #number w chose less than h\n",
        "      os.remove(img_dir)"
      ]
    },
    {
      "cell_type": "code",
      "execution_count": null,
      "metadata": {
        "colab": {
          "base_uri": "https://localhost:8080/",
          "height": 312
        },
        "id": "Adhav8D8g-X0",
        "outputId": "b456eb86-dba0-4332-9976-5fa01f7563fe"
      },
      "outputs": [
        {
          "output_type": "stream",
          "name": "stderr",
          "text": [
            "100%|██████████| 10/10 [00:04<00:00,  2.40it/s]\n"
          ]
        },
        {
          "output_type": "display_data",
          "data": {
            "text/plain": [
              "<Figure size 432x288 with 1 Axes>"
            ],
            "image/png": "[encoded data removed]"
          },
          "metadata": {
            "needs_background": "light"
          }
        }
      ],
      "source": [
        "#check distribution after remove bad img\n",
        "W,H = [],[]\n",
        "base = '/content/train_clean'\n",
        "\n",
        "for i in tqdm(os.listdir(base)):\n",
        "  dir = os.path.join(base, i)\n",
        "  for j in os.listdir(dir):\n",
        "    img_dir = os.path.join(dir, j)\n",
        "    img = cv2.imread(img_dir)\n",
        "    h,w,c=img.shape\n",
        "    W.append(w)\n",
        "    H.append(h)\n",
        "data=pd.DataFrame({'W': W,'H': H})\n",
        "plt.title('After Remove Bad Image')\n",
        "sns.scatterplot(data=data, x=\"W\", y=\"H\");"
      ]
    },
    {
      "cell_type": "code",
      "source": [
        "data.sort_values(by=['W'], ascending=False)"
      ],
      "metadata": {
        "colab": {
          "base_uri": "https://localhost:8080/",
          "height": 424
        },
        "id": "vbCT3ZEH2rLc",
        "outputId": "71b04573-a354-4d2c-ae8d-fecb507ca3e5"
      },
      "execution_count": null,
      "outputs": [
        {
          "output_type": "execute_result",
          "data": {
            "text/plain": [
              "         W    H\n",
              "10742  206  403\n",
              "16700  198  403\n",
              "7415   176  293\n",
              "14144  176  360\n",
              "17326  172  360\n",
              "...    ...  ...\n",
              "25061    3   13\n",
              "41549    3   12\n",
              "22930    3   12\n",
              "13607    3   12\n",
              "27320    3   12\n",
              "\n",
              "[66955 rows x 2 columns]"
            ],
            "text/html": [
              "\n",
              "  <div id=\"df-c2ee5068-e5b6-457f-a3c4-a4893e50e4dc\">\n",
              "    <div class=\"colab-df-container\">\n",
              "      <div>\n",
              "<style scoped>\n",
              "    .dataframe tbody tr th:only-of-type {\n",
              "        vertical-align: middle;\n",
              "    }\n",
              "\n",
              "    .dataframe tbody tr th {\n",
              "        vertical-align: top;\n",
              "    }\n",
              "\n",
              "    .dataframe thead th {\n",
              "        text-align: right;\n",
              "    }\n",
              "</style>\n",
              "<table border=\"1\" class=\"dataframe\">\n",
              "  <thead>\n",
              "    <tr style=\"text-align: right;\">\n",
              "      <th></th>\n",
              "      <th>W</th>\n",
              "      <th>H</th>\n",
              "    </tr>\n",
              "  </thead>\n",
              "  <tbody>\n",
              "    <tr>\n",
              "      <th>10742</th>\n",
              "      <td>206</td>\n",
              "      <td>403</td>\n",
              "    </tr>\n",
              "    <tr>\n",
              "      <th>16700</th>\n",
              "      <td>198</td>\n",
              "      <td>403</td>\n",
              "    </tr>\n",
              "    <tr>\n",
              "      <th>7415</th>\n",
              "      <td>176</td>\n",
              "      <td>293</td>\n",
              "    </tr>\n",
              "    <tr>\n",
              "      <th>14144</th>\n",
              "      <td>176</td>\n",
              "      <td>360</td>\n",
              "    </tr>\n",
              "    <tr>\n",
              "      <th>17326</th>\n",
              "      <td>172</td>\n",
              "      <td>360</td>\n",
              "    </tr>\n",
              "    <tr>\n",
              "      <th>...</th>\n",
              "      <td>...</td>\n",
              "      <td>...</td>\n",
              "    </tr>\n",
              "    <tr>\n",
              "      <th>25061</th>\n",
              "      <td>3</td>\n",
              "      <td>13</td>\n",
              "    </tr>\n",
              "    <tr>\n",
              "      <th>41549</th>\n",
              "      <td>3</td>\n",
              "      <td>12</td>\n",
              "    </tr>\n",
              "    <tr>\n",
              "      <th>22930</th>\n",
              "      <td>3</td>\n",
              "      <td>12</td>\n",
              "    </tr>\n",
              "    <tr>\n",
              "      <th>13607</th>\n",
              "      <td>3</td>\n",
              "      <td>12</td>\n",
              "    </tr>\n",
              "    <tr>\n",
              "      <th>27320</th>\n",
              "      <td>3</td>\n",
              "      <td>12</td>\n",
              "    </tr>\n",
              "  </tbody>\n",
              "</table>\n",
              "<p>66955 rows × 2 columns</p>\n",
              "</div>\n",
              "      <button class=\"colab-df-convert\" onclick=\"convertToInteractive('df-c2ee5068-e5b6-457f-a3c4-a4893e50e4dc')\"\n",
              "              title=\"Convert this dataframe to an interactive table.\"\n",
              "              style=\"display:none;\">\n",
              "        \n",
              "  <svg xmlns=\"http://www.w3.org/2000/svg\" height=\"24px\"viewBox=\"0 0 24 24\"\n",
              "       width=\"24px\">\n",
              "    <path d=\"M0 0h24v24H0V0z\" fill=\"none\"/>\n",
              "    <path d=\"M18.56 5.44l.94 2.06.94-2.06 2.06-.94-2.06-.94-.94-2.06-.94 2.06-2.06.94zm-11 1L8.5 8.5l.94-2.06 2.06-.94-2.06-.94L8.5 2.5l-.94 2.06-2.06.94zm10 10l.94 2.06.94-2.06 2.06-.94-2.06-.94-.94-2.06-.94 2.06-2.06.94z\"/><path d=\"M17.41 7.96l-1.37-1.37c-.4-.4-.92-.59-1.43-.59-.52 0-1.04.2-1.43.59L10.3 9.45l-7.72 7.72c-.78.78-.78 2.05 0 2.83L4 21.41c.39.39.9.59 1.41.59.51 0 1.02-.2 1.41-.59l7.78-7.78 2.81-2.81c.8-.78.8-2.07 0-2.86zM5.41 20L4 18.59l7.72-7.72 1.47 1.35L5.41 20z\"/>\n",
              "  </svg>\n",
              "      </button>\n",
              "      \n",
              "  <style>\n",
              "    .colab-df-container {\n",
              "      display:flex;\n",
              "      flex-wrap:wrap;\n",
              "      gap: 12px;\n",
              "    }\n",
              "\n",
              "    .colab-df-convert {\n",
              "      background-color: #E8F0FE;\n",
              "      border: none;\n",
              "      border-radius: 50%;\n",
              "      cursor: pointer;\n",
              "      display: none;\n",
              "      fill: #1967D2;\n",
              "      height: 32px;\n",
              "      padding: 0 0 0 0;\n",
              "      width: 32px;\n",
              "    }\n",
              "\n",
              "    .colab-df-convert:hover {\n",
              "      background-color: #E2EBFA;\n",
              "      box-shadow: 0px 1px 2px rgba(60, 64, 67, 0.3), 0px 1px 3px 1px rgba(60, 64, 67, 0.15);\n",
              "      fill: #174EA6;\n",
              "    }\n",
              "\n",
              "    [theme=dark] .colab-df-convert {\n",
              "      background-color: #3B4455;\n",
              "      fill: #D2E3FC;\n",
              "    }\n",
              "\n",
              "    [theme=dark] .colab-df-convert:hover {\n",
              "      background-color: #434B5C;\n",
              "      box-shadow: 0px 1px 3px 1px rgba(0, 0, 0, 0.15);\n",
              "      filter: drop-shadow(0px 1px 2px rgba(0, 0, 0, 0.3));\n",
              "      fill: #FFFFFF;\n",
              "    }\n",
              "  </style>\n",
              "\n",
              "      <script>\n",
              "        const buttonEl =\n",
              "          document.querySelector('#df-c2ee5068-e5b6-457f-a3c4-a4893e50e4dc button.colab-df-convert');\n",
              "        buttonEl.style.display =\n",
              "          google.colab.kernel.accessAllowed ? 'block' : 'none';\n",
              "\n",
              "        async function convertToInteractive(key) {\n",
              "          const element = document.querySelector('#df-c2ee5068-e5b6-457f-a3c4-a4893e50e4dc');\n",
              "          const dataTable =\n",
              "            await google.colab.kernel.invokeFunction('convertToInteractive',\n",
              "                                                     [key], {});\n",
              "          if (!dataTable) return;\n",
              "\n",
              "          const docLinkHtml = 'Like what you see? Visit the ' +\n",
              "            '<a target=\"_blank\" href=https://colab.research.google.com/notebooks/data_table.ipynb>data table notebook</a>'\n",
              "            + ' to learn more about interactive tables.';\n",
              "          element.innerHTML = '';\n",
              "          dataTable['output_type'] = 'display_data';\n",
              "          await google.colab.output.renderOutput(dataTable, element);\n",
              "          const docLink = document.createElement('div');\n",
              "          docLink.innerHTML = docLinkHtml;\n",
              "          element.appendChild(docLink);\n",
              "        }\n",
              "      </script>\n",
              "    </div>\n",
              "  </div>\n",
              "  "
            ]
          },
          "metadata": {},
          "execution_count": 30
        }
      ]
    },
    {
      "cell_type": "code",
      "source": [
        "data.sort_values(by=['H'], ascending=False)"
      ],
      "metadata": {
        "colab": {
          "base_uri": "https://localhost:8080/",
          "height": 424
        },
        "id": "aWqYdDvr3Jb1",
        "outputId": "1ea59aae-ebe9-4b6f-f983-001876a721da"
      },
      "execution_count": null,
      "outputs": [
        {
          "output_type": "execute_result",
          "data": {
            "text/plain": [
              "         W    H\n",
              "16700  198  403\n",
              "10742  206  403\n",
              "14144  176  360\n",
              "17326  172  360\n",
              "7415   176  293\n",
              "...    ...  ...\n",
              "54420    8   11\n",
              "33381    3   11\n",
              "28855    6   11\n",
              "18596    6   10\n",
              "63132    7   10\n",
              "\n",
              "[66955 rows x 2 columns]"
            ],
            "text/html": [
              "\n",
              "  <div id=\"df-97188637-ae7e-415e-822f-3e27345e1e17\">\n",
              "    <div class=\"colab-df-container\">\n",
              "      <div>\n",
              "<style scoped>\n",
              "    .dataframe tbody tr th:only-of-type {\n",
              "        vertical-align: middle;\n",
              "    }\n",
              "\n",
              "    .dataframe tbody tr th {\n",
              "        vertical-align: top;\n",
              "    }\n",
              "\n",
              "    .dataframe thead th {\n",
              "        text-align: right;\n",
              "    }\n",
              "</style>\n",
              "<table border=\"1\" class=\"dataframe\">\n",
              "  <thead>\n",
              "    <tr style=\"text-align: right;\">\n",
              "      <th></th>\n",
              "      <th>W</th>\n",
              "      <th>H</th>\n",
              "    </tr>\n",
              "  </thead>\n",
              "  <tbody>\n",
              "    <tr>\n",
              "      <th>16700</th>\n",
              "      <td>198</td>\n",
              "      <td>403</td>\n",
              "    </tr>\n",
              "    <tr>\n",
              "      <th>10742</th>\n",
              "      <td>206</td>\n",
              "      <td>403</td>\n",
              "    </tr>\n",
              "    <tr>\n",
              "      <th>14144</th>\n",
              "      <td>176</td>\n",
              "      <td>360</td>\n",
              "    </tr>\n",
              "    <tr>\n",
              "      <th>17326</th>\n",
              "      <td>172</td>\n",
              "      <td>360</td>\n",
              "    </tr>\n",
              "    <tr>\n",
              "      <th>7415</th>\n",
              "      <td>176</td>\n",
              "      <td>293</td>\n",
              "    </tr>\n",
              "    <tr>\n",
              "      <th>...</th>\n",
              "      <td>...</td>\n",
              "      <td>...</td>\n",
              "    </tr>\n",
              "    <tr>\n",
              "      <th>54420</th>\n",
              "      <td>8</td>\n",
              "      <td>11</td>\n",
              "    </tr>\n",
              "    <tr>\n",
              "      <th>33381</th>\n",
              "      <td>3</td>\n",
              "      <td>11</td>\n",
              "    </tr>\n",
              "    <tr>\n",
              "      <th>28855</th>\n",
              "      <td>6</td>\n",
              "      <td>11</td>\n",
              "    </tr>\n",
              "    <tr>\n",
              "      <th>18596</th>\n",
              "      <td>6</td>\n",
              "      <td>10</td>\n",
              "    </tr>\n",
              "    <tr>\n",
              "      <th>63132</th>\n",
              "      <td>7</td>\n",
              "      <td>10</td>\n",
              "    </tr>\n",
              "  </tbody>\n",
              "</table>\n",
              "<p>66955 rows × 2 columns</p>\n",
              "</div>\n",
              "      <button class=\"colab-df-convert\" onclick=\"convertToInteractive('df-97188637-ae7e-415e-822f-3e27345e1e17')\"\n",
              "              title=\"Convert this dataframe to an interactive table.\"\n",
              "              style=\"display:none;\">\n",
              "        \n",
              "  <svg xmlns=\"http://www.w3.org/2000/svg\" height=\"24px\"viewBox=\"0 0 24 24\"\n",
              "       width=\"24px\">\n",
              "    <path d=\"M0 0h24v24H0V0z\" fill=\"none\"/>\n",
              "    <path d=\"M18.56 5.44l.94 2.06.94-2.06 2.06-.94-2.06-.94-.94-2.06-.94 2.06-2.06.94zm-11 1L8.5 8.5l.94-2.06 2.06-.94-2.06-.94L8.5 2.5l-.94 2.06-2.06.94zm10 10l.94 2.06.94-2.06 2.06-.94-2.06-.94-.94-2.06-.94 2.06-2.06.94z\"/><path d=\"M17.41 7.96l-1.37-1.37c-.4-.4-.92-.59-1.43-.59-.52 0-1.04.2-1.43.59L10.3 9.45l-7.72 7.72c-.78.78-.78 2.05 0 2.83L4 21.41c.39.39.9.59 1.41.59.51 0 1.02-.2 1.41-.59l7.78-7.78 2.81-2.81c.8-.78.8-2.07 0-2.86zM5.41 20L4 18.59l7.72-7.72 1.47 1.35L5.41 20z\"/>\n",
              "  </svg>\n",
              "      </button>\n",
              "      \n",
              "  <style>\n",
              "    .colab-df-container {\n",
              "      display:flex;\n",
              "      flex-wrap:wrap;\n",
              "      gap: 12px;\n",
              "    }\n",
              "\n",
              "    .colab-df-convert {\n",
              "      background-color: #E8F0FE;\n",
              "      border: none;\n",
              "      border-radius: 50%;\n",
              "      cursor: pointer;\n",
              "      display: none;\n",
              "      fill: #1967D2;\n",
              "      height: 32px;\n",
              "      padding: 0 0 0 0;\n",
              "      width: 32px;\n",
              "    }\n",
              "\n",
              "    .colab-df-convert:hover {\n",
              "      background-color: #E2EBFA;\n",
              "      box-shadow: 0px 1px 2px rgba(60, 64, 67, 0.3), 0px 1px 3px 1px rgba(60, 64, 67, 0.15);\n",
              "      fill: #174EA6;\n",
              "    }\n",
              "\n",
              "    [theme=dark] .colab-df-convert {\n",
              "      background-color: #3B4455;\n",
              "      fill: #D2E3FC;\n",
              "    }\n",
              "\n",
              "    [theme=dark] .colab-df-convert:hover {\n",
              "      background-color: #434B5C;\n",
              "      box-shadow: 0px 1px 3px 1px rgba(0, 0, 0, 0.15);\n",
              "      filter: drop-shadow(0px 1px 2px rgba(0, 0, 0, 0.3));\n",
              "      fill: #FFFFFF;\n",
              "    }\n",
              "  </style>\n",
              "\n",
              "      <script>\n",
              "        const buttonEl =\n",
              "          document.querySelector('#df-97188637-ae7e-415e-822f-3e27345e1e17 button.colab-df-convert');\n",
              "        buttonEl.style.display =\n",
              "          google.colab.kernel.accessAllowed ? 'block' : 'none';\n",
              "\n",
              "        async function convertToInteractive(key) {\n",
              "          const element = document.querySelector('#df-97188637-ae7e-415e-822f-3e27345e1e17');\n",
              "          const dataTable =\n",
              "            await google.colab.kernel.invokeFunction('convertToInteractive',\n",
              "                                                     [key], {});\n",
              "          if (!dataTable) return;\n",
              "\n",
              "          const docLinkHtml = 'Like what you see? Visit the ' +\n",
              "            '<a target=\"_blank\" href=https://colab.research.google.com/notebooks/data_table.ipynb>data table notebook</a>'\n",
              "            + ' to learn more about interactive tables.';\n",
              "          element.innerHTML = '';\n",
              "          dataTable['output_type'] = 'display_data';\n",
              "          await google.colab.output.renderOutput(dataTable, element);\n",
              "          const docLink = document.createElement('div');\n",
              "          docLink.innerHTML = docLinkHtml;\n",
              "          element.appendChild(docLink);\n",
              "        }\n",
              "      </script>\n",
              "    </div>\n",
              "  </div>\n",
              "  "
            ]
          },
          "metadata": {},
          "execution_count": 31
        }
      ]
    },
    {
      "cell_type": "markdown",
      "metadata": {
        "id": "4O_M-KFk8DyX"
      },
      "source": [
        "**หลังจาก clean แล้วรูปเหลือเท่าไหร่**"
      ]
    },
    {
      "cell_type": "code",
      "execution_count": null,
      "metadata": {
        "colab": {
          "base_uri": "https://localhost:8080/",
          "height": 448
        },
        "id": "X-sgFnQ3h0uJ",
        "outputId": "c91215f6-33fe-415f-aa18-607aaab7c29b"
      },
      "outputs": [
        {
          "output_type": "display_data",
          "data": {
            "text/plain": [
              "<Figure size 1440x576 with 1 Axes>"
            ],
            "image/png": "[encoded data removed]"
          },
          "metadata": {
            "needs_background": "light"
          }
        }
      ],
      "source": [
        "digit, count = [], []\n",
        "for i in os.listdir('/content/train_clean'):\n",
        "  digit.append(i)\n",
        "  count.append(len(os.listdir('/content/train_clean/'+i)))\n",
        "\n",
        "df = pd.DataFrame({\n",
        "    'digit':digit,\n",
        "    'count':count\n",
        "})\n",
        "df.sort_values(by='digit', inplace=True)\n",
        "plt.figure(figsize=(20, 8));\n",
        "sns.barplot(data=df,x='digit', y='count');"
      ]
    },
    {
      "cell_type": "code",
      "execution_count": null,
      "metadata": {
        "colab": {
          "base_uri": "https://localhost:8080/"
        },
        "id": "00Raj8Mxd_nJ",
        "outputId": "2aaf7763-4149-4b22-b8f0-4cf48fcda99c"
      },
      "outputs": [
        {
          "output_type": "stream",
          "name": "stdout",
          "text": [
            "10585\n",
            "7458\n",
            "5045\n",
            "13861\n",
            "8497\n",
            "4659\n",
            "5595\n",
            "6882\n",
            "4948\n",
            "5727\n"
          ]
        }
      ],
      "source": [
        "#train\n",
        "for i in os.listdir('/content/train'):\n",
        "  print(len(os.listdir('/content/train/' + i)))"
      ]
    },
    {
      "cell_type": "code",
      "execution_count": null,
      "metadata": {
        "colab": {
          "base_uri": "https://localhost:8080/"
        },
        "id": "Z2dPsP4xt7ul",
        "outputId": "40aee6f5-6604-4f92-9630-bbd3567159ea"
      },
      "outputs": [
        {
          "output_type": "stream",
          "name": "stdout",
          "text": [
            "9787\n",
            "6778\n",
            "4520\n",
            "12548\n",
            "7857\n",
            "4160\n",
            "5084\n",
            "6233\n",
            "4842\n",
            "5146\n"
          ]
        }
      ],
      "source": [
        "#train_clean\n",
        "for i in os.listdir('/content/train_clean'):\n",
        "  print(len(os.listdir('/content/train_clean/' + i)))"
      ]
    },
    {
      "cell_type": "markdown",
      "metadata": {
        "id": "63UgNO3OGYhk"
      },
      "source": [
        "## Augmentation"
      ]
    },
    {
      "cell_type": "markdown",
      "metadata": {
        "id": "uBorv2m_H7DW"
      },
      "source": [
        "**Split folder for Train 80 Val 20**"
      ]
    },
    {
      "cell_type": "code",
      "execution_count": null,
      "metadata": {
        "colab": {
          "base_uri": "https://localhost:8080/"
        },
        "id": "Zh2i3cNCHU1u",
        "outputId": "ecb9a176-f712-40b1-e327-910ec8f669b3"
      },
      "outputs": [
        {
          "output_type": "stream",
          "name": "stderr",
          "text": [
            "Copying files: 66955 files [00:11, 5671.91 files/s]\n"
          ]
        }
      ],
      "source": [
        "splitfolders.ratio(\"/content/train_clean/\", output=\"train_val\",seed=1337, ratio=(.80, .20), group_prefix=None, move=False)"
      ]
    },
    {
      "cell_type": "code",
      "execution_count": null,
      "metadata": {
        "id": "c9Hba3bJH3Pu"
      },
      "outputs": [],
      "source": [
        "!rm -rf /content/train_val_aug\n",
        "!cp -r /content/train_val /content/train_val_aug"
      ]
    },
    {
      "cell_type": "markdown",
      "source": [
        "**Augment only Train**"
      ],
      "metadata": {
        "id": "fHJNffak5_XD"
      }
    },
    {
      "cell_type": "code",
      "execution_count": null,
      "metadata": {
        "colab": {
          "base_uri": "https://localhost:8080/"
        },
        "id": "FK-PKUN5HvwG",
        "outputId": "cf7dfe90-a5b5-4707-9723-dec6185b4ab7"
      },
      "outputs": [
        {
          "output_type": "stream",
          "name": "stderr",
          "text": [
            "100%|██████████| 10/10 [09:36<00:00, 57.63s/it]\n"
          ]
        }
      ],
      "source": [
        "base = '/content/train_val_aug'\n",
        "max_len = 16000\n",
        "for i in os.listdir(base):\n",
        "  if i == 'train':\n",
        "    dir = os.path.join(base, i)\n",
        "    for j in tqdm(os.listdir(dir)):\n",
        "      dir2 = os.path.join(dir, j)\n",
        "      run = True\n",
        "      while run:\n",
        "        for k in os.listdir(dir2): #เข้าถึงรูป 1 รูป ในกลุ่มของเลขนั้นๆ\n",
        "          img_path = os.path.join(dir2, k)\n",
        "          input_img = cv2.imread(img_path)\n",
        "          img_path = img_path.replace('.png', '_')\n",
        "\n",
        "          #Noise\n",
        "          if len(os.listdir(dir2)) < max_len:\n",
        "            for i in range(1, 3):\n",
        "              noise=iaa.AdditiveGaussianNoise(i,i).augment_image(input_img)\n",
        "              cv2.imwrite(img_path + 'noise_' + str(i) + '_.png', noise)\n",
        "          else:\n",
        "            run = False\n",
        "            break"
      ]
    },
    {
      "cell_type": "code",
      "execution_count": null,
      "metadata": {
        "id": "ZHNRweiMIqeA",
        "colab": {
          "base_uri": "https://localhost:8080/",
          "height": 448
        },
        "outputId": "8fcf3627-ad52-4a7f-c7e5-0c2ebb2449b4"
      },
      "outputs": [
        {
          "output_type": "display_data",
          "data": {
            "text/plain": [
              "<Figure size 1440x576 with 1 Axes>"
            ],
            "image/png": "[encoded data removed]"
          },
          "metadata": {
            "needs_background": "light"
          }
        }
      ],
      "source": [
        "digit, count = [], []\n",
        "for i in os.listdir('/content/train_val_aug/train'):\n",
        "  digit.append(i)\n",
        "  count.append(len(os.listdir('/content/train_val_aug/train/'+i)))\n",
        "  \n",
        "\n",
        "df = pd.DataFrame({\n",
        "    'digit':digit,\n",
        "    'count':count\n",
        "})\n",
        "df.sort_values(by='digit', inplace=True)\n",
        "plt.figure(figsize=(20, 8));\n",
        "sns.barplot(data=df,x='digit', y='count');"
      ]
    },
    {
      "cell_type": "markdown",
      "source": [
        "## Change Trian, Validation and Test To GraySacle\n",
        "> Train Chose Change Black to White and White to Black for more Image"
      ],
      "metadata": {
        "id": "gNZ7f05vwVDy"
      }
    },
    {
      "cell_type": "markdown",
      "source": [
        "**Train & Validation to GrayScale**"
      ],
      "metadata": {
        "id": "aXno1yq39vxK"
      }
    },
    {
      "cell_type": "code",
      "source": [
        "base = '/content/train_val_aug'\n",
        "for i in os.listdir(base):\n",
        "  dir = os.path.join(base, i)\n",
        "  for j in tqdm(os.listdir(dir)):\n",
        "    dir2 = os.path.join(dir, j)\n",
        "    for k in os.listdir(dir2): #เข้าถึงรูป 1 รูป ในกลุ่มของเลขนั้นๆ\n",
        "      img_path = os.path.join(dir2, k)\n",
        "      img = Image.open(img_path)\n",
        "\n",
        "      img = ImageOps.contain(img, img.size , Image.Resampling.LANCZOS) #เกลี่ยสี\n",
        "      img = ImageOps.autocontrast(img) #สีเข้มขึ้น\n",
        "      img = ImageOps.grayscale(img) #grayscale\n",
        "      img = ImageOps.autocontrast(img) #สีเข้มขึ้น\n",
        "      img = ImageOps.pad(img, (img.size) , centering=(0, 0))\n",
        "      img.save(img_path)\n",
        "      if i == 'train':\n",
        "        inverted = ImageOps.invert(img) #เปลี่ยนขาวเป็นดำ ดำเป็นขาว\n",
        "        inverted = ImageOps.pad(inverted, inverted.size , centering=(0, 0))\n",
        "        inverted.save(img_path[:-4]+'_inverted.png')"
      ],
      "metadata": {
        "colab": {
          "base_uri": "https://localhost:8080/"
        },
        "id": "SyrQoVVMk5tU",
        "outputId": "c6dfeb72-95ef-4a24-c508-bdb7a87ad92b"
      },
      "execution_count": null,
      "outputs": [
        {
          "output_type": "stream",
          "name": "stderr",
          "text": [
            "100%|██████████| 10/10 [00:29<00:00,  2.94s/it]\n",
            "100%|██████████| 10/10 [04:49<00:00, 29.00s/it]\n"
          ]
        }
      ]
    },
    {
      "cell_type": "code",
      "source": [
        "digit, count = [], []\n",
        "for i in os.listdir('/content/train_val_aug/train'):\n",
        "  digit.append(i)\n",
        "  count.append(len(os.listdir('/content/train_val_aug/train/'+i)))\n",
        "  \n",
        "\n",
        "df = pd.DataFrame({\n",
        "    'digit':digit,\n",
        "    'count':count\n",
        "})\n",
        "df.sort_values(by='digit', inplace=True)\n",
        "plt.figure(figsize=(20, 8));\n",
        "plt.title('300k For Train Image')\n",
        "sns.barplot(data=df,x='digit', y='count');"
      ],
      "metadata": {
        "colab": {
          "base_uri": "https://localhost:8080/",
          "height": 462
        },
        "id": "EI0lB1ja-Hhk",
        "outputId": "58699939-0e56-4480-a7cb-6b733a536dbf"
      },
      "execution_count": null,
      "outputs": [
        {
          "output_type": "display_data",
          "data": {
            "text/plain": [
              "<Figure size 1440x576 with 1 Axes>"
            ],
            "image/png": "[encoded data removed]"
          },
          "metadata": {
            "needs_background": "light"
          }
        }
      ]
    },
    {
      "cell_type": "markdown",
      "source": [
        "**Test to Gray Scale**"
      ],
      "metadata": {
        "id": "zyTj0uQC9y2x"
      }
    },
    {
      "cell_type": "code",
      "source": [
        "base = '/content/IM_test_bbox'\n",
        "for i in tqdm(os.listdir(base)):\n",
        "  img_path = os.path.join(base, i)\n",
        "  img = Image.open(img_path)\n",
        "\n",
        "  img = ImageOps.contain(img, img.size , Image.Resampling.LANCZOS) #เกลี่ยสี\n",
        "  img = ImageOps.autocontrast(img) #สีเข้มขึ้น\n",
        "  img = ImageOps.grayscale(img) #grayscale\n",
        "  img = ImageOps.autocontrast(img) #สีเข้มขึ้น\n",
        "  img = ImageOps.pad(img, (img.size) , centering=(0, 0))\n",
        "  img.save(img_path)"
      ],
      "metadata": {
        "colab": {
          "base_uri": "https://localhost:8080/"
        },
        "id": "GCSuTFA_-LDr",
        "outputId": "e90bc55d-f202-4fb8-f165-e23d0ff43484"
      },
      "execution_count": null,
      "outputs": [
        {
          "output_type": "stream",
          "name": "stderr",
          "text": [
            "100%|██████████| 26032/26032 [00:40<00:00, 645.50it/s]\n"
          ]
        }
      ]
    },
    {
      "cell_type": "markdown",
      "source": [
        "## Save All File to Colab"
      ],
      "metadata": {
        "id": "d78gRNOmxGv1"
      }
    },
    {
      "cell_type": "code",
      "source": [
        "#df_test\n",
        "!cp -r /content/df_test.csv '/content/drive/MyDrive/Colab Notebooks/SuperAi/Pracetice/Image Processing/df_test.csv'\n",
        "\n",
        "#Image_test\n",
        "!zip -r -q '/content/drive/MyDrive/Colab Notebooks/SuperAi/Pracetice/Image Processing/IM_test_bbox.zip' /content/IM_test_bbox\n",
        "\n",
        "#Image_Train_Validation\n",
        "!zip -r -q '/content/drive/MyDrive/Colab Notebooks/SuperAi/Pracetice/Image Processing/train_val_aug.zip' /content/train_val_aug"
      ],
      "metadata": {
        "id": "CPdTuTyKdjgQ"
      },
      "execution_count": null,
      "outputs": []
    },
    {
      "cell_type": "markdown",
      "metadata": {
        "id": "19ELsAsYLmBu"
      },
      "source": [
        "## **Trainmodel**\n",
        "- VGG-16\n",
        "- ResNet50\n",
        "- Inceptionv3\n",
        "- EfficientNet"
      ]
    },
    {
      "cell_type": "markdown",
      "source": [
        "### **Load All File**"
      ],
      "metadata": {
        "id": "XVDWmg4p6vfe"
      }
    },
    {
      "cell_type": "code",
      "source": [
        "#df_test\n",
        "!gdown 1-4QWIpV154ZoXtWdJSVef-Xu2Jb5ccLf\n",
        "\n",
        "#Image Test\n",
        "!gdown 1-Jm-VZ2pt2c5pNsn9sH24cPyaprKyuDO\n",
        "\n",
        "#Image Train & Validation\n",
        "!gdown 1-LV2PblgLcOBFGWw2wBikHkeHxryMWbA"
      ],
      "metadata": {
        "id": "GSZOQlfDg_ov",
        "colab": {
          "base_uri": "https://localhost:8080/"
        },
        "outputId": "2efad49c-a8d9-4a39-d5f0-c7c3f5537e3d"
      },
      "execution_count": null,
      "outputs": [
        {
          "output_type": "stream",
          "name": "stdout",
          "text": [
            "Downloading...\n",
            "From: https://drive.google.com/uc?id=1-4QWIpV154ZoXtWdJSVef-Xu2Jb5ccLf\n",
            "To: /content/df_test.csv\n",
            "100% 1.40M/1.40M [00:00<00:00, 177MB/s]\n",
            "Downloading...\n",
            "From: https://drive.google.com/uc?id=1-Jm-VZ2pt2c5pNsn9sH24cPyaprKyuDO\n",
            "To: /content/IM_test_bbox.zip\n",
            "100% 17.3M/17.3M [00:00<00:00, 47.3MB/s]\n",
            "Downloading...\n",
            "From: https://drive.google.com/uc?id=1-LV2PblgLcOBFGWw2wBikHkeHxryMWbA\n",
            "To: /content/train_val_aug.zip\n",
            "100% 287M/287M [00:01<00:00, 182MB/s]\n"
          ]
        }
      ]
    },
    {
      "cell_type": "code",
      "source": [
        "!unzip -q /content/train_val_aug.zip\n",
        "!unzip -q /content/IM_test_bbox.zip"
      ],
      "metadata": {
        "id": "-uNTOul8jXj3"
      },
      "execution_count": null,
      "outputs": []
    },
    {
      "cell_type": "code",
      "source": [
        "#move file\n",
        "    \n",
        "source_dir = '/content/content'\n",
        "target_dir = '/content/'\n",
        "    \n",
        "file_names = os.listdir(source_dir)\n",
        "    \n",
        "for file_name in file_names:\n",
        "    shutil.move(os.path.join(source_dir, file_name), target_dir)"
      ],
      "metadata": {
        "id": "RUWX70Zej_PG"
      },
      "execution_count": null,
      "outputs": []
    },
    {
      "cell_type": "code",
      "source": [
        "!rm -rf /content/content"
      ],
      "metadata": {
        "id": "toiMw1XKkZW-"
      },
      "execution_count": null,
      "outputs": []
    },
    {
      "cell_type": "code",
      "source": [
        "df_test = pd.read_csv('df_test.csv')"
      ],
      "metadata": {
        "id": "MAx2QHppmDJu"
      },
      "execution_count": null,
      "outputs": []
    },
    {
      "cell_type": "markdown",
      "source": [
        "**Create New Gray Train_Test**"
      ],
      "metadata": {
        "id": "c4iC9jrlYZwc"
      }
    },
    {
      "cell_type": "markdown",
      "metadata": {
        "id": "IsFv0atDfwZG"
      },
      "source": [
        "### **VGG16 94.53%**"
      ]
    },
    {
      "cell_type": "code",
      "execution_count": null,
      "metadata": {
        "id": "EwWeGSvHgvfa"
      },
      "outputs": [],
      "source": [
        "base_dir = 'train_val_aug'\n",
        "train_dir = os.path.join(base_dir, 'train') #resulf = directory\n",
        "validation_dir = os.path.join(base_dir, 'val')"
      ]
    },
    {
      "cell_type": "markdown",
      "metadata": {
        "id": "lt6FF5b1pCU-"
      },
      "source": [
        "\n",
        "\n",
        "```\n",
        "test ถูกจัดการ ด้วย flow_from_dataframe ใน step 2 ข้างล่าง\n",
        "```\n",
        "\n"
      ]
    },
    {
      "cell_type": "markdown",
      "metadata": {
        "id": "u_gg8SEEgZlW"
      },
      "source": [
        "**Step 1: Image Augmentation (แอบทำมาก่อนแล้ว อันนี้เลยแค่ rescale)**\n",
        ">Since we took up a much smaller dataset of images earlier, we can make up for it by augmenting this data and increasing our dataset size. If you are working with the original larger dataset, you can skip this step and move straight on to building the model."
      ]
    },
    {
      "cell_type": "code",
      "execution_count": null,
      "metadata": {
        "id": "BUupyTnDgPot"
      },
      "outputs": [],
      "source": [
        "# Add our data-augmentation parameters to ImageDataGenerator\n",
        "train_datagen = ImageDataGenerator(rescale = 1.0/255.)\n",
        "# train_datagen = ImageDataGenerator(rescale = 1./255.,rotation_range = 40, width_shift_range = 0.2, height_shift_range = 0.2, shear_range = 0.2, zoom_range = 0.2, horizontal_flip = True)\n",
        "\n",
        "# Note that the validation data should not be augmented!\n",
        "test_datagen = ImageDataGenerator(rescale = 1.0/255.)"
      ]
    },
    {
      "cell_type": "markdown",
      "metadata": {
        "id": "PJ7x5XY-gd7D"
      },
      "source": [
        "**Step 2: Training and Validation Sets**"
      ]
    },
    {
      "cell_type": "code",
      "execution_count": null,
      "metadata": {
        "id": "Bow_-f0cggNd",
        "colab": {
          "base_uri": "https://localhost:8080/"
        },
        "outputId": "c20c8464-4303-499a-acb2-ec27a51827a6"
      },
      "outputs": [
        {
          "output_type": "stream",
          "name": "stdout",
          "text": [
            "Found 320008 images belonging to 10 classes.\n",
            "Found 13395 images belonging to 10 classes.\n",
            "Found 26032 validated image filenames.\n"
          ]
        }
      ],
      "source": [
        "# Train Flow training images in batches of 300 using train_datagen generator\n",
        "train_generator = train_datagen.flow_from_directory(train_dir, batch_size = 300, class_mode = 'sparse', target_size = (32, 32))\n",
        "\n",
        "# Validation Flow validation images in batches of 300 using test_datagen generator\n",
        "validation_generator = test_datagen.flow_from_directory(validation_dir,  batch_size = 300, class_mode = 'sparse', target_size = (32, 32))\n",
        "\n",
        "# Test use flow from dataframe เพราะ เวลาส่งชื่อต้องเรียงตาม format เขา\n",
        "test_generator = test_datagen.flow_from_dataframe(df_test, x_col='file_name', batch_size = 300, class_mode = None, target_size = (32, 32), shuffle=False)"
      ]
    },
    {
      "cell_type": "markdown",
      "metadata": {
        "id": "scBJeEXPhlRx"
      },
      "source": [
        "**Step 3: Loading the Base Model**\n",
        "> We will be using only the basic models, with changes made only to the final layer. This is because this is just a binary classification problem while these models are built to handle up to 1000 classes."
      ]
    },
    {
      "cell_type": "code",
      "execution_count": null,
      "metadata": {
        "id": "QE018XUbi5mV"
      },
      "outputs": [],
      "source": [
        "base_model = VGG16(input_shape = (32, 32, 3), # Shape of our images\n",
        "include_top = False, # Leave out the last fully connected layer\n",
        "weights = 'imagenet')"
      ]
    },
    {
      "cell_type": "markdown",
      "metadata": {
        "id": "lyGamIHVi7cy"
      },
      "source": [
        "**Since we don’t have to train all the layers, we make them non_trainable:**\n",
        "> กูเข้าใจว่ามันคือ Freezing เข้าถูกแล้ว"
      ]
    },
    {
      "cell_type": "code",
      "execution_count": null,
      "metadata": {
        "id": "UaWTIjXjjFZR"
      },
      "outputs": [],
      "source": [
        "# Freeze the base model\n",
        "base_model.trainable = False"
      ]
    },
    {
      "cell_type": "markdown",
      "metadata": {
        "id": "WeXcPXnnjHdp"
      },
      "source": [
        "**Step 4: Compile and Fit**\n",
        ">We will then build the last fully-connected layer. I have just used the basic settings, but feel free to experiment with different values of dropout, and different Optimisers and activation functions."
      ]
    },
    {
      "cell_type": "code",
      "execution_count": null,
      "metadata": {
        "id": "1bA6QdU1jJ6n",
        "colab": {
          "base_uri": "https://localhost:8080/"
        },
        "outputId": "35ffe434-cec2-4fc0-bea5-cb550da05be3"
      },
      "outputs": [
        {
          "output_type": "stream",
          "name": "stderr",
          "text": [
            "/usr/local/lib/python3.8/dist-packages/keras/optimizers/optimizer_v2/rmsprop.py:135: UserWarning: The `lr` argument is deprecated, use `learning_rate` instead.\n",
            "  super(RMSprop, self).__init__(name, **kwargs)\n"
          ]
        }
      ],
      "source": [
        "# Flatten the output layer to 1 dimension\n",
        "x = layers.Flatten()(base_model.output)\n",
        "\n",
        "# Add a fully connected layer with 512 hidden units and ReLU activation\n",
        "x = layers.Dense(512, activation='relu')(x)\n",
        "x = layers.Dropout(0.5)(x)\n",
        "\n",
        "x = layers.Dense(256, activation='relu')(x)\n",
        "\n",
        "x = layers.Dense(128, activation='relu')(x)\n",
        "x = layers.Dropout(0.5)(x)\n",
        "\n",
        "x = layers.Dense(64, activation='relu')(x)\n",
        "\n",
        "# Add a final sigmoid layer with ... node for classification output\n",
        "x = layers.Dense(10, activation='sigmoid')(x)\n",
        "\n",
        "model = tf.keras.models.Model(base_model.input, x)\n",
        "\n",
        "#อย่าลืมเปลี่ยน loss ให้เหมาะกับงาน แต่คิดว่าแค่ตัวนี้ก็เพียงพอ\n",
        "model.compile(optimizer = tf.keras.optimizers.RMSprop(lr=0.0001), loss = 'sparse_categorical_crossentropy',metrics = ['acc'])"
      ]
    },
    {
      "cell_type": "markdown",
      "metadata": {
        "id": "azisb-5pjLd1"
      },
      "source": [
        "We will now build the final model based on the training and validation sets we created earlier. Please note to use the original directories itself instead of the augmented datasets I have used below. I have used just 10 epochs, but you can also increase them to get better results:"
      ]
    },
    {
      "cell_type": "markdown",
      "metadata": {
        "id": "4d3Y_aXGjON0"
      },
      "source": [
        "**Note: Use GPU Dont Forget Commy**"
      ]
    },
    {
      "cell_type": "code",
      "execution_count": null,
      "metadata": {
        "id": "sxLpM6G1vMfC"
      },
      "outputs": [],
      "source": [
        "#เอาไว้เก็บ best_model\n",
        "!rm -rf 'vgg16_best'"
      ]
    },
    {
      "cell_type": "code",
      "execution_count": null,
      "metadata": {
        "id": "5BN35TJrjQjs",
        "colab": {
          "base_uri": "https://localhost:8080/"
        },
        "outputId": "d9d86667-4cec-416b-fe2f-9b30a6ff9741"
      },
      "outputs": [
        {
          "output_type": "stream",
          "name": "stderr",
          "text": [
            "WARNING:tensorflow:`period` argument is deprecated. Please use `save_freq` to specify the frequency in number of batches seen.\n"
          ]
        },
        {
          "output_type": "stream",
          "name": "stdout",
          "text": [
            "Epoch 1/1000\n",
            "100/100 [==============================] - ETA: 0s - loss: 2.2518 - acc: 0.1634\n",
            "Epoch 1: val_acc improved from -inf to 0.38604, saving model to vgg16_best\n"
          ]
        },
        {
          "output_type": "stream",
          "name": "stderr",
          "text": [
            "WARNING:absl:Found untraced functions such as _jit_compiled_convolution_op, _jit_compiled_convolution_op, _jit_compiled_convolution_op, _jit_compiled_convolution_op, _jit_compiled_convolution_op while saving (showing 5 of 13). These functions will not be directly callable after loading.\n"
          ]
        },
        {
          "output_type": "stream",
          "name": "stdout",
          "text": [
            "\b\b\b\b\b\b\b\b\b\b\b\b\b\b\b\b\b\b\b\b\b\b\b\b\b\b\b\b\b\b\b\b\b\b\b\b\b\b\b\b\b\b\b\b\b\b\b\b\b\b\b\b\b\b\b\b\b\b\b\b\b\b\b\b\b\b\b\b\b\b\b\b\b\b\b\b\b\b\b\r100/100 [==============================] - 21s 198ms/step - loss: 2.2518 - acc: 0.1634 - val_loss: 2.0101 - val_acc: 0.3860\n",
            "Epoch 2/1000\n",
            "100/100 [==============================] - ETA: 0s - loss: 2.0103 - acc: 0.2770\n",
            "Epoch 2: val_acc improved from 0.38604 to 0.42210, saving model to vgg16_best\n"
          ]
        },
        {
          "output_type": "stream",
          "name": "stderr",
          "text": [
            "WARNING:absl:Found untraced functions such as _jit_compiled_convolution_op, _jit_compiled_convolution_op, _jit_compiled_convolution_op, _jit_compiled_convolution_op, _jit_compiled_convolution_op while saving (showing 5 of 13). These functions will not be directly callable after loading.\n"
          ]
        },
        {
          "output_type": "stream",
          "name": "stdout",
          "text": [
            "\b\b\b\b\b\b\b\b\b\b\b\b\b\b\b\b\b\b\b\b\b\b\b\b\b\b\b\b\b\b\b\b\b\b\b\b\b\b\b\b\b\b\b\b\b\b\b\b\b\b\b\b\b\b\b\b\b\b\b\b\b\b\b\b\b\b\b\b\b\b\b\b\b\b\b\b\b\b\b\r100/100 [==============================] - 19s 192ms/step - loss: 2.0103 - acc: 0.2770 - val_loss: 1.6731 - val_acc: 0.4221\n",
            "Epoch 3/1000\n",
            "100/100 [==============================] - ETA: 0s - loss: 1.7841 - acc: 0.3507\n",
            "Epoch 3: val_acc improved from 0.42210 to 0.48906, saving model to vgg16_best\n"
          ]
        },
        {
          "output_type": "stream",
          "name": "stderr",
          "text": [
            "WARNING:absl:Found untraced functions such as _jit_compiled_convolution_op, _jit_compiled_convolution_op, _jit_compiled_convolution_op, _jit_compiled_convolution_op, _jit_compiled_convolution_op while saving (showing 5 of 13). These functions will not be directly callable after loading.\n"
          ]
        },
        {
          "output_type": "stream",
          "name": "stdout",
          "text": [
            "\b\b\b\b\b\b\b\b\b\b\b\b\b\b\b\b\b\b\b\b\b\b\b\b\b\b\b\b\b\b\b\b\b\b\b\b\b\b\b\b\b\b\b\b\b\b\b\b\b\b\b\b\b\b\b\b\b\b\b\b\b\b\b\b\b\b\b\b\b\b\b\b\b\b\b\b\b\b\b\r100/100 [==============================] - 20s 202ms/step - loss: 1.7841 - acc: 0.3507 - val_loss: 1.4813 - val_acc: 0.4891\n",
            "Epoch 4/1000\n",
            "100/100 [==============================] - ETA: 0s - loss: 1.6502 - acc: 0.3997\n",
            "Epoch 4: val_acc improved from 0.48906 to 0.51825, saving model to vgg16_best\n"
          ]
        },
        {
          "output_type": "stream",
          "name": "stderr",
          "text": [
            "WARNING:absl:Found untraced functions such as _jit_compiled_convolution_op, _jit_compiled_convolution_op, _jit_compiled_convolution_op, _jit_compiled_convolution_op, _jit_compiled_convolution_op while saving (showing 5 of 13). These functions will not be directly callable after loading.\n"
          ]
        },
        {
          "output_type": "stream",
          "name": "stdout",
          "text": [
            "\b\b\b\b\b\b\b\b\b\b\b\b\b\b\b\b\b\b\b\b\b\b\b\b\b\b\b\b\b\b\b\b\b\b\b\b\b\b\b\b\b\b\b\b\b\b\b\b\b\b\b\b\b\b\b\b\b\b\b\b\b\b\b\b\b\b\b\b\b\b\b\b\b\b\b\b\b\b\b\r100/100 [==============================] - 19s 191ms/step - loss: 1.6502 - acc: 0.3997 - val_loss: 1.3755 - val_acc: 0.5183\n",
            "Epoch 5/1000\n",
            "100/100 [==============================] - ETA: 0s - loss: 1.5480 - acc: 0.4400\n",
            "Epoch 5: val_acc improved from 0.51825 to 0.54991, saving model to vgg16_best\n"
          ]
        },
        {
          "output_type": "stream",
          "name": "stderr",
          "text": [
            "WARNING:absl:Found untraced functions such as _jit_compiled_convolution_op, _jit_compiled_convolution_op, _jit_compiled_convolution_op, _jit_compiled_convolution_op, _jit_compiled_convolution_op while saving (showing 5 of 13). These functions will not be directly callable after loading.\n"
          ]
        },
        {
          "output_type": "stream",
          "name": "stdout",
          "text": [
            "\b\b\b\b\b\b\b\b\b\b\b\b\b\b\b\b\b\b\b\b\b\b\b\b\b\b\b\b\b\b\b\b\b\b\b\b\b\b\b\b\b\b\b\b\b\b\b\b\b\b\b\b\b\b\b\b\b\b\b\b\b\b\b\b\b\b\b\b\b\b\b\b\b\b\b\b\b\b\b\r100/100 [==============================] - 19s 195ms/step - loss: 1.5480 - acc: 0.4400 - val_loss: 1.3030 - val_acc: 0.5499\n",
            "Epoch 6/1000\n",
            "100/100 [==============================] - ETA: 0s - loss: 1.4775 - acc: 0.4678\n",
            "Epoch 6: val_acc improved from 0.54991 to 0.56693, saving model to vgg16_best\n"
          ]
        },
        {
          "output_type": "stream",
          "name": "stderr",
          "text": [
            "WARNING:absl:Found untraced functions such as _jit_compiled_convolution_op, _jit_compiled_convolution_op, _jit_compiled_convolution_op, _jit_compiled_convolution_op, _jit_compiled_convolution_op while saving (showing 5 of 13). These functions will not be directly callable after loading.\n"
          ]
        },
        {
          "output_type": "stream",
          "name": "stdout",
          "text": [
            "\b\b\b\b\b\b\b\b\b\b\b\b\b\b\b\b\b\b\b\b\b\b\b\b\b\b\b\b\b\b\b\b\b\b\b\b\b\b\b\b\b\b\b\b\b\b\b\b\b\b\b\b\b\b\b\b\b\b\b\b\b\b\b\b\b\b\b\b\b\b\b\b\b\b\b\b\b\b\b\r100/100 [==============================] - 19s 189ms/step - loss: 1.4775 - acc: 0.4678 - val_loss: 1.2508 - val_acc: 0.5669\n",
            "Epoch 7/1000\n",
            "100/100 [==============================] - ETA: 0s - loss: 1.4131 - acc: 0.4952\n",
            "Epoch 7: val_acc improved from 0.56693 to 0.58178, saving model to vgg16_best\n"
          ]
        },
        {
          "output_type": "stream",
          "name": "stderr",
          "text": [
            "WARNING:absl:Found untraced functions such as _jit_compiled_convolution_op, _jit_compiled_convolution_op, _jit_compiled_convolution_op, _jit_compiled_convolution_op, _jit_compiled_convolution_op while saving (showing 5 of 13). These functions will not be directly callable after loading.\n"
          ]
        },
        {
          "output_type": "stream",
          "name": "stdout",
          "text": [
            "\b\b\b\b\b\b\b\b\b\b\b\b\b\b\b\b\b\b\b\b\b\b\b\b\b\b\b\b\b\b\b\b\b\b\b\b\b\b\b\b\b\b\b\b\b\b\b\b\b\b\b\b\b\b\b\b\b\b\b\b\b\b\b\b\b\b\b\b\b\b\b\b\b\b\b\b\b\b\b\r100/100 [==============================] - 23s 231ms/step - loss: 1.4131 - acc: 0.4952 - val_loss: 1.2095 - val_acc: 0.5818\n",
            "Epoch 8/1000\n",
            "100/100 [==============================] - ETA: 0s - loss: 1.3629 - acc: 0.5176\n",
            "Epoch 8: val_acc improved from 0.58178 to 0.59970, saving model to vgg16_best\n"
          ]
        },
        {
          "output_type": "stream",
          "name": "stderr",
          "text": [
            "WARNING:absl:Found untraced functions such as _jit_compiled_convolution_op, _jit_compiled_convolution_op, _jit_compiled_convolution_op, _jit_compiled_convolution_op, _jit_compiled_convolution_op while saving (showing 5 of 13). These functions will not be directly callable after loading.\n"
          ]
        },
        {
          "output_type": "stream",
          "name": "stdout",
          "text": [
            "\b\b\b\b\b\b\b\b\b\b\b\b\b\b\b\b\b\b\b\b\b\b\b\b\b\b\b\b\b\b\b\b\b\b\b\b\b\b\b\b\b\b\b\b\b\b\b\b\b\b\b\b\b\b\b\b\b\b\b\b\b\b\b\b\b\b\b\b\b\b\b\b\b\b\b\b\b\b\b\r100/100 [==============================] - 19s 194ms/step - loss: 1.3629 - acc: 0.5176 - val_loss: 1.1597 - val_acc: 0.5997\n",
            "Epoch 9/1000\n",
            "100/100 [==============================] - ETA: 0s - loss: 1.3284 - acc: 0.5316\n",
            "Epoch 9: val_acc improved from 0.59970 to 0.61135, saving model to vgg16_best\n"
          ]
        },
        {
          "output_type": "stream",
          "name": "stderr",
          "text": [
            "WARNING:absl:Found untraced functions such as _jit_compiled_convolution_op, _jit_compiled_convolution_op, _jit_compiled_convolution_op, _jit_compiled_convolution_op, _jit_compiled_convolution_op while saving (showing 5 of 13). These functions will not be directly callable after loading.\n"
          ]
        },
        {
          "output_type": "stream",
          "name": "stdout",
          "text": [
            "\b\b\b\b\b\b\b\b\b\b\b\b\b\b\b\b\b\b\b\b\b\b\b\b\b\b\b\b\b\b\b\b\b\b\b\b\b\b\b\b\b\b\b\b\b\b\b\b\b\b\b\b\b\b\b\b\b\b\b\b\b\b\b\b\b\b\b\b\b\b\b\b\b\b\b\b\b\b\b\r100/100 [==============================] - 19s 190ms/step - loss: 1.3284 - acc: 0.5316 - val_loss: 1.1200 - val_acc: 0.6113\n",
            "Epoch 10/1000\n",
            "100/100 [==============================] - ETA: 0s - loss: 1.2861 - acc: 0.5458\n",
            "Epoch 10: val_acc improved from 0.61135 to 0.62762, saving model to vgg16_best\n"
          ]
        },
        {
          "output_type": "stream",
          "name": "stderr",
          "text": [
            "WARNING:absl:Found untraced functions such as _jit_compiled_convolution_op, _jit_compiled_convolution_op, _jit_compiled_convolution_op, _jit_compiled_convolution_op, _jit_compiled_convolution_op while saving (showing 5 of 13). These functions will not be directly callable after loading.\n"
          ]
        },
        {
          "output_type": "stream",
          "name": "stdout",
          "text": [
            "\b\b\b\b\b\b\b\b\b\b\b\b\b\b\b\b\b\b\b\b\b\b\b\b\b\b\b\b\b\b\b\b\b\b\b\b\b\b\b\b\b\b\b\b\b\b\b\b\b\b\b\b\b\b\b\b\b\b\b\b\b\b\b\b\b\b\b\b\b\b\b\b\b\b\b\b\b\b\b\r100/100 [==============================] - 19s 195ms/step - loss: 1.2861 - acc: 0.5458 - val_loss: 1.0908 - val_acc: 0.6276\n",
            "Epoch 11/1000\n",
            "100/100 [==============================] - ETA: 0s - loss: 1.2485 - acc: 0.5606\n",
            "Epoch 11: val_acc improved from 0.62762 to 0.63785, saving model to vgg16_best\n"
          ]
        },
        {
          "output_type": "stream",
          "name": "stderr",
          "text": [
            "WARNING:absl:Found untraced functions such as _jit_compiled_convolution_op, _jit_compiled_convolution_op, _jit_compiled_convolution_op, _jit_compiled_convolution_op, _jit_compiled_convolution_op while saving (showing 5 of 13). These functions will not be directly callable after loading.\n"
          ]
        },
        {
          "output_type": "stream",
          "name": "stdout",
          "text": [
            "\b\b\b\b\b\b\b\b\b\b\b\b\b\b\b\b\b\b\b\b\b\b\b\b\b\b\b\b\b\b\b\b\b\b\b\b\b\b\b\b\b\b\b\b\b\b\b\b\b\b\b\b\b\b\b\b\b\b\b\b\b\b\b\b\b\b\b\b\b\b\b\b\b\b\b\b\b\b\b\r100/100 [==============================] - 23s 234ms/step - loss: 1.2485 - acc: 0.5606 - val_loss: 1.0600 - val_acc: 0.6378\n",
            "Epoch 12/1000\n",
            "100/100 [==============================] - ETA: 0s - loss: 1.2266 - acc: 0.5701\n",
            "Epoch 12: val_acc improved from 0.63785 to 0.64614, saving model to vgg16_best\n"
          ]
        },
        {
          "output_type": "stream",
          "name": "stderr",
          "text": [
            "WARNING:absl:Found untraced functions such as _jit_compiled_convolution_op, _jit_compiled_convolution_op, _jit_compiled_convolution_op, _jit_compiled_convolution_op, _jit_compiled_convolution_op while saving (showing 5 of 13). These functions will not be directly callable after loading.\n"
          ]
        },
        {
          "output_type": "stream",
          "name": "stdout",
          "text": [
            "\b\b\b\b\b\b\b\b\b\b\b\b\b\b\b\b\b\b\b\b\b\b\b\b\b\b\b\b\b\b\b\b\b\b\b\b\b\b\b\b\b\b\b\b\b\b\b\b\b\b\b\b\b\b\b\b\b\b\b\b\b\b\b\b\b\b\b\b\b\b\b\b\b\b\b\b\b\b\b\r100/100 [==============================] - 19s 189ms/step - loss: 1.2266 - acc: 0.5701 - val_loss: 1.0394 - val_acc: 0.6461\n",
            "Epoch 13/1000\n",
            "100/100 [==============================] - ETA: 0s - loss: 1.1999 - acc: 0.5811\n",
            "Epoch 13: val_acc improved from 0.64614 to 0.65480, saving model to vgg16_best\n"
          ]
        },
        {
          "output_type": "stream",
          "name": "stderr",
          "text": [
            "WARNING:absl:Found untraced functions such as _jit_compiled_convolution_op, _jit_compiled_convolution_op, _jit_compiled_convolution_op, _jit_compiled_convolution_op, _jit_compiled_convolution_op while saving (showing 5 of 13). These functions will not be directly callable after loading.\n"
          ]
        },
        {
          "output_type": "stream",
          "name": "stdout",
          "text": [
            "\b\b\b\b\b\b\b\b\b\b\b\b\b\b\b\b\b\b\b\b\b\b\b\b\b\b\b\b\b\b\b\b\b\b\b\b\b\b\b\b\b\b\b\b\b\b\b\b\b\b\b\b\b\b\b\b\b\b\b\b\b\b\b\b\b\b\b\b\b\b\b\b\b\b\b\b\b\b\b\r100/100 [==============================] - 19s 194ms/step - loss: 1.1999 - acc: 0.5811 - val_loss: 1.0133 - val_acc: 0.6548\n",
            "Epoch 14/1000\n",
            "100/100 [==============================] - ETA: 0s - loss: 1.1627 - acc: 0.5913\n",
            "Epoch 14: val_acc improved from 0.65480 to 0.66204, saving model to vgg16_best\n"
          ]
        },
        {
          "output_type": "stream",
          "name": "stderr",
          "text": [
            "WARNING:absl:Found untraced functions such as _jit_compiled_convolution_op, _jit_compiled_convolution_op, _jit_compiled_convolution_op, _jit_compiled_convolution_op, _jit_compiled_convolution_op while saving (showing 5 of 13). These functions will not be directly callable after loading.\n"
          ]
        },
        {
          "output_type": "stream",
          "name": "stdout",
          "text": [
            "\b\b\b\b\b\b\b\b\b\b\b\b\b\b\b\b\b\b\b\b\b\b\b\b\b\b\b\b\b\b\b\b\b\b\b\b\b\b\b\b\b\b\b\b\b\b\b\b\b\b\b\b\b\b\b\b\b\b\b\b\b\b\b\b\b\b\b\b\b\b\b\b\b\b\b\b\b\b\b\r100/100 [==============================] - 19s 190ms/step - loss: 1.1627 - acc: 0.5913 - val_loss: 0.9948 - val_acc: 0.6620\n",
            "Epoch 15/1000\n",
            "100/100 [==============================] - ETA: 0s - loss: 1.1559 - acc: 0.5968\n",
            "Epoch 15: val_acc improved from 0.66204 to 0.67100, saving model to vgg16_best\n"
          ]
        },
        {
          "output_type": "stream",
          "name": "stderr",
          "text": [
            "WARNING:absl:Found untraced functions such as _jit_compiled_convolution_op, _jit_compiled_convolution_op, _jit_compiled_convolution_op, _jit_compiled_convolution_op, _jit_compiled_convolution_op while saving (showing 5 of 13). These functions will not be directly callable after loading.\n"
          ]
        },
        {
          "output_type": "stream",
          "name": "stdout",
          "text": [
            "\b\b\b\b\b\b\b\b\b\b\b\b\b\b\b\b\b\b\b\b\b\b\b\b\b\b\b\b\b\b\b\b\b\b\b\b\b\b\b\b\b\b\b\b\b\b\b\b\b\b\b\b\b\b\b\b\b\b\b\b\b\b\b\b\b\b\b\b\b\b\b\b\b\b\b\b\b\b\b\r100/100 [==============================] - 19s 191ms/step - loss: 1.1559 - acc: 0.5968 - val_loss: 0.9722 - val_acc: 0.6710\n",
            "Epoch 16/1000\n",
            "100/100 [==============================] - ETA: 0s - loss: 1.1297 - acc: 0.6132\n",
            "Epoch 16: val_acc improved from 0.67100 to 0.67488, saving model to vgg16_best\n"
          ]
        },
        {
          "output_type": "stream",
          "name": "stderr",
          "text": [
            "WARNING:absl:Found untraced functions such as _jit_compiled_convolution_op, _jit_compiled_convolution_op, _jit_compiled_convolution_op, _jit_compiled_convolution_op, _jit_compiled_convolution_op while saving (showing 5 of 13). These functions will not be directly callable after loading.\n"
          ]
        },
        {
          "output_type": "stream",
          "name": "stdout",
          "text": [
            "\b\b\b\b\b\b\b\b\b\b\b\b\b\b\b\b\b\b\b\b\b\b\b\b\b\b\b\b\b\b\b\b\b\b\b\b\b\b\b\b\b\b\b\b\b\b\b\b\b\b\b\b\b\b\b\b\b\b\b\b\b\b\b\b\b\b\b\b\b\b\b\b\b\b\b\b\b\b\b\r100/100 [==============================] - 19s 190ms/step - loss: 1.1297 - acc: 0.6132 - val_loss: 0.9609 - val_acc: 0.6749\n",
            "Epoch 17/1000\n",
            "100/100 [==============================] - ETA: 0s - loss: 1.1147 - acc: 0.6167\n",
            "Epoch 17: val_acc improved from 0.67488 to 0.68496, saving model to vgg16_best\n"
          ]
        },
        {
          "output_type": "stream",
          "name": "stderr",
          "text": [
            "WARNING:absl:Found untraced functions such as _jit_compiled_convolution_op, _jit_compiled_convolution_op, _jit_compiled_convolution_op, _jit_compiled_convolution_op, _jit_compiled_convolution_op while saving (showing 5 of 13). These functions will not be directly callable after loading.\n"
          ]
        },
        {
          "output_type": "stream",
          "name": "stdout",
          "text": [
            "\b\b\b\b\b\b\b\b\b\b\b\b\b\b\b\b\b\b\b\b\b\b\b\b\b\b\b\b\b\b\b\b\b\b\b\b\b\b\b\b\b\b\b\b\b\b\b\b\b\b\b\b\b\b\b\b\b\b\b\b\b\b\b\b\b\b\b\b\b\b\b\b\b\b\b\b\b\b\b\r100/100 [==============================] - 19s 188ms/step - loss: 1.1147 - acc: 0.6167 - val_loss: 0.9402 - val_acc: 0.6850\n",
            "Epoch 18/1000\n",
            "100/100 [==============================] - ETA: 0s - loss: 1.0998 - acc: 0.6240\n",
            "Epoch 18: val_acc did not improve from 0.68496\n",
            "100/100 [==============================] - 20s 205ms/step - loss: 1.0998 - acc: 0.6240 - val_loss: 0.9313 - val_acc: 0.6844\n",
            "Epoch 19/1000\n",
            "100/100 [==============================] - ETA: 0s - loss: 1.0841 - acc: 0.6295\n",
            "Epoch 19: val_acc improved from 0.68496 to 0.69369, saving model to vgg16_best\n"
          ]
        },
        {
          "output_type": "stream",
          "name": "stderr",
          "text": [
            "WARNING:absl:Found untraced functions such as _jit_compiled_convolution_op, _jit_compiled_convolution_op, _jit_compiled_convolution_op, _jit_compiled_convolution_op, _jit_compiled_convolution_op while saving (showing 5 of 13). These functions will not be directly callable after loading.\n"
          ]
        },
        {
          "output_type": "stream",
          "name": "stdout",
          "text": [
            "\b\b\b\b\b\b\b\b\b\b\b\b\b\b\b\b\b\b\b\b\b\b\b\b\b\b\b\b\b\b\b\b\b\b\b\b\b\b\b\b\b\b\b\b\b\b\b\b\b\b\b\b\b\b\b\b\b\b\b\b\b\b\b\b\b\b\b\b\b\b\b\b\b\b\b\b\b\b\b\r100/100 [==============================] - 19s 190ms/step - loss: 1.0841 - acc: 0.6295 - val_loss: 0.9142 - val_acc: 0.6937\n",
            "Epoch 20/1000\n",
            "100/100 [==============================] - ETA: 0s - loss: 1.0642 - acc: 0.6375\n",
            "Epoch 20: val_acc did not improve from 0.69369\n",
            "100/100 [==============================] - 16s 163ms/step - loss: 1.0642 - acc: 0.6375 - val_loss: 0.9135 - val_acc: 0.6919\n",
            "Epoch 21/1000\n",
            "100/100 [==============================] - ETA: 0s - loss: 1.0463 - acc: 0.6429\n",
            "Epoch 21: val_acc improved from 0.69369 to 0.69877, saving model to vgg16_best\n"
          ]
        },
        {
          "output_type": "stream",
          "name": "stderr",
          "text": [
            "WARNING:absl:Found untraced functions such as _jit_compiled_convolution_op, _jit_compiled_convolution_op, _jit_compiled_convolution_op, _jit_compiled_convolution_op, _jit_compiled_convolution_op while saving (showing 5 of 13). These functions will not be directly callable after loading.\n"
          ]
        },
        {
          "output_type": "stream",
          "name": "stdout",
          "text": [
            "\b\b\b\b\b\b\b\b\b\b\b\b\b\b\b\b\b\b\b\b\b\b\b\b\b\b\b\b\b\b\b\b\b\b\b\b\b\b\b\b\b\b\b\b\b\b\b\b\b\b\b\b\b\b\b\b\b\b\b\b\b\b\b\b\b\b\b\b\b\b\b\b\b\b\b\b\b\b\b\r100/100 [==============================] - 18s 185ms/step - loss: 1.0463 - acc: 0.6429 - val_loss: 0.9031 - val_acc: 0.6988\n",
            "Epoch 22/1000\n",
            "100/100 [==============================] - ETA: 0s - loss: 1.0389 - acc: 0.6483\n",
            "Epoch 22: val_acc improved from 0.69877 to 0.70205, saving model to vgg16_best\n"
          ]
        },
        {
          "output_type": "stream",
          "name": "stderr",
          "text": [
            "WARNING:absl:Found untraced functions such as _jit_compiled_convolution_op, _jit_compiled_convolution_op, _jit_compiled_convolution_op, _jit_compiled_convolution_op, _jit_compiled_convolution_op while saving (showing 5 of 13). These functions will not be directly callable after loading.\n"
          ]
        },
        {
          "output_type": "stream",
          "name": "stdout",
          "text": [
            "\b\b\b\b\b\b\b\b\b\b\b\b\b\b\b\b\b\b\b\b\b\b\b\b\b\b\b\b\b\b\b\b\b\b\b\b\b\b\b\b\b\b\b\b\b\b\b\b\b\b\b\b\b\b\b\b\b\b\b\b\b\b\b\b\b\b\b\b\b\b\b\b\b\b\b\b\b\b\b\r100/100 [==============================] - 19s 187ms/step - loss: 1.0389 - acc: 0.6483 - val_loss: 0.8877 - val_acc: 0.7021\n",
            "Epoch 23/1000\n",
            "100/100 [==============================] - ETA: 0s - loss: 1.0268 - acc: 0.6516\n",
            "Epoch 23: val_acc improved from 0.70205 to 0.70265, saving model to vgg16_best\n"
          ]
        },
        {
          "output_type": "stream",
          "name": "stderr",
          "text": [
            "WARNING:absl:Found untraced functions such as _jit_compiled_convolution_op, _jit_compiled_convolution_op, _jit_compiled_convolution_op, _jit_compiled_convolution_op, _jit_compiled_convolution_op while saving (showing 5 of 13). These functions will not be directly callable after loading.\n"
          ]
        },
        {
          "output_type": "stream",
          "name": "stdout",
          "text": [
            "\b\b\b\b\b\b\b\b\b\b\b\b\b\b\b\b\b\b\b\b\b\b\b\b\b\b\b\b\b\b\b\b\b\b\b\b\b\b\b\b\b\b\b\b\b\b\b\b\b\b\b\b\b\b\b\b\b\b\b\b\b\b\b\b\b\b\b\b\b\b\b\b\b\b\b\b\b\b\b\r100/100 [==============================] - 18s 184ms/step - loss: 1.0268 - acc: 0.6516 - val_loss: 0.8822 - val_acc: 0.7027\n",
            "Epoch 24/1000\n",
            "100/100 [==============================] - ETA: 0s - loss: 1.0224 - acc: 0.6529\n",
            "Epoch 24: val_acc improved from 0.70265 to 0.70810, saving model to vgg16_best\n"
          ]
        },
        {
          "output_type": "stream",
          "name": "stderr",
          "text": [
            "WARNING:absl:Found untraced functions such as _jit_compiled_convolution_op, _jit_compiled_convolution_op, _jit_compiled_convolution_op, _jit_compiled_convolution_op, _jit_compiled_convolution_op while saving (showing 5 of 13). These functions will not be directly callable after loading.\n"
          ]
        },
        {
          "output_type": "stream",
          "name": "stdout",
          "text": [
            "\b\b\b\b\b\b\b\b\b\b\b\b\b\b\b\b\b\b\b\b\b\b\b\b\b\b\b\b\b\b\b\b\b\b\b\b\b\b\b\b\b\b\b\b\b\b\b\b\b\b\b\b\b\b\b\b\b\b\b\b\b\b\b\b\b\b\b\b\b\b\b\b\b\b\b\b\b\b\b\r100/100 [==============================] - 19s 186ms/step - loss: 1.0224 - acc: 0.6529 - val_loss: 0.8707 - val_acc: 0.7081\n",
            "Epoch 25/1000\n",
            "100/100 [==============================] - ETA: 0s - loss: 1.0093 - acc: 0.6625\n",
            "Epoch 25: val_acc improved from 0.70810 to 0.70997, saving model to vgg16_best\n"
          ]
        },
        {
          "output_type": "stream",
          "name": "stderr",
          "text": [
            "WARNING:absl:Found untraced functions such as _jit_compiled_convolution_op, _jit_compiled_convolution_op, _jit_compiled_convolution_op, _jit_compiled_convolution_op, _jit_compiled_convolution_op while saving (showing 5 of 13). These functions will not be directly callable after loading.\n"
          ]
        },
        {
          "output_type": "stream",
          "name": "stdout",
          "text": [
            "\b\b\b\b\b\b\b\b\b\b\b\b\b\b\b\b\b\b\b\b\b\b\b\b\b\b\b\b\b\b\b\b\b\b\b\b\b\b\b\b\b\b\b\b\b\b\b\b\b\b\b\b\b\b\b\b\b\b\b\b\b\b\b\b\b\b\b\b\b\b\b\b\b\b\b\b\b\b\b\r100/100 [==============================] - 19s 189ms/step - loss: 1.0093 - acc: 0.6625 - val_loss: 0.8623 - val_acc: 0.7100\n",
            "Epoch 26/1000\n",
            "100/100 [==============================] - ETA: 0s - loss: 0.9940 - acc: 0.6646\n",
            "Epoch 26: val_acc improved from 0.70997 to 0.71445, saving model to vgg16_best\n"
          ]
        },
        {
          "output_type": "stream",
          "name": "stderr",
          "text": [
            "WARNING:absl:Found untraced functions such as _jit_compiled_convolution_op, _jit_compiled_convolution_op, _jit_compiled_convolution_op, _jit_compiled_convolution_op, _jit_compiled_convolution_op while saving (showing 5 of 13). These functions will not be directly callable after loading.\n"
          ]
        },
        {
          "output_type": "stream",
          "name": "stdout",
          "text": [
            "\b\b\b\b\b\b\b\b\b\b\b\b\b\b\b\b\b\b\b\b\b\b\b\b\b\b\b\b\b\b\b\b\b\b\b\b\b\b\b\b\b\b\b\b\b\b\b\b\b\b\b\b\b\b\b\b\b\b\b\b\b\b\b\b\b\b\b\b\b\b\b\b\b\b\b\b\b\b\b\r100/100 [==============================] - 18s 183ms/step - loss: 0.9940 - acc: 0.6646 - val_loss: 0.8563 - val_acc: 0.7144\n",
            "Epoch 27/1000\n",
            "100/100 [==============================] - ETA: 0s - loss: 0.9917 - acc: 0.6652\n",
            "Epoch 27: val_acc improved from 0.71445 to 0.71975, saving model to vgg16_best\n"
          ]
        },
        {
          "output_type": "stream",
          "name": "stderr",
          "text": [
            "WARNING:absl:Found untraced functions such as _jit_compiled_convolution_op, _jit_compiled_convolution_op, _jit_compiled_convolution_op, _jit_compiled_convolution_op, _jit_compiled_convolution_op while saving (showing 5 of 13). These functions will not be directly callable after loading.\n"
          ]
        },
        {
          "output_type": "stream",
          "name": "stdout",
          "text": [
            "\b\b\b\b\b\b\b\b\b\b\b\b\b\b\b\b\b\b\b\b\b\b\b\b\b\b\b\b\b\b\b\b\b\b\b\b\b\b\b\b\b\b\b\b\b\b\b\b\b\b\b\b\b\b\b\b\b\b\b\b\b\b\b\b\b\b\b\b\b\b\b\b\b\b\b\b\b\b\b\r100/100 [==============================] - 18s 185ms/step - loss: 0.9917 - acc: 0.6652 - val_loss: 0.8417 - val_acc: 0.7197\n",
            "Epoch 28/1000\n",
            "100/100 [==============================] - ETA: 0s - loss: 0.9853 - acc: 0.6669\n",
            "Epoch 28: val_acc did not improve from 0.71975\n",
            "100/100 [==============================] - 16s 156ms/step - loss: 0.9853 - acc: 0.6669 - val_loss: 0.8451 - val_acc: 0.7156\n",
            "Epoch 29/1000\n",
            "100/100 [==============================] - ETA: 0s - loss: 0.9724 - acc: 0.6683\n",
            "Epoch 29: val_acc improved from 0.71975 to 0.72019, saving model to vgg16_best\n"
          ]
        },
        {
          "output_type": "stream",
          "name": "stderr",
          "text": [
            "WARNING:absl:Found untraced functions such as _jit_compiled_convolution_op, _jit_compiled_convolution_op, _jit_compiled_convolution_op, _jit_compiled_convolution_op, _jit_compiled_convolution_op while saving (showing 5 of 13). These functions will not be directly callable after loading.\n"
          ]
        },
        {
          "output_type": "stream",
          "name": "stdout",
          "text": [
            "\b\b\b\b\b\b\b\b\b\b\b\b\b\b\b\b\b\b\b\b\b\b\b\b\b\b\b\b\b\b\b\b\b\b\b\b\b\b\b\b\b\b\b\b\b\b\b\b\b\b\b\b\b\b\b\b\b\b\b\b\b\b\b\b\b\b\b\b\b\b\b\b\b\b\b\b\b\b\b\r100/100 [==============================] - 18s 183ms/step - loss: 0.9724 - acc: 0.6683 - val_loss: 0.8367 - val_acc: 0.7202\n",
            "Epoch 30/1000\n",
            "100/100 [==============================] - ETA: 0s - loss: 0.9670 - acc: 0.6735\n",
            "Epoch 30: val_acc improved from 0.72019 to 0.72475, saving model to vgg16_best\n"
          ]
        },
        {
          "output_type": "stream",
          "name": "stderr",
          "text": [
            "WARNING:absl:Found untraced functions such as _jit_compiled_convolution_op, _jit_compiled_convolution_op, _jit_compiled_convolution_op, _jit_compiled_convolution_op, _jit_compiled_convolution_op while saving (showing 5 of 13). These functions will not be directly callable after loading.\n"
          ]
        },
        {
          "output_type": "stream",
          "name": "stdout",
          "text": [
            "\b\b\b\b\b\b\b\b\b\b\b\b\b\b\b\b\b\b\b\b\b\b\b\b\b\b\b\b\b\b\b\b\b\b\b\b\b\b\b\b\b\b\b\b\b\b\b\b\b\b\b\b\b\b\b\b\b\b\b\b\b\b\b\b\b\b\b\b\b\b\b\b\b\b\b\b\b\b\b\r100/100 [==============================] - 22s 224ms/step - loss: 0.9670 - acc: 0.6735 - val_loss: 0.8274 - val_acc: 0.7247\n",
            "Epoch 31/1000\n",
            "100/100 [==============================] - ETA: 0s - loss: 0.9515 - acc: 0.6820\n",
            "Epoch 31: val_acc improved from 0.72475 to 0.72557, saving model to vgg16_best\n"
          ]
        },
        {
          "output_type": "stream",
          "name": "stderr",
          "text": [
            "WARNING:absl:Found untraced functions such as _jit_compiled_convolution_op, _jit_compiled_convolution_op, _jit_compiled_convolution_op, _jit_compiled_convolution_op, _jit_compiled_convolution_op while saving (showing 5 of 13). These functions will not be directly callable after loading.\n"
          ]
        },
        {
          "output_type": "stream",
          "name": "stdout",
          "text": [
            "\b\b\b\b\b\b\b\b\b\b\b\b\b\b\b\b\b\b\b\b\b\b\b\b\b\b\b\b\b\b\b\b\b\b\b\b\b\b\b\b\b\b\b\b\b\b\b\b\b\b\b\b\b\b\b\b\b\b\b\b\b\b\b\b\b\b\b\b\b\b\b\b\b\b\b\b\b\b\b\r100/100 [==============================] - 19s 188ms/step - loss: 0.9515 - acc: 0.6820 - val_loss: 0.8227 - val_acc: 0.7256\n",
            "Epoch 32/1000\n",
            "100/100 [==============================] - ETA: 0s - loss: 0.9503 - acc: 0.6787\n",
            "Epoch 32: val_acc did not improve from 0.72557\n",
            "100/100 [==============================] - 16s 161ms/step - loss: 0.9503 - acc: 0.6787 - val_loss: 0.8214 - val_acc: 0.7244\n",
            "Epoch 33/1000\n",
            "100/100 [==============================] - ETA: 0s - loss: 0.9319 - acc: 0.6841\n",
            "Epoch 33: val_acc improved from 0.72557 to 0.73057, saving model to vgg16_best\n"
          ]
        },
        {
          "output_type": "stream",
          "name": "stderr",
          "text": [
            "WARNING:absl:Found untraced functions such as _jit_compiled_convolution_op, _jit_compiled_convolution_op, _jit_compiled_convolution_op, _jit_compiled_convolution_op, _jit_compiled_convolution_op while saving (showing 5 of 13). These functions will not be directly callable after loading.\n"
          ]
        },
        {
          "output_type": "stream",
          "name": "stdout",
          "text": [
            "\b\b\b\b\b\b\b\b\b\b\b\b\b\b\b\b\b\b\b\b\b\b\b\b\b\b\b\b\b\b\b\b\b\b\b\b\b\b\b\b\b\b\b\b\b\b\b\b\b\b\b\b\b\b\b\b\b\b\b\b\b\b\b\b\b\b\b\b\b\b\b\b\b\b\b\b\b\b\b\r100/100 [==============================] - 18s 183ms/step - loss: 0.9319 - acc: 0.6841 - val_loss: 0.8155 - val_acc: 0.7306\n",
            "Epoch 34/1000\n",
            "100/100 [==============================] - ETA: 0s - loss: 0.9295 - acc: 0.6856\n",
            "Epoch 34: val_acc did not improve from 0.73057\n",
            "100/100 [==============================] - 16s 162ms/step - loss: 0.9295 - acc: 0.6856 - val_loss: 0.8280 - val_acc: 0.7250\n",
            "Epoch 35/1000\n",
            "100/100 [==============================] - ETA: 0s - loss: 0.9173 - acc: 0.6899\n",
            "Epoch 35: val_acc improved from 0.73057 to 0.73154, saving model to vgg16_best\n"
          ]
        },
        {
          "output_type": "stream",
          "name": "stderr",
          "text": [
            "WARNING:absl:Found untraced functions such as _jit_compiled_convolution_op, _jit_compiled_convolution_op, _jit_compiled_convolution_op, _jit_compiled_convolution_op, _jit_compiled_convolution_op while saving (showing 5 of 13). These functions will not be directly callable after loading.\n"
          ]
        },
        {
          "output_type": "stream",
          "name": "stdout",
          "text": [
            "\b\b\b\b\b\b\b\b\b\b\b\b\b\b\b\b\b\b\b\b\b\b\b\b\b\b\b\b\b\b\b\b\b\b\b\b\b\b\b\b\b\b\b\b\b\b\b\b\b\b\b\b\b\b\b\b\b\b\b\b\b\b\b\b\b\b\b\b\b\b\b\b\b\b\b\b\b\b\b\r100/100 [==============================] - 18s 184ms/step - loss: 0.9173 - acc: 0.6899 - val_loss: 0.8070 - val_acc: 0.7315\n",
            "Epoch 36/1000\n",
            "100/100 [==============================] - ETA: 0s - loss: 0.9193 - acc: 0.6922\n",
            "Epoch 36: val_acc did not improve from 0.73154\n",
            "100/100 [==============================] - 16s 160ms/step - loss: 0.9193 - acc: 0.6922 - val_loss: 0.8120 - val_acc: 0.7289\n",
            "Epoch 37/1000\n",
            "100/100 [==============================] - ETA: 0s - loss: 0.9158 - acc: 0.6933\n",
            "Epoch 37: val_acc improved from 0.73154 to 0.73259, saving model to vgg16_best\n"
          ]
        },
        {
          "output_type": "stream",
          "name": "stderr",
          "text": [
            "WARNING:absl:Found untraced functions such as _jit_compiled_convolution_op, _jit_compiled_convolution_op, _jit_compiled_convolution_op, _jit_compiled_convolution_op, _jit_compiled_convolution_op while saving (showing 5 of 13). These functions will not be directly callable after loading.\n"
          ]
        },
        {
          "output_type": "stream",
          "name": "stdout",
          "text": [
            "\b\b\b\b\b\b\b\b\b\b\b\b\b\b\b\b\b\b\b\b\b\b\b\b\b\b\b\b\b\b\b\b\b\b\b\b\b\b\b\b\b\b\b\b\b\b\b\b\b\b\b\b\b\b\b\b\b\b\b\b\b\b\b\b\b\b\b\b\b\b\b\b\b\b\b\b\b\b\b\r100/100 [==============================] - 18s 184ms/step - loss: 0.9158 - acc: 0.6933 - val_loss: 0.7999 - val_acc: 0.7326\n",
            "Epoch 38/1000\n",
            "100/100 [==============================] - ETA: 0s - loss: 0.9089 - acc: 0.6967\n",
            "Epoch 38: val_acc improved from 0.73259 to 0.73303, saving model to vgg16_best\n"
          ]
        },
        {
          "output_type": "stream",
          "name": "stderr",
          "text": [
            "WARNING:absl:Found untraced functions such as _jit_compiled_convolution_op, _jit_compiled_convolution_op, _jit_compiled_convolution_op, _jit_compiled_convolution_op, _jit_compiled_convolution_op while saving (showing 5 of 13). These functions will not be directly callable after loading.\n"
          ]
        },
        {
          "output_type": "stream",
          "name": "stdout",
          "text": [
            "\b\b\b\b\b\b\b\b\b\b\b\b\b\b\b\b\b\b\b\b\b\b\b\b\b\b\b\b\b\b\b\b\b\b\b\b\b\b\b\b\b\b\b\b\b\b\b\b\b\b\b\b\b\b\b\b\b\b\b\b\b\b\b\b\b\b\b\b\b\b\b\b\b\b\b\b\b\b\b\r100/100 [==============================] - 19s 186ms/step - loss: 0.9089 - acc: 0.6967 - val_loss: 0.7967 - val_acc: 0.7330\n",
            "Epoch 39/1000\n",
            "100/100 [==============================] - ETA: 0s - loss: 0.9124 - acc: 0.6918\n",
            "Epoch 39: val_acc improved from 0.73303 to 0.73729, saving model to vgg16_best\n"
          ]
        },
        {
          "output_type": "stream",
          "name": "stderr",
          "text": [
            "WARNING:absl:Found untraced functions such as _jit_compiled_convolution_op, _jit_compiled_convolution_op, _jit_compiled_convolution_op, _jit_compiled_convolution_op, _jit_compiled_convolution_op while saving (showing 5 of 13). These functions will not be directly callable after loading.\n"
          ]
        },
        {
          "output_type": "stream",
          "name": "stdout",
          "text": [
            "\b\b\b\b\b\b\b\b\b\b\b\b\b\b\b\b\b\b\b\b\b\b\b\b\b\b\b\b\b\b\b\b\b\b\b\b\b\b\b\b\b\b\b\b\b\b\b\b\b\b\b\b\b\b\b\b\b\b\b\b\b\b\b\b\b\b\b\b\b\b\b\b\b\b\b\b\b\b\b\r100/100 [==============================] - 18s 184ms/step - loss: 0.9124 - acc: 0.6918 - val_loss: 0.7949 - val_acc: 0.7373\n",
            "Epoch 40/1000\n",
            "100/100 [==============================] - ETA: 0s - loss: 0.9100 - acc: 0.6952\n",
            "Epoch 40: val_acc improved from 0.73729 to 0.74013, saving model to vgg16_best\n"
          ]
        },
        {
          "output_type": "stream",
          "name": "stderr",
          "text": [
            "WARNING:absl:Found untraced functions such as _jit_compiled_convolution_op, _jit_compiled_convolution_op, _jit_compiled_convolution_op, _jit_compiled_convolution_op, _jit_compiled_convolution_op while saving (showing 5 of 13). These functions will not be directly callable after loading.\n"
          ]
        },
        {
          "output_type": "stream",
          "name": "stdout",
          "text": [
            "\b\b\b\b\b\b\b\b\b\b\b\b\b\b\b\b\b\b\b\b\b\b\b\b\b\b\b\b\b\b\b\b\b\b\b\b\b\b\b\b\b\b\b\b\b\b\b\b\b\b\b\b\b\b\b\b\b\b\b\b\b\b\b\b\b\b\b\b\b\b\b\b\b\b\b\b\b\b\b\r100/100 [==============================] - 18s 182ms/step - loss: 0.9100 - acc: 0.6952 - val_loss: 0.7835 - val_acc: 0.7401\n",
            "Epoch 41/1000\n",
            "100/100 [==============================] - ETA: 0s - loss: 0.9062 - acc: 0.6981\n",
            "Epoch 41: val_acc did not improve from 0.74013\n",
            "100/100 [==============================] - 16s 159ms/step - loss: 0.9062 - acc: 0.6981 - val_loss: 0.7894 - val_acc: 0.7360\n",
            "Epoch 42/1000\n",
            "100/100 [==============================] - ETA: 0s - loss: 0.8808 - acc: 0.7059\n",
            "Epoch 42: val_acc did not improve from 0.74013\n",
            "100/100 [==============================] - 20s 199ms/step - loss: 0.8808 - acc: 0.7059 - val_loss: 0.7847 - val_acc: 0.7401\n",
            "Epoch 43/1000\n",
            "100/100 [==============================] - ETA: 0s - loss: 0.8980 - acc: 0.6990\n",
            "Epoch 43: val_acc did not improve from 0.74013\n",
            "100/100 [==============================] - 16s 158ms/step - loss: 0.8980 - acc: 0.6990 - val_loss: 0.7829 - val_acc: 0.7398\n",
            "Epoch 44/1000\n",
            "100/100 [==============================] - ETA: 0s - loss: 0.8816 - acc: 0.7071\n",
            "Epoch 44: val_acc did not improve from 0.74013\n",
            "100/100 [==============================] - 16s 157ms/step - loss: 0.8816 - acc: 0.7071 - val_loss: 0.7803 - val_acc: 0.7389\n",
            "Epoch 45/1000\n",
            "100/100 [==============================] - ETA: 0s - loss: 0.8660 - acc: 0.7126\n",
            "Epoch 45: val_acc did not improve from 0.74013\n",
            "100/100 [==============================] - 16s 158ms/step - loss: 0.8660 - acc: 0.7126 - val_loss: 0.7745 - val_acc: 0.7401\n",
            "Epoch 45: early stopping\n"
          ]
        }
      ],
      "source": [
        "checkpoint = ModelCheckpoint(\"vgg16_best\", monitor='val_acc', verbose=1, save_best_only=True, save_weights_only=False, mode='max', period=1)\n",
        "early = EarlyStopping(monitor='val_acc', min_delta=0, patience=5, verbose=1, mode='max') #5 ตัวไม่ดีขึ้นก็หยุด\n",
        "vgghist = model.fit(train_generator, validation_data = validation_generator, steps_per_epoch = 100, epochs = 1000, callbacks=[checkpoint,early])"
      ]
    },
    {
      "cell_type": "markdown",
      "metadata": {
        "id": "BrkVbXDZpoE8"
      },
      "source": [
        "**Load Best Model**"
      ]
    },
    {
      "cell_type": "code",
      "execution_count": null,
      "metadata": {
        "id": "kyja1x3Apc9a",
        "colab": {
          "base_uri": "https://localhost:8080/"
        },
        "outputId": "27a08c12-223a-48a4-d9e7-3a7003c78d4c"
      },
      "outputs": [
        {
          "output_type": "stream",
          "name": "stdout",
          "text": [
            "87/87 [==============================] - 9s 101ms/step\n",
            "100% 233k/233k [00:00<00:00, 262kB/s]\n",
            "Successfully submitted to Hackathon Online: Image Processing"
          ]
        }
      ],
      "source": [
        "model_best = keras.models.load_model('/content/vgg16_best')\n",
        "\n",
        "pred = model_best.predict(test_generator)\n",
        "pred = np.argmax(pred, axis=1)\n",
        "\n",
        "sub = df_test[['imageid_boxid', 'class']].copy()\n",
        "sub['class'] = pred\n",
        "sub.to_csv('VGG16.csv', index=False)\n",
        "!kaggle competitions submit -c hackathon-online-2022-image-processing -f 'VGG16.csv'  -m 'VGG16.csv'"
      ]
    },
    {
      "cell_type": "code",
      "execution_count": null,
      "metadata": {
        "id": "mTJCnrY0EdYC",
        "colab": {
          "base_uri": "https://localhost:8080/"
        },
        "outputId": "95797eb8-2c49-4be7-bb65-b368374da45c"
      },
      "outputs": [
        {
          "output_type": "stream",
          "name": "stdout",
          "text": [
            "87/87 [==============================] - 9s 102ms/step\n"
          ]
        }
      ],
      "source": [
        "pred = model_best.predict(test_generator)\n",
        "pred = np.argmax(pred, axis=1)"
      ]
    },
    {
      "cell_type": "code",
      "execution_count": null,
      "metadata": {
        "id": "X4A7EWNEJFkD",
        "colab": {
          "base_uri": "https://localhost:8080/"
        },
        "outputId": "1695d3ae-b0f3-4ac0-a6d8-c6256b8cbf6d"
      },
      "outputs": [
        {
          "output_type": "stream",
          "name": "stdout",
          "text": [
            "100% 233k/233k [00:00<00:00, 265kB/s]\n",
            "Successfully submitted to Hackathon Online: Image Processing"
          ]
        }
      ],
      "source": [
        "sub = df_test[['imageid_boxid', 'class']].copy()\n",
        "sub['class'] = pred\n",
        "sub.to_csv('VGG16.csv', index=False)\n",
        "!kaggle competitions submit -c hackathon-online-2022-image-processing -f 'VGG16.csv'  -m 'VGG16.csv'"
      ]
    },
    {
      "cell_type": "markdown",
      "source": [
        "**Before Finetune**\n",
        "![image.png](data:image/png;base64,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)"
      ],
      "metadata": {
        "id": "EJf9-HB-JlqH"
      }
    },
    {
      "cell_type": "markdown",
      "metadata": {
        "id": "_pbs9goAY5hJ"
      },
      "source": [
        "**Finetune**"
      ]
    },
    {
      "cell_type": "code",
      "source": [
        "# Unfreeze the base model\n",
        "base_model.trainable = True\n",
        "\n",
        "#Everytime you Unfreeze call compile please\n",
        "model.compile(optimizer = tf.keras.optimizers.RMSprop(lr=0.0001), loss = 'sparse_categorical_crossentropy',metrics = ['acc'])\n",
        "\n",
        "vgghist = model.fit(train_generator, validation_data = validation_generator, steps_per_epoch = 100, epochs = 1000, callbacks=[checkpoint,early])"
      ],
      "metadata": {
        "colab": {
          "base_uri": "https://localhost:8080/"
        },
        "id": "lIB5wENKbeNS",
        "outputId": "05c2de2f-042f-4e1c-ae12-139e3afec642"
      },
      "execution_count": null,
      "outputs": [
        {
          "output_type": "stream",
          "name": "stdout",
          "text": [
            "Epoch 1/1000\n"
          ]
        },
        {
          "output_type": "stream",
          "name": "stderr",
          "text": [
            "/usr/local/lib/python3.8/dist-packages/keras/optimizers/optimizer_v2/rmsprop.py:135: UserWarning: The `lr` argument is deprecated, use `learning_rate` instead.\n",
            "  super(RMSprop, self).__init__(name, **kwargs)\n"
          ]
        },
        {
          "output_type": "stream",
          "name": "stdout",
          "text": [
            "100/100 [==============================] - ETA: 0s - loss: 1.5101 - acc: 0.5719\n",
            "Epoch 1: val_acc improved from 0.74013 to 0.84166, saving model to vgg16_best\n"
          ]
        },
        {
          "output_type": "stream",
          "name": "stderr",
          "text": [
            "WARNING:absl:Found untraced functions such as _jit_compiled_convolution_op, _jit_compiled_convolution_op, _jit_compiled_convolution_op, _jit_compiled_convolution_op, _jit_compiled_convolution_op while saving (showing 5 of 13). These functions will not be directly callable after loading.\n"
          ]
        },
        {
          "output_type": "stream",
          "name": "stdout",
          "text": [
            "\b\b\b\b\b\b\b\b\b\b\b\b\b\b\b\b\b\b\b\b\b\b\b\b\b\b\b\b\b\b\b\b\b\b\b\b\b\b\b\b\b\b\b\b\b\b\b\b\b\b\b\b\b\b\b\b\b\b\b\b\b\b\b\b\b\b\b\b\b\b\b\b\b\b\b\b\b\b\b\r100/100 [==============================] - 26s 209ms/step - loss: 1.5101 - acc: 0.5719 - val_loss: 0.5282 - val_acc: 0.8417\n",
            "Epoch 2/1000\n",
            "100/100 [==============================] - ETA: 0s - loss: 0.5495 - acc: 0.8425\n",
            "Epoch 2: val_acc improved from 0.84166 to 0.88346, saving model to vgg16_best\n"
          ]
        },
        {
          "output_type": "stream",
          "name": "stderr",
          "text": [
            "WARNING:absl:Found untraced functions such as _jit_compiled_convolution_op, _jit_compiled_convolution_op, _jit_compiled_convolution_op, _jit_compiled_convolution_op, _jit_compiled_convolution_op while saving (showing 5 of 13). These functions will not be directly callable after loading.\n"
          ]
        },
        {
          "output_type": "stream",
          "name": "stdout",
          "text": [
            "\b\b\b\b\b\b\b\b\b\b\b\b\b\b\b\b\b\b\b\b\b\b\b\b\b\b\b\b\b\b\b\b\b\b\b\b\b\b\b\b\b\b\b\b\b\b\b\b\b\b\b\b\b\b\b\b\b\b\b\b\b\b\b\b\b\b\b\b\b\b\b\b\b\b\b\b\b\b\b\r100/100 [==============================] - 21s 205ms/step - loss: 0.5495 - acc: 0.8425 - val_loss: 0.4160 - val_acc: 0.8835\n",
            "Epoch 3/1000\n",
            "100/100 [==============================] - ETA: 0s - loss: 0.4115 - acc: 0.8869\n",
            "Epoch 3: val_acc did not improve from 0.88346\n",
            "100/100 [==============================] - 19s 194ms/step - loss: 0.4115 - acc: 0.8869 - val_loss: 0.4817 - val_acc: 0.8676\n",
            "Epoch 4/1000\n",
            "100/100 [==============================] - ETA: 0s - loss: 0.3386 - acc: 0.9097\n",
            "Epoch 4: val_acc improved from 0.88346 to 0.92109, saving model to vgg16_best\n"
          ]
        },
        {
          "output_type": "stream",
          "name": "stderr",
          "text": [
            "WARNING:absl:Found untraced functions such as _jit_compiled_convolution_op, _jit_compiled_convolution_op, _jit_compiled_convolution_op, _jit_compiled_convolution_op, _jit_compiled_convolution_op while saving (showing 5 of 13). These functions will not be directly callable after loading.\n"
          ]
        },
        {
          "output_type": "stream",
          "name": "stdout",
          "text": [
            "\b\b\b\b\b\b\b\b\b\b\b\b\b\b\b\b\b\b\b\b\b\b\b\b\b\b\b\b\b\b\b\b\b\b\b\b\b\b\b\b\b\b\b\b\b\b\b\b\b\b\b\b\b\b\b\b\b\b\b\b\b\b\b\b\b\b\b\b\b\b\b\b\b\b\b\b\b\b\b\r100/100 [==============================] - 21s 204ms/step - loss: 0.3386 - acc: 0.9097 - val_loss: 0.3091 - val_acc: 0.9211\n",
            "Epoch 5/1000\n",
            "100/100 [==============================] - ETA: 0s - loss: 0.3044 - acc: 0.9189\n",
            "Epoch 5: val_acc did not improve from 0.92109\n",
            "100/100 [==============================] - 28s 282ms/step - loss: 0.3044 - acc: 0.9189 - val_loss: 0.3351 - val_acc: 0.9127\n",
            "Epoch 6/1000\n",
            "100/100 [==============================] - ETA: 0s - loss: 0.2734 - acc: 0.9294\n",
            "Epoch 6: val_acc did not improve from 0.92109\n",
            "100/100 [==============================] - 22s 217ms/step - loss: 0.2734 - acc: 0.9294 - val_loss: 0.4306 - val_acc: 0.8847\n",
            "Epoch 7/1000\n",
            "100/100 [==============================] - ETA: 0s - loss: 0.2466 - acc: 0.9380\n",
            "Epoch 7: val_acc improved from 0.92109 to 0.92602, saving model to vgg16_best\n"
          ]
        },
        {
          "output_type": "stream",
          "name": "stderr",
          "text": [
            "WARNING:absl:Found untraced functions such as _jit_compiled_convolution_op, _jit_compiled_convolution_op, _jit_compiled_convolution_op, _jit_compiled_convolution_op, _jit_compiled_convolution_op while saving (showing 5 of 13). These functions will not be directly callable after loading.\n"
          ]
        },
        {
          "output_type": "stream",
          "name": "stdout",
          "text": [
            "\b\b\b\b\b\b\b\b\b\b\b\b\b\b\b\b\b\b\b\b\b\b\b\b\b\b\b\b\b\b\b\b\b\b\b\b\b\b\b\b\b\b\b\b\b\b\b\b\b\b\b\b\b\b\b\b\b\b\b\b\b\b\b\b\b\b\b\b\b\b\b\b\b\b\b\b\b\b\b\r100/100 [==============================] - 23s 233ms/step - loss: 0.2466 - acc: 0.9380 - val_loss: 0.2908 - val_acc: 0.9260\n",
            "Epoch 8/1000\n",
            "100/100 [==============================] - ETA: 0s - loss: 0.2261 - acc: 0.9426\n",
            "Epoch 8: val_acc improved from 0.92602 to 0.93214, saving model to vgg16_best\n"
          ]
        },
        {
          "output_type": "stream",
          "name": "stderr",
          "text": [
            "WARNING:absl:Found untraced functions such as _jit_compiled_convolution_op, _jit_compiled_convolution_op, _jit_compiled_convolution_op, _jit_compiled_convolution_op, _jit_compiled_convolution_op while saving (showing 5 of 13). These functions will not be directly callable after loading.\n"
          ]
        },
        {
          "output_type": "stream",
          "name": "stdout",
          "text": [
            "\b\b\b\b\b\b\b\b\b\b\b\b\b\b\b\b\b\b\b\b\b\b\b\b\b\b\b\b\b\b\b\b\b\b\b\b\b\b\b\b\b\b\b\b\b\b\b\b\b\b\b\b\b\b\b\b\b\b\b\b\b\b\b\b\b\b\b\b\b\b\b\b\b\b\b\b\b\b\b\r100/100 [==============================] - 21s 206ms/step - loss: 0.2261 - acc: 0.9426 - val_loss: 0.2820 - val_acc: 0.9321\n",
            "Epoch 9/1000\n",
            "100/100 [==============================] - ETA: 0s - loss: 0.2103 - acc: 0.9462\n",
            "Epoch 9: val_acc improved from 0.93214 to 0.93438, saving model to vgg16_best\n"
          ]
        },
        {
          "output_type": "stream",
          "name": "stderr",
          "text": [
            "WARNING:absl:Found untraced functions such as _jit_compiled_convolution_op, _jit_compiled_convolution_op, _jit_compiled_convolution_op, _jit_compiled_convolution_op, _jit_compiled_convolution_op while saving (showing 5 of 13). These functions will not be directly callable after loading.\n"
          ]
        },
        {
          "output_type": "stream",
          "name": "stdout",
          "text": [
            "\b\b\b\b\b\b\b\b\b\b\b\b\b\b\b\b\b\b\b\b\b\b\b\b\b\b\b\b\b\b\b\b\b\b\b\b\b\b\b\b\b\b\b\b\b\b\b\b\b\b\b\b\b\b\b\b\b\b\b\b\b\b\b\b\b\b\b\b\b\b\b\b\b\b\b\b\b\b\b\r100/100 [==============================] - 22s 221ms/step - loss: 0.2103 - acc: 0.9462 - val_loss: 0.2836 - val_acc: 0.9344\n",
            "Epoch 10/1000\n",
            "100/100 [==============================] - ETA: 0s - loss: 0.2005 - acc: 0.9498\n",
            "Epoch 10: val_acc did not improve from 0.93438\n",
            "100/100 [==============================] - 19s 191ms/step - loss: 0.2005 - acc: 0.9498 - val_loss: 0.3012 - val_acc: 0.9312\n",
            "Epoch 11/1000\n",
            "100/100 [==============================] - ETA: 0s - loss: 0.1935 - acc: 0.9513\n",
            "Epoch 11: val_acc did not improve from 0.93438\n",
            "100/100 [==============================] - 18s 178ms/step - loss: 0.1935 - acc: 0.9513 - val_loss: 0.3082 - val_acc: 0.9253\n",
            "Epoch 12/1000\n",
            "100/100 [==============================] - ETA: 0s - loss: 0.1859 - acc: 0.9552\n",
            "Epoch 12: val_acc did not improve from 0.93438\n",
            "100/100 [==============================] - 18s 175ms/step - loss: 0.1859 - acc: 0.9552 - val_loss: 0.4612 - val_acc: 0.8782\n",
            "Epoch 13/1000\n",
            "100/100 [==============================] - ETA: 0s - loss: 0.1708 - acc: 0.9580\n",
            "Epoch 13: val_acc improved from 0.93438 to 0.93848, saving model to vgg16_best\n"
          ]
        },
        {
          "output_type": "stream",
          "name": "stderr",
          "text": [
            "WARNING:absl:Found untraced functions such as _jit_compiled_convolution_op, _jit_compiled_convolution_op, _jit_compiled_convolution_op, _jit_compiled_convolution_op, _jit_compiled_convolution_op while saving (showing 5 of 13). These functions will not be directly callable after loading.\n"
          ]
        },
        {
          "output_type": "stream",
          "name": "stdout",
          "text": [
            "\b\b\b\b\b\b\b\b\b\b\b\b\b\b\b\b\b\b\b\b\b\b\b\b\b\b\b\b\b\b\b\b\b\b\b\b\b\b\b\b\b\b\b\b\b\b\b\b\b\b\b\b\b\b\b\b\b\b\b\b\b\b\b\b\b\b\b\b\b\b\b\b\b\b\b\b\b\b\b\r100/100 [==============================] - 24s 244ms/step - loss: 0.1708 - acc: 0.9580 - val_loss: 0.2786 - val_acc: 0.9385\n",
            "Epoch 14/1000\n",
            "100/100 [==============================] - ETA: 0s - loss: 0.1519 - acc: 0.9636\n",
            "Epoch 14: val_acc did not improve from 0.93848\n",
            "100/100 [==============================] - 20s 201ms/step - loss: 0.1519 - acc: 0.9636 - val_loss: 0.3048 - val_acc: 0.9336\n",
            "Epoch 15/1000\n",
            "100/100 [==============================] - ETA: 0s - loss: 0.1448 - acc: 0.9632\n",
            "Epoch 15: val_acc did not improve from 0.93848\n",
            "100/100 [==============================] - 19s 190ms/step - loss: 0.1448 - acc: 0.9632 - val_loss: 0.4026 - val_acc: 0.9221\n",
            "Epoch 16/1000\n",
            "100/100 [==============================] - ETA: 0s - loss: 0.1423 - acc: 0.9656\n",
            "Epoch 16: val_acc improved from 0.93848 to 0.93960, saving model to vgg16_best\n"
          ]
        },
        {
          "output_type": "stream",
          "name": "stderr",
          "text": [
            "WARNING:absl:Found untraced functions such as _jit_compiled_convolution_op, _jit_compiled_convolution_op, _jit_compiled_convolution_op, _jit_compiled_convolution_op, _jit_compiled_convolution_op while saving (showing 5 of 13). These functions will not be directly callable after loading.\n"
          ]
        },
        {
          "output_type": "stream",
          "name": "stdout",
          "text": [
            "\b\b\b\b\b\b\b\b\b\b\b\b\b\b\b\b\b\b\b\b\b\b\b\b\b\b\b\b\b\b\b\b\b\b\b\b\b\b\b\b\b\b\b\b\b\b\b\b\b\b\b\b\b\b\b\b\b\b\b\b\b\b\b\b\b\b\b\b\b\b\b\b\b\b\b\b\b\b\b\r100/100 [==============================] - 23s 227ms/step - loss: 0.1423 - acc: 0.9656 - val_loss: 0.3313 - val_acc: 0.9396\n",
            "Epoch 17/1000\n",
            "100/100 [==============================] - ETA: 0s - loss: 0.1360 - acc: 0.9674\n",
            "Epoch 17: val_acc improved from 0.93960 to 0.93975, saving model to vgg16_best\n"
          ]
        },
        {
          "output_type": "stream",
          "name": "stderr",
          "text": [
            "WARNING:absl:Found untraced functions such as _jit_compiled_convolution_op, _jit_compiled_convolution_op, _jit_compiled_convolution_op, _jit_compiled_convolution_op, _jit_compiled_convolution_op while saving (showing 5 of 13). These functions will not be directly callable after loading.\n"
          ]
        },
        {
          "output_type": "stream",
          "name": "stdout",
          "text": [
            "\b\b\b\b\b\b\b\b\b\b\b\b\b\b\b\b\b\b\b\b\b\b\b\b\b\b\b\b\b\b\b\b\b\b\b\b\b\b\b\b\b\b\b\b\b\b\b\b\b\b\b\b\b\b\b\b\b\b\b\b\b\b\b\b\b\b\b\b\b\b\b\b\b\b\b\b\b\b\b\r100/100 [==============================] - 23s 228ms/step - loss: 0.1360 - acc: 0.9674 - val_loss: 0.2959 - val_acc: 0.9398\n",
            "Epoch 18/1000\n",
            "100/100 [==============================] - ETA: 0s - loss: 0.1297 - acc: 0.9678\n",
            "Epoch 18: val_acc improved from 0.93975 to 0.94132, saving model to vgg16_best\n"
          ]
        },
        {
          "output_type": "stream",
          "name": "stderr",
          "text": [
            "WARNING:absl:Found untraced functions such as _jit_compiled_convolution_op, _jit_compiled_convolution_op, _jit_compiled_convolution_op, _jit_compiled_convolution_op, _jit_compiled_convolution_op while saving (showing 5 of 13). These functions will not be directly callable after loading.\n"
          ]
        },
        {
          "output_type": "stream",
          "name": "stdout",
          "text": [
            "\b\b\b\b\b\b\b\b\b\b\b\b\b\b\b\b\b\b\b\b\b\b\b\b\b\b\b\b\b\b\b\b\b\b\b\b\b\b\b\b\b\b\b\b\b\b\b\b\b\b\b\b\b\b\b\b\b\b\b\b\b\b\b\b\b\b\b\b\b\b\b\b\b\b\b\b\b\b\b\r100/100 [==============================] - 21s 214ms/step - loss: 0.1297 - acc: 0.9678 - val_loss: 0.2797 - val_acc: 0.9413\n",
            "Epoch 19/1000\n",
            "100/100 [==============================] - ETA: 0s - loss: 0.1337 - acc: 0.9689\n",
            "Epoch 19: val_acc did not improve from 0.94132\n",
            "100/100 [==============================] - 21s 205ms/step - loss: 0.1337 - acc: 0.9689 - val_loss: 0.3046 - val_acc: 0.9392\n",
            "Epoch 20/1000\n",
            "100/100 [==============================] - ETA: 0s - loss: 0.1339 - acc: 0.9681\n",
            "Epoch 20: val_acc did not improve from 0.94132\n",
            "100/100 [==============================] - 21s 208ms/step - loss: 0.1339 - acc: 0.9681 - val_loss: 0.2914 - val_acc: 0.9365\n",
            "Epoch 21/1000\n",
            "100/100 [==============================] - ETA: 0s - loss: 0.1190 - acc: 0.9720\n",
            "Epoch 21: val_acc did not improve from 0.94132\n",
            "100/100 [==============================] - 22s 219ms/step - loss: 0.1190 - acc: 0.9720 - val_loss: 0.3204 - val_acc: 0.9362\n",
            "Epoch 22/1000\n",
            "100/100 [==============================] - ETA: 0s - loss: 0.1155 - acc: 0.9728\n",
            "Epoch 22: val_acc did not improve from 0.94132\n",
            "100/100 [==============================] - 18s 175ms/step - loss: 0.1155 - acc: 0.9728 - val_loss: 0.3236 - val_acc: 0.9409\n",
            "Epoch 23/1000\n",
            "100/100 [==============================] - ETA: 0s - loss: 0.1167 - acc: 0.9735\n",
            "Epoch 23: val_acc did not improve from 0.94132\n",
            "100/100 [==============================] - 18s 179ms/step - loss: 0.1167 - acc: 0.9735 - val_loss: 0.4497 - val_acc: 0.9337\n",
            "Epoch 23: early stopping\n"
          ]
        }
      ]
    },
    {
      "cell_type": "code",
      "execution_count": null,
      "metadata": {
        "id": "Z3Lhz31AZYBP",
        "colab": {
          "base_uri": "https://localhost:8080/"
        },
        "outputId": "9e9d44cc-da98-4db0-b763-d006d866abbe"
      },
      "outputs": [
        {
          "output_type": "stream",
          "name": "stdout",
          "text": [
            "87/87 [==============================] - 9s 102ms/step\n",
            "100% 233k/233k [00:01<00:00, 167kB/s]\n",
            "Successfully submitted to Hackathon Online: Image Processing"
          ]
        }
      ],
      "source": [
        "model_best = keras.models.load_model('/content/vgg16_best')\n",
        "pred = model_best.predict(test_generator)\n",
        "pred = np.argmax(pred, axis=1)\n",
        "sub = df_test[['imageid_boxid', 'class']].copy()\n",
        "sub['class'] = pred\n",
        "sub.to_csv('VGG16.csv', index=False)\n",
        "!kaggle competitions submit -c hackathon-online-2022-image-processing -f 'VGG16.csv'  -m 'VGG16_unfreeze.csv'"
      ]
    },
    {
      "cell_type": "markdown",
      "source": [
        "**Save Model to Colab**"
      ],
      "metadata": {
        "id": "ymHB894ALAv8"
      }
    },
    {
      "cell_type": "code",
      "source": [
        "!zip -r -q '/content/drive/MyDrive/Colab Notebooks/SuperAi/Pracetice/Image Processing/vgg16_best.zip' /content/vgg16_best"
      ],
      "metadata": {
        "id": "MbXzeNvWLD2k"
      },
      "execution_count": null,
      "outputs": []
    },
    {
      "cell_type": "markdown",
      "source": [
        "**After Finetune**\n",
        "![image.png](data:image/png;base64,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)"
      ],
      "metadata": {
        "id": "MzxVHwOiJq0M"
      }
    },
    {
      "cell_type": "markdown",
      "source": [
        "### **InceptionV3 93.15%**"
      ],
      "metadata": {
        "id": "35yTYISzCr-5"
      }
    },
    {
      "cell_type": "markdown",
      "source": [
        "**Data**"
      ],
      "metadata": {
        "id": "AIxTr4pXKq1W"
      }
    },
    {
      "cell_type": "code",
      "source": [
        "base_dir = 'train_val_aug'\n",
        "train_dir = os.path.join(base_dir, 'train') #resulf = directory\n",
        "validation_dir = os.path.join(base_dir, 'val')\n",
        "\n",
        "# Add our data-augmentation parameters to ImageDataGenerator\n",
        "train_datagen = ImageDataGenerator(rescale = 1.0/255.)\n",
        "# train_datagen = ImageDataGenerator(rescale = 1./255.,rotation_range = 40, width_shift_range = 0.2, height_shift_range = 0.2, shear_range = 0.2, zoom_range = 0.2, horizontal_flip = True)\n",
        "\n",
        "# Note that the validation data should not be augmented!\n",
        "test_datagen = ImageDataGenerator(rescale = 1.0/255.)\n",
        "\n",
        "# Train Flow training images in batches of 100 using train_datagen generator\n",
        "train_generator = train_datagen.flow_from_directory(train_dir, batch_size = 100, class_mode = 'sparse', target_size = (75, 75))\n",
        "\n",
        "# Validation Flow validation images in batches of 100 using test_datagen generator\n",
        "validation_generator = test_datagen.flow_from_directory(validation_dir,  batch_size = 100, class_mode = 'sparse', target_size = (75, 75))\n",
        "\n",
        "# Test use flow from dataframe เพราะ เวลาส่งชื่อต้องเรียงตาม format เขา\n",
        "test_generator = test_datagen.flow_from_dataframe(df_test, x_col='file_name', batch_size = 100, class_mode = None, target_size = (75, 75), shuffle=False)"
      ],
      "metadata": {
        "colab": {
          "base_uri": "https://localhost:8080/"
        },
        "id": "eGQ32GHFEaAI",
        "outputId": "e004445d-6b20-49e0-ed87-fe52cd73102b"
      },
      "execution_count": null,
      "outputs": [
        {
          "output_type": "stream",
          "name": "stdout",
          "text": [
            "Found 320008 images belonging to 10 classes.\n",
            "Found 13395 images belonging to 10 classes.\n",
            "Found 26032 validated image filenames.\n"
          ]
        }
      ]
    },
    {
      "cell_type": "markdown",
      "source": [
        "**Model**"
      ],
      "metadata": {
        "id": "pcPOLbabKpH1"
      }
    },
    {
      "cell_type": "code",
      "source": [
        "base_model = InceptionV3(input_shape = (75, 75, 3), include_top = False, weights = 'imagenet')\n",
        "\n",
        "for layer in tqdm(base_model.layers):\n",
        "    layer.trainable = False\n",
        "\n",
        "x = layers.Flatten()(base_model.output)\n",
        "x = layers.Dense(1024, activation='relu')(x)\n",
        "x = layers.Dropout(0.2)(x)\n",
        "\n",
        "x = layers.Dense(512, activation='relu')(x)\n",
        "\n",
        "x = layers.Dense(256, activation='relu')(x)\n",
        "x = layers.Dropout(0.2)(x)\n",
        "\n",
        "x = layers.Dense(128, activation='relu')(x)\n",
        "\n",
        "# Add a final sigmoid layer with 1 node for classification output\n",
        "x = layers.Dense(10, activation='sigmoid')(x)\n",
        "\n",
        "model = tf.keras.models.Model(base_model.input, x)\n",
        "\n",
        "model.compile(optimizer = keras.optimizers.Adam(learning_rate=0.0001), loss = 'sparse_categorical_crossentropy', metrics = ['acc'])"
      ],
      "metadata": {
        "id": "ZPoOzP-uD4CJ",
        "colab": {
          "base_uri": "https://localhost:8080/"
        },
        "outputId": "555ef4fe-f5c9-4a1d-89e4-a4eb83f27fcd"
      },
      "execution_count": null,
      "outputs": [
        {
          "output_type": "stream",
          "name": "stderr",
          "text": [
            "100%|██████████| 311/311 [00:00<00:00, 33800.49it/s]\n"
          ]
        }
      ]
    },
    {
      "cell_type": "code",
      "source": [
        "!rm -rf IncepV3_Best"
      ],
      "metadata": {
        "id": "53qziyxTOaq8"
      },
      "execution_count": null,
      "outputs": []
    },
    {
      "cell_type": "code",
      "source": [
        "checkpoint = ModelCheckpoint(\"IncepV3_Best\", monitor='val_acc', verbose=1, save_best_only=True, save_weights_only=False, mode='max', period=1)\n",
        "early = EarlyStopping(monitor='val_acc', min_delta=0, patience=5, verbose=1, mode='max') #5 ตัวไม่ดีขึ้นก็หยุด\n",
        "Incephist = model.fit(train_generator, validation_data = validation_generator, steps_per_epoch = 100, epochs = 1000, callbacks=[checkpoint,early])"
      ],
      "metadata": {
        "colab": {
          "base_uri": "https://localhost:8080/"
        },
        "id": "1sznqy29F1md",
        "outputId": "be5dca28-1589-499a-829b-dfe5540e0bfb"
      },
      "execution_count": null,
      "outputs": [
        {
          "output_type": "stream",
          "name": "stderr",
          "text": [
            "WARNING:tensorflow:`period` argument is deprecated. Please use `save_freq` to specify the frequency in number of batches seen.\n"
          ]
        },
        {
          "output_type": "stream",
          "name": "stdout",
          "text": [
            "Epoch 1/1000\n",
            "100/100 [==============================] - ETA: 0s - loss: 1.9574 - acc: 0.2948\n",
            "Epoch 1: val_acc improved from -inf to 0.47204, saving model to IncepV3_Best\n"
          ]
        },
        {
          "output_type": "stream",
          "name": "stderr",
          "text": [
            "WARNING:absl:Found untraced functions such as _jit_compiled_convolution_op, _jit_compiled_convolution_op, _jit_compiled_convolution_op, _jit_compiled_convolution_op, _jit_compiled_convolution_op while saving (showing 5 of 94). These functions will not be directly callable after loading.\n"
          ]
        },
        {
          "output_type": "stream",
          "name": "stdout",
          "text": [
            "\b\b\b\b\b\b\b\b\b\b\b\b\b\b\b\b\b\b\b\b\b\b\b\b\b\b\b\b\b\b\b\b\b\b\b\b\b\b\b\b\b\b\b\b\b\b\b\b\b\b\b\b\b\b\b\b\b\b\b\b\b\b\b\b\b\b\b\b\b\b\b\b\b\b\b\b\b\b\b\r100/100 [==============================] - 60s 552ms/step - loss: 1.9574 - acc: 0.2948 - val_loss: 1.5090 - val_acc: 0.4720\n",
            "Epoch 2/1000\n",
            "100/100 [==============================] - ETA: 0s - loss: 1.4995 - acc: 0.4745\n",
            "Epoch 2: val_acc improved from 0.47204 to 0.54797, saving model to IncepV3_Best\n"
          ]
        },
        {
          "output_type": "stream",
          "name": "stderr",
          "text": [
            "WARNING:absl:Found untraced functions such as _jit_compiled_convolution_op, _jit_compiled_convolution_op, _jit_compiled_convolution_op, _jit_compiled_convolution_op, _jit_compiled_convolution_op while saving (showing 5 of 94). These functions will not be directly callable after loading.\n"
          ]
        },
        {
          "output_type": "stream",
          "name": "stdout",
          "text": [
            "\b\b\b\b\b\b\b\b\b\b\b\b\b\b\b\b\b\b\b\b\b\b\b\b\b\b\b\b\b\b\b\b\b\b\b\b\b\b\b\b\b\b\b\b\b\b\b\b\b\b\b\b\b\b\b\b\b\b\b\b\b\b\b\b\b\b\b\b\b\b\b\b\b\b\b\b\b\b\b\r100/100 [==============================] - 44s 439ms/step - loss: 1.4995 - acc: 0.4745 - val_loss: 1.2970 - val_acc: 0.5480\n",
            "Epoch 3/1000\n",
            "100/100 [==============================] - ETA: 0s - loss: 1.3250 - acc: 0.5388\n",
            "Epoch 3: val_acc improved from 0.54797 to 0.58216, saving model to IncepV3_Best\n"
          ]
        },
        {
          "output_type": "stream",
          "name": "stderr",
          "text": [
            "WARNING:absl:Found untraced functions such as _jit_compiled_convolution_op, _jit_compiled_convolution_op, _jit_compiled_convolution_op, _jit_compiled_convolution_op, _jit_compiled_convolution_op while saving (showing 5 of 94). These functions will not be directly callable after loading.\n"
          ]
        },
        {
          "output_type": "stream",
          "name": "stdout",
          "text": [
            "\b\b\b\b\b\b\b\b\b\b\b\b\b\b\b\b\b\b\b\b\b\b\b\b\b\b\b\b\b\b\b\b\b\b\b\b\b\b\b\b\b\b\b\b\b\b\b\b\b\b\b\b\b\b\b\b\b\b\b\b\b\b\b\b\b\b\b\b\b\b\b\b\b\b\b\b\b\b\b\r100/100 [==============================] - 45s 451ms/step - loss: 1.3250 - acc: 0.5388 - val_loss: 1.2096 - val_acc: 0.5822\n",
            "Epoch 4/1000\n",
            "100/100 [==============================] - ETA: 0s - loss: 1.2514 - acc: 0.5619\n",
            "Epoch 4: val_acc improved from 0.58216 to 0.61575, saving model to IncepV3_Best\n"
          ]
        },
        {
          "output_type": "stream",
          "name": "stderr",
          "text": [
            "WARNING:absl:Found untraced functions such as _jit_compiled_convolution_op, _jit_compiled_convolution_op, _jit_compiled_convolution_op, _jit_compiled_convolution_op, _jit_compiled_convolution_op while saving (showing 5 of 94). These functions will not be directly callable after loading.\n"
          ]
        },
        {
          "output_type": "stream",
          "name": "stdout",
          "text": [
            "\b\b\b\b\b\b\b\b\b\b\b\b\b\b\b\b\b\b\b\b\b\b\b\b\b\b\b\b\b\b\b\b\b\b\b\b\b\b\b\b\b\b\b\b\b\b\b\b\b\b\b\b\b\b\b\b\b\b\b\b\b\b\b\b\b\b\b\b\b\b\b\b\b\b\b\b\b\b\b\r100/100 [==============================] - 44s 444ms/step - loss: 1.2514 - acc: 0.5619 - val_loss: 1.1245 - val_acc: 0.6158\n",
            "Epoch 5/1000\n",
            "100/100 [==============================] - ETA: 0s - loss: 1.2146 - acc: 0.5805\n",
            "Epoch 5: val_acc improved from 0.61575 to 0.62740, saving model to IncepV3_Best\n"
          ]
        },
        {
          "output_type": "stream",
          "name": "stderr",
          "text": [
            "WARNING:absl:Found untraced functions such as _jit_compiled_convolution_op, _jit_compiled_convolution_op, _jit_compiled_convolution_op, _jit_compiled_convolution_op, _jit_compiled_convolution_op while saving (showing 5 of 94). These functions will not be directly callable after loading.\n"
          ]
        },
        {
          "output_type": "stream",
          "name": "stdout",
          "text": [
            "\b\b\b\b\b\b\b\b\b\b\b\b\b\b\b\b\b\b\b\b\b\b\b\b\b\b\b\b\b\b\b\b\b\b\b\b\b\b\b\b\b\b\b\b\b\b\b\b\b\b\b\b\b\b\b\b\b\b\b\b\b\b\b\b\b\b\b\b\b\b\b\b\b\b\b\b\b\b\b\r100/100 [==============================] - 44s 441ms/step - loss: 1.2146 - acc: 0.5805 - val_loss: 1.0902 - val_acc: 0.6274\n",
            "Epoch 6/1000\n",
            "100/100 [==============================] - ETA: 0s - loss: 1.1834 - acc: 0.5835\n",
            "Epoch 6: val_acc did not improve from 0.62740\n",
            "100/100 [==============================] - 13s 127ms/step - loss: 1.1834 - acc: 0.5835 - val_loss: 1.1004 - val_acc: 0.6208\n",
            "Epoch 7/1000\n",
            "100/100 [==============================] - ETA: 0s - loss: 1.1461 - acc: 0.5962\n",
            "Epoch 7: val_acc improved from 0.62740 to 0.63397, saving model to IncepV3_Best\n"
          ]
        },
        {
          "output_type": "stream",
          "name": "stderr",
          "text": [
            "WARNING:absl:Found untraced functions such as _jit_compiled_convolution_op, _jit_compiled_convolution_op, _jit_compiled_convolution_op, _jit_compiled_convolution_op, _jit_compiled_convolution_op while saving (showing 5 of 94). These functions will not be directly callable after loading.\n"
          ]
        },
        {
          "output_type": "stream",
          "name": "stdout",
          "text": [
            "\b\b\b\b\b\b\b\b\b\b\b\b\b\b\b\b\b\b\b\b\b\b\b\b\b\b\b\b\b\b\b\b\b\b\b\b\b\b\b\b\b\b\b\b\b\b\b\b\b\b\b\b\b\b\b\b\b\b\b\b\b\b\b\b\b\b\b\b\b\b\b\b\b\b\b\b\b\b\b\r100/100 [==============================] - 43s 438ms/step - loss: 1.1461 - acc: 0.5962 - val_loss: 1.0611 - val_acc: 0.6340\n",
            "Epoch 8/1000\n",
            "100/100 [==============================] - ETA: 0s - loss: 1.1302 - acc: 0.6072\n",
            "Epoch 8: val_acc improved from 0.63397 to 0.64420, saving model to IncepV3_Best\n"
          ]
        },
        {
          "output_type": "stream",
          "name": "stderr",
          "text": [
            "WARNING:absl:Found untraced functions such as _jit_compiled_convolution_op, _jit_compiled_convolution_op, _jit_compiled_convolution_op, _jit_compiled_convolution_op, _jit_compiled_convolution_op while saving (showing 5 of 94). These functions will not be directly callable after loading.\n"
          ]
        },
        {
          "output_type": "stream",
          "name": "stdout",
          "text": [
            "\b\b\b\b\b\b\b\b\b\b\b\b\b\b\b\b\b\b\b\b\b\b\b\b\b\b\b\b\b\b\b\b\b\b\b\b\b\b\b\b\b\b\b\b\b\b\b\b\b\b\b\b\b\b\b\b\b\b\b\b\b\b\b\b\b\b\b\b\b\b\b\b\b\b\b\b\b\b\b\r100/100 [==============================] - 44s 439ms/step - loss: 1.1302 - acc: 0.6072 - val_loss: 1.0394 - val_acc: 0.6442\n",
            "Epoch 9/1000\n",
            "100/100 [==============================] - ETA: 0s - loss: 1.1013 - acc: 0.6159\n",
            "Epoch 9: val_acc did not improve from 0.64420\n",
            "100/100 [==============================] - 13s 127ms/step - loss: 1.1013 - acc: 0.6159 - val_loss: 1.0491 - val_acc: 0.6424\n",
            "Epoch 10/1000\n",
            "100/100 [==============================] - ETA: 0s - loss: 1.0962 - acc: 0.6190\n",
            "Epoch 10: val_acc improved from 0.64420 to 0.64950, saving model to IncepV3_Best\n"
          ]
        },
        {
          "output_type": "stream",
          "name": "stderr",
          "text": [
            "WARNING:absl:Found untraced functions such as _jit_compiled_convolution_op, _jit_compiled_convolution_op, _jit_compiled_convolution_op, _jit_compiled_convolution_op, _jit_compiled_convolution_op while saving (showing 5 of 94). These functions will not be directly callable after loading.\n"
          ]
        },
        {
          "output_type": "stream",
          "name": "stdout",
          "text": [
            "\b\b\b\b\b\b\b\b\b\b\b\b\b\b\b\b\b\b\b\b\b\b\b\b\b\b\b\b\b\b\b\b\b\b\b\b\b\b\b\b\b\b\b\b\b\b\b\b\b\b\b\b\b\b\b\b\b\b\b\b\b\b\b\b\b\b\b\b\b\b\b\b\b\b\b\b\b\b\b\r100/100 [==============================] - 44s 440ms/step - loss: 1.0962 - acc: 0.6190 - val_loss: 1.0185 - val_acc: 0.6495\n",
            "Epoch 11/1000\n",
            "100/100 [==============================] - ETA: 0s - loss: 1.0782 - acc: 0.6304\n",
            "Epoch 11: val_acc improved from 0.64950 to 0.65868, saving model to IncepV3_Best\n"
          ]
        },
        {
          "output_type": "stream",
          "name": "stderr",
          "text": [
            "WARNING:absl:Found untraced functions such as _jit_compiled_convolution_op, _jit_compiled_convolution_op, _jit_compiled_convolution_op, _jit_compiled_convolution_op, _jit_compiled_convolution_op while saving (showing 5 of 94). These functions will not be directly callable after loading.\n"
          ]
        },
        {
          "output_type": "stream",
          "name": "stdout",
          "text": [
            "\b\b\b\b\b\b\b\b\b\b\b\b\b\b\b\b\b\b\b\b\b\b\b\b\b\b\b\b\b\b\b\b\b\b\b\b\b\b\b\b\b\b\b\b\b\b\b\b\b\b\b\b\b\b\b\b\b\b\b\b\b\b\b\b\b\b\b\b\b\b\b\b\b\b\b\b\b\b\b\r100/100 [==============================] - 47s 473ms/step - loss: 1.0782 - acc: 0.6304 - val_loss: 1.0074 - val_acc: 0.6587\n",
            "Epoch 12/1000\n",
            "100/100 [==============================] - ETA: 0s - loss: 1.0435 - acc: 0.6362\n",
            "Epoch 12: val_acc did not improve from 0.65868\n",
            "100/100 [==============================] - 13s 127ms/step - loss: 1.0435 - acc: 0.6362 - val_loss: 1.0071 - val_acc: 0.6505\n",
            "Epoch 13/1000\n",
            "100/100 [==============================] - ETA: 0s - loss: 1.0415 - acc: 0.6408\n",
            "Epoch 13: val_acc improved from 0.65868 to 0.66465, saving model to IncepV3_Best\n"
          ]
        },
        {
          "output_type": "stream",
          "name": "stderr",
          "text": [
            "WARNING:absl:Found untraced functions such as _jit_compiled_convolution_op, _jit_compiled_convolution_op, _jit_compiled_convolution_op, _jit_compiled_convolution_op, _jit_compiled_convolution_op while saving (showing 5 of 94). These functions will not be directly callable after loading.\n"
          ]
        },
        {
          "output_type": "stream",
          "name": "stdout",
          "text": [
            "\b\b\b\b\b\b\b\b\b\b\b\b\b\b\b\b\b\b\b\b\b\b\b\b\b\b\b\b\b\b\b\b\b\b\b\b\b\b\b\b\b\b\b\b\b\b\b\b\b\b\b\b\b\b\b\b\b\b\b\b\b\b\b\b\b\b\b\b\b\b\b\b\b\b\b\b\b\b\b\r100/100 [==============================] - 44s 442ms/step - loss: 1.0415 - acc: 0.6408 - val_loss: 0.9814 - val_acc: 0.6647\n",
            "Epoch 14/1000\n",
            "100/100 [==============================] - ETA: 0s - loss: 1.0241 - acc: 0.6462\n",
            "Epoch 14: val_acc improved from 0.66465 to 0.66846, saving model to IncepV3_Best\n"
          ]
        },
        {
          "output_type": "stream",
          "name": "stderr",
          "text": [
            "WARNING:absl:Found untraced functions such as _jit_compiled_convolution_op, _jit_compiled_convolution_op, _jit_compiled_convolution_op, _jit_compiled_convolution_op, _jit_compiled_convolution_op while saving (showing 5 of 94). These functions will not be directly callable after loading.\n"
          ]
        },
        {
          "output_type": "stream",
          "name": "stdout",
          "text": [
            "\b\b\b\b\b\b\b\b\b\b\b\b\b\b\b\b\b\b\b\b\b\b\b\b\b\b\b\b\b\b\b\b\b\b\b\b\b\b\b\b\b\b\b\b\b\b\b\b\b\b\b\b\b\b\b\b\b\b\b\b\b\b\b\b\b\b\b\b\b\b\b\b\b\b\b\b\b\b\b\r100/100 [==============================] - 44s 441ms/step - loss: 1.0241 - acc: 0.6462 - val_loss: 0.9793 - val_acc: 0.6685\n",
            "Epoch 15/1000\n",
            "100/100 [==============================] - ETA: 0s - loss: 1.0044 - acc: 0.6554\n",
            "Epoch 15: val_acc did not improve from 0.66846\n",
            "100/100 [==============================] - 13s 129ms/step - loss: 1.0044 - acc: 0.6554 - val_loss: 0.9886 - val_acc: 0.6631\n",
            "Epoch 16/1000\n",
            "100/100 [==============================] - ETA: 0s - loss: 1.0095 - acc: 0.6508\n",
            "Epoch 16: val_acc did not improve from 0.66846\n",
            "100/100 [==============================] - 13s 128ms/step - loss: 1.0095 - acc: 0.6508 - val_loss: 0.9723 - val_acc: 0.6669\n",
            "Epoch 17/1000\n",
            "100/100 [==============================] - ETA: 0s - loss: 0.9834 - acc: 0.6598\n",
            "Epoch 17: val_acc improved from 0.66846 to 0.67010, saving model to IncepV3_Best\n"
          ]
        },
        {
          "output_type": "stream",
          "name": "stderr",
          "text": [
            "WARNING:absl:Found untraced functions such as _jit_compiled_convolution_op, _jit_compiled_convolution_op, _jit_compiled_convolution_op, _jit_compiled_convolution_op, _jit_compiled_convolution_op while saving (showing 5 of 94). These functions will not be directly callable after loading.\n"
          ]
        },
        {
          "output_type": "stream",
          "name": "stdout",
          "text": [
            "\b\b\b\b\b\b\b\b\b\b\b\b\b\b\b\b\b\b\b\b\b\b\b\b\b\b\b\b\b\b\b\b\b\b\b\b\b\b\b\b\b\b\b\b\b\b\b\b\b\b\b\b\b\b\b\b\b\b\b\b\b\b\b\b\b\b\b\b\b\b\b\b\b\b\b\b\b\b\b\r100/100 [==============================] - 44s 439ms/step - loss: 0.9834 - acc: 0.6598 - val_loss: 0.9624 - val_acc: 0.6701\n",
            "Epoch 18/1000\n",
            "100/100 [==============================] - ETA: 0s - loss: 0.9868 - acc: 0.6571\n",
            "Epoch 18: val_acc did not improve from 0.67010\n",
            "100/100 [==============================] - 17s 172ms/step - loss: 0.9868 - acc: 0.6571 - val_loss: 0.9809 - val_acc: 0.6680\n",
            "Epoch 19/1000\n",
            "100/100 [==============================] - ETA: 0s - loss: 0.9863 - acc: 0.6612\n",
            "Epoch 19: val_acc improved from 0.67010 to 0.68018, saving model to IncepV3_Best\n"
          ]
        },
        {
          "output_type": "stream",
          "name": "stderr",
          "text": [
            "WARNING:absl:Found untraced functions such as _jit_compiled_convolution_op, _jit_compiled_convolution_op, _jit_compiled_convolution_op, _jit_compiled_convolution_op, _jit_compiled_convolution_op while saving (showing 5 of 94). These functions will not be directly callable after loading.\n"
          ]
        },
        {
          "output_type": "stream",
          "name": "stdout",
          "text": [
            "\b\b\b\b\b\b\b\b\b\b\b\b\b\b\b\b\b\b\b\b\b\b\b\b\b\b\b\b\b\b\b\b\b\b\b\b\b\b\b\b\b\b\b\b\b\b\b\b\b\b\b\b\b\b\b\b\b\b\b\b\b\b\b\b\b\b\b\b\b\b\b\b\b\b\b\b\b\b\b\r100/100 [==============================] - 44s 444ms/step - loss: 0.9863 - acc: 0.6612 - val_loss: 0.9416 - val_acc: 0.6802\n",
            "Epoch 20/1000\n",
            "100/100 [==============================] - ETA: 0s - loss: 0.9720 - acc: 0.6674\n",
            "Epoch 20: val_acc did not improve from 0.68018\n",
            "100/100 [==============================] - 13s 127ms/step - loss: 0.9720 - acc: 0.6674 - val_loss: 0.9570 - val_acc: 0.6704\n",
            "Epoch 21/1000\n",
            "100/100 [==============================] - ETA: 0s - loss: 0.9710 - acc: 0.6670\n",
            "Epoch 21: val_acc improved from 0.68018 to 0.68122, saving model to IncepV3_Best\n"
          ]
        },
        {
          "output_type": "stream",
          "name": "stderr",
          "text": [
            "WARNING:absl:Found untraced functions such as _jit_compiled_convolution_op, _jit_compiled_convolution_op, _jit_compiled_convolution_op, _jit_compiled_convolution_op, _jit_compiled_convolution_op while saving (showing 5 of 94). These functions will not be directly callable after loading.\n"
          ]
        },
        {
          "output_type": "stream",
          "name": "stdout",
          "text": [
            "\b\b\b\b\b\b\b\b\b\b\b\b\b\b\b\b\b\b\b\b\b\b\b\b\b\b\b\b\b\b\b\b\b\b\b\b\b\b\b\b\b\b\b\b\b\b\b\b\b\b\b\b\b\b\b\b\b\b\b\b\b\b\b\b\b\b\b\b\b\b\b\b\b\b\b\b\b\b\b\r100/100 [==============================] - 44s 439ms/step - loss: 0.9710 - acc: 0.6670 - val_loss: 0.9286 - val_acc: 0.6812\n",
            "Epoch 22/1000\n",
            "100/100 [==============================] - ETA: 0s - loss: 0.9360 - acc: 0.6793\n",
            "Epoch 22: val_acc did not improve from 0.68122\n",
            "100/100 [==============================] - 13s 127ms/step - loss: 0.9360 - acc: 0.6793 - val_loss: 0.9584 - val_acc: 0.6679\n",
            "Epoch 23/1000\n",
            " 99/100 [============================>.] - ETA: 0s - loss: 0.9310 - acc: 0.6781\n",
            "Epoch 23: val_acc did not improve from 0.68122\n",
            "100/100 [==============================] - 13s 128ms/step - loss: 0.9318 - acc: 0.6774 - val_loss: 0.9300 - val_acc: 0.6803\n",
            "Epoch 24/1000\n",
            "100/100 [==============================] - ETA: 0s - loss: 0.9377 - acc: 0.6762\n",
            "Epoch 24: val_acc improved from 0.68122 to 0.68436, saving model to IncepV3_Best\n"
          ]
        },
        {
          "output_type": "stream",
          "name": "stderr",
          "text": [
            "WARNING:absl:Found untraced functions such as _jit_compiled_convolution_op, _jit_compiled_convolution_op, _jit_compiled_convolution_op, _jit_compiled_convolution_op, _jit_compiled_convolution_op while saving (showing 5 of 94). These functions will not be directly callable after loading.\n"
          ]
        },
        {
          "output_type": "stream",
          "name": "stdout",
          "text": [
            "\b\b\b\b\b\b\b\b\b\b\b\b\b\b\b\b\b\b\b\b\b\b\b\b\b\b\b\b\b\b\b\b\b\b\b\b\b\b\b\b\b\b\b\b\b\b\b\b\b\b\b\b\b\b\b\b\b\b\b\b\b\b\b\b\b\b\b\b\b\b\b\b\b\b\b\b\b\b\b\r100/100 [==============================] - 48s 484ms/step - loss: 0.9377 - acc: 0.6762 - val_loss: 0.9196 - val_acc: 0.6844\n",
            "Epoch 25/1000\n",
            "100/100 [==============================] - ETA: 0s - loss: 0.9299 - acc: 0.6862\n",
            "Epoch 25: val_acc did not improve from 0.68436\n",
            "100/100 [==============================] - 13s 127ms/step - loss: 0.9299 - acc: 0.6862 - val_loss: 0.9357 - val_acc: 0.6788\n",
            "Epoch 26/1000\n",
            "100/100 [==============================] - ETA: 0s - loss: 0.9310 - acc: 0.6780\n",
            "Epoch 26: val_acc did not improve from 0.68436\n",
            "100/100 [==============================] - 13s 126ms/step - loss: 0.9310 - acc: 0.6780 - val_loss: 0.9214 - val_acc: 0.6836\n",
            "Epoch 27/1000\n",
            "100/100 [==============================] - ETA: 0s - loss: 0.9074 - acc: 0.6830\n",
            "Epoch 27: val_acc improved from 0.68436 to 0.68615, saving model to IncepV3_Best\n"
          ]
        },
        {
          "output_type": "stream",
          "name": "stderr",
          "text": [
            "WARNING:absl:Found untraced functions such as _jit_compiled_convolution_op, _jit_compiled_convolution_op, _jit_compiled_convolution_op, _jit_compiled_convolution_op, _jit_compiled_convolution_op while saving (showing 5 of 94). These functions will not be directly callable after loading.\n"
          ]
        },
        {
          "output_type": "stream",
          "name": "stdout",
          "text": [
            "\b\b\b\b\b\b\b\b\b\b\b\b\b\b\b\b\b\b\b\b\b\b\b\b\b\b\b\b\b\b\b\b\b\b\b\b\b\b\b\b\b\b\b\b\b\b\b\b\b\b\b\b\b\b\b\b\b\b\b\b\b\b\b\b\b\b\b\b\b\b\b\b\b\b\b\b\b\b\b\r100/100 [==============================] - 43s 435ms/step - loss: 0.9074 - acc: 0.6830 - val_loss: 0.9220 - val_acc: 0.6862\n",
            "Epoch 28/1000\n",
            "100/100 [==============================] - ETA: 0s - loss: 0.9004 - acc: 0.6878\n",
            "Epoch 28: val_acc did not improve from 0.68615\n",
            "100/100 [==============================] - 13s 127ms/step - loss: 0.9004 - acc: 0.6878 - val_loss: 0.9339 - val_acc: 0.6779\n",
            "Epoch 29/1000\n",
            "100/100 [==============================] - ETA: 0s - loss: 0.8854 - acc: 0.6966\n",
            "Epoch 29: val_acc improved from 0.68615 to 0.68712, saving model to IncepV3_Best\n"
          ]
        },
        {
          "output_type": "stream",
          "name": "stderr",
          "text": [
            "WARNING:absl:Found untraced functions such as _jit_compiled_convolution_op, _jit_compiled_convolution_op, _jit_compiled_convolution_op, _jit_compiled_convolution_op, _jit_compiled_convolution_op while saving (showing 5 of 94). These functions will not be directly callable after loading.\n"
          ]
        },
        {
          "output_type": "stream",
          "name": "stdout",
          "text": [
            "\b\b\b\b\b\b\b\b\b\b\b\b\b\b\b\b\b\b\b\b\b\b\b\b\b\b\b\b\b\b\b\b\b\b\b\b\b\b\b\b\b\b\b\b\b\b\b\b\b\b\b\b\b\b\b\b\b\b\b\b\b\b\b\b\b\b\b\b\b\b\b\b\b\b\b\b\b\b\b\r100/100 [==============================] - 48s 483ms/step - loss: 0.8854 - acc: 0.6966 - val_loss: 0.9033 - val_acc: 0.6871\n",
            "Epoch 30/1000\n",
            "100/100 [==============================] - ETA: 0s - loss: 0.8990 - acc: 0.6911\n",
            "Epoch 30: val_acc improved from 0.68712 to 0.68996, saving model to IncepV3_Best\n"
          ]
        },
        {
          "output_type": "stream",
          "name": "stderr",
          "text": [
            "WARNING:absl:Found untraced functions such as _jit_compiled_convolution_op, _jit_compiled_convolution_op, _jit_compiled_convolution_op, _jit_compiled_convolution_op, _jit_compiled_convolution_op while saving (showing 5 of 94). These functions will not be directly callable after loading.\n"
          ]
        },
        {
          "output_type": "stream",
          "name": "stdout",
          "text": [
            "\b\b\b\b\b\b\b\b\b\b\b\b\b\b\b\b\b\b\b\b\b\b\b\b\b\b\b\b\b\b\b\b\b\b\b\b\b\b\b\b\b\b\b\b\b\b\b\b\b\b\b\b\b\b\b\b\b\b\b\b\b\b\b\b\b\b\b\b\b\b\b\b\b\b\b\b\b\b\b\r100/100 [==============================] - 48s 479ms/step - loss: 0.8990 - acc: 0.6911 - val_loss: 0.9065 - val_acc: 0.6900\n",
            "Epoch 31/1000\n",
            "100/100 [==============================] - ETA: 0s - loss: 0.8995 - acc: 0.6906\n",
            "Epoch 31: val_acc improved from 0.68996 to 0.69384, saving model to IncepV3_Best\n"
          ]
        },
        {
          "output_type": "stream",
          "name": "stderr",
          "text": [
            "WARNING:absl:Found untraced functions such as _jit_compiled_convolution_op, _jit_compiled_convolution_op, _jit_compiled_convolution_op, _jit_compiled_convolution_op, _jit_compiled_convolution_op while saving (showing 5 of 94). These functions will not be directly callable after loading.\n"
          ]
        },
        {
          "output_type": "stream",
          "name": "stdout",
          "text": [
            "\b\b\b\b\b\b\b\b\b\b\b\b\b\b\b\b\b\b\b\b\b\b\b\b\b\b\b\b\b\b\b\b\b\b\b\b\b\b\b\b\b\b\b\b\b\b\b\b\b\b\b\b\b\b\b\b\b\b\b\b\b\b\b\b\b\b\b\b\b\b\b\b\b\b\b\b\b\b\b\r100/100 [==============================] - 46s 461ms/step - loss: 0.8995 - acc: 0.6906 - val_loss: 0.9007 - val_acc: 0.6938\n",
            "Epoch 32/1000\n",
            "100/100 [==============================] - ETA: 0s - loss: 0.8669 - acc: 0.6984\n",
            "Epoch 32: val_acc did not improve from 0.69384\n",
            "100/100 [==============================] - 14s 137ms/step - loss: 0.8669 - acc: 0.6984 - val_loss: 0.9021 - val_acc: 0.6934\n",
            "Epoch 33/1000\n",
            "100/100 [==============================] - ETA: 0s - loss: 0.8604 - acc: 0.7042\n",
            "Epoch 33: val_acc did not improve from 0.69384\n",
            "100/100 [==============================] - 14s 138ms/step - loss: 0.8604 - acc: 0.7042 - val_loss: 0.9099 - val_acc: 0.6908\n",
            "Epoch 34/1000\n",
            "100/100 [==============================] - ETA: 0s - loss: 0.8545 - acc: 0.7035\n",
            "Epoch 34: val_acc did not improve from 0.69384\n",
            "100/100 [==============================] - 13s 132ms/step - loss: 0.8545 - acc: 0.7035 - val_loss: 0.9046 - val_acc: 0.6912\n",
            "Epoch 35/1000\n",
            "100/100 [==============================] - ETA: 0s - loss: 0.8669 - acc: 0.7048\n",
            "Epoch 35: val_acc did not improve from 0.69384\n",
            "100/100 [==============================] - 14s 137ms/step - loss: 0.8669 - acc: 0.7048 - val_loss: 0.9158 - val_acc: 0.6893\n",
            "Epoch 36/1000\n",
            "100/100 [==============================] - ETA: 0s - loss: 0.8269 - acc: 0.7141\n",
            "Epoch 36: val_acc did not improve from 0.69384\n",
            "100/100 [==============================] - 20s 198ms/step - loss: 0.8269 - acc: 0.7141 - val_loss: 0.9066 - val_acc: 0.6907\n",
            "Epoch 36: early stopping\n"
          ]
        }
      ]
    },
    {
      "cell_type": "code",
      "source": [
        "model_best = keras.models.load_model('/content/IncepV3_Best')\n",
        "\n",
        "pred = model_best.predict(test_generator)\n",
        "pred = np.argmax(pred, axis=1)\n",
        "\n",
        "sub = df_test[['imageid_boxid', 'class']].copy()\n",
        "sub['class'] = pred\n",
        "sub.to_csv('InceptionV3.csv', index=False)\n",
        "!kaggle competitions submit -c hackathon-online-2022-image-processing -f 'InceptionV3.csv'  -m 'InceptionV3_Unfreeze.csv'"
      ],
      "metadata": {
        "colab": {
          "base_uri": "https://localhost:8080/"
        },
        "id": "waQpdMnLGLxd",
        "outputId": "bf299170-5f36-4125-d23b-835233ad393e"
      },
      "execution_count": null,
      "outputs": [
        {
          "output_type": "stream",
          "name": "stdout",
          "text": [
            "261/261 [==============================] - 21s 74ms/step\n",
            "100% 233k/233k [00:01<00:00, 181kB/s]\n",
            "Successfully submitted to Hackathon Online: Image Processing"
          ]
        }
      ]
    },
    {
      "cell_type": "markdown",
      "source": [
        "![image.png](data:image/png;base64,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)"
      ],
      "metadata": {
        "id": "ko-us4G9aeyz"
      }
    },
    {
      "cell_type": "markdown",
      "source": [
        "**FineTune**"
      ],
      "metadata": {
        "id": "kKZEmjhsMUiD"
      }
    },
    {
      "cell_type": "code",
      "source": [
        "# Unfreeze the base model\n",
        "base_model.trainable = True\n",
        "\n",
        "#Everytime you Unfreeze call compile please\n",
        "model.compile(optimizer = keras.optimizers.Adam(learning_rate=0.0001), loss = 'sparse_categorical_crossentropy', metrics = ['acc'])\n",
        "\n",
        "Incephist = model.fit(train_generator, validation_data = validation_generator, steps_per_epoch = 100, epochs = 1000, callbacks=[checkpoint,early])"
      ],
      "metadata": {
        "colab": {
          "base_uri": "https://localhost:8080/"
        },
        "id": "y4eMgqiwRQit",
        "outputId": "41db2ab0-94ab-4dd9-c361-b40ccefd042f"
      },
      "execution_count": null,
      "outputs": [
        {
          "output_type": "stream",
          "name": "stdout",
          "text": [
            "Epoch 1/1000\n",
            "100/100 [==============================] - ETA: 0s - loss: 1.8345 - acc: 0.3457\n",
            "Epoch 1: val_acc did not improve from 0.69384\n",
            "100/100 [==============================] - 26s 182ms/step - loss: 1.8345 - acc: 0.3457 - val_loss: 1.5416 - val_acc: 0.4652\n",
            "Epoch 2/1000\n",
            "100/100 [==============================] - ETA: 0s - loss: 1.0386 - acc: 0.6442\n",
            "Epoch 2: val_acc improved from 0.69384 to 0.72191, saving model to IncepV3_Best\n"
          ]
        },
        {
          "output_type": "stream",
          "name": "stderr",
          "text": [
            "WARNING:absl:Found untraced functions such as _jit_compiled_convolution_op, _jit_compiled_convolution_op, _jit_compiled_convolution_op, _jit_compiled_convolution_op, _jit_compiled_convolution_op while saving (showing 5 of 94). These functions will not be directly callable after loading.\n"
          ]
        },
        {
          "output_type": "stream",
          "name": "stdout",
          "text": [
            "\b\b\b\b\b\b\b\b\b\b\b\b\b\b\b\b\b\b\b\b\b\b\b\b\b\b\b\b\b\b\b\b\b\b\b\b\b\b\b\b\b\b\b\b\b\b\b\b\b\b\b\b\b\b\b\b\b\b\b\b\b\b\b\b\b\b\b\b\b\b\b\b\b\b\b\b\b\b\b\r100/100 [==============================] - 66s 667ms/step - loss: 1.0386 - acc: 0.6442 - val_loss: 0.8641 - val_acc: 0.7219\n",
            "Epoch 3/1000\n",
            "100/100 [==============================] - ETA: 0s - loss: 0.7505 - acc: 0.7514\n",
            "Epoch 3: val_acc improved from 0.72191 to 0.80022, saving model to IncepV3_Best\n"
          ]
        },
        {
          "output_type": "stream",
          "name": "stderr",
          "text": [
            "WARNING:absl:Found untraced functions such as _jit_compiled_convolution_op, _jit_compiled_convolution_op, _jit_compiled_convolution_op, _jit_compiled_convolution_op, _jit_compiled_convolution_op while saving (showing 5 of 94). These functions will not be directly callable after loading.\n"
          ]
        },
        {
          "output_type": "stream",
          "name": "stdout",
          "text": [
            "\b\b\b\b\b\b\b\b\b\b\b\b\b\b\b\b\b\b\b\b\b\b\b\b\b\b\b\b\b\b\b\b\b\b\b\b\b\b\b\b\b\b\b\b\b\b\b\b\b\b\b\b\b\b\b\b\b\b\b\b\b\b\b\b\b\b\b\b\b\b\b\b\b\b\b\b\b\b\b\r100/100 [==============================] - 68s 683ms/step - loss: 0.7505 - acc: 0.7514 - val_loss: 0.7931 - val_acc: 0.8002\n",
            "Epoch 4/1000\n",
            "100/100 [==============================] - ETA: 0s - loss: 0.5701 - acc: 0.8198\n",
            "Epoch 4: val_acc improved from 0.80022 to 0.83927, saving model to IncepV3_Best\n"
          ]
        },
        {
          "output_type": "stream",
          "name": "stderr",
          "text": [
            "WARNING:absl:Found untraced functions such as _jit_compiled_convolution_op, _jit_compiled_convolution_op, _jit_compiled_convolution_op, _jit_compiled_convolution_op, _jit_compiled_convolution_op while saving (showing 5 of 94). These functions will not be directly callable after loading.\n"
          ]
        },
        {
          "output_type": "stream",
          "name": "stdout",
          "text": [
            "\b\b\b\b\b\b\b\b\b\b\b\b\b\b\b\b\b\b\b\b\b\b\b\b\b\b\b\b\b\b\b\b\b\b\b\b\b\b\b\b\b\b\b\b\b\b\b\b\b\b\b\b\b\b\b\b\b\b\b\b\b\b\b\b\b\b\b\b\b\b\b\b\b\b\b\b\b\b\b\r100/100 [==============================] - 64s 641ms/step - loss: 0.5701 - acc: 0.8198 - val_loss: 0.5273 - val_acc: 0.8393\n",
            "Epoch 5/1000\n",
            "100/100 [==============================] - ETA: 0s - loss: 0.4875 - acc: 0.8510\n",
            "Epoch 5: val_acc improved from 0.83927 to 0.86010, saving model to IncepV3_Best\n"
          ]
        },
        {
          "output_type": "stream",
          "name": "stderr",
          "text": [
            "WARNING:absl:Found untraced functions such as _jit_compiled_convolution_op, _jit_compiled_convolution_op, _jit_compiled_convolution_op, _jit_compiled_convolution_op, _jit_compiled_convolution_op while saving (showing 5 of 94). These functions will not be directly callable after loading.\n"
          ]
        },
        {
          "output_type": "stream",
          "name": "stdout",
          "text": [
            "\b\b\b\b\b\b\b\b\b\b\b\b\b\b\b\b\b\b\b\b\b\b\b\b\b\b\b\b\b\b\b\b\b\b\b\b\b\b\b\b\b\b\b\b\b\b\b\b\b\b\b\b\b\b\b\b\b\b\b\b\b\b\b\b\b\b\b\b\b\b\b\b\b\b\b\b\b\b\b\r100/100 [==============================] - 62s 622ms/step - loss: 0.4875 - acc: 0.8510 - val_loss: 0.4741 - val_acc: 0.8601\n",
            "Epoch 6/1000\n",
            "100/100 [==============================] - ETA: 0s - loss: 0.4395 - acc: 0.8661\n",
            "Epoch 6: val_acc improved from 0.86010 to 0.87376, saving model to IncepV3_Best\n"
          ]
        },
        {
          "output_type": "stream",
          "name": "stderr",
          "text": [
            "WARNING:absl:Found untraced functions such as _jit_compiled_convolution_op, _jit_compiled_convolution_op, _jit_compiled_convolution_op, _jit_compiled_convolution_op, _jit_compiled_convolution_op while saving (showing 5 of 94). These functions will not be directly callable after loading.\n"
          ]
        },
        {
          "output_type": "stream",
          "name": "stdout",
          "text": [
            "\b\b\b\b\b\b\b\b\b\b\b\b\b\b\b\b\b\b\b\b\b\b\b\b\b\b\b\b\b\b\b\b\b\b\b\b\b\b\b\b\b\b\b\b\b\b\b\b\b\b\b\b\b\b\b\b\b\b\b\b\b\b\b\b\b\b\b\b\b\b\b\b\b\b\b\b\b\b\b\r100/100 [==============================] - 51s 517ms/step - loss: 0.4395 - acc: 0.8661 - val_loss: 0.4582 - val_acc: 0.8738\n",
            "Epoch 7/1000\n",
            "100/100 [==============================] - ETA: 0s - loss: 0.3902 - acc: 0.8839\n",
            "Epoch 7: val_acc improved from 0.87376 to 0.88996, saving model to IncepV3_Best\n"
          ]
        },
        {
          "output_type": "stream",
          "name": "stderr",
          "text": [
            "WARNING:absl:Found untraced functions such as _jit_compiled_convolution_op, _jit_compiled_convolution_op, _jit_compiled_convolution_op, _jit_compiled_convolution_op, _jit_compiled_convolution_op while saving (showing 5 of 94). These functions will not be directly callable after loading.\n"
          ]
        },
        {
          "output_type": "stream",
          "name": "stdout",
          "text": [
            "\b\b\b\b\b\b\b\b\b\b\b\b\b\b\b\b\b\b\b\b\b\b\b\b\b\b\b\b\b\b\b\b\b\b\b\b\b\b\b\b\b\b\b\b\b\b\b\b\b\b\b\b\b\b\b\b\b\b\b\b\b\b\b\b\b\b\b\b\b\b\b\b\b\b\b\b\b\b\b\r100/100 [==============================] - 53s 532ms/step - loss: 0.3902 - acc: 0.8839 - val_loss: 0.3865 - val_acc: 0.8900\n",
            "Epoch 8/1000\n",
            "100/100 [==============================] - ETA: 0s - loss: 0.3476 - acc: 0.8976\n",
            "Epoch 8: val_acc improved from 0.88996 to 0.89854, saving model to IncepV3_Best\n"
          ]
        },
        {
          "output_type": "stream",
          "name": "stderr",
          "text": [
            "WARNING:absl:Found untraced functions such as _jit_compiled_convolution_op, _jit_compiled_convolution_op, _jit_compiled_convolution_op, _jit_compiled_convolution_op, _jit_compiled_convolution_op while saving (showing 5 of 94). These functions will not be directly callable after loading.\n"
          ]
        },
        {
          "output_type": "stream",
          "name": "stdout",
          "text": [
            "\b\b\b\b\b\b\b\b\b\b\b\b\b\b\b\b\b\b\b\b\b\b\b\b\b\b\b\b\b\b\b\b\b\b\b\b\b\b\b\b\b\b\b\b\b\b\b\b\b\b\b\b\b\b\b\b\b\b\b\b\b\b\b\b\b\b\b\b\b\b\b\b\b\b\b\b\b\b\b\r100/100 [==============================] - 51s 516ms/step - loss: 0.3476 - acc: 0.8976 - val_loss: 0.3508 - val_acc: 0.8985\n",
            "Epoch 9/1000\n",
            "100/100 [==============================] - ETA: 0s - loss: 0.3310 - acc: 0.9017\n",
            "Epoch 9: val_acc improved from 0.89854 to 0.90310, saving model to IncepV3_Best\n"
          ]
        },
        {
          "output_type": "stream",
          "name": "stderr",
          "text": [
            "WARNING:absl:Found untraced functions such as _jit_compiled_convolution_op, _jit_compiled_convolution_op, _jit_compiled_convolution_op, _jit_compiled_convolution_op, _jit_compiled_convolution_op while saving (showing 5 of 94). These functions will not be directly callable after loading.\n"
          ]
        },
        {
          "output_type": "stream",
          "name": "stdout",
          "text": [
            "\b\b\b\b\b\b\b\b\b\b\b\b\b\b\b\b\b\b\b\b\b\b\b\b\b\b\b\b\b\b\b\b\b\b\b\b\b\b\b\b\b\b\b\b\b\b\b\b\b\b\b\b\b\b\b\b\b\b\b\b\b\b\b\b\b\b\b\b\b\b\b\b\b\b\b\b\b\b\b\r100/100 [==============================] - 51s 516ms/step - loss: 0.3310 - acc: 0.9017 - val_loss: 0.3298 - val_acc: 0.9031\n",
            "Epoch 10/1000\n",
            "100/100 [==============================] - ETA: 0s - loss: 0.2928 - acc: 0.9144\n",
            "Epoch 10: val_acc did not improve from 0.90310\n",
            "100/100 [==============================] - 17s 166ms/step - loss: 0.2928 - acc: 0.9144 - val_loss: 0.3365 - val_acc: 0.9000\n",
            "Epoch 11/1000\n",
            "100/100 [==============================] - ETA: 0s - loss: 0.2814 - acc: 0.9165\n",
            "Epoch 11: val_acc improved from 0.90310 to 0.90832, saving model to IncepV3_Best\n"
          ]
        },
        {
          "output_type": "stream",
          "name": "stderr",
          "text": [
            "WARNING:absl:Found untraced functions such as _jit_compiled_convolution_op, _jit_compiled_convolution_op, _jit_compiled_convolution_op, _jit_compiled_convolution_op, _jit_compiled_convolution_op while saving (showing 5 of 94). These functions will not be directly callable after loading.\n"
          ]
        },
        {
          "output_type": "stream",
          "name": "stdout",
          "text": [
            "\b\b\b\b\b\b\b\b\b\b\b\b\b\b\b\b\b\b\b\b\b\b\b\b\b\b\b\b\b\b\b\b\b\b\b\b\b\b\b\b\b\b\b\b\b\b\b\b\b\b\b\b\b\b\b\b\b\b\b\b\b\b\b\b\b\b\b\b\b\b\b\b\b\b\b\b\b\b\b\r100/100 [==============================] - 56s 560ms/step - loss: 0.2814 - acc: 0.9165 - val_loss: 0.3221 - val_acc: 0.9083\n",
            "Epoch 12/1000\n",
            "100/100 [==============================] - ETA: 0s - loss: 0.2815 - acc: 0.9204\n",
            "Epoch 12: val_acc improved from 0.90832 to 0.91064, saving model to IncepV3_Best\n"
          ]
        },
        {
          "output_type": "stream",
          "name": "stderr",
          "text": [
            "WARNING:absl:Found untraced functions such as _jit_compiled_convolution_op, _jit_compiled_convolution_op, _jit_compiled_convolution_op, _jit_compiled_convolution_op, _jit_compiled_convolution_op while saving (showing 5 of 94). These functions will not be directly callable after loading.\n"
          ]
        },
        {
          "output_type": "stream",
          "name": "stdout",
          "text": [
            "\b\b\b\b\b\b\b\b\b\b\b\b\b\b\b\b\b\b\b\b\b\b\b\b\b\b\b\b\b\b\b\b\b\b\b\b\b\b\b\b\b\b\b\b\b\b\b\b\b\b\b\b\b\b\b\b\b\b\b\b\b\b\b\b\b\b\b\b\b\b\b\b\b\b\b\b\b\b\b\r100/100 [==============================] - 51s 510ms/step - loss: 0.2815 - acc: 0.9204 - val_loss: 0.3161 - val_acc: 0.9106\n",
            "Epoch 13/1000\n",
            "100/100 [==============================] - ETA: 0s - loss: 0.2645 - acc: 0.9209\n",
            "Epoch 13: val_acc improved from 0.91064 to 0.91482, saving model to IncepV3_Best\n"
          ]
        },
        {
          "output_type": "stream",
          "name": "stderr",
          "text": [
            "WARNING:absl:Found untraced functions such as _jit_compiled_convolution_op, _jit_compiled_convolution_op, _jit_compiled_convolution_op, _jit_compiled_convolution_op, _jit_compiled_convolution_op while saving (showing 5 of 94). These functions will not be directly callable after loading.\n"
          ]
        },
        {
          "output_type": "stream",
          "name": "stdout",
          "text": [
            "\b\b\b\b\b\b\b\b\b\b\b\b\b\b\b\b\b\b\b\b\b\b\b\b\b\b\b\b\b\b\b\b\b\b\b\b\b\b\b\b\b\b\b\b\b\b\b\b\b\b\b\b\b\b\b\b\b\b\b\b\b\b\b\b\b\b\b\b\b\b\b\b\b\b\b\b\b\b\b\r100/100 [==============================] - 52s 525ms/step - loss: 0.2645 - acc: 0.9209 - val_loss: 0.3195 - val_acc: 0.9148\n",
            "Epoch 14/1000\n",
            "100/100 [==============================] - ETA: 0s - loss: 0.2494 - acc: 0.9295\n",
            "Epoch 14: val_acc improved from 0.91482 to 0.92072, saving model to IncepV3_Best\n"
          ]
        },
        {
          "output_type": "stream",
          "name": "stderr",
          "text": [
            "WARNING:absl:Found untraced functions such as _jit_compiled_convolution_op, _jit_compiled_convolution_op, _jit_compiled_convolution_op, _jit_compiled_convolution_op, _jit_compiled_convolution_op while saving (showing 5 of 94). These functions will not be directly callable after loading.\n"
          ]
        },
        {
          "output_type": "stream",
          "name": "stdout",
          "text": [
            "\b\b\b\b\b\b\b\b\b\b\b\b\b\b\b\b\b\b\b\b\b\b\b\b\b\b\b\b\b\b\b\b\b\b\b\b\b\b\b\b\b\b\b\b\b\b\b\b\b\b\b\b\b\b\b\b\b\b\b\b\b\b\b\b\b\b\b\b\b\b\b\b\b\b\b\b\b\b\b\r100/100 [==============================] - 51s 513ms/step - loss: 0.2494 - acc: 0.9295 - val_loss: 0.2839 - val_acc: 0.9207\n",
            "Epoch 15/1000\n",
            "100/100 [==============================] - ETA: 0s - loss: 0.2395 - acc: 0.9307\n",
            "Epoch 15: val_acc did not improve from 0.92072\n",
            "100/100 [==============================] - 17s 165ms/step - loss: 0.2395 - acc: 0.9307 - val_loss: 0.2885 - val_acc: 0.9207\n",
            "Epoch 16/1000\n",
            "100/100 [==============================] - ETA: 0s - loss: 0.2404 - acc: 0.9309\n",
            "Epoch 16: val_acc did not improve from 0.92072\n",
            "100/100 [==============================] - 18s 174ms/step - loss: 0.2404 - acc: 0.9309 - val_loss: 0.3592 - val_acc: 0.8990\n",
            "Epoch 17/1000\n",
            "100/100 [==============================] - ETA: 0s - loss: 0.2191 - acc: 0.9378\n",
            "Epoch 17: val_acc improved from 0.92072 to 0.92206, saving model to IncepV3_Best\n"
          ]
        },
        {
          "output_type": "stream",
          "name": "stderr",
          "text": [
            "WARNING:absl:Found untraced functions such as _jit_compiled_convolution_op, _jit_compiled_convolution_op, _jit_compiled_convolution_op, _jit_compiled_convolution_op, _jit_compiled_convolution_op while saving (showing 5 of 94). These functions will not be directly callable after loading.\n"
          ]
        },
        {
          "output_type": "stream",
          "name": "stdout",
          "text": [
            "\b\b\b\b\b\b\b\b\b\b\b\b\b\b\b\b\b\b\b\b\b\b\b\b\b\b\b\b\b\b\b\b\b\b\b\b\b\b\b\b\b\b\b\b\b\b\b\b\b\b\b\b\b\b\b\b\b\b\b\b\b\b\b\b\b\b\b\b\b\b\b\b\b\b\b\b\b\b\b\r100/100 [==============================] - 51s 516ms/step - loss: 0.2191 - acc: 0.9378 - val_loss: 0.2827 - val_acc: 0.9221\n",
            "Epoch 18/1000\n",
            "100/100 [==============================] - ETA: 0s - loss: 0.2344 - acc: 0.9331\n",
            "Epoch 18: val_acc improved from 0.92206 to 0.92340, saving model to IncepV3_Best\n"
          ]
        },
        {
          "output_type": "stream",
          "name": "stderr",
          "text": [
            "WARNING:absl:Found untraced functions such as _jit_compiled_convolution_op, _jit_compiled_convolution_op, _jit_compiled_convolution_op, _jit_compiled_convolution_op, _jit_compiled_convolution_op while saving (showing 5 of 94). These functions will not be directly callable after loading.\n"
          ]
        },
        {
          "output_type": "stream",
          "name": "stdout",
          "text": [
            "\b\b\b\b\b\b\b\b\b\b\b\b\b\b\b\b\b\b\b\b\b\b\b\b\b\b\b\b\b\b\b\b\b\b\b\b\b\b\b\b\b\b\b\b\b\b\b\b\b\b\b\b\b\b\b\b\b\b\b\b\b\b\b\b\b\b\b\b\b\b\b\b\b\b\b\b\b\b\b\r100/100 [==============================] - 51s 514ms/step - loss: 0.2344 - acc: 0.9331 - val_loss: 0.2741 - val_acc: 0.9234\n",
            "Epoch 19/1000\n",
            "100/100 [==============================] - ETA: 0s - loss: 0.1925 - acc: 0.9458\n",
            "Epoch 19: val_acc did not improve from 0.92340\n",
            "100/100 [==============================] - 17s 168ms/step - loss: 0.1925 - acc: 0.9458 - val_loss: 0.2768 - val_acc: 0.9233\n",
            "Epoch 20/1000\n",
            "100/100 [==============================] - ETA: 0s - loss: 0.1956 - acc: 0.9425\n",
            "Epoch 20: val_acc did not improve from 0.92340\n",
            "100/100 [==============================] - 17s 167ms/step - loss: 0.1956 - acc: 0.9425 - val_loss: 0.2848 - val_acc: 0.9230\n",
            "Epoch 21/1000\n",
            "100/100 [==============================] - ETA: 0s - loss: 0.2023 - acc: 0.9457\n",
            "Epoch 21: val_acc improved from 0.92340 to 0.92833, saving model to IncepV3_Best\n"
          ]
        },
        {
          "output_type": "stream",
          "name": "stderr",
          "text": [
            "WARNING:absl:Found untraced functions such as _jit_compiled_convolution_op, _jit_compiled_convolution_op, _jit_compiled_convolution_op, _jit_compiled_convolution_op, _jit_compiled_convolution_op while saving (showing 5 of 94). These functions will not be directly callable after loading.\n"
          ]
        },
        {
          "output_type": "stream",
          "name": "stdout",
          "text": [
            "\b\b\b\b\b\b\b\b\b\b\b\b\b\b\b\b\b\b\b\b\b\b\b\b\b\b\b\b\b\b\b\b\b\b\b\b\b\b\b\b\b\b\b\b\b\b\b\b\b\b\b\b\b\b\b\b\b\b\b\b\b\b\b\b\b\b\b\b\b\b\b\b\b\b\b\b\b\b\b\r100/100 [==============================] - 55s 553ms/step - loss: 0.2023 - acc: 0.9457 - val_loss: 0.2691 - val_acc: 0.9283\n",
            "Epoch 22/1000\n",
            "100/100 [==============================] - ETA: 0s - loss: 0.1749 - acc: 0.9481\n",
            "Epoch 22: val_acc did not improve from 0.92833\n",
            "100/100 [==============================] - 17s 165ms/step - loss: 0.1749 - acc: 0.9481 - val_loss: 0.2784 - val_acc: 0.9235\n",
            "Epoch 23/1000\n",
            "100/100 [==============================] - ETA: 0s - loss: 0.1873 - acc: 0.9457\n",
            "Epoch 23: val_acc improved from 0.92833 to 0.92893, saving model to IncepV3_Best\n"
          ]
        },
        {
          "output_type": "stream",
          "name": "stderr",
          "text": [
            "WARNING:absl:Found untraced functions such as _jit_compiled_convolution_op, _jit_compiled_convolution_op, _jit_compiled_convolution_op, _jit_compiled_convolution_op, _jit_compiled_convolution_op while saving (showing 5 of 94). These functions will not be directly callable after loading.\n"
          ]
        },
        {
          "output_type": "stream",
          "name": "stdout",
          "text": [
            "\b\b\b\b\b\b\b\b\b\b\b\b\b\b\b\b\b\b\b\b\b\b\b\b\b\b\b\b\b\b\b\b\b\b\b\b\b\b\b\b\b\b\b\b\b\b\b\b\b\b\b\b\b\b\b\b\b\b\b\b\b\b\b\b\b\b\b\b\b\b\b\b\b\b\b\b\b\b\b\r100/100 [==============================] - 52s 519ms/step - loss: 0.1873 - acc: 0.9457 - val_loss: 0.2658 - val_acc: 0.9289\n",
            "Epoch 24/1000\n",
            "100/100 [==============================] - ETA: 0s - loss: 0.1704 - acc: 0.9504\n",
            "Epoch 24: val_acc did not improve from 0.92893\n",
            "100/100 [==============================] - 17s 166ms/step - loss: 0.1704 - acc: 0.9504 - val_loss: 0.2850 - val_acc: 0.9247\n",
            "Epoch 25/1000\n",
            "100/100 [==============================] - ETA: 0s - loss: 0.1571 - acc: 0.9539\n",
            "Epoch 25: val_acc did not improve from 0.92893\n",
            "100/100 [==============================] - 17s 166ms/step - loss: 0.1571 - acc: 0.9539 - val_loss: 0.2745 - val_acc: 0.9270\n",
            "Epoch 26/1000\n",
            "100/100 [==============================] - ETA: 0s - loss: 0.1724 - acc: 0.9518\n",
            "Epoch 26: val_acc improved from 0.92893 to 0.93132, saving model to IncepV3_Best\n"
          ]
        },
        {
          "output_type": "stream",
          "name": "stderr",
          "text": [
            "WARNING:absl:Found untraced functions such as _jit_compiled_convolution_op, _jit_compiled_convolution_op, _jit_compiled_convolution_op, _jit_compiled_convolution_op, _jit_compiled_convolution_op while saving (showing 5 of 94). These functions will not be directly callable after loading.\n"
          ]
        },
        {
          "output_type": "stream",
          "name": "stdout",
          "text": [
            "\b\b\b\b\b\b\b\b\b\b\b\b\b\b\b\b\b\b\b\b\b\b\b\b\b\b\b\b\b\b\b\b\b\b\b\b\b\b\b\b\b\b\b\b\b\b\b\b\b\b\b\b\b\b\b\b\b\b\b\b\b\b\b\b\b\b\b\b\b\b\b\b\b\b\b\b\b\b\b\r100/100 [==============================] - 52s 520ms/step - loss: 0.1724 - acc: 0.9518 - val_loss: 0.2604 - val_acc: 0.9313\n",
            "Epoch 27/1000\n",
            "100/100 [==============================] - ETA: 0s - loss: 0.1680 - acc: 0.9511\n",
            "Epoch 27: val_acc did not improve from 0.93132\n",
            "100/100 [==============================] - 16s 164ms/step - loss: 0.1680 - acc: 0.9511 - val_loss: 0.2685 - val_acc: 0.9285\n",
            "Epoch 28/1000\n",
            "100/100 [==============================] - ETA: 0s - loss: 0.1531 - acc: 0.9572\n",
            "Epoch 28: val_acc improved from 0.93132 to 0.93221, saving model to IncepV3_Best\n"
          ]
        },
        {
          "output_type": "stream",
          "name": "stderr",
          "text": [
            "WARNING:absl:Found untraced functions such as _jit_compiled_convolution_op, _jit_compiled_convolution_op, _jit_compiled_convolution_op, _jit_compiled_convolution_op, _jit_compiled_convolution_op while saving (showing 5 of 94). These functions will not be directly callable after loading.\n"
          ]
        },
        {
          "output_type": "stream",
          "name": "stdout",
          "text": [
            "\b\b\b\b\b\b\b\b\b\b\b\b\b\b\b\b\b\b\b\b\b\b\b\b\b\b\b\b\b\b\b\b\b\b\b\b\b\b\b\b\b\b\b\b\b\b\b\b\b\b\b\b\b\b\b\b\b\b\b\b\b\b\b\b\b\b\b\b\b\b\b\b\b\b\b\b\b\b\b\r100/100 [==============================] - 55s 555ms/step - loss: 0.1531 - acc: 0.9572 - val_loss: 0.2578 - val_acc: 0.9322\n",
            "Epoch 29/1000\n",
            "100/100 [==============================] - ETA: 0s - loss: 0.1481 - acc: 0.9576\n",
            "Epoch 29: val_acc did not improve from 0.93221\n",
            "100/100 [==============================] - 16s 163ms/step - loss: 0.1481 - acc: 0.9576 - val_loss: 0.2713 - val_acc: 0.9300\n",
            "Epoch 30/1000\n",
            "100/100 [==============================] - ETA: 0s - loss: 0.1558 - acc: 0.9588\n",
            "Epoch 30: val_acc did not improve from 0.93221\n",
            "100/100 [==============================] - 17s 165ms/step - loss: 0.1558 - acc: 0.9588 - val_loss: 0.2801 - val_acc: 0.9283\n",
            "Epoch 31/1000\n",
            "100/100 [==============================] - ETA: 0s - loss: 0.1369 - acc: 0.9606\n",
            "Epoch 31: val_acc did not improve from 0.93221\n",
            "100/100 [==============================] - 16s 164ms/step - loss: 0.1369 - acc: 0.9606 - val_loss: 0.2703 - val_acc: 0.9306\n",
            "Epoch 32/1000\n",
            "100/100 [==============================] - ETA: 0s - loss: 0.1403 - acc: 0.9613\n",
            "Epoch 32: val_acc did not improve from 0.93221\n",
            "100/100 [==============================] - 17s 165ms/step - loss: 0.1403 - acc: 0.9613 - val_loss: 0.2788 - val_acc: 0.9279\n",
            "Epoch 33/1000\n",
            "100/100 [==============================] - ETA: 0s - loss: 0.1273 - acc: 0.9648\n",
            "Epoch 33: val_acc did not improve from 0.93221\n",
            "100/100 [==============================] - 16s 165ms/step - loss: 0.1273 - acc: 0.9648 - val_loss: 0.2873 - val_acc: 0.9290\n",
            "Epoch 33: early stopping\n"
          ]
        }
      ]
    },
    {
      "cell_type": "code",
      "source": [
        "model_best = keras.models.load_model('/content/IncepV3_Best')\n",
        "\n",
        "pred = model_best.predict(test_generator)\n",
        "pred = np.argmax(pred, axis=1)\n",
        "\n",
        "sub = df_test[['imageid_boxid', 'class']].copy()\n",
        "sub['class'] = pred\n",
        "sub.to_csv('InceptionV3.csv', index=False)\n",
        "!kaggle competitions submit -c hackathon-online-2022-image-processing -f 'InceptionV3.csv'  -m 'InceptionV3_Freeze.csv'"
      ],
      "metadata": {
        "colab": {
          "base_uri": "https://localhost:8080/"
        },
        "id": "yDsQJoB0M0e-",
        "outputId": "b3e2325e-8a04-48ce-f650-2596e99f20de"
      },
      "execution_count": null,
      "outputs": [
        {
          "output_type": "stream",
          "name": "stdout",
          "text": [
            "261/261 [==============================] - 25s 92ms/step\n",
            "100% 233k/233k [00:01<00:00, 178kB/s]\n",
            "Successfully submitted to Hackathon Online: Image Processing"
          ]
        }
      ]
    },
    {
      "cell_type": "code",
      "source": [
        "!zip -r -q '/content/drive/MyDrive/Colab Notebooks/SuperAi/Pracetice/Image Processing/IncepV3_Best.zip' /content/IncepV3_Best"
      ],
      "metadata": {
        "id": "GfsVSwIKMo8W"
      },
      "execution_count": null,
      "outputs": []
    },
    {
      "cell_type": "markdown",
      "source": [
        "![image.png](data:image/png;base64,iVBORw0KGgoAAAANSUhEUgAABUoAAACXCAYAAADDJ2HCAAAAAXNSR0IArs4c6QAAAARnQU1BAACxjwv8YQUAAAAJcEhZcwAAEnQAABJ0Ad5mH3gAAFgoSURBVHhe7d0JXFVl/j/wT+FAFmJCNFIommAFmoGNBiOKogiG3qQfan8d+kk6mVlJajrkhhW5hJi4BulIOpmMC0riRmg6kP0UKoVSsEIpGO94TbxlMNL9P2e5Kzvu8nm/XjfOec7+nOdcO9/7LHcYBBARERERERERERG1YHeqf4mIiIiIiIiIiIhaLAZKiYiIiIiIiIiIqMWrtel90akSdYqIiIiIiIiIiIjo9sc+SomIiIiIiIiIiKjFY9N7IiIiIiIiIiIiavEYKCUiIiIiIiIiIqIWj4FSIiIiIiIiIiIiavEYKCUiIiIiIiIiIqIWj4FSIiIiIiIiIiIiavEYKCUiIiIiIiIiIqIWj4FSIiIiIiIiIiIiavEYKCUiIiIiIiIiIqIWj4FSIiIiIiIiIiIiavEYKCUiIiIiIiIiIqIWj4FSIiIiIiIiIiIiavEYKCUiIiIiIiIiIqIWj4FSIiIiIiIiIiIiavEYKCUiIiIiIiIiIqIWj4FSIiIiIiIiIiIiavEYKCUiIiIiIiIiIqIWj4FSIiIiIiIiIiIiavEYKCUiIiIiIiIiIqIWj4FSIiIiIiIiIiIiavHuMAjqNBERERERERHRzefXUuQd3I+czwtR+ivg9LA//B7zRX9fdzjYqesQXW8sl7cdBkqJiIiIiIiI6KZUeWoH4v+2GKlHStUUG/e4o/9f47Fgoj9cGZii64Tl8vbFQCkRERERERER3XTObHwJo2fvwZnLgIP3UEx6/i8I9XdHW2mhtgDbtqzAhxvy5eXoMgZrNs1B/3bSQqJrh+Xy9nZ9AqVVepQUfImTl9qj52OecHZU0xuhSleOKsf2cLRXE66IHkWZB3ExIAx+cgluph8PYUuRJyKC2qsJN7f68lBapq9SZyRivabcn2tBX5iJ3F8DMeiJZp7ILXZ/iIiIiIjo5lPjXam1M5zbNvBiWl2OA+nF6KrpA7ebpRaZXoeirw/jp9Y+6OnT8Sq9W197FTtfw8BJO6CFK0Lf/BBLRneBg7rMyq/5WPa/f0HCkUrAdShW7lqM0BYXlKqCvlwn/muhie/2DcZeRDnSVdnDWdrp1SjnLJc3VnPzv1oPnbYKjq7OsL9JvuOqLojvarurF8u65oHSoo3T8EZKASrbOorCU4Vzuip0jXwbiyb6ouFrKEbqcxPwQ9Q+zA5Wk66ENg2Tn10NvLAJSyKd1cSmy0t4Gq8eDMR726bAT027edWXh8qy5NPqrMre1RfPvT4HUc0NVF4RHba8MgKJeAHpSyPRmLukLz6E3IueGOSrBEZvrftDREREREQ3nzrelR4Mw+zEKejnqibYOpIAzbSDCFq0DTFPqGnNZPue03R65CZMwMxMHRzl93E9yi44ot/LS/GW5iavVHI+DdG9Y5F92RWaZbuwZIiTugA4k7sDeeWA65+GIsBdTawuxLIIDRKOifTI5di3IATmLVqCTzGvfzz2qnNGbr5j8fb80fBqMAjWcOylJCUaY8R79vp1Y+FxReWc5fLGusL8L16L58cfRL/kNYjyVNOaTY+igwdx0SsMfldw6w/MHojUjqvwwbgrPiHZtR31vnA14lLOYdDSbUjfvAmbNm9D1voX0CbjDSw/qK5zPblGYsm+fVcUJJX4TdmGg7dREK7r6FU4mL1P+ezbhlWjgM3TxiAxR13hunJGxFJxHo0MkkrO7V+DeVsL1bnb7/4QEREREdGNYf2utAkzHjqImbEbUKYur+GJKUjPvvIgqcT2Paep9BlxeP2gF2Z8tFN9H9+JzPm9UbZkLjb+qK50k8penIjsy+IVfnS8VTBKUvDxa5g85TVs+lpNkNh5Y9LflRp72rTlSD2pprcwg2aqZVX67F6KQT+vxSsJh9SlV9EVlHOWyxvr5sr/cuSmJCCjQJ29SdjNFdTpq67q8MdYeuYJTPvrE7hXTYPTI+jm7Yy2Lm7o4FyMLW8l45v7AvGo8Rc57SEkJx6GQ18f3A8dvtqWgZ97RKBN7rtYsHA1dh39EXYP+aJLO6WO7/G0eKRrPXDf8RTMnbcCuwov4f4ej6HNd+lIXrgES9O/RtV9Pujm3lqsXWhzvCqUZKVidUIClm7LRelFV3R/zA3Kjy11L9PtX42lO3+D9586Qtorqk5j74qFSEpaW+P8TNfTowqfvvsO5r+fiSJdG3Tp0RFt6ghT6w5vwKqVKVi+NhPHf6zCA488Ape7pCXS+W/B2S7uKFoXh3cXbsFnZ6vRybRcqNbh+LYUvLs4AVsOlsPBxwv6LCkPo9DvIXUdEyV/SzzCofFTw5J32sPl0RA8UbkH83fqETZM5KW8QORHxgosfS8JyTuPoszghce7toWxprXuWDrWvLsE76buwTfi4er6hJfF9dW9rXL/3HDHv1aJ+7sdPz8RAuyJx9pCF/TxcVXy+v/uxuOX9iDx7YVYVcv2qdmFKPnpLLQnTqP60Sfg9H8296e+c2/G/SEiIiIiottdbe9KrdGlyyX8a80RtH4qDI/+qr5LdDmNtDcT8O6xexHpdVqkZUIv3kvu+CwBq4+2Rp9ubsr2kh8/xfKlOWj1p8fg9oe63/1qe8/pdI/Yvr53Txsnd6fgkzbP4K3wzmoKYP/AY/Du0hpt7vOCm9yAsP73vPqOp7yr2aHL6X/izYUJON4uEv4eYoH2MDaueg/LE8T7aukFuHiJa5XOvdH24+/TNuKr33wxefk09LSpgufQtjN6/Hkwevk9jA6Wy1o/jAcqdmLTkZPQtglE1J8t8v229z0OrDsI9LV477dzRc+232P1R1o8OjoAF0SZMr5nK3Q4sCIRefdI8ZGGYy8X8tKx5bQHIob74l75PVop53K5bKgcWbgq5bKeMlZbjKGb1PUiy6Wscfmvfje9twKJaQdQerEtHvZxR2spRqL7Ett3nEanYRr0UL8a61xXVftyKb6Vir0nfkRpeSm+K7nDHMOp916JsqHG6lbt/BZVf/RFmxPivrS1+K6+Qtc0FGT/kCc8TmdiY1a5uBQzN98w+HtKuV+O41mf4rjlz3EXivB5ViHOqbOSkg1TsbzYA0+NHo2+DxZh2fgJSD2hLDt37FPsXRuP5Sc8xfJIeHy3Fq/GTMC8lHK4DdAgwqccH82YitRiaW3r45VtnIoxSflwDp+Ctyf2QVXGG3g1RV6x3mUXiw8j43ARLkoz+kNY8OwErNN5y+f3lLcO68aPwIL9enld5XoykRj3D1z0DsNzET4oy5iLCQmHleU2yja+As0bmajyHoGXJo5Ap9NrER2zFiXyUun8s5A6dy7ynAcgYlwgXHKSEB2bpv6iqceBuGi8mKaDX8RYRPjb45Pp8TignkpTeEWEoae4zlytNCf2+9YYRG/QoWv4aDwX3BElaycgekW+vC5yEjA2Jg36x8fi7VlPw61oNSbEfSq2kqjbrj0Nt2Cxbbgnyiy2le/firlYfswNfUdr0FOUaykt41i5vFzO64x3MW1JMTzUYxeliGtU74WLpy+6SU+ysxf8evrgAfFUWd0f23MP94Z+QzQi4w4p59fE+0NERERERC2dHvpL4o/8LpGG+XPTUfW4BuMHeKpph1FyAfBoC+xPzURutbKV5Hj6Kmy84Iyu4r2lvne/2t5zbN89+z54GskTopGsvpbZ6tTZAziyDanHLF8IHeEVaGzmWv+7WkPvuvJ7V9o7mLelSn7/7OclEos34MUx7+Dz1n3E+6oGfpcyMW3MNGSI/Gi0k4U4el787epvbsJsoYP/UGiGWzRvtuD3J3+5aXPxlwWQX2UJ0pgxUjzG8j1boUPJYet4TH2xFysW5bzBcmTjisulTRl7svVhxD0brcZ8ao8xsFyaNZz/ohykTkDkO4fh6C++1yIeR1VmHCJnZCoxFBsNrSsvny2+56TvyIg+4kvRuNwZnXp6w0N8t7l4+cKve3ul0mID96ooZYISq5PLhgdKlkxFqhIwu3qkPkqvpZ92vm2IDgk29AmLNEyYutTw0b9KDJXqMoMhyxAXFGyI26fOSorWGKKD5hr2KzOGdVFi25hthovyvOJYYqShz9Sdctr+WTbLv11lGB30smHzWXXeUGJYNzbYMG2btIb18aRtR68qUmYkZSWGkz8rZ1ffsh+Sxxr6RK0x/GCcHrfe8JO8RHFx21RDn8hVhmPSjHw9kYbF/ycvUuybK/LjXUOOOmup8uciw7ECi6u9uM0wLWisYV2JNKOc/7TNFsvl/avXWyCuPXiqYcfPyiJZ3lKRHzZ5bKLkb3SyxXWaSMcSx5UWla43TLDdrzFNnIqcB7E71QXCxTLDyVL1HKX1gl4wfFSqzMqKdhoWx28znBST8v172fr+ymmzsuRped+1XZN6bIm8jrq+xPL+KPljc/yfRZ4GRxreLxDTTbw/RERERETUEtT2rlRpOLlcvGvU964np6nvUYYCw/uRlu9iyvwb6otM/e9+Nd9zflr/Qo13YzlNfTeu6aLhaPJUQ2RwsGFA+GjDq2+uMez5+py6TGjgXU0+fj3vuvLyiHcNRy8ryyQ58WGG0Yl56pxCTlsuvXw10icxhk6dPQ2dXt2tJljLfFUsE8tf/URNsHRiueEpadunlos72JLUElu5fM6wJzbMOnZiUZ6MZVzZpuHYS833bIt4QT3lqKYrK5fSdYTGH1TSVTViRDYxBpZLSw3k/+WDhvlhkYZlltmlppljKOq9b2hdeTrMMP8zZZHs4ueGdW+uMuTIh7Qsg4p679XFnYY3gm2OJ8d36oprNc81b1zsFhaLD3bvRKbU4XXH09j7VjTCxiQgtwmR+569Aq0GfurWqzccCwpxTJ2HYxvzcjt7OMAFLqbOtTvCwx04p7X85UTR1dsbJWmxeDFhAw7kn4beuSO81FEM61tmpsexwtPoGhAIy8rTjgG90FNbgJOmnwoc4WLqe0Dw6Iiul5RfdWzZt/VEt45VKMrJxN4NSVjwTibkH3AsVpY63DXx9ICHOA+9yE99UTFKHu6FAMsR/X37wP8Kax/rj3yJ4+3boUo6p0z187UOqC5BSZG4HG8fOOck4fnZa7Elpxg6tIfXg8o5ytt6ByPkQXlW4RmGmL9pIP3gKLvX4v7VpqM3utteU9sCFFn2/VEHvSgnJzv3hr/l8dsG4smHdSiQrkHW+PtDREREREQtx8ktsRjxzAj5oxkyBNFZLoh58wV0U5fXeJew4g3/IGfsPfCpMlt4EAf0A/BUmPL205h3PzM9jh4thodzFXKN72Tic1x65/yuGD8oK9lwhN+4Rdi0exvWzxsNP+Qjeaq4ltfSUFTd0LtaI991HZ3hYmoPnY+8I8AD9uXm90bxKdE7oqS4SOyxkezUfuV+uYAKZYoa6cASpawq5XUE5pcEY+HMsPrfty00GHupRaPe+a1cSbnMx/ECIMi/j7pAUeM8rWIMLJfW6s9/fJ2Po/CAfbk5r/buKUFlax2Kimxyq6F15eXB6Buori9x7I2omS/UEadq4F4VFeOkfW/4+aqrS9qK/T+mTl8l16kXRns4Ptwbo15ehA92rMIou0ws39D4Tqkd29rkoIv4x+gqBLLcRi1FeuJY+ONLbHxrAsLEF8mCLOXG17fMTAfdz2Ld9h3VeZWzoyh6SvCyqYrWTkDw02Mwf6soIDpn+D3VG93VZQ05pzsHONirfawatYG93MlDExWXoAQucG6v7reqHEVHxTmZPhfRKfhxuDmIdQOmIG3NHAxyLcZnK6YicugQvLhWqfde+zk10b3iH191UtEGbRyrcFFq7tIA+fhu7cWja8kZbcT/zFzUGwOlRERERERENXmETcGq5Uvlz9o125C1eREiHlYXNkK3kDB0zclEhniVPL4/C+cC+8JfDSw27d1PefesKiuyeCcTH31HhDc0Kr6do9z9XdTMpdi0aQq6frsa6zL1DbyrNedd9xc5/dxpi/MTn5LWjyPc06Xx7++e7vCR/p44BbU1deMVF0MeF8bNFffLCS2L/1ilrMrl9SNpMO0p8LesdNSA5sRemv3O36xyKZWx9nC27eaz3vNkuaxVHfmPCzqU4RxKLPIq72gJHHwHwKutTW41tK60vLW9Ou5NYzRwr2rdnyMcmhPzqsc1DZRKnegmZtgUITtPdPOxR4lWClK1g4ttFLm6CpXqpNHJE9Z9W+i/LUZJ547opM5fCWdvUTCmLMJKaaSvie2RkbAauY1YpugIr0fscfSYTX+WXxfjpJ0HPDzV+UaT+ng5jZA5O/HBolhMf3k0Bj3m3OgH10Pqa0LkjdWvPfoCFDV55DI9DqSm4+QTAxDkqO632gtPzRTnZPOJ8Fa2sO8oBcLfxpL14st4UTDOpS7FFq3Y9mEfOH5bgGMW/fKgWg9deRMC3SWnrX8hFdd0/LS4/7X/PGVFPn5+oc19y8fJb4Gunk2+QURERERE1II4tJYqj7RXP45NDwZ5hmFQ53x8vv8wDmTpEdLPWBOuqe9+HeEh1f7wCqvxTjZ9ZqRFDVcjaaCeeKTm2FT2adsbfp2BMvE+Xv+7WnPedTvCrWMVXPxfqXmOE/ug0Q0du/ijfxfxt3Q/dh1Rkhor+9AB+W9AnyC5T8iWxr6tsayKj7N1PVIX55p3oNLy3gvNib007Z3/SsulN7weLkdBvnWlp/rPk+XSrOH8x0NSC1sXPDnZJq/EZ3yQTW41tK6PN3rqCnDcKiZVBX25DlU2ZU/RwL2Sjqcrsmi9LVHiO1fTNQ2Udmp9HluWxGP5YWMhrkJZThJS9gCD+jwu5r3g8RCQ+0kaSsQTVFV+GMvfTVcHLjIry1yN5EL1EdNmYvHafPQMCbOpJdhUxUh9biCeTylUH15xbuLBg6szHqh3mTX/QWFw2WNxflWFSE5KR2VIKPopKU0gdRlQhXNyEFmiR15Kuk2Qrx6BoYiwz0TKavW8q3XYu3ADcmsbaq42eh103x9G6mvRmPm1F6ZPVqvoBw7DKLt0JBr3K+gy46AZEocDl6pwYPYQaOIyoVMLuk4U+ot24lqkZ6j3AIQ7fooUU16Ka1ryCjSz0q0G7KqXzuLY8jWtRa63+B8Oyx83fz5nOr4V+fgWeSL+W7Q6CRurw6yrfxMREREREV117RES7I0DKe8gw06DQQFqcmPf/Szec/oN08A+I8n87im9G81+GmFxh0zvaWZSq7wvkbwwDlu+N66vR9GWd7CusCP6BYqXqQbe1Zr+rtsRERpf5K5NwF5jIEPaJnoInldbHDaOL0ZESm1rTyE5cT3OKIkNK0xEwsYKoFUIhg039cVHqk6eHsCRTKU8VJUjd8m72GjTQ2GzYi9Neue/0nLpjJAQXxzdmGQuYw2eJ8ulWSPyv2Mkhvvmi3XMMZ6qwtV4frB5wCyThtZ1DcNA32J8tNq8vGzLG4iMXoWjyqxMb/oebOBedQzDU96FWJdk3J8U31mNLc1ozV2faxoodQyfg/dGueDA7BEI7D9QfIZgRNxBuIx9FzOCpRCcI8LHvYDuJasxZvBABD+3Fm0iNOiqbG4y6IUR0M0aguAhQxA4IgklgXPx1qgGmhc0yBNRsS+IL/5XxH5HQDNY7W8mdqx4uOpbZsP3ZSya4onPY8S5ifUCB0/FXveXsWpKb3WFpvBExLgwnFst8muI+Adv4Agkt+3d+ICrXW/ELFDPW5xL2OAx2NJ5LKIs+/aoxckNE5T7M1Rc60sJyHXU4L3kRQg3bmfni5cSp6DrwakIHijtdyA0SSUI+tsU9Gttj35TYhH0XRI04pw1Q5RlIXPEMilAK2/7MjyylG2DBz6NaYc9MH3uaKu+buolHoZ+5XPVaxqB+d8FYmF8pGl7j8gxCP9xNTRi/4k5aqKRzblLnwlZ4vjLp5iavBAREREREV0rzuHifUavh0tQoEXNz4bf/Wq851i+e4p342CxzeLSQMye3KfWmq7dXliK2U+cQ/J4sb70vifexaJTziFozruIkmqENvSu1ox3XUfNHLwXrkfys+L9Xnp/l7ZxGYsZ8gEbr8PzExElxZRy4/BiYqFVq9P+c3LwRU4O5gWrCZLzezB57Aq5ebNPzGsY2RKrkzbAMewFxDxSgsRo6b5EI7WtBqNsYgXNir008Z3/SsulVRmTyuWzSdCFLKr3PFkuzRrMfylON2cRntGvlb97woaIPIvJgsvYWHW5pYbWVZaHn02SlwcPHogRKRcRMe8VNR4jvgejAvFDivQ9mCD/UFT/vWqPiPi5SvxJjg8NwRvlI/CS6Qeoq+MOaUQndfoaUqvW2jvWqP7dFFW6clQ5todjk9s71E/ar97OGc41Bmuqf5k15RrhfDXO78r3JZ+3fXupC5mrquqC2G917fexvmUSeTkak5dmJSnRGHMwEOvXjYWHVONV2n8TtrfUnOMTERERERFdO81591Pfr8W7caPe96Rmy1o90Lrud6H635WacY7qMe2v5P24cAXCn05EwWWgw5AZWDLnefjVUiFPe2gFJk9JRI4WcB22HPuWhLTIZvdXU3NjL016577ScilvXwVHV2fYN7YSFMulWSPyX251rLeHY2O6HWloXWl5lX3jY4IN3KtrGd+5ToFSouaxCpSqaURERERERNQClKThxb/EYlepmG7lBJ9+wxAa5IcOdwMXSnOxe/tu5JxSxiD3HL0c/5gbAle2HKRrjeXytsZAKd3USjZOw7QvemHR4kgGSomIiIiIiFqaai1yPngH8St2oECJPVlwQIc+kRgXMxFRvje6/0dqUVgub1sMlBIRERERERHRTa/yvBYVFh1DOrRzhZODOkN0g7Bc3l4YKCUiIiIiIiIiIqIW75qOek9ERERERERERER0K2CglIiIiIiIiIiIiFo8BkqJiIiIiIiIiIioxWOglIiIiIiIiIiIiFo8BkqJiIiIiIiIiIioxWOglIiIiIiIiIiIiFo8BkqJiIiIiIiIiIioxWOglIiIiIiIiIiIiFo8BkqJiIiIiIiIiIioxWOglIiIiIiIiIiIiFo8BkqJiIiIiIiIiIioxWOglIiIiIiIiIiIiFo8BkqJiIiIiIiIiIioxWOglIiIiIiIiIiIiFo8BkqJiIiIiIiIiIioxWOglIiIiIiIiIiIiFo8BkqJiIiIiIiIiIioxWOglIiIiIiIiIiIiFo8BkqJiIiIiIiIiIioxWOglIiIiIiIiIiIiFq8OwyCOm1SdKpEnSIiIiIiIiIiIiK6/dUaKCUiIiIiIiIiIiJqSdj0noiIiIiIiIiIiFo8BkqJiIiIiIiIiIioxWOglIiIiIiIiIiIiFo8BkqJiIiIiIiIiIioxWOglIiIiIiIiIiIiFo8BkqJiIiIiIiIiIioxWOglIiIiIiIiIiIiFo8BkqJiIiIiIiIiIioxWOglIiIiIiIiIiIiFo8BkqJiIiIiIiIiIioxWOglIiIiIiIiIiIiFo8BkqJiIiIiIiIiIioxWOglIiIiIiIiIiIiFo8BkqJiIiIiIiIiIioxWOglIiIiIiIiIiIiFo8BkqJiIiIiIiIiIioxWOglIiIiIiIiIiIiFo8BkqJiIiIiIiIiIioxWOglIiIiIiIiIiIiFo8BkqJiIiIiIiIiIioxWOglIiIiIiIiIiIiFo8BkqJiIiIiIiIiIioxWOglIiIiIiIiIiIiFo8Bkqp6c7nInlyFEbP348KNemmVF0JbblW+ZyvVBOJiIiIiIiIiIhqYqD0Wjm5AuEPeaHzQxosO6mm3WoqK9RAYwUsw4zFG+cjfnsuct5PROq1uraKNLzYVco/L/Sdn68m2spHwiBlnc7j08xB22otdsVp0OPRbugVEKB8enZDD00s0kvUdYiIiIiIiIiIiCwwUEp1y5qrBhrnIltNkniOikGUrzv8nhN/u6qJV5tTJDRDlMkzO3cjT5m0lr8fu04pk6GDB8NJnqrArikavLiuEBWXHeDqG4SRwb5wvUcsOZaGySNiseumrgZLREREREREREQ3wk0YKK1CxZnPkbrnTbyQPArB7/WDR6L154llo/Dsh29i2cHPUfBLlbodXTftghC3ORub5wSpwclrI3RopLL/0t3YdUROspK3bzeKpYlWIQgKUc/k5Hos264VE67QLMvBF5uTMT95E774bDFC24lkbRo+3CotJyIiIiIiIiIiMrt5AqW/61BweCGeTRqE7v+cjlkF+7BLX4bi39XlFrT/LUPOf/Zh0ZHpGPL+IPT5YCE+LtGpS29iWXHo27c/+kZ/gOLzuVg2PhS9unuhc/cAPBO7A8W1dKOpPfQBJj8TgB5SM/SuPdHrmdeQfKiWQJ9W6jd0BHo9LjVF74ZeoVGYs/WUVZN50/H7xiG7shDJ4vjyfh+vefzsOLFe3B51bg9mG7eTZi33Iy83qkTx1jiMDg3AI1JzeHFdg6LikH7K+sKK14xXto/bD5TswAzj9T0eiuikXGir1RWDQhAmBTdRil37bJvf5yN7j1qddIgGI40R27t9MT5hMZYkJGDKEIswbjtv+LgpkxcqGlGl1Co/vdAjYAQmv29xbqrKUzswJ0rcR9N6oRgdtwNnjOuVrEe0nFehiBeXayV3PgbJy6KQfKt2z0BEREREREREdJu4KQKl2pMf4pVVwzEk5xPkXFYTm+BMxSd4fYvY/h8fIudmblZdeQFnSktx5qc8LPvfKCRknYL2F5H+ixZ5G1/DoOj1OKOsKStI0qBX1Hyk52tRIeXL5Qpo83cgPkqDyTstLrRwBcL/HIX47fnQ/uoE1/YOIk9zkTolFIOm7zH33Wk8vvh8OEmDeHF8eb8V6vFHrECBGuCrPC/W0xoDnJXQyttdUAKvpv2o87IK7JrcH4OmrEfOSS0q73GAg7iu4kPrMTksFDMsz/eXs8r2JdsxecRr+Nh4fRWnkJ0YhafmqhFFuyAMHqwEO2s0vzc1u3fCyKEhcpLM3R+a4UPFxx8d1CSZNhd5cjDSCd28u8hJdbLMT/W0K8rzkT5fnNsUi/w8uQLPhL2G1EPiPsIVHdxdgf+cQs46kZdj1XvpEQT/9lJencLHWdaR0rwDu1Es5UP7fgi9Vl0YEBERERERERFRo9zYQOnvZdi1NQoDPklBunWlQ3Fmzgi47ynMDJiFv2tScWTsVvFJxdaQWVjY4ymEOjrDVV3VqODfKXh2bRRmfVmmptykTu5BzgNzkHG8CN9/k42Vo9yV9Nw0pBtrFp5cgemJhfKkz8ub8G2RWLcoBxue8xYpWqTPSlRrc57CstcTUXAZcB22GF98cxRf5BzFt+kT4dMKOJM2Fwm2NRmxH9lnJ2KzdPzvivDFykglqHgsEbM/KJXXCF0ili0bKk8DQ7FSrPf9d4sRqqbYqtg5F9ONTd7fy8H3x46Lc87BkmHiLl0uxcdx4nxtamNi/w4UD0/GZ9+IfR/fhCn+SlBU+/F27FLX7R8yrNbm96Zm9+0GY3CQnFRT+R4kTI/FjMlR6DsgDtmXHeDzXAJig9XltTLnJ7pb5FHqGPiIJO32v5nyM/vDD5T1nojB3qM5+OyzHHz1rznoL/LdoXg70uXb546nn/KXJkQeHbCogZuPXTuVvPYbONg6qEtERERERERERNfdjQuU/l6E5A+j8MIPJeYaeoKTw5OYNjAFJ1/eio/+8jrG9x6I/g95wPVeZ/HxgJ/PQIwc8DpWj9+KIxNTsNrnSfhYXsXvJUjNjsL/HihSE25G/pg0Zwx87haTDu4InTER/eX0QhTL0T8gL307CqSJLhMxL8YXDnZi2s4VATExmBIZiZEDnVBZLtLyjQG5IEyZNxSu0nqCQ/cYzIuWArBabLOpySh2iklzY+AnHV9wHRyP2GHKdN4n25UAZJNUIHPrDuU+DhbHHaqGsMX5aqY+Dz9pWrseu/fJqWbtxmDKjCB0cBDTd/tiUowasL18CsVqq3oEDcNIOY5s2fze3OzeaUgI+qvXXENFMbLT0vDx9lyc+QXo4D8GI4b51N+vqik/bfKoj8j3aSLfIwfDqdKm64PzpSg29vzgOgZrThbhq5xNmCTFtKWk4UOV+3t+P3KNwd78/ciW46S+CB2iBsqJiIiIiIiIiOiGuTGBUilIum4c3tJZDMR0pxs0PRLx6YQFmNTdCw6NOTMHL4SGLMDOsYmY+Uc3iwBYFbLzxuHZT2/WYOl9uL+9OilxalsjeHf2RzVS6OOjBBqNnIIwaUE85i+IQai0j7Iz6oBGeUgIl/q7NH8mbFRqLFZctB3wyhs+vuqkyvNhNar3TWkzAqVaaNVKvD7eftbX4u6PALVZ+fGTxuinys3Vuialk1MtQUxfhA5Vmsqbmt9bNLt/Oriu6qRCl+exNicHX6QnI/Y5X/yW+wHmPNMfz7xvcx6WjPlZI4+c0P9FKd/jMWWwEgju/+zzcq1dnErDi7298EjvUIyeHIdlOwtRaVl71mkwBg+WJszB3uJD+5Xj+A/D04yTEhERERERERHdcDcgUKrHrm2v462f1VnJH/zwZkQqlg7wg2tzzsjJD+P/Xyo2PuEHTzVJkvPV65hVoFfnWp67nNzRwV182tmrKXVre3dbZeLyb8rfq8YBDlIw8QpITdPl+6o2vzc1u3ePhKaeOCnsHODa3hWu3YMwfs4mLHlOikhWIm/1eptBqJrJeyI2Zy7HlGG+6ODqgErtKeRsX4+ESRo80j8Wu0xVpZ0QFqz0o3omaz/ycAq7divdKvQfOqxGFxJERERERERERHT9XfdAaUXBCiyyHKFeCpIOT0RUh4aDefWzh09gIpb2sgyW6pCavQLZl9TZW4hDG7Vu5U9nrAZ4QnUpcrbuQPrW/SiQAnF3q7VRLz+JN7Kz8dlntXzm2EYTT6HYZpT148VyQ3/A29Mq2Nw4TlKlWNmZMquzFedbiAIlJogOnRoYRKkuvkEIlTeVamSuNzW79xw62Lq2rVCwIRYzpH5JF+2BTQN53O+s5ul5y0GobBjzUxzrjFIh1+TMISnfdyC70NxZhEOXEExasgmfHT6O74/nICNhqFJLtjQNH241n4HTcA00cu3T/cjJ2i/2IaZbhWCw5cj8RERERERERER0w1zfQOnvnyMp+xOLpt0eeDk8EVEPqrNXgc+fE7HoUQ91TvjvJ3hr3+fqzK2jf9BgJWB35AMkWIwYX5EWh9FTXsPk6dtx5h6RENgPYe2kJXuQvEKNSMoq8PFkqQl+KF7cYNvUvBCpKyxGby9cgYSPlTnPfv61BEov4oL5FGrhiv79lHbqFf9MxDKL0yhYkYJd0kSrEAT1k5OawReaYUrXAGc2zEeyfDldEDrQpv8A4X5p4CipX9KVc/H2DotQqTYXH6q1OM3B4ArkvB+HGXFpptH+zfmZj+R3LfLofBrmRIt8F3mf/oN0Z04hOVrp4mD0SnW/d7vCZ1gk+qtN6S/8apFpdiHQ/I+0ncj72A+ULgSCgxDGOCkRERERERER3UJ++60S35w4hU8/y73iT/7XBfL+bhbXNVB65l+peP+/6owQ0H0WpnZSZ67E7zpkH9yKAnXffiGzMM0iAFVcnIpUi0qst4TgGVggjRgvjXA/KQC9nonC6FDxN1YZmMnn5XEIlQd4CkLsm0Pl5tsFiRr00IzHjOmvYXT/AMzYXooz5Q7w+ZNtTc4uaFvwEnr1lgJ9AejxtDrKe7sQTBpnEXx8zNg/6n7MEOv1jfqgzv5LOzw/F1O6i4nLhUh4uifCx8ciWiP+mkbufwkjryAo6Dl8mHIuv1QqtUG9h0FTM04K1zEzlPOQ8u3VADyiXuMjvaOQKp1KK3eMfHmMEijdn4gX56/Hx+tiMd3Yb6lFfmq3S3k0AqOjQtGrbyyy5ZHwYzBe7m+0C/r/yQlnSkuRs2iEfL1yvg8cj1SpJmorf4xQ+1Y16h+sBL+1WiWAqxkaqdZeJSIiIiKiFquyAtpyrfL5VU1rokrxjqHso6Lu1nMmlagwHk978wQn6CZUXWkum+ebV1Yqz6vbi4/VWB51uH7rN+JZuQrXf7v6vqQUZf8+q85dmfM/V8j7u1lcx0BpAdK/UZt3S/4wHC8P8FJnrsDvOuza9jz+98gSjFqfogRL7/TCpICnLAYKKsDWIxbHviU4ITQhHSuf84ZTK/Fw5uci56R48O9xR/+YVPzjZXXwJcFpyGJsfi8SPk5AxbH9+DhtB3JKKuHgPRRxmzdhkjqYkpk3Jr03BwEOUvNyLSouAw4eQYj7cDk0cm1KlfvzmDcnCB2kmqsVWpw5lGeueWnLTuxzUzpig93hcLkCBVlpyD5WIU7OGyMTdmGzxfk2i/tghD6hTgs+g9V+S23J57ELS0b5wlWcd6VWuUbpK82peySWZO7C/MFqeLKHNwKka2vljp6PmoOaUn5+snKMnJ+V2nzkHDoF7S8O6BAcgw1/nwgfdZR9zxc/xIYYKX8q5es15rtynGRE2Q7SFByCp4352y4SGjngSkRERERELVJlIZLH98cjj/ZEr4AA5dOtG/qOX4Gc8+o6DdDujkP449LAsur2AT3xSPf+iH6/sJYgUAVyksajb/du6GE8Xu9u6Py4BjN21B6kOLMjFuHdvdD5IeUzeae6QJU+ybysto/t+laOzMcgy/Un71EX0A1XrcWuOA16PNrNXDZ7inKjiUV6ibpOAyqPfYDo/t3wSE91e/GRynp43B5oa4krVOSuqH392B04cxXWR8kOzAi3XL+eZ6WO63+k/3gkH2PAVGIMkrr98X74PubT7E9nDyVwcrWCrlfDHQZBnb62Ti5Bn0+2mvrb7P/ERvw90E2dayY1SPqCRZ+nTs4TsfO5keiAMqSuG4VZxkWthuOjlycjQJ29tUi/+Em/djjAqb2T+G/dpF9HKuSooCtc71bSTHa+hs6TdoiJoVj53WKEiinpl8eKVk5wbVfvXuXjo50rnOpbzUj61UUr1rcT+3VtzAbXjnx94kvSydUVDmqA04o414pKka+2eaUy5qdDA9duPE5D6xEREREREUljOSyL0CDhmDpvq3sMMraYK2nUpkK83w0U73e2YzMY+cSkI8Oiwkr2rABEb6hrbVdolu3CEuMYCtpcLJsei4T91gFUzbIisY46g1NYFh6KBIuu12xZr29BXH+CRmPVbRuGLcf3S5RBcOlGqsCuyaF4cXsdZcV1KFbuWoxQy0pWtgpXINzYcrUWruJe7xP32tTCcn8cekWvr7MsX/H6J8X5hNd9PtbPSgPX38obU7alY9IV1gW71UlN5iWPPuwJtz82f4jqsn9r8c0Jpe3ygL7+8t8b7brVKM377nOLQYn8MKD71Q+SSjVJnws01iR1Q5inxVA/lz9Hzg/q9C1HCpC6wrWBIKlECtTJI73XEfiz5eAq1q03SCpRjt/oAKBxtPkbHCSVyNcnzqXWIKlEnGtdQVKJMT8bunbjcRgkJSIiIiKihpz5YK4pSOo6eA72flOE77/ZhbjBasDhWCImL85Xpmu1Hwmz1CBpK29MSj+O778T+zicivFyV2RS12x/wzLjIL7l65FiDJJ2n4jNx8W6Yv1v0yfCRxp0Vuq6bPV6U1drxRvnK0HSVu7w6WIKN9moRKUaeHKKXIwvcnJqfOYFK8ttFb8vzq2eACvdQFnzMd0YJOz+PDYcFmWlKAcb/qpGBrU78GJsmnk8jxq0SH3bGJR0hea9HKVsWpRv7fa/YbZpLBaxfrIa9JTK8ia1LH+TjklqWdZuX45U09ArTV2/FKlx5vMJfTMdXxw9ii/S5yBUfdwKkuYjtVyZlrroM1//RGRIz6bY/xepzyvPitTd4Osr6uyWkG591ylQqsNxbZk6Ldzrh/73qtPNUUeQ9OWhSzD1IUc1QTwCXf0sapCWoejHW62jUiIiIiIiIrq95GNTmhoEbRWCKQvGwFOqcOHQBVEL5pq6QyveuB3ZymRNJwtxVG2e3yFaGi9CrbHh6o/YWc+rlYcKkZ6uHke8jneIjMRI8YmdFQM/tbKIgzQGg7ES57Fiq+BPh6AYbPhXNpYMs+1TzKgUZ9RAbAd3b6WyjM2n1ookpesxRx3LwvOvz8stHelmUYGP/2kMgnbBpLkzECAFE+1cETBjMaYYa1Hu3oFtxsBiDfnIUyobAsExmDdUjUbK5TsG/eWZCqTv2K0epxRwV8rmyBmiLD+hFhoHb0wZZyychSg+oU42df2T27FJPR+nUfFYOVqU1XZOcO0+BgvE+cj7GS7KuBqyKj6Wp56XO8aLZ8XH+Gj1mYF50eqzULgdxkeLbj/XKVB6Emd+VieFDvd5WfQf2kSNDJLKXL3QTf51TFGgM/6c1kK5+SlfApF+uF9NIiIiIiIiouuovAB5xtpu/YIQZllh0ykE/Y2tT8/nocBUK87GT1pTi02ne2xqfDo5mZocF58sVoI+vmMwf0G8/BlvMfYDzu/ALmNQq48feqqT949Kwd41E5UgWV0qLqgBJfGO38kdxTtXYM50aZDbOCzbWVjHwDqlSBXLc6Tafa5jEDvNr8FWk3Q95aHwC3XSPQj9rQZQ7oL+wcaxPXJR+JU6aav8rFLbU3JPW3Pzd4mTxbwo3Epg3hdRatmcH215wAqk7/5cmWzlDz9Tg+Gmra/N/RzKiDXuGBkRJBLykZ4UJ8ppLBKOeeIvc5R9Ram7OnPW2N2EeI5sHy3Ts3YKBSeMpZ9uN9cpUFqF3yz6guhwTzOb3TclSCpzw/0WzarP/LdKnWqhTP84jlFHsyciIiIiIqLrqqICF9RJONsEkgTPLsZgVCFK62rf+0gXdFMnC3Zvtxp0t+CT3WpgSCjTouYQKflInR6LyVGh6NX3New6L1XGG4M1742BMS4qj/GgTtep3Lzvo2/1x6BJiUhNkwa5XY+ESRr0eHZFjcGAKzbGYY4cmHXFyHkx6F9PH6x0I1ThgnEgsXbmgLuRj6d5EOTj39URxW/vDk9j/6UH05FuMTBZxY50cy3p0rO1lE0gb10sZkyOwqDeAZgsNc+/xxtRK5chqr26go2G1j9TZvxJoQMcCmLR988jMDlxvSinaUhNfAnhj4diTpY56NnN00edKsSuTyz6h6guRPpu8/xZrSkcTLeZ6xMo/fmc1QPQwdlDnTIr+HQihmz9zPSLVA1NDpJKPNChrTop+eWc+ZcNIiIiIiIiouutuNgUyPRxNweejBxamUOUv9VaK1NoPwx/GaaGsQpX4JmBUZgsBT9H9Ef4Si1c6xtoR7wV56WlIf3QKWh/EbPu/hg5LATdbKNiDZEqQ6ktOLUO7oiauRhLEmZgpLdy/pVHEjF27n55WnZ+B6YvUuadhvwNsYObekC65k5adL/Q2ROe6qSJnUX43KIynLUg/OV/1Tb65/dgcn8NoqWaxuM16PVqPhzqq6UsnM1Pw8fbc1GslUapdkfA08Mw+LG6y0pD658tN9YQzcWyt9OAPhMRl7AYsaO8lR8DLp9C6utzsUsNRrkOH2Pq/qIgaQT6Rr2GGdNfwzPiOpZpXWsEj+n2c30Cpfe6WDX1PnOhRJ1SFByYiOe+KkDBD7Pw3I7PawZLmxUklZTgzEV1UnKPi+kXMiIiIiIiIqLrztMTxjprBaU1a+VVXpYCPoq76qxx6YTQOcswSe2fsbIkF+lS8PNLIHTeXIw0vvjWur03RiRIQU01WFSai9T5UegVUbMGaL28JyLjZBG+PZqDr/ZuQlz0UGiGP4/56R9ivBr/1e48oNYgrMCu+e/ItVfRLgTz3hzKgNPNqKtFcPR76z5rZdXmsmkMktfGc+JyzB+i9udZUYhsqaZx1in4vJiASX9SktHqLnXCms9IpWwumRkJn3tKkbNhPkb/WVPn4F9NWd8pZDEy1sQgavhQjI9Px2bjSPfndyD9gDIpdX8xb9lE+N0jzVTizKEd+DhtB/IQgvlzIs2xrXqun25t16npvQ3LL9+SFMz8ssBU0zOveDpe2GXsPFdoQpC0uvp3XKjQo/zf/0HJ6Z9w6jsgqG8qdg1di48HL8WbD90vL5fWIyIiIiIiIrrunJxgavioM/fzaVR8yhg89YZ7jSp9Ftr5Y8qmo/hs03IlUJSQjIwvs7FyyAUUGIfneKSWWoFSrbvhUlBTCRateU4NaB1LxIf7lMmmcGhnM2iTnS/8jJHg8xcgh9ZyEzE7TXnrd3CrQu58qS9T6bMeeXKq8NV6OS2Vg+TcQPZoa6yNfL6iRtksKDYH9rs9VLM2tImdO0Yuy8a3Gclq2VyOzZ8dxeZpd6H0a3WdR91rKZtAB3+lbGqi45Hx/hhlfBtppPl1e+Tlthpa37OLcQQqIGCwdYDeZ3CQ6RzO/GC+Nif/GGw+ko3NK9Ug7Jp0fJu9HGEVhabgcb3XT7e06xQodcMfLWKaOboidUrwGId1QU/Bx+JMcr6JUYKljQySXr5cjbNaHb774QwuXfoNd9/dGm7tXdG5c0d4dfHAw106w8/TG0936SAvl9Y7+x+dvB0RERERERHRddPeH/7G2M2BPci06MMRFXuQbRxcyd0fAXXFYn7NRbIcaIzD8q9dlUDR8CD43C12sVPsQ10t9E9Pyn+L14xH3779xWcEltkEIttaRDnr7HeyFuZ9RiHZatzkClyQmvRLjLUGz18wVY6qLNwv9w+pfHJNg1KhJFdOy1NHH6cbIQj+gepk6X7sOqJOy04hO8tYPoLgaxx0rIZTSI9TAuFztlfBTy6bIfBzF+XsyG5kqy3hPfv4K0HKUx8gWi5H/fFMUo3Cae4r91u1hmsT1/fs7mcKjloGQ2U/nDEFPu93VaphVx76QAniz16Boy5qEDbIGw52FcjMUruSaBVSz/XTre46BUq94OmiTkrKjiNHnZQ49XgdG2sJlo5a1XCQVKoh+sPpH3Gn3Z14qJM72v/xPji1uQf29n/AnXfcIa8j/ZXmpXRpubTenXfeKW8nbU9ERERERER0fXSBZpg6xPbl/UiIXY9iqdpl5SmkTp9rGvzGJzJSGYS3uhCp40PlgKSpOfHdHYDv1WDjWy/hxTX5KC7XomBrLJ6ZrQZzXMdgxHAlROTZvg3OlJaKTz4SXo9F+jEttGL94v2JmL3GGDzqgv5PNr6WnHmfuUhOXI+CX0VidSUKNvwNCVnKOgj2RYD016EtOri71/KxGDTqHlc5ra05bks3QOjQSDWweArJb85HjhThrtYiZ/5rSFDLn9OwSISp0ceCdeMxqG9/jF5pLJxd4FS5Wymb74uyOWsPCuSytgKjX/pACUy28sdfnlWfgU4d4FQulaNS5CX9DTO2FsplU3tKPBtz1fUFU2C1qesHDsNItVgXJL2G+ENKyL7y1Hq8GLdDnpbOJ6iPckEOnYAiNZAf/9JLSD5ySuy/EOnTR2CGWq5dR0ZipDH6SredOwyCOn1NVXwxHd3/9bk654i/hn6CNx5VZ1UVX72J4Z/uMxVsK7UESf9z7jx+vfQb7nd1wV0O9mpq4/1WWYWz2nO4u/VduM+l3t6uiYiIiIiIiK6O6kIsi9Ag4Zg6b6t7DDK2TISP1MfoztfQeZIa0Bm2HN8vCVGmC1cg/OlEFNQ2qE4rd4xMSsd804BJpfj4xRGYsdtYr7MmV7HvfWLftvGf4iQNBiUqQTDNsiIsGSJPCqeQPEKD+CMW/VZacg3B/M3LMVJt2V+7PZj80EtIlyYtr41uoArsmhyKF7fXUVZch2LlrsUIlUMoFvcPIv07kS5NSoM4hYr0WnfhAL8Z6dj8V3NQ/sw/X8Izr++pe/Btq2M2ff2K3bEIfzkNZ+oYgMonJh0Zxv5KhQJR5sPVMl+DeyRWZsQjtIUHSj/9TKn6/ujDnnD7Y/NHAyr7txbfnFCigAP63hzVdK9bH6VO3ftCo04Demz86pMa/V049ZiFrQMG1uynoo4gaWVVFdwfbF8zSFpdiTNH9iA1KU6pMj3/A6TvzscZ6RcuC9J20vbSfqT9EREREREREV1zdt6YtCkdscHu5hqVMgd0CI7Bhr+rQVLJY34IkAeWcUDAn8zBHGkwpc2ZizGyu3XExqn7UMRt3mURJJVIfUamY0NMEDxtAjwOrr4YmbALB2sJktavC8Z/lI2Vf/VHB/n8jNRryGgoSEo3JyeEJqRj5XPecLIZsMipeySWbDIHIKV+dP36KCXYoY+faZAyacCuJRmpmGJTvh08/DF+ZbZVkFTS4X+W45PUGPTvYlMC73GF36jF2PuZ5TGbvr7T4HjsreVZgZM3Rr6XbRUklfi8vAl7EyLhY7l6Kyf4DJuDjL0Mkt7urluNUik4mr7xKbxi6m/EAy8PT8XUTuqsBauapXU0t79QcVEOchqb18sqTyF9/t+QsCG/jl8KpC/siZgfPxEBFgHv30UWlP5YjrZObcTHfBwiIiIiIiKia+pXLbTGWkROrnC9W522VFkB7a8OcG1XR7t0afn5yrq3t1F5XosKqSJoI9dvjEqt2Ge1tEtXONQ5Wj/dUozlSuLgVEf5q0RFeSUc2lv0D2qpuhJaqYDXub0N4zHtxPqu13D9Rp6P8VlhubZ2O9covY6BUqEkBcO3fGge1c7pL9g5dpxV36RG2i/fxKgDJQirZeAmqW/RGjVJS9Lw4l9isUvqGPgeb2j+Og5RQ55Uf9nS4vjONCz7+3rkSctbdUHUyk2ICzb/DCA1w5eCpZ06PohWrVj6iYiIiIiIiIiIbDFQetXokb31L/jfH8wDNHl6vImtEX1rreJfWVkFB5tm9dJo9dJATPc536umCBb9X7gOnoN/LBkDT+mHAdtfCqorkbfiL/h/ifmohCs0y3ZhyRDzkf+j+xm/V/+O+12d1RQiIiIiIiIiIiIyyvkiD7/9VonOHu64t21bNbXpyv+tRdm/z8rTLTRQKvzyGWatnYXU/6rzQsCjiVgd6tdgfyjV1b/jux/OyKPW29kZa31W4OPxPeXRx2p0Pm3s9NqmU2hTx7yukVhp0b9EdXW12H+p2H8Hsf/r1n0rERERERERERHRLeGbE6dMAc6rod29TvB9zNTL7Q11/aOB9/TFm8PHIcDiyDnfxGDUPz5GgUXwtDb6X35FG8d7LIKkwv5EJGSJv65jsCChcZ1P+7z8oVKTVJuGZetOqamQ9yvtXzrO1VR1oRxFOZnIPVEOfZWaeINI56K7cL1PQo/clCRkFDfyuFWnsTcpHgveSsLe02radVKlu7b3yLz/KujLzcfSF2Zi7xG9MnNFyrF3SYLIa3X2SlTroSvXoapanb9lWef1Tae6HAe2HELZleZzlXS/9OJqayeVPZ1lEdPr1O+lxt9jeR8iL20/N23eEhERERER0VUn1SSVgpt33dWIfmEb4PbH+9GpYwd17sa7/jVKVVYDNhnd6YWowFmY6edRayfA5f/+D+6+uzWc2piH1Mue1RPRGyrgN0MaOc1mSL06apTK8hMx6JkVKO4yEZv3xsBPTa64+At+/fUS2v/xPjXlClQXY8u0WCTm6+Do7Az7SzroqpzhPy4eC0fVGNv/ujgweyBmIhYH5w1QU+qjR9HBg7joFQa/9mpScxyMR1iqB9Ykj4abmlQ3Hba8MgLrEInngrzQNWQAujmWIy+zGG0C+8Drmo61VYzU5ybgh6h9mB2sJl1Vlvv/FPP6xwMzpWnlmhPxAtKXRuJKO37QZ0yD5sAApC8KQ3OzS39kLea9swG5uo4Yn7wGUTemuF4llnmtJt1A+uJDyL3oiUG+6kN1JAGaaQcRtGgbYp5QkppFn4mZT6+F26JNeMlXTTPSpmHyiDT4LN+E8d5A0cZpeCOlAJVtHeFQpUeZvQ9i4hch4mF1/Vop5Te5lh8vBt0keUtERERERER0JW5Y+3KnHrOwNXQ4/CzP4PcipB6IwhMrJmLWp5+hoMK6mpLUZ6nVAE44hYJ8aXjALgjoYxMkbYivLwLaib+n8nG8XEmSSPuXjnPl9DgQNxWJPwfivU37kLl5E9J37kP624E4lzIVC/ZfjdqD11o5clMSkFGgzjaLDls2foru4ZpGBEklOugvAD01LyAiQgqSSmmFyFi4BrkW9+n24oyIpftw8CoESSWOYWHol5+OjB/VhCY6njIGmjey4BYeBg81ja6ec/vXYN7WQnVOeGIK0rOvMEgqcQzEk746HDiQryaYle3JwtGOYQjxFjOFqxGXcg7hy3ciXXwvbdqxDe8FlCAxJVN8azWs6+hVOJgtyqvFh0FSIiIiIiIiuh3YzRXU6evOwfVJjPLqAN2pz/GVRdvPymotvvp3Njbkf4glX/wTe7/cgQ1H/olgj35wvc8Fd9xxh7rmEfxj5k6cQB+MfWswalR6K9qN93aeBB5+CpNDu6iJRtUo2LEeuVon9Ix8Fr1clNQ77rwTOt3PcG7X/M5oZUeS8OpaB7yyZib6WUS/Wrv3Ri+7/Xh7xyWEDXsMbaRE7WFsXPUelidswWelF+Di9Rjc1Eqzx9Pika71wH3HUzB33grsKryE+3uI7b5LR/LCJVia/jWq7vNBN/fWYu1CbHlrC852cUfRuji8u7Dm/kqyU/EpAhHdv7OSIDVzX7EQSUlrsevoj7B7yBdd2kldG0j7SsXeEz+itLwU35XcAe8/dYR0lPrOtwZtBlavuIQ/v6bBo8Z15GMux+qUJGw5eBo6+4fQo5OjWPcQkhPT8C/jMfPLce+j55GeuBmff38aZWdL8O15F/TxUUZU0x3egFXvrUBi2gGUXmyLh33c0VoOvKv58Ec7fL7qHczfpkfPwT6wGP5LUa3D8W0peHdxgjiPcjj4eEGflYGfe0Sh30PqOvVdq9g+76MVSF4tPjuPoqzSDd6PusIUyq93/9/jwLqDQF/lWNJ9XluoXJtu/2os/b+78filPUh8eyFW7fwW+nu8lDwyqu+87nTFxS9X4JMLAdD4NT30WnrqEp6Jm4un7j2BT3acRqdhGvQw7kYr8nbNQixdmIp9X4vy8khvdKmjv4uq7zOxavn7WPuedI5a2Hv4opPFuvLyd5OwdG0mii61x+OtDol7eb555axeNfM6XeuFB75ZizcXKvemyt0Hj7pa/AhT77GrUJKxAkvfS1Luu8ELj3dtC7lDELkMH4ZDjyp8+q4oe+9n4viPQCdfL9wrVpCOnZpdiJKfzkJ74jSqH30CnX6VtsmEXppWj9Fg2bZ8xs9Wo9Mjj8DlLnt0bV2KNevOoMvoAJgbLpTjk6QUXAqejtGPOaJKX417/QYjRJQN5Yrt4HapEGtz7BA23Lfmc2Kiw1fbMlDiEV5HuarruasnvyR1fgeJI0rPwvo9+NdnBy0+hUq+SXlVz7a1qTtfhTrKdklmAlYfbY0+3Sx+6vnxUyxfmoNWfxLl4g9qGhEREREREd3ybliNUhOXgXhz/CfI6veUVb+lJr/rUXCpTP7Y3WGHO01BUsVdraT/XsQFqWKpLbu7lL/b52J0Ui60jeiHT9r/71ehN4Kio/nQ9R6A8FrirW5SjSxjM/TiDXhxzDv4vHUfRIzT4MnWhxH3bDRS1T4Jzh37FHvXxmP5CU88NToSHt+txasxEzAvpRxuAzSI8CnHRzOmquuX43hWFlJnTcUndsr+/PSZeHV8HA5ckHdnTX8IC56dgHU6b7Hv0ej74GkkT4hGslwhzRmdenrDo7W4RV6+8OveXgmq2Jyv36VMTBszDRm17V9SUIijzl7oqsQ2gerDSBwRjWVFLnhy7BRE+QMH3pqg1LBt3R7dLI/Z0xMucpoXXOAID2+R5qkEaEpSJyDyncNw9NdgfMTjqMqMQ+QMY404JR+S30zA8fbBeG64r9jellTjNxovpungFzEWEf72+GR6PA5YVqmr91rL5ebyr2bo0TXyZbwU6Ymy1Ffw6lpjZxKN2L8F6T5nHFOqzF4sPoyMjHcx7x96eIWPlu/x5rgJSMyRFzfiHjiiu3dHnCwsaFQNQVt+kaPhZVlx20i6d+NfwRbd44iKn4vhDxZh2Ut1lK2cBERGr0aRcx9ETRmLJ6sPYqa0rvGETqzFi+PF8gfF/RkdBo/iBEx7NxMZh4vE0yw08FxcCfmZSp2LeV84Y5C4N/0cxXW9Eostxhq48rHjsPfS48qxcdAif8V9fWsMojfo0FXcm+eCO6Jk7QREr1BrcV4owudZmUicmoCSzmHi2oLhVrQaYyasRZH4/nHx9EU3N0fxeHmJ8u2DB6SIsLzNYZSo+WhdtvvA8fA70IxfixJ5qfqMz52LPOcB4vwC4ZKThOjYNJRJiwP6IghZ+OygvLLixywcKPbGoBClqb99594YFOhp0S2DuKYD+XD2Ec+emtI8tT13DeRXvd9B4lzdfUQ+Sd8FyseruhAZR8RzIuVbA9vakvN1diaqHlfyFfstvjPqKdse4jt8f2omci3+/TievgobLzijqxzRJyIiIiIiotuG1EfpTaP6nOH40VTDtDVPG3ou7mvoaPMpLDplqP79d3VlSbEhaZinoVPnIMPb/6cm2Th7cLEhopu0jqfh4af+Ztj2g7rg8m7Dq15S+jjDxgtqmiDtv/hUiTrXfPtnBRuik4vUubpJ64XGH1TnFMcSIw19pu40XBTT0vI+Mdvkadm3qwyjg142bD6rzhtKDOvGBhumbZPWyDLEBQUbRifmKYtkFw07YkTa8gJ5Tt7frCx5+qf1L1jvW5DT1GMbDEWGdVHBhrh98owsJz7MZv9qmrp/Wz8kjzX0mbjJcE6dN1y+aPgpr8Dw02V1XpCvd64xD2oeU7musYZ1xuy8fNAwPyzSsMzyNNS09+XTUPJh2mbLK7NRIPIxeKphx8/qvCRvqchb87Hrv9ZKw8Vv8wwnLba/uG2qoc/YNQa5iDW4f+UcjceyvC9ynkW8azhqkUdyOVnwuTzdqHuwb66hT5R6LjVcNOQsjTXM39xA+SxaY4i2zHd5Ptawx3Re4l4WlRkqLc7T5GKZ4djXZeqMJM+wLCLYMD9bmhZlcmot5VSkGc+5oefC1sXPlhri3txmOFnbudSW1y9blnulzL36kVJKpby0PrbIrzVvG97/TCwvXW+YYHtfjWnSDuU8Mj6Pqsvi2iODDW/IK6j3V73XMst8vizONTjMMP8zZZHMavtayra8vfk7IWeB9fnLx6st30o2GaZFRBqGhYmyM2ub1TNZOyWfQseKsvPm2+bP8oPq813LuTWQXw1/B1n4eafhjTCNuI/KkiZtK38/2OTrxc8N695cZciRTr7esl1geF/kv/k7SZk33k8iIiIiIiK6fdz4GqWW7nSGj99fsHDsVhyZ9AmO/M8CLO0/EdM6PYUo8flv9X9x+b+X1ZUlUt+kUpP6UmTvq70akWufGGz+LBVT+riisjANk8PH42OtWLB/P7KlXfn3wwCL5sDS/lu1kqupXrHKBmuw5uN4ARDk30edV3Tr1RuOBYU4ps7DsY259pedPRzgAhdjDU10hIc7cE5r7sCz++OWI7k4IqifL0oKCqBTUxR6HD1aDA/nKuRmZmKv+jku5c13xfhBWclGPvKOAA/Yl5vWlz4lekeUFBcpNbNq4+Ji7nvTzhFuvp5oczofBzLTkZoQj9TD4syqm9Av7Nf5OAoP2Jebz2HvnhJUttahqMh8Fo5tLZqq29AXFaPk4V4IsKzx69sH/qYTbeha7eH4sC88qovl/NuYFI/FGUXiOpStG95/Axyd4WLRgrhTx47Q638RU828B1ZO4/jBw8jYn29TJhrQ2Rvd2h7G/OfikLrlMIrExm6e7WFfW0tnx/bo9rA4p/xD2LtlLRLf+gdyLxifiSKUfGePnr1symkf43wjnwsLPxw7iL37s3CssRd0r8UzBU94eAAX9dLGSv6G9LM8tiP8x8ZifKAz9Ee+xPH27VCVY877vV9L5bcEJeL2Kzqim69F2bPzRb8AZxwtbERnv18X4Dh648lAdV4itvd7wt5qe6uy7ekhnga93LevxD9cA5esLByQ87oQe/acRr9+gRbXq3L2xfBxYzFpnAYPFKzGtIRDjSo/bdy8rWp5mmqbqyzPrf78asJ3kHjOUmOSUBbxLmYHS/tv4veX/J0RjL6W+erYG1EzX1CeyXrLtjf8g5yx98Cn0ozI0oM4oB+Ap8Jq5CgRERERERHd4m6uQKmlPzjCtcOT0Dw+EpOGv443xef+e13wm81AS37PRsoj1hevSURqqZJWQzt/TErNRsabYzBlSQJGOhciITENUmv90OHDYIo5CtL+HawGjGqeTp07ouREHU2fq/TQletRhV+gv9AezrajHLk4wuWStLw5nOFo09zf0VG80Ov1SpNmEx10P4tTKStC3tF880ffEeHG0bhrkM4XOHfaYn3xKWn9OMI9Xeo+3+pKdUK48CkWPDMEmulrceBoMdC5L/rWebw6XNChDOdQYnEOeUdL4OA7AF5tG5dr53TnAHGfre90G9ibmtI2cK1S4Gb8EASPicdWkX7O2ReDAnzUbRuz/+Zq5j2w4o3xm5oxeJRdb8RsWoO3wpzxQ1YSpj77NILHK03Kbemz4jBiyAhMS8lE3veAR58+6Gm6zdI1ONbIC0d7Y241/bnoNnETDu5bigjLh7lZaj83I/m+VpXLXWuY8/8iOgU/DjcHdSW4wNkmY9uIZ1AJdDdAKtvt2+MBddbovrbOjdte4h2Ifs4HcWC/mJaCerpADKotqOfoCf+wMAyKeAELl45Gm8w12NKIrg3aSE33pe2MH6tm/Nbqz6/GfgdJ3VhMRXLrsXhrnLEn6iZ+f0n52tpe6RO6Ng2U7W4hYeiak4kM8YV+fH8WzgX2hX/dXaESERERERHRLermDZTWonXru/Drr5fUOZX785g02hW4nIs5LyWiwCImZ80BPqPnYFIwsGvKOCyTBp3uHoMp/2M9Eo20f+k4V8ojMBBd89Px0Qk1wcLxFdHQJBxEFbzh9XA5CvKtq8Hpvy1GSeeO6KTON40OJaetw7PHjxUAD3nZ9D/YUa5FB68wTJ8Za/OJRDdlJRsd4daxCi7+r9TcZmKfWoNuLq4uQGm52r+iOLvMbchwHov1m5Zi9swpiIrog072TQwJP9QRXS+54MnJNucgPuODGhf68+gsLl7ks1XtRH0BikwjxTdwrYfFvf2xDxbuWIOFIu2l0WHo7my+job331yNuwc67TmYR8u5iuw6wn/0y5i9fD3Sdy5CuG4DlqdZl1+pDO7ZchAuY9dg0/K3MX3KWEQEdYS96dGVyr0OxwvNtaAluV8aa4Vfi+eisWo/t6oL5dCJx0q+r9VeeMo278UnQhpRXmZZu1Six7HC0+jaucZwczX5eKPnjwU4JtWMNNHjxInyxm0v80a4xhN7d2UiTwrqBQejn0VZKNoSjwVpFqPuSx50gxvKce6sOn+V1J9fjfsO0mclYPHXvngrPlLp11nWxO8vKV91BfLAWmZV0JfrYBpHsL6y7RmGQZ3z8fn+wziQpbepcUxERERERES3i1sqUOp4z924qP8F1dXWVdj6z03BlO5i4tgKhA96Ccn5VlEGM20ulkWF4sXtYrnrUKz8+0SrkfKl/Ur7l45zxTzHYsZoIHX6K0jNKVdqwVWVIzflFbyR4Yjx48LgCGeEhPji6MYk7DWesjYTi9fmo2dIWLMHVsldm2DaX1XhaiRmVCFiUM0X+37DNLDPSEJyoRrgq9Zh7+ynERZ3yKrWnl5rDFh1RITG12r/4gBIjh6C502DGFlzfMQTHqeLcVK9Zc5S4PRCOcqMB/gxHRv32wbaaqPHuXPqRh0jMdw3H8kLM6FT9ytd5/ODmzDYT2AoIuwzkbK6ULlW6doXbkCuKaDUwLXe74wHqs6jzHjqF/KxLt2i+4cG999cjbsHJ0SeOz5ypYPzWKvaE4fgZ+LMx9WV49wl6Z7aBqedpd4WcLG8zFSOytL/gT2m2yzKfWQgflobi8SsYrGbchRtmYaUw8YapdfmuWgc5djH01abjy3K6Mxn1UGCAodhlF06Eo33VdBlxkEzJA4HTIFgHTYmrUaRuoIuMwHJX3vjqZCOSoLk53OmsmvFNQwDfQuxLslctmvdvgFuQYHolr8acRk1g3pu9ueRsfpdLJe6vJCIspm3ZD32tg3Gk72VpKumgfxq8DvoxFq8+k4JwhfMQT+bmvINbas/mIR5b6UrtULlfC3GR6vN+Vq25Q1ERq/CUTHdcNluj5BgbxxIeQcZdhoMClCTiYiIiIiI6LZySwVK7ezuRFunNjh/wboROey8MWlLNuYPcQdK9yD+mQD00IzHnKT1SN+6A+kbVmBGVCh6/DkKCYfEm3CXMViZsRih7dTtVdJ+27ZtIx/navAatxTvhTsgI24MgvsPRODgMZi5xwHPzF+KqIeVdRw1c8Q6eiQ/OxDBg4cg8Nkk6EIW4a1RTWyObqFfWEdsGTMQYUOGIPiVLLiMexcxtb3Y+76MRVM88XmMOK607sARWFwaiNmT+6hNxj0RERWIH1JGiOUJyBUpVucrtgkcPBV7XcaK/K2jttvDveDvnI/jh9X5oNGIcT+MV8W1aoaK7V/5El0DGwoADcCzUc7ImCHWfykNOjgifM4iPKNfC83AIeI6xbnEiOscG4u6TqMGqantghfgsucVOd/DxL3Z0nksoh5Ulwv1XqtnJMaFlWH5CJHP0nWMWI02vS2iTI3Yf3M1fA+KUST38Xl1o172IVPwVmAR5o8Q9+4Z6ZqTUBY8F68FqytY6Df6BTyQM01c+9PQDB6IV7/0RpDFbXYMmoO1M31RsjYWE156BYsLB+CtF8x9ll6L56Kx5GOHlGGx8djPrUZV+Nt4Serf0s4XLyVOQdeDU8XzIt3XgdAklSDob1PQz9RcvyMiAsrxhrg3UtnULClC0Jx4RKj33iNyDMJ/XC2X3cQcJc3MumwHy/svQ/h88/aN8mAYBj2sh86xZlDPUVzLmrEuODBbPNfS95J47qcd8cTs5VOufnPyhvKrge+gAxs24GT1aaROEOcpnav6mZfV8LbW/dYq+Rp+NsmUryNSLiJi3ivyNTembDuHh6GfXg8XKQitphEREREREdHt5Q5pRCd1+pZw+XI1fjj9I9wfbI+7aulLVHvoA7y9aAXSj0k9kFpz8PDHyHExmDTKF642AQGpb9LSH8vRqeODaNXqakcLgCpdOfT27eFcV2d+1XrotFVwdHWufXCcRvkU8/rHAzP3YXaw1KxUD/tG7U9tgupYz/nZks9X7N+5PRxr3gYrJSnRmKCNRubfLGq26XXQVdnDudEHrIO0H709HNs72vQH2niNuzd1XKvU36wO9R6/wf03V13nVbgaY+YCMza9cG0COvI1N66s1nvtUs0+i+316dMQlu6N9WvGmmuNXpXnopkaOLbUHF9f7WhdhovX4vnxB9EveQ2iOkvb11826nW1npF61Lw/ynfIXnXO0iD5e0WdaYZa88ukGd9BJk3ctr58bULZJiIiIiIiotvPLRcolVyo0IvPRTlYeucdd6ipNioroD1v0WGpgxNc25lGW7Hyu8gCKUgq1VZt69Tkt/SbiGWgVE26GegPYcFz6fBategqDLZD9dNj7xtjsLfXeizU3LxluWzDBIzJ8sFb8S/Av709qn78FIkx8TgWtBTrJ5o6+7z1WAZKG1u7mYiIiIiIiIhuCrdkoFTyn3PnUVlVBbf299cdLG0EKUhaVn4WDvb2uM/Fpi3+LecQEp9ZCkzehBipmTDRzaq6HHuXxCN5T6HSX23r9ugZNgGzpQGpbuWafKfT8HrMF/BLXIRRje9SlIiIiIiIiIhuArdsoFQiBUt/vfQb7nd1qbUZfkOk5vZntedwd+u7boMgKRERERERERERETXXLR0olUjN8LX/0eHee53QTh6IqeHqaNLo9tLATT//XAHX+5xv8eb2REREREREREREdKVu+UCpRBrgSffzBVy4cBFtHO/B3Xe3lmuYtvpDK7lZvtS8/vJ/L8s1SH/99RIu6n+R+yN1btf2mgzcRERERERERERERLeW2yJQalRd/Tv0v/yKS5d+Q2VlFS5fviwHSaVgaatWreDgYI/Wre+C4z13w87uTnUrIiIiIiIiIiIiauluq0ApERERERERERERUXOwWiURERERERERERG1eAyUEhERERERERERUYvHQCkRERERERERERG1eAyUEhERERERERERUYvHQCkRERERERERERG1eAyUEhERERERERERUYvHQCkRERERERERERG1eAyUEhERERERERERUYvHQCkRERERERERERG1eAyUEhERERERERERUYvHQCkRERERERERERG1eAyUEhERERERERERUYvHQCkRERERERERERG1eAyUEhERERERERERUQsH/H9AVBEMkPYuEwAAAABJRU5ErkJggg==)"
      ],
      "metadata": {
        "id": "DnhUz0ohgk3j"
      }
    },
    {
      "cell_type": "markdown",
      "source": [
        "### ResNet50"
      ],
      "metadata": {
        "id": "xenoN0iHZPmQ"
      }
    },
    {
      "cell_type": "markdown",
      "source": [
        "**Data**"
      ],
      "metadata": {
        "id": "KKE7lLgqZqyO"
      }
    },
    {
      "cell_type": "code",
      "source": [
        "base_dir = 'train_val_aug'\n",
        "train_dir = os.path.join(base_dir, 'train') #resulf = directory\n",
        "validation_dir = os.path.join(base_dir, 'val')\n",
        "\n",
        "# Add our data-augmentation parameters to ImageDataGenerator\n",
        "train_datagen = ImageDataGenerator(rescale = 1.0/255.)\n",
        "# train_datagen = ImageDataGenerator(rescale = 1./255.,rotation_range = 40, width_shift_range = 0.2, height_shift_range = 0.2, shear_range = 0.2, zoom_range = 0.2, horizontal_flip = True)\n",
        "\n",
        "# Note that the validation data should not be augmented!\n",
        "test_datagen = ImageDataGenerator(rescale = 1.0/255.)\n",
        "\n",
        "# Train Flow training images in batches of 1000 using train_datagen generator\n",
        "train_generator = train_datagen.flow_from_directory(train_dir, batch_size = 1000, class_mode = 'sparse', target_size = (32, 32))\n",
        "\n",
        "# Validation Flow validation images in batches of 1000 using test_datagen generator\n",
        "validation_generator = test_datagen.flow_from_directory(validation_dir,  batch_size = 1000, class_mode = 'sparse', target_size = (32, 32))\n",
        "\n",
        "# Test use flow from dataframe เพราะ เวลาส่งชื่อต้องเรียงตาม format เขา\n",
        "test_generator = test_datagen.flow_from_dataframe(df_test, x_col='file_name', batch_size = 1000, class_mode = None, target_size = (32, 32), shuffle=False)"
      ],
      "metadata": {
        "colab": {
          "base_uri": "https://localhost:8080/"
        },
        "id": "R38yRm2-Zj7h",
        "outputId": "1674fe3a-2212-4858-9a9a-0f545e5c61e8"
      },
      "execution_count": null,
      "outputs": [
        {
          "output_type": "stream",
          "name": "stdout",
          "text": [
            "Found 320008 images belonging to 10 classes.\n",
            "Found 13395 images belonging to 10 classes.\n",
            "Found 26032 validated image filenames.\n"
          ]
        }
      ]
    },
    {
      "cell_type": "markdown",
      "source": [
        "**Model**"
      ],
      "metadata": {
        "id": "dCIQRwlyZsHG"
      }
    },
    {
      "cell_type": "code",
      "source": [
        "#call ResNet50\n",
        "base_model = ResNet50(input_shape=(32, 32, 3), include_top=False, weights=\"imagenet\")"
      ],
      "metadata": {
        "id": "UyDWqKyrgv4j"
      },
      "execution_count": null,
      "outputs": []
    },
    {
      "cell_type": "code",
      "source": [
        "# Freeze the base model\n",
        "base_model.trainable = False\n",
        "\n",
        "\n",
        "from tensorflow.keras.applications import ResNet50\n",
        "from tensorflow.python.keras.models import Sequential\n",
        "from tensorflow.python.keras.layers import Dense, Flatten, GlobalAveragePooling2D\n",
        "\n",
        "base_model = Sequential()\n",
        "base_model.add(ResNet50(include_top=False, weights='imagenet', pooling='max'))\n",
        "base_model.add(Dense(10, activation='sigmoid'))"
      ],
      "metadata": {
        "id": "mEp7RQUoZtAV"
      },
      "execution_count": null,
      "outputs": []
    },
    {
      "cell_type": "code",
      "source": [
        "# base_model.compile(optimizer = tf.keras.optimizers.SGD(), loss = tf.keras.losses.sparse_categorical_crossentropy(), metrics = ['acc'])\n",
        "base_model.compile(optimizer = tf.keras.optimizers.SGD(lr=0.0001), loss = 'sparse_categorical_crossentropy', metrics = ['acc'])"
      ],
      "metadata": {
        "id": "BLMRb0jYjqaT"
      },
      "execution_count": null,
      "outputs": []
    },
    {
      "cell_type": "code",
      "source": [
        "!rm -rf ResNet50_Best"
      ],
      "metadata": {
        "id": "K97KKM3vEG0j"
      },
      "execution_count": null,
      "outputs": []
    },
    {
      "cell_type": "code",
      "source": [
        "checkpoint = ModelCheckpoint(\"ResNet50_Best\", monitor='val_acc', verbose=1, save_best_only=True, save_weights_only=False, mode='max', period=1)\n",
        "early = EarlyStopping(monitor='val_acc', min_delta=0, patience=5, verbose=1, mode='max') #5 ตัวไม่ดีขึ้นก็หยุด\n",
        "resnet_history = base_model.fit(train_generator, validation_data = validation_generator, steps_per_epoch = 100, epochs = 1000, callbacks=[checkpoint,early])"
      ],
      "metadata": {
        "id": "-_otjrKiaifd",
        "colab": {
          "base_uri": "https://localhost:8080/"
        },
        "outputId": "80a6d3d1-bc85-4ef4-ae55-52cb318b2687"
      },
      "execution_count": null,
      "outputs": [
        {
          "output_type": "stream",
          "name": "stderr",
          "text": [
            "WARNING:tensorflow:`period` argument is deprecated. Please use `save_freq` to specify the frequency in number of batches seen.\n"
          ]
        },
        {
          "output_type": "stream",
          "name": "stdout",
          "text": [
            "Epoch 1/1000\n"
          ]
        }
      ]
    },
    {
      "cell_type": "code",
      "source": [
        "model_best = keras.models.load_model('ResNet50_Best')\n",
        "\n",
        "pred = model_best.predict(test_generator)\n",
        "pred = np.argmax(pred, axis=1)\n",
        "\n",
        "sub = df_test[['imageid_boxid', 'class']].copy()\n",
        "sub['class'] = pred\n",
        "sub.to_csv('ResNet50.csv', index=False)\n",
        "!kaggle competitions submit -c hackathon-online-2022-image-processing -f 'ResNet50.csv'  -m 'ResNet50_Freeze.csv'"
      ],
      "metadata": {
        "id": "qKdbdDfGa1Ln"
      },
      "execution_count": null,
      "outputs": []
    },
    {
      "cell_type": "markdown",
      "source": [
        "**Fine Tune**"
      ],
      "metadata": {
        "id": "xjlJ_aeDa6TM"
      }
    },
    {
      "cell_type": "code",
      "source": [
        "# Unfreeze the base model\n",
        "base_model.trainable = True\n",
        "\n",
        "#Everytime you Unfreeze call compile please\n",
        "base_model.compile(optimizer = tf.keras.optimizers.SGD(lr=0.0001), loss = 'sparse_categorical_crossentropy', metrics = ['acc'])\n",
        "\n",
        "resnet_history = base_model.fit(train_generator, validation_data = validation_generator, steps_per_epoch = 100, epochs = 1000, callbacks=[checkpoint,early])"
      ],
      "metadata": {
        "id": "2h04I5aOa7tG"
      },
      "execution_count": null,
      "outputs": []
    },
    {
      "cell_type": "code",
      "source": [
        "model_best = keras.models.load_model('ResNet50_Best')\n",
        "\n",
        "pred = model_best.predict(test_generator)\n",
        "pred = np.argmax(pred, axis=1)\n",
        "\n",
        "sub = df_test[['imageid_boxid', 'class']].copy()\n",
        "sub['class'] = pred\n",
        "sub.to_csv('ResNet50.csv', index=False)\n",
        "!kaggle competitions submit -c hackathon-online-2022-image-processing -f 'ResNet50.csv'  -m 'ResNet50_Unfreeze.csv'"
      ],
      "metadata": {
        "id": "iO5dk2qmbMt9"
      },
      "execution_count": null,
      "outputs": []
    },
    {
      "cell_type": "markdown",
      "source": [
        "### EfficientNet"
      ],
      "metadata": {
        "id": "ap_bb7zCEM6H"
      }
    },
    {
      "cell_type": "markdown",
      "source": [
        "**Data**"
      ],
      "metadata": {
        "id": "XiaRthabFMm3"
      }
    },
    {
      "cell_type": "code",
      "source": [
        "base_dir = 'train_val_aug'\n",
        "train_dir = os.path.join(base_dir, 'train') #resulf = directory\n",
        "validation_dir = os.path.join(base_dir, 'val')\n",
        "\n",
        "# Add our data-augmentation parameters to ImageDataGenerator\n",
        "train_datagen = ImageDataGenerator(rescale = 1.0/255.)\n",
        "# train_datagen = ImageDataGenerator(rescale = 1./255.,rotation_range = 40, width_shift_range = 0.2, height_shift_range = 0.2, shear_range = 0.2, zoom_range = 0.2, horizontal_flip = True)\n",
        "\n",
        "# Note that the validation data should not be augmented!\n",
        "test_datagen = ImageDataGenerator(rescale = 1.0/255.)\n",
        "\n",
        "# Train Flow training images in batches of 300 using train_datagen generator\n",
        "train_generator = train_datagen.flow_from_directory(train_dir, batch_size = 300, class_mode = 'sparse', target_size = (32, 32))\n",
        "\n",
        "# Validation Flow validation images in batches of 300 using test_datagen generator\n",
        "validation_generator = test_datagen.flow_from_directory(validation_dir,  batch_size = 300, class_mode = 'sparse', target_size = (32, 32))\n",
        "\n",
        "# Test use flow from dataframe เพราะ เวลาส่งชื่อต้องเรียงตาม format เขา\n",
        "test_generator = test_datagen.flow_from_dataframe(df_test, x_col='file_name', batch_size = 300, class_mode = None, target_size = (32, 32), shuffle=False)"
      ],
      "metadata": {
        "id": "RunjbiJrFT1x"
      },
      "execution_count": null,
      "outputs": []
    },
    {
      "cell_type": "markdown",
      "source": [
        "**Model**"
      ],
      "metadata": {
        "id": "y_WUEFYeFUmp"
      }
    },
    {
      "cell_type": "code",
      "source": [
        "!pip install -U efficientnet"
      ],
      "metadata": {
        "id": "is_0m1I2FVi3"
      },
      "execution_count": null,
      "outputs": []
    },
    {
      "cell_type": "code",
      "source": [
        "import efficientnet.keras as efn"
      ],
      "metadata": {
        "id": "Zk6PT9gqFbHR"
      },
      "execution_count": null,
      "outputs": []
    },
    {
      "cell_type": "code",
      "source": [
        "#Call EFF\n",
        "base_model = efn.EfficientNetB0(input_shape = (224, 224, 3), include_top = False, weights = 'imagenet')\n",
        "\n",
        "#Freeze\n",
        "base_model.trainable = False\n",
        "\n",
        "x = base_model.output\n",
        "x = Flatten()(x)\n",
        "x = Dense(1024, activation=\"relu\")(x)\n",
        "x = Dropout(0.5)(x)\n",
        "\n",
        "x = Dense(512, activation=\"relu\")(x)\n",
        "\n",
        "x = Dense(256, activation=\"relu\")(x)\n",
        "x = Dropout(0.5)(x)\n",
        "\n",
        "x = Dense(128, activation=\"relu\")(x)\n",
        "\n",
        "# Add a final sigmoid layer with 1 node for classification output\n",
        "predictions = Dense(10, activation=\"sigmoid\")(x)\n",
        "model_final = Model(input = base_model.input, output = predictions)"
      ],
      "metadata": {
        "id": "h1KYKJgwFdu4"
      },
      "execution_count": null,
      "outputs": []
    },
    {
      "cell_type": "code",
      "source": [
        "model_final.compile(optimizers.rmsprop(lr=0.0001, decay=1e-6),loss='sparse_categorical_crossentropy',metrics=['accuracy'])"
      ],
      "metadata": {
        "id": "AzzRl26mGHHq"
      },
      "execution_count": null,
      "outputs": []
    },
    {
      "cell_type": "code",
      "source": [
        "!rm -rf EFF_best"
      ],
      "metadata": {
        "id": "4hQihBPiGW7a"
      },
      "execution_count": null,
      "outputs": []
    },
    {
      "cell_type": "code",
      "source": [
        "checkpoint = ModelCheckpoint(\"EFF_best\", monitor='val_acc', verbose=1, save_best_only=True, save_weights_only=False, mode='max', period=1)\n",
        "early = EarlyStopping(monitor='val_acc', min_delta=0, patience=5, verbose=1, mode='max') #5 ตัวไม่ดีขึ้นก็หยุด\n",
        "eff_history = model_final.fit(train_generator, validation_data = validation_generator, steps_per_epoch = 100, epochs = 1000, callbacks=[checkpoint,early])"
      ],
      "metadata": {
        "id": "RK0A4OjPGRfb"
      },
      "execution_count": null,
      "outputs": []
    },
    {
      "cell_type": "code",
      "source": [
        "model_best = keras.models.load_model('EFF_best')\n",
        "\n",
        "pred = model_best.predict(test_generator)\n",
        "pred = np.argmax(pred, axis=1)\n",
        "\n",
        "sub = df_test[['imageid_boxid', 'class']].copy()\n",
        "sub['class'] = pred\n",
        "sub.to_csv('Eff.csv', index=False)\n",
        "!kaggle competitions submit -c hackathon-online-2022-image-processing -f 'Eff.csv'  -m 'Eff_Freeze.csv'"
      ],
      "metadata": {
        "id": "XeWMTEaqGj9r"
      },
      "execution_count": null,
      "outputs": []
    },
    {
      "cell_type": "markdown",
      "source": [
        "**Fine tune**"
      ],
      "metadata": {
        "id": "xIJvhXY-GblQ"
      }
    },
    {
      "cell_type": "code",
      "source": [
        "# Unfreeze the base model\n",
        "model_final.trainable = True\n",
        "\n",
        "#Everytime you Unfreeze call compile please\n",
        "model_final.compile(optimizers.rmsprop(lr=0.0001, decay=1e-6),loss='sparse_categorical_crossentropy',metrics=['accuracy'])\n",
        "\n",
        "eff_history = model_final.fit(train_generator, validation_data = validation_generator, steps_per_epoch = 100, epochs = 1000, callbacks=[checkpoint,early])"
      ],
      "metadata": {
        "id": "cggDuyM2Gc7R"
      },
      "execution_count": null,
      "outputs": []
    },
    {
      "cell_type": "code",
      "source": [
        "model_best = keras.models.load_model('EFF_best')\n",
        "\n",
        "pred = model_best.predict(test_generator)\n",
        "pred = np.argmax(pred, axis=1)\n",
        "\n",
        "sub = df_test[['imageid_boxid', 'class']].copy()\n",
        "sub['class'] = pred\n",
        "sub.to_csv('Eff.csv', index=False)\n",
        "!kaggle competitions submit -c hackathon-online-2022-image-processing -f 'Eff.csv'  -m 'Eff_Unfreeze.csv'"
      ],
      "metadata": {
        "id": "ivkLv41WG6ox"
      },
      "execution_count": null,
      "outputs": []
    }
  ],
  "metadata": {
    "colab": {
      "provenance": [],
      "include_colab_link": true
    },
    "gpuClass": "standard",
    "kernelspec": {
      "display_name": "Python 3",
      "name": "python3"
    },
    "language_info": {
      "name": "python"
    },
    "accelerator": "GPU"
  },
  "nbformat": 4,
  "nbformat_minor": 0
}